{
  "nbformat": 4,
  "nbformat_minor": 0,
  "metadata": {
    "colab": {
      "name": "Metrics.ipynb",
      "provenance": [],
      "collapsed_sections": [],
      "toc_visible": true
    },
    "language_info": {
      "codemirror_mode": {
        "name": "ipython",
        "version": 3
      },
      "file_extension": ".py",
      "mimetype": "text/x-python",
      "name": "python",
      "nbconvert_exporter": "python",
      "pygments_lexer": "ipython3",
      "version": "3.6.7"
    },
    "kernelspec": {
      "name": "python3",
      "display_name": "Python 3"
    },
    "widgets": {
      "application/vnd.jupyter.widget-state+json": {
        "fe18059d65d64125b56e21996e0c0610": {
          "model_module": "@jupyter-widgets/controls",
          "model_name": "HBoxModel",
          "state": {
            "_view_name": "HBoxView",
            "_dom_classes": [],
            "_model_name": "HBoxModel",
            "_view_module": "@jupyter-widgets/controls",
            "_model_module_version": "1.5.0",
            "_view_count": null,
            "_view_module_version": "1.5.0",
            "box_style": "",
            "layout": "IPY_MODEL_5f0459eb7d474b6abb3fe14f4c6151be",
            "_model_module": "@jupyter-widgets/controls",
            "children": [
              "IPY_MODEL_d832adc071e940b989af4ae8ecf72460",
              "IPY_MODEL_c3783eda807b4433b3c3c240a2c72091"
            ]
          }
        },
        "5f0459eb7d474b6abb3fe14f4c6151be": {
          "model_module": "@jupyter-widgets/base",
          "model_name": "LayoutModel",
          "state": {
            "_view_name": "LayoutView",
            "grid_template_rows": null,
            "right": null,
            "justify_content": null,
            "_view_module": "@jupyter-widgets/base",
            "overflow": null,
            "_model_module_version": "1.2.0",
            "_view_count": null,
            "flex_flow": null,
            "width": null,
            "min_width": null,
            "border": null,
            "align_items": null,
            "bottom": null,
            "_model_module": "@jupyter-widgets/base",
            "top": null,
            "grid_column": null,
            "overflow_y": null,
            "overflow_x": null,
            "grid_auto_flow": null,
            "grid_area": null,
            "grid_template_columns": null,
            "flex": null,
            "_model_name": "LayoutModel",
            "justify_items": null,
            "grid_row": null,
            "max_height": null,
            "align_content": null,
            "visibility": null,
            "align_self": null,
            "height": null,
            "min_height": null,
            "padding": null,
            "grid_auto_rows": null,
            "grid_gap": null,
            "max_width": null,
            "order": null,
            "_view_module_version": "1.2.0",
            "grid_template_areas": null,
            "object_position": null,
            "object_fit": null,
            "grid_auto_columns": null,
            "margin": null,
            "display": null,
            "left": null
          }
        },
        "d832adc071e940b989af4ae8ecf72460": {
          "model_module": "@jupyter-widgets/controls",
          "model_name": "FloatProgressModel",
          "state": {
            "_view_name": "ProgressView",
            "style": "IPY_MODEL_459a8b40b81e46a2a1e9edf51b05810c",
            "_dom_classes": [],
            "description": "Downloading: 100%",
            "_model_name": "FloatProgressModel",
            "bar_style": "success",
            "max": 546,
            "_view_module": "@jupyter-widgets/controls",
            "_model_module_version": "1.5.0",
            "value": 546,
            "_view_count": null,
            "_view_module_version": "1.5.0",
            "orientation": "horizontal",
            "min": 0,
            "description_tooltip": null,
            "_model_module": "@jupyter-widgets/controls",
            "layout": "IPY_MODEL_56c94cbc0c954a00b7fd81f69d7076fb"
          }
        },
        "c3783eda807b4433b3c3c240a2c72091": {
          "model_module": "@jupyter-widgets/controls",
          "model_name": "HTMLModel",
          "state": {
            "_view_name": "HTMLView",
            "style": "IPY_MODEL_d306efcce5b04252873c45aa8da494f3",
            "_dom_classes": [],
            "description": "",
            "_model_name": "HTMLModel",
            "placeholder": "​",
            "_view_module": "@jupyter-widgets/controls",
            "_model_module_version": "1.5.0",
            "value": " 546/546 [00:00&lt;00:00, 1.37kB/s]",
            "_view_count": null,
            "_view_module_version": "1.5.0",
            "description_tooltip": null,
            "_model_module": "@jupyter-widgets/controls",
            "layout": "IPY_MODEL_d598bf430507442abdb05e4b061a74b8"
          }
        },
        "459a8b40b81e46a2a1e9edf51b05810c": {
          "model_module": "@jupyter-widgets/controls",
          "model_name": "ProgressStyleModel",
          "state": {
            "_view_name": "StyleView",
            "_model_name": "ProgressStyleModel",
            "description_width": "initial",
            "_view_module": "@jupyter-widgets/base",
            "_model_module_version": "1.5.0",
            "_view_count": null,
            "_view_module_version": "1.2.0",
            "bar_color": null,
            "_model_module": "@jupyter-widgets/controls"
          }
        },
        "56c94cbc0c954a00b7fd81f69d7076fb": {
          "model_module": "@jupyter-widgets/base",
          "model_name": "LayoutModel",
          "state": {
            "_view_name": "LayoutView",
            "grid_template_rows": null,
            "right": null,
            "justify_content": null,
            "_view_module": "@jupyter-widgets/base",
            "overflow": null,
            "_model_module_version": "1.2.0",
            "_view_count": null,
            "flex_flow": null,
            "width": null,
            "min_width": null,
            "border": null,
            "align_items": null,
            "bottom": null,
            "_model_module": "@jupyter-widgets/base",
            "top": null,
            "grid_column": null,
            "overflow_y": null,
            "overflow_x": null,
            "grid_auto_flow": null,
            "grid_area": null,
            "grid_template_columns": null,
            "flex": null,
            "_model_name": "LayoutModel",
            "justify_items": null,
            "grid_row": null,
            "max_height": null,
            "align_content": null,
            "visibility": null,
            "align_self": null,
            "height": null,
            "min_height": null,
            "padding": null,
            "grid_auto_rows": null,
            "grid_gap": null,
            "max_width": null,
            "order": null,
            "_view_module_version": "1.2.0",
            "grid_template_areas": null,
            "object_position": null,
            "object_fit": null,
            "grid_auto_columns": null,
            "margin": null,
            "display": null,
            "left": null
          }
        },
        "d306efcce5b04252873c45aa8da494f3": {
          "model_module": "@jupyter-widgets/controls",
          "model_name": "DescriptionStyleModel",
          "state": {
            "_view_name": "StyleView",
            "_model_name": "DescriptionStyleModel",
            "description_width": "",
            "_view_module": "@jupyter-widgets/base",
            "_model_module_version": "1.5.0",
            "_view_count": null,
            "_view_module_version": "1.2.0",
            "_model_module": "@jupyter-widgets/controls"
          }
        },
        "d598bf430507442abdb05e4b061a74b8": {
          "model_module": "@jupyter-widgets/base",
          "model_name": "LayoutModel",
          "state": {
            "_view_name": "LayoutView",
            "grid_template_rows": null,
            "right": null,
            "justify_content": null,
            "_view_module": "@jupyter-widgets/base",
            "overflow": null,
            "_model_module_version": "1.2.0",
            "_view_count": null,
            "flex_flow": null,
            "width": null,
            "min_width": null,
            "border": null,
            "align_items": null,
            "bottom": null,
            "_model_module": "@jupyter-widgets/base",
            "top": null,
            "grid_column": null,
            "overflow_y": null,
            "overflow_x": null,
            "grid_auto_flow": null,
            "grid_area": null,
            "grid_template_columns": null,
            "flex": null,
            "_model_name": "LayoutModel",
            "justify_items": null,
            "grid_row": null,
            "max_height": null,
            "align_content": null,
            "visibility": null,
            "align_self": null,
            "height": null,
            "min_height": null,
            "padding": null,
            "grid_auto_rows": null,
            "grid_gap": null,
            "max_width": null,
            "order": null,
            "_view_module_version": "1.2.0",
            "grid_template_areas": null,
            "object_position": null,
            "object_fit": null,
            "grid_auto_columns": null,
            "margin": null,
            "display": null,
            "left": null
          }
        },
        "86aa24b10ff74684ad6364b2e46dd83b": {
          "model_module": "@jupyter-widgets/controls",
          "model_name": "HBoxModel",
          "state": {
            "_view_name": "HBoxView",
            "_dom_classes": [],
            "_model_name": "HBoxModel",
            "_view_module": "@jupyter-widgets/controls",
            "_model_module_version": "1.5.0",
            "_view_count": null,
            "_view_module_version": "1.5.0",
            "box_style": "",
            "layout": "IPY_MODEL_7e04d688866c4eb99287ca6620a71c3e",
            "_model_module": "@jupyter-widgets/controls",
            "children": [
              "IPY_MODEL_d47b20a05f154f208a51aae194023d3b",
              "IPY_MODEL_37ff3fc8c32644de8943d3bcfb6344fd"
            ]
          }
        },
        "7e04d688866c4eb99287ca6620a71c3e": {
          "model_module": "@jupyter-widgets/base",
          "model_name": "LayoutModel",
          "state": {
            "_view_name": "LayoutView",
            "grid_template_rows": null,
            "right": null,
            "justify_content": null,
            "_view_module": "@jupyter-widgets/base",
            "overflow": null,
            "_model_module_version": "1.2.0",
            "_view_count": null,
            "flex_flow": null,
            "width": null,
            "min_width": null,
            "border": null,
            "align_items": null,
            "bottom": null,
            "_model_module": "@jupyter-widgets/base",
            "top": null,
            "grid_column": null,
            "overflow_y": null,
            "overflow_x": null,
            "grid_auto_flow": null,
            "grid_area": null,
            "grid_template_columns": null,
            "flex": null,
            "_model_name": "LayoutModel",
            "justify_items": null,
            "grid_row": null,
            "max_height": null,
            "align_content": null,
            "visibility": null,
            "align_self": null,
            "height": null,
            "min_height": null,
            "padding": null,
            "grid_auto_rows": null,
            "grid_gap": null,
            "max_width": null,
            "order": null,
            "_view_module_version": "1.2.0",
            "grid_template_areas": null,
            "object_position": null,
            "object_fit": null,
            "grid_auto_columns": null,
            "margin": null,
            "display": null,
            "left": null
          }
        },
        "d47b20a05f154f208a51aae194023d3b": {
          "model_module": "@jupyter-widgets/controls",
          "model_name": "FloatProgressModel",
          "state": {
            "_view_name": "ProgressView",
            "style": "IPY_MODEL_42a414a4407e42029c83e97c9072f34c",
            "_dom_classes": [],
            "description": "Downloading: 100%",
            "_model_name": "FloatProgressModel",
            "bar_style": "success",
            "max": 904693,
            "_view_module": "@jupyter-widgets/controls",
            "_model_module_version": "1.5.0",
            "value": 904693,
            "_view_count": null,
            "_view_module_version": "1.5.0",
            "orientation": "horizontal",
            "min": 0,
            "description_tooltip": null,
            "_model_module": "@jupyter-widgets/controls",
            "layout": "IPY_MODEL_bfc677c017d24f93850606ab88b1b52b"
          }
        },
        "37ff3fc8c32644de8943d3bcfb6344fd": {
          "model_module": "@jupyter-widgets/controls",
          "model_name": "HTMLModel",
          "state": {
            "_view_name": "HTMLView",
            "style": "IPY_MODEL_7cc5a2d000f546bead7be0c8f75bec5d",
            "_dom_classes": [],
            "description": "",
            "_model_name": "HTMLModel",
            "placeholder": "​",
            "_view_module": "@jupyter-widgets/controls",
            "_model_module_version": "1.5.0",
            "value": " 905k/905k [00:00&lt;00:00, 8.09MB/s]",
            "_view_count": null,
            "_view_module_version": "1.5.0",
            "description_tooltip": null,
            "_model_module": "@jupyter-widgets/controls",
            "layout": "IPY_MODEL_34292b91da514da8889be0dad814568d"
          }
        },
        "42a414a4407e42029c83e97c9072f34c": {
          "model_module": "@jupyter-widgets/controls",
          "model_name": "ProgressStyleModel",
          "state": {
            "_view_name": "StyleView",
            "_model_name": "ProgressStyleModel",
            "description_width": "initial",
            "_view_module": "@jupyter-widgets/base",
            "_model_module_version": "1.5.0",
            "_view_count": null,
            "_view_module_version": "1.2.0",
            "bar_color": null,
            "_model_module": "@jupyter-widgets/controls"
          }
        },
        "bfc677c017d24f93850606ab88b1b52b": {
          "model_module": "@jupyter-widgets/base",
          "model_name": "LayoutModel",
          "state": {
            "_view_name": "LayoutView",
            "grid_template_rows": null,
            "right": null,
            "justify_content": null,
            "_view_module": "@jupyter-widgets/base",
            "overflow": null,
            "_model_module_version": "1.2.0",
            "_view_count": null,
            "flex_flow": null,
            "width": null,
            "min_width": null,
            "border": null,
            "align_items": null,
            "bottom": null,
            "_model_module": "@jupyter-widgets/base",
            "top": null,
            "grid_column": null,
            "overflow_y": null,
            "overflow_x": null,
            "grid_auto_flow": null,
            "grid_area": null,
            "grid_template_columns": null,
            "flex": null,
            "_model_name": "LayoutModel",
            "justify_items": null,
            "grid_row": null,
            "max_height": null,
            "align_content": null,
            "visibility": null,
            "align_self": null,
            "height": null,
            "min_height": null,
            "padding": null,
            "grid_auto_rows": null,
            "grid_gap": null,
            "max_width": null,
            "order": null,
            "_view_module_version": "1.2.0",
            "grid_template_areas": null,
            "object_position": null,
            "object_fit": null,
            "grid_auto_columns": null,
            "margin": null,
            "display": null,
            "left": null
          }
        },
        "7cc5a2d000f546bead7be0c8f75bec5d": {
          "model_module": "@jupyter-widgets/controls",
          "model_name": "DescriptionStyleModel",
          "state": {
            "_view_name": "StyleView",
            "_model_name": "DescriptionStyleModel",
            "description_width": "",
            "_view_module": "@jupyter-widgets/base",
            "_model_module_version": "1.5.0",
            "_view_count": null,
            "_view_module_version": "1.2.0",
            "_model_module": "@jupyter-widgets/controls"
          }
        },
        "34292b91da514da8889be0dad814568d": {
          "model_module": "@jupyter-widgets/base",
          "model_name": "LayoutModel",
          "state": {
            "_view_name": "LayoutView",
            "grid_template_rows": null,
            "right": null,
            "justify_content": null,
            "_view_module": "@jupyter-widgets/base",
            "overflow": null,
            "_model_module_version": "1.2.0",
            "_view_count": null,
            "flex_flow": null,
            "width": null,
            "min_width": null,
            "border": null,
            "align_items": null,
            "bottom": null,
            "_model_module": "@jupyter-widgets/base",
            "top": null,
            "grid_column": null,
            "overflow_y": null,
            "overflow_x": null,
            "grid_auto_flow": null,
            "grid_area": null,
            "grid_template_columns": null,
            "flex": null,
            "_model_name": "LayoutModel",
            "justify_items": null,
            "grid_row": null,
            "max_height": null,
            "align_content": null,
            "visibility": null,
            "align_self": null,
            "height": null,
            "min_height": null,
            "padding": null,
            "grid_auto_rows": null,
            "grid_gap": null,
            "max_width": null,
            "order": null,
            "_view_module_version": "1.2.0",
            "grid_template_areas": null,
            "object_position": null,
            "object_fit": null,
            "grid_auto_columns": null,
            "margin": null,
            "display": null,
            "left": null
          }
        },
        "fefb34cc4b8e40acb0c6fb9384a7dd45": {
          "model_module": "@jupyter-widgets/controls",
          "model_name": "HBoxModel",
          "state": {
            "_view_name": "HBoxView",
            "_dom_classes": [],
            "_model_name": "HBoxModel",
            "_view_module": "@jupyter-widgets/controls",
            "_model_module_version": "1.5.0",
            "_view_count": null,
            "_view_module_version": "1.5.0",
            "box_style": "",
            "layout": "IPY_MODEL_7613106018fe4ab1b0d679616732990b",
            "_model_module": "@jupyter-widgets/controls",
            "children": [
              "IPY_MODEL_c0a9e2d63ad74b28b62734bd04fcd5db",
              "IPY_MODEL_214effca2e7c49848b51602aee1dd794"
            ]
          }
        },
        "7613106018fe4ab1b0d679616732990b": {
          "model_module": "@jupyter-widgets/base",
          "model_name": "LayoutModel",
          "state": {
            "_view_name": "LayoutView",
            "grid_template_rows": null,
            "right": null,
            "justify_content": null,
            "_view_module": "@jupyter-widgets/base",
            "overflow": null,
            "_model_module_version": "1.2.0",
            "_view_count": null,
            "flex_flow": null,
            "width": null,
            "min_width": null,
            "border": null,
            "align_items": null,
            "bottom": null,
            "_model_module": "@jupyter-widgets/base",
            "top": null,
            "grid_column": null,
            "overflow_y": null,
            "overflow_x": null,
            "grid_auto_flow": null,
            "grid_area": null,
            "grid_template_columns": null,
            "flex": null,
            "_model_name": "LayoutModel",
            "justify_items": null,
            "grid_row": null,
            "max_height": null,
            "align_content": null,
            "visibility": null,
            "align_self": null,
            "height": null,
            "min_height": null,
            "padding": null,
            "grid_auto_rows": null,
            "grid_gap": null,
            "max_width": null,
            "order": null,
            "_view_module_version": "1.2.0",
            "grid_template_areas": null,
            "object_position": null,
            "object_fit": null,
            "grid_auto_columns": null,
            "margin": null,
            "display": null,
            "left": null
          }
        },
        "c0a9e2d63ad74b28b62734bd04fcd5db": {
          "model_module": "@jupyter-widgets/controls",
          "model_name": "FloatProgressModel",
          "state": {
            "_view_name": "ProgressView",
            "style": "IPY_MODEL_5064a31483f5411fb63340c387f535b4",
            "_dom_classes": [],
            "description": "Downloading: 100%",
            "_model_name": "FloatProgressModel",
            "bar_style": "success",
            "max": 282,
            "_view_module": "@jupyter-widgets/controls",
            "_model_module_version": "1.5.0",
            "value": 282,
            "_view_count": null,
            "_view_module_version": "1.5.0",
            "orientation": "horizontal",
            "min": 0,
            "description_tooltip": null,
            "_model_module": "@jupyter-widgets/controls",
            "layout": "IPY_MODEL_5ddb9eb06f79443d8b61c517a8836dc9"
          }
        },
        "214effca2e7c49848b51602aee1dd794": {
          "model_module": "@jupyter-widgets/controls",
          "model_name": "HTMLModel",
          "state": {
            "_view_name": "HTMLView",
            "style": "IPY_MODEL_58ba28e0c85c4d2f82d65e4796f451fb",
            "_dom_classes": [],
            "description": "",
            "_model_name": "HTMLModel",
            "placeholder": "​",
            "_view_module": "@jupyter-widgets/controls",
            "_model_module_version": "1.5.0",
            "value": " 282/282 [00:00&lt;00:00, 2.02kB/s]",
            "_view_count": null,
            "_view_module_version": "1.5.0",
            "description_tooltip": null,
            "_model_module": "@jupyter-widgets/controls",
            "layout": "IPY_MODEL_49ace78a696b44328ff5301a5ff45949"
          }
        },
        "5064a31483f5411fb63340c387f535b4": {
          "model_module": "@jupyter-widgets/controls",
          "model_name": "ProgressStyleModel",
          "state": {
            "_view_name": "StyleView",
            "_model_name": "ProgressStyleModel",
            "description_width": "initial",
            "_view_module": "@jupyter-widgets/base",
            "_model_module_version": "1.5.0",
            "_view_count": null,
            "_view_module_version": "1.2.0",
            "bar_color": null,
            "_model_module": "@jupyter-widgets/controls"
          }
        },
        "5ddb9eb06f79443d8b61c517a8836dc9": {
          "model_module": "@jupyter-widgets/base",
          "model_name": "LayoutModel",
          "state": {
            "_view_name": "LayoutView",
            "grid_template_rows": null,
            "right": null,
            "justify_content": null,
            "_view_module": "@jupyter-widgets/base",
            "overflow": null,
            "_model_module_version": "1.2.0",
            "_view_count": null,
            "flex_flow": null,
            "width": null,
            "min_width": null,
            "border": null,
            "align_items": null,
            "bottom": null,
            "_model_module": "@jupyter-widgets/base",
            "top": null,
            "grid_column": null,
            "overflow_y": null,
            "overflow_x": null,
            "grid_auto_flow": null,
            "grid_area": null,
            "grid_template_columns": null,
            "flex": null,
            "_model_name": "LayoutModel",
            "justify_items": null,
            "grid_row": null,
            "max_height": null,
            "align_content": null,
            "visibility": null,
            "align_self": null,
            "height": null,
            "min_height": null,
            "padding": null,
            "grid_auto_rows": null,
            "grid_gap": null,
            "max_width": null,
            "order": null,
            "_view_module_version": "1.2.0",
            "grid_template_areas": null,
            "object_position": null,
            "object_fit": null,
            "grid_auto_columns": null,
            "margin": null,
            "display": null,
            "left": null
          }
        },
        "58ba28e0c85c4d2f82d65e4796f451fb": {
          "model_module": "@jupyter-widgets/controls",
          "model_name": "DescriptionStyleModel",
          "state": {
            "_view_name": "StyleView",
            "_model_name": "DescriptionStyleModel",
            "description_width": "",
            "_view_module": "@jupyter-widgets/base",
            "_model_module_version": "1.5.0",
            "_view_count": null,
            "_view_module_version": "1.2.0",
            "_model_module": "@jupyter-widgets/controls"
          }
        },
        "49ace78a696b44328ff5301a5ff45949": {
          "model_module": "@jupyter-widgets/base",
          "model_name": "LayoutModel",
          "state": {
            "_view_name": "LayoutView",
            "grid_template_rows": null,
            "right": null,
            "justify_content": null,
            "_view_module": "@jupyter-widgets/base",
            "overflow": null,
            "_model_module_version": "1.2.0",
            "_view_count": null,
            "flex_flow": null,
            "width": null,
            "min_width": null,
            "border": null,
            "align_items": null,
            "bottom": null,
            "_model_module": "@jupyter-widgets/base",
            "top": null,
            "grid_column": null,
            "overflow_y": null,
            "overflow_x": null,
            "grid_auto_flow": null,
            "grid_area": null,
            "grid_template_columns": null,
            "flex": null,
            "_model_name": "LayoutModel",
            "justify_items": null,
            "grid_row": null,
            "max_height": null,
            "align_content": null,
            "visibility": null,
            "align_self": null,
            "height": null,
            "min_height": null,
            "padding": null,
            "grid_auto_rows": null,
            "grid_gap": null,
            "max_width": null,
            "order": null,
            "_view_module_version": "1.2.0",
            "grid_template_areas": null,
            "object_position": null,
            "object_fit": null,
            "grid_auto_columns": null,
            "margin": null,
            "display": null,
            "left": null
          }
        }
      }
    },
    "accelerator": "GPU"
  },
  "cells": [
    {
      "cell_type": "markdown",
      "metadata": {
        "id": "5toJU7WMgtAh"
      },
      "source": [
        "## Metrics"
      ]
    },
    {
      "cell_type": "code",
      "metadata": {
        "id": "cVliso0GSgv7"
      },
      "source": [
        "def evaluate_rouge(cands, refs, tokenizer):\n",
        "  cands_tokenized = tokenize_with_space(cands, tokenizer)\n",
        "  refs_tokenized = tokenize_with_space(refs, tokenizer)\n",
        "  r1, r2, rl = cal_rouge_score(refs_tokenized, cands_tokenized)\n",
        "  # BERTScore = cal_batch_bert_score(cands, refs)\n",
        "  return r1, r2, rl\n",
        "\n",
        "def tokenize_with_space(texts, tokenizer):\n",
        "  output = []\n",
        "  encoded_texts = tokenizer(texts, max_length=416, truncation=True)\n",
        "  for text in encoded_texts['input_ids']:\n",
        "    tokenized_text = \" \".join(tokenizer.convert_ids_to_tokens(text, skip_special_tokens=True))\n",
        "    if(len(tokenized_text)==0):\n",
        "      output.append(\"\")\n",
        "      continue\n",
        "    if(tokenized_text[0]==\"▁\"): \n",
        "      tokenized_text = tokenized_text[1:]\n",
        "    output.append(tokenized_text.strip())\n",
        "  return output"
      ],
      "execution_count": null,
      "outputs": []
    },
    {
      "cell_type": "code",
      "metadata": {
        "colab": {
          "base_uri": "https://localhost:8080/"
        },
        "id": "dFNLfGgjSkVH",
        "outputId": "e7b8a5cd-6d43-4f61-8527-6fe0174e3bcb"
      },
      "source": [
        "!pip install rouge"
      ],
      "execution_count": null,
      "outputs": [
        {
          "output_type": "stream",
          "text": [
            "Collecting rouge\n",
            "  Downloading https://files.pythonhosted.org/packages/43/cc/e18e33be20971ff73a056ebdb023476b5a545e744e3fc22acd8c758f1e0d/rouge-1.0.0-py3-none-any.whl\n",
            "Requirement already satisfied: six in /usr/local/lib/python3.7/dist-packages (from rouge) (1.15.0)\n",
            "Installing collected packages: rouge\n",
            "Successfully installed rouge-1.0.0\n"
          ],
          "name": "stdout"
        }
      ]
    },
    {
      "cell_type": "code",
      "metadata": {
        "id": "dzZWoGr5SogY"
      },
      "source": [
        "from rouge import Rouge \n",
        "rouge = Rouge()\n",
        "def cal_rouge_score(hyps, refs, get_average_f1=True):\n",
        "  '''\n",
        "  argument: cands, refs [list of string], get_average_f1=True\n",
        "  return dict of r1, r2, rl score\n",
        "  if get_average_f1 == True return mean of rouge-1, rouge-2, rouge-L\n",
        "  '''\n",
        "  r1 = dict(); r1['precision'] = []; r1['recall'] = []; r1['f1'] = []\n",
        "  r2 = dict(); r2['precision'] = []; r2['recall'] = []; r2['f1'] = []\n",
        "  rl = dict(); rl['precision'] = []; rl['recall'] = []; rl['f1'] = []\n",
        "  for hyp, ref in zip(hyps, refs):\n",
        "    score = {}\n",
        "    if(len(hyp)==0 or len(ref)==0):\n",
        "      score = {\n",
        "          'rouge-1': {\n",
        "              'p': 0,\n",
        "              'r': 0,\n",
        "              'f': 0\n",
        "          },\n",
        "          'rouge-2': {\n",
        "              'p': 0,\n",
        "              'r': 0,\n",
        "              'f': 0\n",
        "          },\n",
        "          'rouge-l': {\n",
        "              'p': 0,\n",
        "              'r': 0,\n",
        "              'f': 0\n",
        "          }\n",
        "      }\n",
        "    else: score = rouge.get_scores(hyp, ref)[0]\n",
        "    r1['precision'].append(score['rouge-1']['p'])\n",
        "    r1['recall'].append(score['rouge-1']['r'])\n",
        "    r1['f1'].append(score['rouge-1']['f'])\n",
        "    \n",
        "    r2['precision'].append(score['rouge-2']['f'])\n",
        "    r2['recall'].append(score['rouge-2']['f'])\n",
        "    r2['f1'].append(score['rouge-2']['f'])\n",
        "\n",
        "    rl['precision'].append(score['rouge-l']['f'])\n",
        "    rl['recall'].append(score['rouge-l']['f'])\n",
        "    rl['f1'].append(score['rouge-l']['f'])\n",
        "  # score = rouge.get_scores(cands, refs, avg=True)\n",
        "  # r1['precision_average'] = score['rouge-1']['p']\n",
        "  # r1['recall_average'] = score['rouge-1']['r']\n",
        "  # r1['f1_average'] = score['rouge-1']['f']\n",
        "  \n",
        "  # r2['precision_average'] = score['rouge-2']['f']\n",
        "  # r2['recall_average'] = score['rouge-2']['f']\n",
        "  # r2['f1_average'] = score['rouge-2']['f']\n",
        "\n",
        "  # rl['precision_average'] = score['rouge-l']['f']\n",
        "  # rl['recall_average'] = score['rouge-l']['f']\n",
        "  # rl['f1_average'] = score['rouge-l']['f']\n",
        "  if(get_average_f1==True): return sum(r1['f1'])/len(r1['f1']), sum(r2['f1'])/len(r2['f1']), sum(rl['f1'])/len(rl['f1'])\n",
        "  else: return r1, r2, rl"
      ],
      "execution_count": null,
      "outputs": []
    },
    {
      "cell_type": "code",
      "metadata": {
        "colab": {
          "base_uri": "https://localhost:8080/"
        },
        "id": "zffiWT65SnPB",
        "outputId": "567a95ea-9e91-4f75-a7f5-f76663af8a64"
      },
      "source": [
        "cands = ['test test test test test test bad']\n",
        "refs = ['test test']\n",
        "\n",
        "r1, r2, rl = cal_rouge_score(cands, refs)\n",
        "print(r1)\n",
        "print(r2)\n",
        "print(rl)"
      ],
      "execution_count": null,
      "outputs": [
        {
          "output_type": "stream",
          "text": [
            "0.4444444409876544\n",
            "0.2857142832653061\n",
            "0.6666666622222223\n"
          ],
          "name": "stdout"
        }
      ]
    },
    {
      "cell_type": "code",
      "metadata": {
        "colab": {
          "base_uri": "https://localhost:8080/"
        },
        "id": "WJ5Qh9DEXooM",
        "outputId": "5ac34355-4523-4d13-938e-027dd75ed0f3"
      },
      "source": [
        "!pip install bert_score==0.3.7\n",
        "from bert_score import score\n",
        "import numpy as np"
      ],
      "execution_count": null,
      "outputs": [
        {
          "output_type": "stream",
          "text": [
            "Collecting bert_score==0.3.7\n",
            "\u001b[?25l  Downloading https://files.pythonhosted.org/packages/a1/f9/7bd03a70ccb4e3f6a334f5f5dc8871d76de10144d277d23f730b08cf2aaf/bert_score-0.3.7-py3-none-any.whl (53kB)\n",
            "\r\u001b[K     |██████▏                         | 10kB 16.5MB/s eta 0:00:01\r\u001b[K     |████████████▎                   | 20kB 23.4MB/s eta 0:00:01\r\u001b[K     |██████████████████▌             | 30kB 27.4MB/s eta 0:00:01\r\u001b[K     |████████████████████████▋       | 40kB 28.2MB/s eta 0:00:01\r\u001b[K     |██████████████████████████████▉ | 51kB 30.9MB/s eta 0:00:01\r\u001b[K     |████████████████████████████████| 61kB 7.7MB/s \n",
            "\u001b[?25hRequirement already satisfied: torch>=1.0.0 in /usr/local/lib/python3.7/dist-packages (from bert_score==0.3.7) (1.5.0)\n",
            "Requirement already satisfied: tqdm>=4.31.1 in /usr/local/lib/python3.7/dist-packages (from bert_score==0.3.7) (4.41.1)\n",
            "Requirement already satisfied: numpy in /usr/local/lib/python3.7/dist-packages (from bert_score==0.3.7) (1.19.5)\n",
            "Requirement already satisfied: transformers>=3.0.0 in /usr/local/lib/python3.7/dist-packages (from bert_score==0.3.7) (4.4.0)\n",
            "Requirement already satisfied: matplotlib in /usr/local/lib/python3.7/dist-packages (from bert_score==0.3.7) (3.2.2)\n",
            "Requirement already satisfied: requests in /usr/local/lib/python3.7/dist-packages (from bert_score==0.3.7) (2.23.0)\n",
            "Requirement already satisfied: pandas>=1.0.1 in /usr/local/lib/python3.7/dist-packages (from bert_score==0.3.7) (1.1.5)\n",
            "Requirement already satisfied: future in /usr/local/lib/python3.7/dist-packages (from torch>=1.0.0->bert_score==0.3.7) (0.16.0)\n",
            "Requirement already satisfied: packaging in /usr/local/lib/python3.7/dist-packages (from transformers>=3.0.0->bert_score==0.3.7) (20.9)\n",
            "Requirement already satisfied: importlib-metadata; python_version < \"3.8\" in /usr/local/lib/python3.7/dist-packages (from transformers>=3.0.0->bert_score==0.3.7) (4.0.1)\n",
            "Requirement already satisfied: regex!=2019.12.17 in /usr/local/lib/python3.7/dist-packages (from transformers>=3.0.0->bert_score==0.3.7) (2019.12.20)\n",
            "Requirement already satisfied: filelock in /usr/local/lib/python3.7/dist-packages (from transformers>=3.0.0->bert_score==0.3.7) (3.0.12)\n",
            "Requirement already satisfied: tokenizers<0.11,>=0.10.1 in /usr/local/lib/python3.7/dist-packages (from transformers>=3.0.0->bert_score==0.3.7) (0.10.2)\n",
            "Requirement already satisfied: sacremoses in /usr/local/lib/python3.7/dist-packages (from transformers>=3.0.0->bert_score==0.3.7) (0.0.45)\n",
            "Requirement already satisfied: kiwisolver>=1.0.1 in /usr/local/lib/python3.7/dist-packages (from matplotlib->bert_score==0.3.7) (1.3.1)\n",
            "Requirement already satisfied: python-dateutil>=2.1 in /usr/local/lib/python3.7/dist-packages (from matplotlib->bert_score==0.3.7) (2.8.1)\n",
            "Requirement already satisfied: pyparsing!=2.0.4,!=2.1.2,!=2.1.6,>=2.0.1 in /usr/local/lib/python3.7/dist-packages (from matplotlib->bert_score==0.3.7) (2.4.7)\n",
            "Requirement already satisfied: cycler>=0.10 in /usr/local/lib/python3.7/dist-packages (from matplotlib->bert_score==0.3.7) (0.10.0)\n",
            "Requirement already satisfied: chardet<4,>=3.0.2 in /usr/local/lib/python3.7/dist-packages (from requests->bert_score==0.3.7) (3.0.4)\n",
            "Requirement already satisfied: idna<3,>=2.5 in /usr/local/lib/python3.7/dist-packages (from requests->bert_score==0.3.7) (2.10)\n",
            "Requirement already satisfied: certifi>=2017.4.17 in /usr/local/lib/python3.7/dist-packages (from requests->bert_score==0.3.7) (2020.12.5)\n",
            "Requirement already satisfied: urllib3!=1.25.0,!=1.25.1,<1.26,>=1.21.1 in /usr/local/lib/python3.7/dist-packages (from requests->bert_score==0.3.7) (1.24.3)\n",
            "Requirement already satisfied: pytz>=2017.2 in /usr/local/lib/python3.7/dist-packages (from pandas>=1.0.1->bert_score==0.3.7) (2018.9)\n",
            "Requirement already satisfied: zipp>=0.5 in /usr/local/lib/python3.7/dist-packages (from importlib-metadata; python_version < \"3.8\"->transformers>=3.0.0->bert_score==0.3.7) (3.4.1)\n",
            "Requirement already satisfied: typing-extensions>=3.6.4; python_version < \"3.8\" in /usr/local/lib/python3.7/dist-packages (from importlib-metadata; python_version < \"3.8\"->transformers>=3.0.0->bert_score==0.3.7) (3.7.4.3)\n",
            "Requirement already satisfied: joblib in /usr/local/lib/python3.7/dist-packages (from sacremoses->transformers>=3.0.0->bert_score==0.3.7) (1.0.1)\n",
            "Requirement already satisfied: click in /usr/local/lib/python3.7/dist-packages (from sacremoses->transformers>=3.0.0->bert_score==0.3.7) (8.0.0)\n",
            "Requirement already satisfied: six in /usr/local/lib/python3.7/dist-packages (from sacremoses->transformers>=3.0.0->bert_score==0.3.7) (1.15.0)\n",
            "Installing collected packages: bert-score\n",
            "Successfully installed bert-score-0.3.7\n"
          ],
          "name": "stdout"
        }
      ]
    },
    {
      "cell_type": "code",
      "metadata": {
        "id": "jPEtzXcpSqV4"
      },
      "source": [
        "import gc\n",
        "\n",
        "def cal_bert_score(cands, refs, get_average_f1=True):\n",
        "  '''\n",
        "  arguments: cands, refs\n",
        "  return array of presicion, recall, f1, presicion_average, recall_average, f1_average\n",
        "  if get_average == True return mean of BERTScore\n",
        "  '''\n",
        "  p, r, f1 = score(cands, refs, lang=\"others\", verbose=False)\n",
        "  p = p.numpy()\n",
        "  r = r.numpy()\n",
        "  f1 = f1.numpy()\n",
        "  if(get_average_f1==True): return f1.mean()\n",
        "  else: return p, r, f1\n",
        "\n",
        "def cal_batch_bert_score(cands, refs, get_average_f1=True, batch_size=8):\n",
        "  f1_average = []\n",
        "  for i in tqdm(range(0,len(cands),batch_size)):\n",
        "    cand_batch = cands[i:i+batch_size]\n",
        "    ref_batch = refs[i:i+batch_size]\n",
        "    res = cal_bert_score(cand_batch, ref_batch)\n",
        "    f1_average.append(res)\n",
        "    gc.collect()\n",
        "  print(f1_average)\n",
        "  return sum(f1_average)/len(f1_average)"
      ],
      "execution_count": null,
      "outputs": []
    },
    {
      "cell_type": "code",
      "metadata": {
        "id": "IZdKn0fvjIrJ"
      },
      "source": [
        ""
      ],
      "execution_count": null,
      "outputs": []
    },
    {
      "cell_type": "markdown",
      "metadata": {
        "id": "Dja9AsGdzwvt"
      },
      "source": [
        "## Segment Sentences"
      ]
    },
    {
      "cell_type": "markdown",
      "metadata": {
        "id": "xTv8C_Z7zuHv"
      },
      "source": [
        "## Oracle A"
      ]
    },
    {
      "cell_type": "code",
      "metadata": {
        "colab": {
          "base_uri": "https://localhost:8080/"
        },
        "id": "rQiVAuCP2-E2",
        "outputId": "b4ccb1ab-c995-4f93-8e41-42b95e1ab881"
      },
      "source": [
        "!pip -q install torch==1.5.0 torchtext==0.6.0 torchvision==0.6.0\n",
        "!pip -q install transformers==3.5.0 thai2transformers==0.1.2\n",
        "!pip install pythainlp\n",
        "\n",
        "!pip install -Uqq datasets pythainlp==2.2.4 transformers==4.4.0 tensorflow==2.4.0 tensorflow_text emoji seqeval sentencepiece fuzzywuzzy\n",
        "!npx degit --force https://github.com/vistec-AI/thai2transformers#dev"
      ],
      "execution_count": null,
      "outputs": [
        {
          "output_type": "stream",
          "text": [
            "\u001b[K     |████████████████████████████████| 752.0MB 24kB/s \n",
            "\u001b[K     |████████████████████████████████| 71kB 10.6MB/s \n",
            "\u001b[K     |████████████████████████████████| 6.6MB 41.4MB/s \n",
            "\u001b[K     |████████████████████████████████| 1.2MB 39.1MB/s \n",
            "\u001b[K     |████████████████████████████████| 1.3MB 21.6MB/s \n",
            "\u001b[K     |████████████████████████████████| 901kB 45.2MB/s \n",
            "\u001b[K     |████████████████████████████████| 1.1MB 46.2MB/s \n",
            "\u001b[K     |████████████████████████████████| 2.9MB 42.8MB/s \n",
            "\u001b[K     |████████████████████████████████| 133kB 59.8MB/s \n",
            "\u001b[K     |████████████████████████████████| 11.0MB 58.7MB/s \n",
            "\u001b[K     |████████████████████████████████| 225kB 50.3MB/s \n",
            "\u001b[K     |████████████████████████████████| 8.7MB 19.0MB/s \n",
            "\u001b[K     |████████████████████████████████| 51kB 7.9MB/s \n",
            "\u001b[K     |████████████████████████████████| 808kB 46.8MB/s \n",
            "\u001b[K     |████████████████████████████████| 10.1MB 49.7MB/s \n",
            "\u001b[K     |████████████████████████████████| 747kB 41.8MB/s \n",
            "\u001b[K     |████████████████████████████████| 245kB 58.7MB/s \n",
            "\u001b[K     |████████████████████████████████| 112kB 54.7MB/s \n",
            "\u001b[K     |████████████████████████████████| 327kB 57.8MB/s \n",
            "\u001b[K     |████████████████████████████████| 645kB 42.9MB/s \n",
            "\u001b[K     |████████████████████████████████| 276kB 53.8MB/s \n",
            "\u001b[?25h  Building wheel for thai2transformers (setup.py) ... \u001b[?25l\u001b[?25hdone\n",
            "  Building wheel for seqeval (setup.py) ... \u001b[?25l\u001b[?25hdone\n",
            "  Building wheel for pyahocorasick (setup.py) ... \u001b[?25l\u001b[?25hdone\n",
            "\u001b[31mERROR: pytorch-lightning 1.3.1 has requirement future>=0.17.1, but you'll have future 0.16.0 which is incompatible.\u001b[0m\n",
            "Requirement already satisfied: pythainlp in /usr/local/lib/python3.7/dist-packages (2.3.1)\n",
            "Requirement already satisfied: requests>=2.22.0 in /usr/local/lib/python3.7/dist-packages (from pythainlp) (2.23.0)\n",
            "Requirement already satisfied: python-crfsuite>=0.9.6 in /usr/local/lib/python3.7/dist-packages (from pythainlp) (0.9.7)\n",
            "Requirement already satisfied: tinydb>=3.0 in /usr/local/lib/python3.7/dist-packages (from pythainlp) (4.4.0)\n",
            "Requirement already satisfied: chardet<4,>=3.0.2 in /usr/local/lib/python3.7/dist-packages (from requests>=2.22.0->pythainlp) (3.0.4)\n",
            "Requirement already satisfied: idna<3,>=2.5 in /usr/local/lib/python3.7/dist-packages (from requests>=2.22.0->pythainlp) (2.10)\n",
            "Requirement already satisfied: urllib3!=1.25.0,!=1.25.1,<1.26,>=1.21.1 in /usr/local/lib/python3.7/dist-packages (from requests>=2.22.0->pythainlp) (1.24.3)\n",
            "Requirement already satisfied: certifi>=2017.4.17 in /usr/local/lib/python3.7/dist-packages (from requests>=2.22.0->pythainlp) (2020.12.5)\n",
            "\u001b[K     |████████████████████████████████| 8.9MB 17.1MB/s \n",
            "\u001b[K     |████████████████████████████████| 2.1MB 45.8MB/s \n",
            "\u001b[K     |████████████████████████████████| 394.7MB 39kB/s \n",
            "\u001b[K     |████████████████████████████████| 3.4MB 44.0MB/s \n",
            "\u001b[K     |████████████████████████████████| 3.3MB 39.1MB/s \n",
            "\u001b[31mERROR: thai2transformers 0.1.2 has requirement sentencepiece==0.1.91, but you'll have sentencepiece 0.1.95 which is incompatible.\u001b[0m\n",
            "\u001b[31mERROR: thai2transformers 0.1.2 has requirement tokenizers==0.9.3, but you'll have tokenizers 0.10.2 which is incompatible.\u001b[0m\n",
            "\u001b[31mERROR: thai2transformers 0.1.2 has requirement transformers==3.5.0, but you'll have transformers 4.4.0 which is incompatible.\u001b[0m\n",
            "\u001b[K\u001b[?25hnpx: installed 1 in 2.098s\n",
            "\u001b[36m> destination directory is not empty. Using --force, continuing\u001b[39m\n",
            "\u001b[36m> cloned \u001b[1mvistec-AI/thai2transformers\u001b[22m#\u001b[1mdev\u001b[22m\u001b[39m\n"
          ],
          "name": "stdout"
        }
      ]
    },
    {
      "cell_type": "code",
      "metadata": {
        "id": "RmPQsuSe29Q6"
      },
      "source": [
        "%matplotlib inline\n",
        "import pandas\n",
        "import sklearn\n",
        "import numpy as np\n",
        "from IPython.display import display\n",
        "import math\n",
        "import matplotlib.pyplot as plt\n",
        "from sklearn.model_selection import train_test_split\n",
        "from pythainlp.tokenize import word_tokenize, sent_tokenize\n",
        "\n",
        "from transformers import (\n",
        "    CamembertTokenizer,\n",
        "    AutoTokenizer,\n",
        "    AutoModel,\n",
        "    AutoModelForMaskedLM,\n",
        "    AutoModelForSequenceClassification,\n",
        "    AutoModelForTokenClassification,\n",
        "    TrainingArguments,\n",
        "    Trainer,\n",
        "    pipeline,\n",
        ")\n",
        "\n",
        "from sklearn.utils import shuffle"
      ],
      "execution_count": null,
      "outputs": []
    },
    {
      "cell_type": "code",
      "metadata": {
        "id": "IzJPUr0_26DJ",
        "colab": {
          "base_uri": "https://localhost:8080/",
          "height": 167,
          "referenced_widgets": [
            "fe18059d65d64125b56e21996e0c0610",
            "5f0459eb7d474b6abb3fe14f4c6151be",
            "d832adc071e940b989af4ae8ecf72460",
            "c3783eda807b4433b3c3c240a2c72091",
            "459a8b40b81e46a2a1e9edf51b05810c",
            "56c94cbc0c954a00b7fd81f69d7076fb",
            "d306efcce5b04252873c45aa8da494f3",
            "d598bf430507442abdb05e4b061a74b8",
            "86aa24b10ff74684ad6364b2e46dd83b",
            "7e04d688866c4eb99287ca6620a71c3e",
            "d47b20a05f154f208a51aae194023d3b",
            "37ff3fc8c32644de8943d3bcfb6344fd",
            "42a414a4407e42029c83e97c9072f34c",
            "bfc677c017d24f93850606ab88b1b52b",
            "7cc5a2d000f546bead7be0c8f75bec5d",
            "34292b91da514da8889be0dad814568d",
            "fefb34cc4b8e40acb0c6fb9384a7dd45",
            "7613106018fe4ab1b0d679616732990b",
            "c0a9e2d63ad74b28b62734bd04fcd5db",
            "214effca2e7c49848b51602aee1dd794",
            "5064a31483f5411fb63340c387f535b4",
            "5ddb9eb06f79443d8b61c517a8836dc9",
            "58ba28e0c85c4d2f82d65e4796f451fb",
            "49ace78a696b44328ff5301a5ff45949"
          ]
        },
        "outputId": "85fb0c2e-b344-47f6-a81d-9eca6553538f"
      },
      "source": [
        "from thai2transformers.tokenizers import ThaiWordsNewmmTokenizer\n",
        "tokenizer = AutoTokenizer.from_pretrained('airesearch/wangchanberta-base-att-spm-uncased')"
      ],
      "execution_count": null,
      "outputs": [
        {
          "output_type": "display_data",
          "data": {
            "application/vnd.jupyter.widget-view+json": {
              "model_id": "fe18059d65d64125b56e21996e0c0610",
              "version_minor": 0,
              "version_major": 2
            },
            "text/plain": [
              "HBox(children=(FloatProgress(value=0.0, description='Downloading', max=546.0, style=ProgressStyle(description_…"
            ]
          },
          "metadata": {
            "tags": []
          }
        },
        {
          "output_type": "stream",
          "text": [
            "\n"
          ],
          "name": "stdout"
        },
        {
          "output_type": "display_data",
          "data": {
            "application/vnd.jupyter.widget-view+json": {
              "model_id": "86aa24b10ff74684ad6364b2e46dd83b",
              "version_minor": 0,
              "version_major": 2
            },
            "text/plain": [
              "HBox(children=(FloatProgress(value=0.0, description='Downloading', max=904693.0, style=ProgressStyle(descripti…"
            ]
          },
          "metadata": {
            "tags": []
          }
        },
        {
          "output_type": "stream",
          "text": [
            "\n"
          ],
          "name": "stdout"
        },
        {
          "output_type": "display_data",
          "data": {
            "application/vnd.jupyter.widget-view+json": {
              "model_id": "fefb34cc4b8e40acb0c6fb9384a7dd45",
              "version_minor": 0,
              "version_major": 2
            },
            "text/plain": [
              "HBox(children=(FloatProgress(value=0.0, description='Downloading', max=282.0, style=ProgressStyle(description_…"
            ]
          },
          "metadata": {
            "tags": []
          }
        },
        {
          "output_type": "stream",
          "text": [
            "\n"
          ],
          "name": "stdout"
        }
      ]
    },
    {
      "cell_type": "code",
      "metadata": {
        "id": "6QW11JaD7fob",
        "colab": {
          "base_uri": "https://localhost:8080/"
        },
        "outputId": "19705f2d-4bd1-4bb5-ed1f-37952135a049"
      },
      "source": [
        "!gdown --id 1-8IU8qyry-yPXwQ7AXz0GHIgn19QKGZP\n",
        "!gdown --id 1-J0eqf4ig7cP8bMPRgSFUejshnBFTZoq\n",
        "!gdown --id 1-IIJFl4AGNr7rRax4YSQTTm7j12YJ0ya"
      ],
      "execution_count": null,
      "outputs": [
        {
          "output_type": "stream",
          "text": [
            "Downloading...\n",
            "From: https://drive.google.com/uc?id=1-8IU8qyry-yPXwQ7AXz0GHIgn19QKGZP\n",
            "To: /content/thaisum.csv\n",
            "2.94GB [00:45, 34.3MB/s]\n",
            "Downloading...\n",
            "From: https://drive.google.com/uc?id=1-J0eqf4ig7cP8bMPRgSFUejshnBFTZoq\n",
            "To: /content/validation_set.csv\n",
            "118MB [00:01, 68.4MB/s]\n",
            "Downloading...\n",
            "From: https://drive.google.com/uc?id=1-IIJFl4AGNr7rRax4YSQTTm7j12YJ0ya\n",
            "To: /content/test_set.csv\n",
            "119MB [00:02, 55.0MB/s]\n"
          ],
          "name": "stdout"
        }
      ]
    },
    {
      "cell_type": "code",
      "metadata": {
        "colab": {
          "base_uri": "https://localhost:8080/"
        },
        "id": "qJHyQQpkUpYL",
        "outputId": "b967578e-4bc4-4283-8a3f-ddfca2bee542"
      },
      "source": [
        "from google.colab import drive\n",
        "drive.mount('/content/drive')"
      ],
      "execution_count": null,
      "outputs": [
        {
          "output_type": "stream",
          "text": [
            "Mounted at /content/drive\n"
          ],
          "name": "stdout"
        }
      ]
    },
    {
      "cell_type": "code",
      "metadata": {
        "id": "z18apMRS7hjj"
      },
      "source": [
        "import pandas as pd\n",
        "df = pd.read_csv('/content/drive/MyDrive/thaisum.csv')\n",
        "val_df = pd.read_csv('/content/drive/MyDrive/validation_set.csv')\n",
        "test_df = pd.read_csv('/content/drive/MyDrive/test_set.csv')\n",
        "df = pd.concat([df, val_df, test_df], axis=0)"
      ],
      "execution_count": null,
      "outputs": []
    },
    {
      "cell_type": "code",
      "metadata": {
        "id": "632hPyzh7llD",
        "colab": {
          "base_uri": "https://localhost:8080/"
        },
        "outputId": "f8a5a4db-445d-456e-a41d-c6353c9ffb22"
      },
      "source": [
        "data_test = df['body'][369868:380868].tolist()\n",
        "data_test[:3]"
      ],
      "execution_count": null,
      "outputs": [
        {
          "output_type": "execute_result",
          "data": {
            "text/plain": [
              "['พอไม่ได้ดังใจก็ร่างใหม่ แสลงชื่อสมชัยเดินหนี มีชัย ไม่ยี่หระเสียงค้านชงสูตรพิสดารเลือกตั้ง ส.ส. ประกาศ ผลช้าไปชั่วโมงสองชั่วโมงไม่เห็นเป็นไร แสลงหูชื่อ สมชัย ชิ่งหนีดื้อๆ พรเพชร ให้นายกฯ ตัดสินใจปลดล็อกพรรคการเมือง 34 สนช.ยื่นตีความต่อวาระให้ผู้ตรวจฯ ส่อขัด รธน. พท.ดาหน้าฉะ ซือแป๋ ใครแน่ดูถูกประชาชน สมคิด ซัดพูดย้อนแย้งไหลไปไหลมา ลั่น ไม่เคยกลัวในสนามเลือกตั้ง สมชัย กระแทกซ้ำเปิดช่องโกงสนั่นกันทั้งประเทศ ทนายปู มึนรถตู้รับจ้างถูกเล่นงาน ภูมิธรรม ดับกระแส พท.วางตัวผู้นำ ยันพรรคเหนียวแน่นไม่มีปีนเกลียว วิม แจงไม่ได้ล็อกเป้าแค่คน ชินวัตร บิ๊กตู่ รอรายงาน โกตี๋ ตายที่ลาว บิ๊กป้อม โบ้ยศพใครไม่รู้ ผบ.ทบ.ชี้ภาพตกแต่งกันได้ ครม.ตั้ง เลิศวิโรจน์ ขึ้นปลัดเกษตรฯ สุทธิพงษ์ อ.ส่งเสริมปกครองท้องถิ่น ประยุทธ์ รับ รมว.ต่างประเทศสหรัฐฯเยือนไทย ปัดไม่ได้โดนรังเกียจจากนานาชาติ ดอน ยังมั่นใจไปเยือนในปีนี้ แม้เสียงคัดค้านจากฝ่ายการเมืองต่อรูปแบบการเลือกตั้ง ส.ส. สูตรพิสดารของกรรมการร่างรัฐธรรมนูญ (กรธ.) ยังคงดังกระหึ่ม แต่นายมีชัย ฤชุพันธุ์ ประธาน กรธ. ยังคงยืนยันเดินหน้าต่อไป แม้การเลือกตั้งตามรูปแบบใหม่จะทำให้การประกาศผลล่าช้าไปบ้างก็ไม่เห็นเป็นอะไร เมื่อเวลา 13.45 น.วันที่ 8 ส.ค.ที่รัฐสภา นายมีชัย ฤชุพันธุ์ ประธานกรรมการร่างรัฐธรรมนูญ (กรธ.) กล่าวถึงกรณีนายอภิสิทธิ์ เวชชาชีวะ หัวหน้าพรรคประชาธิปัตย์ เสนอให้ใช้ชื่อหรือโลโก้พรรค โดยไม่ต้องมีเบอร์ในบัตรลงคะแนนว่า ถ้ามีที่ว่างสามารถใส่ได้ทั้งเบอร์ ชื่อ และโลโก้พรรค หากให้มีแต่ชื่อต้องนึกถึงคนไกลๆที่อ่านหนังสือไม่ออกด้วย แนวทาง กรธ.ทำให้การซื้อเสียงยากขึ้นอีกหน่อย แต่ไม่ได้บอกว่ามันจะหมดไป ไปตรวจสอบการเลือกตั้งของไทยทั้ง 27 ครั้งใช้มาแล้วทุกระบบ สงสัยนางสดศรี สัตยธรรม อดีตกรรมการการเลือกตั้ง (กกต.) คงเพิ่งเกิดจึงไม่รู้การกำหนดให้มีหมายเลขแตกต่างกันไป จะไม่มีปัญหาต่อการนับคะแนน เวลานับคะแนนก็เอามารวมกัน ใส่เข้าระบบคอมพิวเตอร์ประมวลผลออกมาให้เห็น เริ่มนับที่หน่วยเลือกตั้งแล้วนำมารวมที่เขตเลือกตั้ง และส่งมายังส่วนกลางอีกครั้ง ถ้าการประกาศผลต้องล่าช้าไปสักชั่วโมงสองชั่วโมง ไม่เห็นจะเป็นอะไร ผู้สื่อข่าวรายงานว่า ระหว่างการสัมภาษณ์ เมื่อผู้สื่อข่าวถามถึงความเห็นของนายสมชัย ศรีสุทธิยากร กกต. เกี่ยวกับปัญหาการนับคะแนนจากการแยกเบอร์ผู้สมัคร ส.ส.รายเขต นายมีชัยปฏิเสธที่จะตอบคำถามพร้อมเดินออกจากวงสัมภาษณ์ทันที ที่รัฐสภา นายพรเพชร วิชิตชลชัย ประธานสภานิติบัญญัติแห่งชาติ (สนช.) กล่าวว่า ได้ส่งร่าง พ.ร.บ.ประกอบรัฐธรรมนูญว่าด้วยพรรคการเมือง ให้ พล.อ.ประยุทธ์ จันทร์โอชา นายกรัฐมนตรีและหัวหน้า คสช.แล้ว เมื่อวันที่ 7 ส.ค. ส่วน คสช.จะยกเลิกคำสั่ง คสช. เกี่ยวกับการห้ามพรรคการเมืองดำเนินกิจกรรมทางการเมืองหรือไม่ เป็นเรื่องที่ คสช.จะพิจารณา ว่าคำสั่งดังกล่าวเป็นอุปสรรคต่อการที่พรรคการเมืองต้องดำเนินการตามกฎหมายพรรคการเมืองใหม่หรือไม่ เพราะคำสั่งเหล่านั้นยังคงอยู่ไม่ได้ยกเลิก แม้กฎหมายใหม่จะมีผลบังคับใช้ก็ตาม หากพรรคการเมืองเห็นว่าเป็นปัญหา ควรสะท้อนความเห็นไปยัง คสช.โดยตรง เพราะคำสั่งที่ออกมาต้องการให้สถานการณ์บ้านเมืองราบรื่น ดังนั้น คสช.ต้องพิจารณาว่าถึงเวลาที่จะยกเลิกหรือยัง ส่วนกรณีที่ กรธ.จะบัญญัติรูปแบบการเลือกตั้งใหม่ จากพรรคเดียวเบอร์เดียวมาเป็นการจับสลากในแต่ละพื้นที่ ไว้ในร่าง พ.ร.บ.ประกอบรัฐธรรมนูญว่าด้วยการเลือกตั้ง ส.ส.นั้น ยังเป็นเพียงความเห็นเบื้องต้น กรธ.คงฟังความเห็นรอบด้านว่า พรรคการเมืองและประชาชนจะว่าอย่างไร กรธ.มีสิทธิทบทวน เพราะยังไม่ได้เขียนกฎหมาย ส่วนที่มีเสียงท้วงติงเพราะเปลี่ยนแปลงไปจากที่เคยปฏิบัติ ในส่วนของ สนช.จะรอดูว่ามีการรับฟังความเห็นประชาชนตามรัฐธรรมนูญมาตรา 77 วรรค 2 หรือไม่ ยังไม่ขอวิจารณ์ นพ.เจตน์ ศิรธรานนท์ สมาชิก สนช.กล่าวว่า ตนพร้อมเพื่อน สนช.รวม 34 คน ได้เข้าชื่อยื่นหนังสือต่อประธาน สนช. ให้ยื่นศาลรัฐธรรมนูญตามรัฐธรรมนูญมาตรา 148 ขอให้วินิจฉัยว่าร่าง พ.ร.บ.ประกอบรัฐธรรมนูญว่าด้วยผู้ตรวจการแผ่นดิน ขัดต่อรัฐธรรมนูญหรือไม่ เนื่องจากมาตรา 56 บทเฉพาะกาล ที่ประชุม สนช.ได้แก้ไขในวาระ 2 และ 3 ให้ประธานและผู้ตรวจการแผ่นดินที่ดำรงตำแหน่งก่อนวันที่ พ.ร.บ.ฉบับนี้ใช้บังคับ อยู่จนครบวาระตาม พ.ร.บ.เดิม เราเห็นว่าตามรัฐธรรมนูญ ในบทเฉพาะกาลมาตรา 273 ให้การดำรงตำแหน่งต่อไปเป็นไปตามร่าง พ.ร.บ.ประกอบรัฐธรรมนูญดังกล่าวนั้น ไม่น่าจะหมายถึงอยู่จนครบวาระตาม พ.ร.บ.ผู้ตรวจการแผ่นดินฯ รวมทั้งไม่ได้ยกเว้นคุณสมบัติและลักษณะต้องห้ามไว้ จึงคิดว่าอาจขัดหรือแย้งรัฐธรรมนูญหรือไม่ ขณะที่นายชวลิต วิชยสุทธิ์ อดีตรองเลขาธิการพรรคเพื่อไทย กล่าวถึงกรณีนายมีชัย ฤชุพันธุ์ ประธาน กรธ. เตือนนักการเมืองอย่าดูถูกประชาชนกับระบบเลือกตั้งใหม่ ว่า ถามว่าใครกันแน่ดูถูกประชาชน ขอสรุปภาพรวมดังนี้ 1.ใครออกแบบระบบเลือกตั้งแบบจัดสรรปันส่วนผสม ที่มีเพียงประเทศไทยประเทศเดียวในโลกที่ใช้ เพราะหวังให้การเมืองอ่อนแอ ไม่มีเสถียรภาพ ไม่ฟังเสียงประชาชน ตั้งใจเปิดโอกาสให้คนนอกมาเป็นนายกรัฐมนตรี 2.ใครออกแบบให้ ส.ว.มาจากการสรรหาทั้งหมด สรรหาโดยใคร โดยพวกท่านใช่หรือไม่ ท่านก็เป็นหนึ่งใน คสช. ที่สำคัญ ส.ว.มีหน้าที่เลือกนายกฯ ด้วยระบบที่ไม่ปกตินี้จะพาประเทศชาติและประชาชนลงเหว ภายใต้ระบอบประชาธิปไตยจอมปลอม ไม่ว่าใครจะให้ความเห็นอย่างไรก็ไม่ฟังเหตุผล ไม่คิดถึงความเดือดร้อนประชาชน หวังเพียงอำนาจส่วนตนและพวกพ้องเท่านั้น ถ้าให้ความสำคัญกับประชาชน ทำไมออกแบบกติกาบ้านเมืองโดยละทิ้งประชาชน หากจะมีเสียงวิจารณ์ว่าทำงานรับใช้อำนาจนิยม เท่ากับละทิ้งดูถูกประชาชนหรือไม่ นายสมคิด เชื้อคง อดีต ส.ส.อุบลราชธานี พรรคเพื่อไทย กล่าวว่า การที่ กรธ.จะบัญญัติระบบเลือกตั้ง ส.ส.ใหม่ ให้จับสลากเบอร์ในแต่ละเขตนั้น ถือว่าขัดแย้งกับคำพูดที่ว่าอยากทำให้พรรคการเมืองเข้มแข็ง เป็นคำพูดที่ย้อนแย้งในตัวเอง สะท้อนให้เห็นว่ากฎหมายลูกแต่ละฉบับมีหลักการที่ไหลไปไหลมา แล้วแต่ความต้องการของผู้มีอำนาจหรือไม่ เมื่อก่อนมีวาทกรรมพรรคเทพพรรคมาร วันนี้มีคนดีคนไม่ดี ฝ่ายการเมืองถูกยัดเยียดความไม่ดี แต่อีกฝ่ายที่จะแต่งตั้ง 250 คน มีกฎหมายกำหนดกฎเกณฑ์ไม่ให้อยู่ในคอกเหมือนนักการเมือง ยกเว้นสารพัดกฎเกณฑ์ แม้แต่การเป็นข้าราชการประจำก็ยกเว้นให้ ปากก็อ้างสารพัดว่าเพื่อชาติบ้านเมือง หรือมองคนกลุ่มอื่นไม่รักชาติบ้านเมืองเหมือนพวกท่าน กี่ครั้งกี่กติกาที่พวกท่านออกมา ถ้าไม่ได้ดังใจกลุ่มพวกท่านก็จะออกกติกาใหม่เรื่อยไป อ้างว่าของเดิมมันแย่ มันซื้อเสียงได้ เขตเดียว เบอร์เดียวก็ทำมาแล้ว เขตใหญ่เรียงเบอร์ก็ทำมาแล้ว นี่จะให้ทำไพรมารีโหวต จะมากำหนดเบอร์แต่ละเขตอีก ไหนว่าไม่ให้ยึดติดตัวบุคคล ไหนอยากให้พรรคการเมืองเข้มแข็ง เอาเลยตามสบาย พวกผมไม่กลัวพวกคุณในสนามการเลือกตั้ง นายสมคิดกล่าว ผู้สื่อข่าวรายงานจากพรรคประชาธิปัตย์ว่า นายอภิสิทธิ์ เวชชาชีวะ หัวหน้าพรรคประชาธิปัตย์ และอดีตนายกรัฐมนตรี ได้เปิดกิจกรรมสอบถามความเห็นประชาชนผ่านระบบไลน์ ประเด็น โหวตบัตรเลือกตั้ง ผู้สมัครจากพรรคเดียวกันในแต่ละเขตเลือกตั้งทั้งประเทศควรจะ? หลังจากที่ กรธ.กำหนดเนื้อหาในร่าง พ.ร.บ.ประกอบรัฐธรรมนูญว่าด้วยการเลือกตั้ง ส.ส. แบบแยกเบอร์ แทนที่จะเป็นเบอร์เดียวกันทั่วประเทศเหมือนอดีต โดยนายอภิสิทธิ์เปิดให้ประชาชนเข้าไปลงคะแนนเลือกใน 3 คำตอบ คือ 1.ใช้หมายเลขเดียวกัน 2.ไม่จำเป็นต้องเป็นหมายเลขเดียวกัน และ 3.บัตรเลือกตั้งใส่เฉพาะชื่อผู้สมัครและโลโก้พรรค ไม่มีหมายเลข โดยจะเปิดให้โหวตถึงวันที่ 8 ส.ค. ก่อนหน้านี้ นายอภิสิทธิ์เสนอความเห็นว่า หาก กรธ.ต้องการแก้ปัญหาซื้อสิทธิขายเสียง ควรยกเลิกเบอร์ไปเลย ให้ใส่เฉพาะชื่อผู้สมัคร นามสกุล และโลโก้พรรค ที่สำนักงาน กกต. นายสมชัย ศรีสุทธิยากร กกต. กล่าวว่า รูปแบบการเลือกตั้ง ส.ส.ที่ กรธ.คิดขึ้น การเปลี่ยนแปลงครั้งนี้จะทำให้ประชาชนเกิดความสับสน แม้หลักการไม่ขัดต่อเจตนารมณ์รัฐธรรมนูญ ถ้าใช้บังคับ กกต.ก็สามารถปฏิบัติได้ แต่จะปฏิบัติได้ยาก แต่อาจมีปัญหาใน 3 ส่วน คือ 1.การจับสลากเพียงแค่จุดเดียว กกต.ต้องจัดชุดแยกดำเนินการใน 350 เขต หากเกิดกรณีปิดล้อมจับสลากไม่ได้จะเกิดปัญหา 2.การจัดพิมพ์บัตรเลือกตั้ง ยากควบคุมเรื่องคุณภาพ ต้องแยกพิมพ์แต่ละจังหวัดในโรงพิมพ์ท้องถิ่นเพื่อให้ทัน ผลคือจะมีบัตรปลอม นี่คือสิ่งที่ กกต.เป็นห่วงกลัวว่าจะเกิดการรั่วไหล เกิดการโกงกันทั้งประเทศ ยกเว้นว่าอยากทำให้โกงกันทั้งบ้านทั้งเมือง ก็ทำกระบวนการนี้ 3.การรวมคะแนน ปัญหาคือตรวจสอบของภาคประชาชน หรือองค์กรที่ร่วมตรวจสอบการเลือกตั้งจะทำได้ยาก คนที่บอกว่าทำแบบนี้แล้วการซื้อเสียงจะหมดไป ถ้าเกิดการซื้อเสียงมากกว่าเดิมกล้าพูดไหมว่าจะรับผิดชอบอย่างไร บ้านเมืองไม่ใช่ของเล่น ไม่ใช่อยากคิดอะไรเขียนอะไรใหม่ก็เอามาลองไปเรื่อย นายสมชัยกล่าวอีกว่า ที่ประชุม กกต.มีมติเห็นชอบขยายเวลาให้คณะอนุกรรมการสอบสวนข้อ เท็จจริงกรณี 9 รัฐมนตรี ที่ถูกร้องเรียนขาดคุณสมบัติในการดำรงตำแหน่งออกไปอีก 30 วัน นับแต่วันที่ 12 ส.ค.นี้ เพราะต้องรอข้อมูลให้ครบถ้วน และให้โอกาสรัฐมนตรีผู้ถูกกล่าวหาได้เข้าชี้แจง แต่คิดว่ากรอบเวลา 30 วันที่อนุกรรมการขอขยายมานี้จะไม่เพียงพอแต่ตามระเบียบแล้วจะขอขยายเวลาได้ครั้งละ 30 วันเท่านั้น วันเดียวกัน เวลา 09.00 น. ที่ทำเนียบรัฐบาล ก่อนการประชุมคณะรักษาความสงบแห่งชาติ (คสช.) และคณะรัฐมนตรี (ครม.) นางเพ็ญพักตร์ ศรีทอง เลขาธิการสภาสังคมสงเคราะห์แห่งประเทศไทย ในพระบรมราชูปถัมภ์ นำศิลปินดารา อาทิ นายพีรพัฒน์ สวัสดิ์มูล (พี สะเดิด) น.ส.สุรัตน์ติกานต์ พรรคเจริญ (เอิร์น เดอะสตาร์) และนายภูศิลป์ วารินรักษ์ (เต๋า) ร่วมรณรงค์ ประชาสัมพันธ์การจำหน่ายดอกมะลิงานวันแม่แห่งชาติประจำปี 2560 พร้อมกับติดเข็มกลัดดอกมะลิให้ พล.อ.ประยุทธ์ จันทร์โอชา นายกรัฐมนตรีและหัวหน้า คสช. และ ครม. พร้อมเชิญชวนคนไทยร่วมอุดหนุนผลิตภัณฑ์ดอกมะลิ โดยนายกฯกล่าวว่า วันแม่ รักแม่ให้มากๆ ขอบคุณที่ให้กำลังใจ เด็กๆถือเป็นผู้บริสุทธิ์ ทำอะไรให้คิดไปข้างหน้า ขอฝากภารกิจประเทศชาติกับทุกคน และให้กำลังใจซึ่งกันและกัน ต่อมา นพ.ธีระเกียรติ เจริญเศรษฐศิลป์ รมว.ศึกษาธิการ นำคณะเข้าพบนายกฯ เพื่อประชาสัมพันธ์โครงการผลิตสื่อการเรียนรู้และฝึกทักษะภาษาอังกฤษการสื่อสารเพื่อก้าวสู่อาชีพ (Echo VE) โดยสำนักงานคณะกรรมการการอาชีวศึกษาจัดทำแอพพลิเคชั่น EchoVE ใช้ได้กับโทรศัพท์ทั้งระบบแอนดรอยด์ และไอโอเอส เพื่อพัฒนาทักษะการฟัง พูด อ่าน เขียน ให้ผู้เรียนสายอาชีพมีทักษะภาษาอังกฤษเป็นที่ยอมรับในตลาดงาน จากนั้น พล.อ.ประยุทธ์ จันทร์โอชา นายกฯ แถลงภายหลังการประชุม ครม. ถึงข้อเสนอ กรธ.เตรียมบัญญัติให้ผู้สมัคร ส.ส.แบบเขตและแบบบัญชีรายชื่อ ไม่ใช้เบอร์เดียวกันเพื่อป้องกันการทุจริตซื้อเสียงว่า ยังอยู่ในขั้นตอนที่ กรธ.เสนอ ยังไม่มีความเห็นต้องรอฟังเมื่อเข้าสู่ขั้นตอนการพิจารณาของ สนช.ด้วย ตนให้สิทธิแก่แม่น้ำแต่ละสายทำงาน เป็นเรื่องที่จะทำงานร่วมกัน ต้องสร้างการรับรู้แก่ประชาชนตามรัฐธรรมนูญ เมื่อถามว่า แนวทางนี้จะลดการซื้อสิทธิ์ขายเสียงได้หรือไม่ พล.อ.ประยุทธ์ตอบว่า ไม่ได้อยู่ที่กฎหมายอย่างเดียว อยู่ที่ตัวคนด้วย ทั้งนักการเมือง พรรคการเมือง ประชาชนต้องไม่รับเงิน ปัญหาที่ผ่านมาทุกคนทราบดีอยู่แล้ว รับเงินแล้วประเทศได้อะไรนอกจากได้เงินมาเพียงเล็กน้อย ดังนั้นใครที่ให้เงินแสดงว่ามีเจตนาไม่บริสุทธิ์ เป็นพรรคการเมืองที่ไม่บริสุทธิ์ใจ อีกเรื่อง นายนรวิทย์ หล้าแหล่ง ทนายความ น.ส.ยิ่งลักษณ์ ชินวัตร อดีตนายกรัฐมนตรี คดีรับจำนำข้าว กล่าวถึงกรณีเจ้าหน้าที่ตำรวจดำเนินคดีกับผู้ประกอบการรถตู้สาธารณะที่รับจ้างประชาชนเดินทางมาให้กำลังใจ น.ส.ยิ่งลักษณ์ ในวันแถลงปิดคดีด้วยวาจาเมื่อวันที่ 1 ส.ค. ว่า ไม่รู้จักกับผู้ประกอบ การรถตู้ดังกล่าว ไม่รู้รายละเอียดข้อกล่าวหา ทราบแต่เพียงที่เป็นข่าว แต่มองว่ารถตู้รับจ้างที่ไม่ใช่รถประจำทาง สามารถวิ่งรับจ้างได้ทั่วไป เขาคงมีทนายความชี้แจงข้อเท็จจริง แต่ประเด็นสำคัญอยากให้ดูที่เจตนา ประชาชนที่มาให้กำลังใจ น.ส.ยิ่งลักษณ์ ไม่ได้มาชุมนุมสร้างความวุ่นวาย จึงไม่ทราบที่มาของการแจ้งข้อกล่าวหา เรื่องนี้เจ้าหน้าที่ปฏิบัติต้องระมัดระวังด้วย ส่วนการเตรียมพร้อมส่งคำแถลงปิดคดีด้วยลายลักษณ์อักษรคดีจำนำข้าวนั้น ทีมทนายความเตรียมการกันอยู่ โดยเตรียมข้อโต้แย้งพยานหลักฐานของโจทก์ทุกประเด็น ยืนยันจะส่งให้ศาลได้ภายในวันที่ 15 ส.ค. นายภูมิธรรม เวชยชัย เลขาธิการพรรคเพื่อไทย กล่าวว่า อ่านข่าวที่ระบุว่าพรรคเพื่อไทยเตรียมวางตัวหัวหน้าพรรคคนใหม่แล้ว ประหลาดใจว่าข่าวมาได้อย่างไร ยืนยันว่าไม่เป็นความจริง วันนี้พรรคเพื่อไทยยังอยู่ภายใต้การควบคุมของคำสั่ง คสช. ตั้งแต่มีการรัฐประหารพรรคต้องเผชิญกับภาวะถูกกระทำ มีข้อจำกัดต้องรับภาระจากคดีความต่างๆที่ฝ่ายผู้มีอำนาจมอบให้ เวลาส่วนใหญ่จึงอยู่ในสภาพต่อสู้กับคดี โดยเฉพาะ น.ส.ยิ่งลักษณ์ ชินวัตร แทบไม่มีเวลาสนใจกับเรื่องอื่น ยืนยันว่าไม่ได้เข้ามายุ่งเกี่ยวกับการบริหารจัดการภายในพรรคเลย ข้อมูลที่ระบุจะผลักดันนางมณฑาทิพย์ โกวิทเจริญกุล พี่สาวขึ้นมาเป็นหัวหน้าพรรคนั้นไม่เป็นความจริง จากที่รู้จักและมีโอกาสได้คุย นางมณฑาทิพย์ยืนยันว่าไม่ประสงค์และไม่เคยสนใจเข้ามาเกี่ยวข้องกับเรื่องการเมืองเลย นายภูมิธรรมกล่าวต่อว่า ส่วนกระแสข่าวว่านายสมชาย วงศ์สวัสดิ์ อดีตนายกฯ และคุณหญิงสุดารัตน์ เกยุราพันธุ์ แกนนำพรรคเพื่อไทย จะเข้ามาเป็นหัวหน้าพรรค จนเกิดกระแสข่าวความขัดแย้งในพรรคนั้น ยืนยันพรรคเพื่อไทยยังมีความสามัคคีภายในแนบแน่น ยังเร็วเกินไปที่จะพูดเรื่องนี้ ยืนยันว่าพรรคเพื่อไทยมีบุคลากรคุณภาพจำนวนมาก พร้อมรับภาระหน้าที่นำพาพรรครับใช้ประชาชน และขึ้นอยู่กับสถานการณ์ขณะนั้นว่าต้องการคุณสมบัติผู้นำเช่นไร เราพร้อมสนับสนุนคนที่มีคุณสมบัติเหมาะกับสถานการณ์ นายวิม รุ่งวัฒนจินดา หนึ่งในทีมงานของ น.ส.ยิ่งลักษณ์กล่าวว่า ยืนยันว่ากระแสข่าวที่เกิดขึ้นไม่เป็นความจริง ตั้งแต่ถูกรัฐประหารมา น.ส.ยิ่งลักษณ์มุ่งแต่เรื่องต่อสู้คดีรับจำนำข้าว ไม่ได้เข้าไปมีส่วนในกิจกรรมทางการเมืองของพรรค นอกจากนี้ นางมณฑาทิพย์ไม่สนใจการเมือง ใช้ชีวิตแบบเรียบง่ายเป็นแม่บ้าน ไม่เอาตัวเองมายุ่งเกี่ยวการเมืองที่วุ่นวายแน่ ทั้งนี้ ผู้นำพรรคต้องเป็นที่ยอมรับของพี่น้องประชาชน ไม่ใช่ตระกูลชินวัตรจะเป็นผู้กำหนด ที่พรรคเพื่อไทย นายวัฒนา เมืองสุข อดีต รมว.พาณิชย์ และแกนนำพรรคเพื่อไทย แถลงว่า หลังเข้าพบพนักงานสอบสวน บก.ปอท. พร้อมทนายความ มาทราบภายหลังว่า คสช.ต้องการให้พนักงานสอบสวนนำตนไปขออำนาจศาลฝากขัง และจะคัดค้านการประกันตัว เรื่องนี้ถือเป็นการสร้างมาตรฐานใหม่ เมื่อแสดงความเห็นไม่ถูกใจผู้มีอำนาจจะกลายเป็นความผิด โดยใช้คำว่าความมั่นคงเป็นข้ออ้าง โดยเฉพาะผู้ที่ได้รับมอบอำนาจจาก คสช.ให้มาร้องทุกข์กล่าวโทษตน กลับมีพฤติกรรมแทรกแซงการทำงานพนักงานสอบสวน มีการดำเนินการที่ผิดไปจากกฎหมายและแนวทางปฏิบัติ มีเจตนาจะเอาตัวตนไปศาลให้ได้ พฤติการณ์ที่เห็นถ้า พล.อ.ประยุทธ์อยากเอาใครเข้าคุก ก็ต้องเป็นไปตามนั้น คำสั่ง พล.อ.ประยุทธ์กลายเป็นกฎหมายไปแล้วหรือ จะปล่อยให้เป็นแบบนี้หรือ การที่ พล.อ.ประยุทธ์ระบุว่าถูกแบล็กลิสต์ห้ามเดินทางไปต่างประเทศ แสดงว่าเขาไม่ให้การยอมรับ แต่ยังไม่รู้ตัว เป็นเรื่องน่าอับอายที่ผู้นำของเราไปต่างประเทศไปเจรจาไม่ได้ ที่ทำเนียบรัฐบาล พล.อ.ประยุทธ์ จันทร์โอชา นายกฯ แถลงภายหลังประชุม ครม. ถึงภาพข่าวว่านายวุฒิพงศ์ กชธรรมคุณ หรือโกตี๋ ผู้ต้องหาตามประมวลกฎหมายอาญามาตรา 112 เสียชีวิตในสาธารณรัฐประชาธิปไตยประชาชนลาว (สปป.ลาว) ว่า ได้เห็นภาพแล้ว แต่ยังไม่มีใครรายงานเข้ามา ไม่ทราบว่าเป็นภาพถ่ายจากที่ใด และการประชุม คสช.วันนี้ มีการรายงานสถานการณ์ทางการเมืองเน้นที่การประเมินสถานการณ์ด้านความมั่นคง ทั้งการเตรียมความพร้อมในงานพระราชพิธีถวายพระเพลิงพระบรมศพรัชกาลที่ 9 ต้องรักษาสถานการณ์และเสถียรภาพรัฐบาลให้ได้ ให้ทุกคนปฏิบัติตามกฎหมาย ขอฝากเตือนทุกกลุ่มทุกพวกด้วยอย่าทำผิดกฎหมาย พล.อ.ประวิตร วงษ์สุวรรณ รองนายกรัฐมนตรีและ รมว.กลาโหม กล่าวถึงมาตรการเพิ่มเติมในการ รับมือมวลชนที่จะเดินทางมาให้กำลังใจ น.ส.ยิ่งลักษณ์ ชินวัตร อดีตนายกรัฐมนตรี ในวันที่ 25 ส.ค. เพื่อฟังคำตัดสินคดีรับจำนำข้าว หลังจากมีการตรวจสอบเรื่องรถตู้ที่ขนคนมา ว่าไม่มีมาตรการอื่นเพิ่มเติม บอกไปแล้วว่า ไม่ต้องมา จะมาทำไม คงไม่ต้องประชุมประเมินสถานการณ์อะไร ส่วนที่ ผบ.ทบ.บอกว่าจะมีการประชุมเพื่อประเมินสถานการณ์นั้น ผบ.ทบ.เขาประชุม ตนไม่ได้ประชุมกับเขา ส่วนข่าวการเสียชีวิตของนายวุฒิพงศ์ กชธรรมคุณ หรือโกตี๋ ที่มีภาพว่าพบศพแล้วนั้น ยังไม่ทราบ ยังไม่ได้ประสานไปยัง สปป.ลาว ศพที่เห็นเป็นศพใครก็ไม่รู้ และเราไม่รู้ว่าจะตามยังไง นายวุฒิพงศ์อยู่ที่นั่นจริงหรือไม่ หรือไปเสียชีวิตที่นั่นหรือไม่ ก็ไม่รู้ แต่เรายังตามตัวอยู่ ก็ยังไม่พบ เท่าที่เจ้าหน้าที่ประสานกับทางการลาว ก็ไม่รายงานอะไรเข้ามา เขาบอกว่าไม่รู้เรื่องเช่นกัน ที่กองบัญชาการกองทัพบก (บก.ทบ.) พล.อ.เฉลิมชัย สิทธิสาท ผบ.ทบ. ในฐานะเลขาธิการ คสช. กล่าวถึงการประชุม คสช. ว่า นายกฯยังไม่ได้กำชับอะไรเป็นพิเศษ อยู่ระหว่างประเมินสถานการณ์ที่จะมีมวลชนเดินทางมาให้กำลังใจ น.ส.ยิ่งลักษณ์ ชินวัตร อดีตนายกฯ ช่วงสัปดาห์หน้าจะเชิญหน่วยงานที่ดูแลด้านความปลอดภัยเข้าประชุม เพื่อกำหนดแนวทาง คิดว่าจะมอบหมายให้เจ้าหน้าที่ตำรวจดูแลเป็นหลัก เหมือนทุกครั้งที่ผ่านมา มองว่าไม่น่าห่วงใยอะไรมากนัก และเจ้าหน้าที่มีการตรวจสอบการเช่าเหมารถตู้มาให้กำลังใจอยู่ สิ่งใดที่เป็นเรื่องผิดกฎหมายต้องตรวจสอบ และติดตามเพื่อดำเนินการตามกฎหมาย บอกแล้วถ้ามาโดยมีเจตนาบริสุทธิ์ใจเพื่อให้กำลังใจ ก็ไม่มีปัญหา แต่ถ้ามีกระบวนการยุยงปลุกปั่นเป็นเรื่องที่ทำไม่ได้ และไม่สมควร หน่วยงานด้านการข่าวทำงานอยู่ตลอดเวลาเพื่อประเมินสถานการณ์ แต่คิดว่าไม่มีอะไรมาก หากคนมามากแล้วเรียบร้อย ดีกว่าคนมาน้อยแต่วุ่นวาย เมื่อถามถึงกรณีมีภาพปรากฏทางโซเชียลมีเดีย มีชายสวมเสื้อสีแดงเสียชีวิตที่ สปป.ลาว คาดว่าเป็นนายวุฒิพงศ์ กชธรรมคุณ หรือโกตี๋ พล.อ.เฉลิมชัยตอบว่า ยังไม่เห็นภาพจึงไม่กล้าวิจารณ์ว่าใช่หรือไม่ใช่ อีกทั้งเหตุไม่ได้เกิดขึ้นในประเทศไทย จึงเป็นเรื่องที่ยากที่จะยืนยัน อย่างไรก็ตามภาพเหล่านี้สามารถตัดต่อ ตกแต่งและดึงมาจากที่ไหนก็ได้ ไม่อยากให้เป็นประเด็น เพราะไม่ทราบจริงๆ ส่วนทางผู้ช่วยทูตทหารประจำประเทศลาวได้ติดตามงานข่าวอยู่ เพียงแต่ยังไม่มีข้อมูลเพิ่มเติม ได้รับทราบตามข้อมูลข่าวเท่านั้น แต่เชื่อว่าไม่มีผลอะไร พล.อ.ทวีป เนตรนิยม เลขาธิการสภาความมั่นคงแห่งชาติ (สมช.) ว่า ยังไม่มีการยืนยันเรื่องของนายโกตี๋ ตราบใดที่ไม่มีอะไรยืนยันมาเรายังต้องสืบหาต่อไป ภาพบางภาพที่มาที่ไปอาจมีการตกแต่ง หรือทำอะไรขึ้นมาก็ได้ ต้องระวังอย่าเพิ่งเชื่อในสิ่งที่เห็น ต้องพิสูจน์ให้ได้ เมื่อถามว่าสมมติฐานเรื่องความขัดแย้งในกลุ่มเสื้อแดงกันเองยังใช้ได้หรือไม่ พล.อ.ทวีปตอบว่า ในกลุ่มคนเสื้อแดงกันเองยังมีอุดมการณ์ไม่เหมือนกัน บางคนก็รุนแรง แต่บางคนก็บอกว่าไม่ควรทำอะไรรุนแรงขนาดนั้น ที่ศาลอาญา พล.ต.จำลอง ศรีเมือง อดีตแกนนำพันธมิตรประชาชนเพื่อประชาธิปไตย (พธม.)\\xa0กล่าวถึงกรณีกลุ่มพันธมิตรฯ ยื่นเรื่องให้คณะกรรมการป้องกันและปราบปรามการทุจริตแห่งชาติ (ป.ป.ช.) ยื่นอุทธรณ์ในคดีการสลายชุมนุมเมื่อปี 2551 ว่า ผลจะออกมาประการใดแล้วแต่ศาล เมื่อถามถึงกรณีแนวร่วมประชาธิปไตยต่อต้านเผด็จการแห่งชาติ (นปช.) เรียกร้องให้ ป.ป.ช.สั่งฟ้องคดีสลายการชุมนุมของ นปช.ด้วย พล.ต.จำลองตอบว่า ใครจะทำอะไรก็ทำ ยืนยันพร้อมรับฟังและปฏิบัติตามคำพิพากษาทุกประการ ไม่ว่าจะออกมาหนักหรือเบา หากเราเคารพกฎหมายบ้านเมือง ทุกอย่างก็จะดำเนินไปได้ด้วยดี นายมีชัย ฤชุพันธุ์ ประธาน กรธ. กล่าวว่า ต้องดูว่าถ้า ป.ป.ช.ไม่ยื่นอุทธรณ์โดยไม่สุจริต ประชาชนสามารถใช้สิทธิตามรัฐธรรมนูญ ด้วยการเข้าชื่อส่งไปยังประธานรัฐสภา เพื่อเสนอเรื่องไปยังประธานศาลฎีกาให้ตั้งคณะผู้ไต่สวนอิสระได้ แต่การร้องเรียนนั้นต้องมีหลักฐานที่ชัดเจน ไม่ได้เป็นการกล่าวหาลอยๆ ที่ทำเนียบรัฐบาล พ.อ.หญิงทักษดา สังขจันทร์ ผู้ช่วยโฆษกประจำสำนักนายกรัฐมนตรี แถลงว่า ที่ประชุม ครม.อนุมัติแต่งตั้งข้าราชการกระทรวงต่างๆ อาทิ นายเลิศวิโรจน์ โกวัฒนะ เป็นปลัดกระทรวงเกษตรและสหกรณ์ น.ส.บรรจงจิตต์ อังศุสิงห์ เป็นรองปลัดกระทรวงพาณิชย์ นางกุลณี อิศดิศัย เป็นอธิบดีกรมพัฒนาธุรกิจการค้า นายบุณยฤทธิ์ กัลยาณมิตร เป็นอธิบดีการค้าภายใน นางจันทิรา ยิมเรวัต วิวัฒน์รัตน์ เป็นอธิบดีกรมส่งเสริมการค้าระหว่างประเทศ นายสุทธิพงษ์ จุลเจริญ เป็นอธิบดีกรมส่งเสริมการปกครองท้องถิ่น นายบุญธรรม เลิศสุขีเกษม เป็นรองปลัดกระทรวงฯ นายเกียรติศักดิ์ จันทรา เป็นผู้ตรวจราชการกระทรวงฯ นายสมชาย วิทย์ดำรง ผวจ.ฉะเชิงเทรา เป็น ผวจ.นครพนม\\xa0นายสุวิทย์ คำดี ผวจ.กาฬสินธุ์ เป็น ผวจ.ฉะเชิงเทรา พ.อ.อธิสิทธิ์ ไชยนุวัติ ผู้ช่วยโฆษกประจำสำนักนายกรัฐมนตรี แถลงว่า ที่ประชุมร่วม คสช. จะมีการออกคำสั่งหัวหน้า คสช. 3 ฉบับ คือ 1.เกี่ยวกับการให้อำนาจสถาบันอุดมศึกษา เพื่อ ให้อำนาจสถาบันอุดมศึกษาแต่งตั้งบุคคลที่อาจไม่ได้เป็นข้าราชการพลเรือนมาดำรงตำแหน่งอธิการบดี รองอธิการบดี ผู้ช่วยอธิการบดี คณบดี หรือหัวหน้าหน่วยงานต่างๆ 2.การเพิ่มประสิทธิภาพในการป้องกันและปราบปรามการฟอกเงิน เพื่อปรับปรุงแก้ไของค์ประกอบขอบเขตอำนาจหน้าที่ของ ปปง. และ 3.แนวคิดการรวมหน่วยงานบริหารจัดการน้ำของรัฐบาล เพื่อรวมหน่วยงานบริหารจัดการน้ำของภาครัฐทั้งหมดเข้าด้วยกัน และต้องการแก้ปัญหาน้ำอย่างยั่งยืน โดยจัดตั้งเป็นสำนักงานทรัพยากรน้ำแห่งชาติ ขึ้นตรงกับสำนักนายกรัฐมนตรี ภายใต้การบังคับบัญชาของนายกรัฐมนตรี ชี้แจงรายละเอียดสำหรับบุคลากรจากหน่วยงานที่เกี่ยวข้องที่ต้องมีการโยกย้ายมายังสำนักดังกล่าว โดยสำนักงานคณะกรรมการพัฒนาระบบราชการ (กพร.) และจะออกเป็นคำสั่ง คสช.ต่อไป ช่วงบ่ายวันเดียวกันที่ห้องสีงาช้าง ตึกไทยคู่ฟ้า ทำเนียบรัฐบาล นายเร็กซ์ เวย์น ทิลเลอร์สัน รมว.ต่างประเทศสหรัฐอเมริกา เข้าเยี่ยมคารวะ พล.อ.ประยุทธ์ จันทร์โอชา นายกฯและหัวหน้า คสช. ต่อมา พล.ท.วีรชน สุคนธปฏิภาค รองโฆษกประจำสำนักนายกรัฐมนตรี กล่าวว่า นายเร็กซ์ เวย์น ทิลเลอร์สัน ได้ร่วมลงนามในสมุดแสดงความอาลัยต่อการสวรรคตของพระบาทสมเด็จพระปรมินทรมหาภูมิพลอดุลยเดช บรมนาถบพิตร สะท้อนถึงความผูกพันและความสัมพันธ์ที่แน่นแฟ้น ซึ่งนายกฯย้ำว่าไทยให้ความสำคัญและเห็นสหรัฐฯมีบทบาทมากในประชาคมโลก ทั้งในเรื่องความมั่นคง การค้ามนุษย์ ก่อการร้าย อาชญากรรมข้ามชาติ นอกจากนี้ ทั้ง 2 ฝ่าย เห็นพ้องความร่วมมือด้านเศรษฐกิจ และความสัมพันธ์ระหว่างประชาชน พล.อ.ประยุทธ์กล่าวถึงความคืบหน้าการเดินทางเยือนสหรัฐอเมริกาอย่างเป็นทางการตามคำเชิญของนายโดนัลด์ ทรัมป์ ประธานาธิบดีสหรัฐอเมริกา ว่า เบื้องต้นตนจะเดินทางไปเยือนสหรัฐฯในเดือน ต.ค.นี้ ทางนายโดนัลด์ ทรัมป์ ไม่ได้ตั้งเงื่อนไขอะไร เราแสดงชัดเจนไปแล้วว่าปฏิบัติตามมติพันธะกรณีต่างๆของสหประชาชาติ ส่วนกรณีที่ตนพูดว่ามีบางประเทศไม่เชิญไปเยือนนั้น มี 2 อย่าง ถ้าเป็นเรื่องการประชุมเวทีนานาชาติตนเดินทางไปหมด แต่การเยือนอย่างเป็นทางการไปไม่ได้ เพราะเป็นผู้นำรัฐบาลแบบนี้ คนละประเด็นกัน ไม่ใช่ว่าเขารังเกียจอะไร แต่กฎหมายเขาเป็นอย่างนั้น วันข้างหน้าที่ทุกอย่างจะกลับมาเป็นปกติ',\n",
              " 'กีเก ซานเชซ ฟลอเรส\\xa0 กุนซือเลือดกระทิงของทีมวัตฟอร์ด\\xa0 เมินประเด็นจุดโทษปัญหาในเกมพรีเมียร์ลีก อังกฤษ นัดที่แตนอาละวาดเปิดบ้านพ่าย คริสตัล พาเลซ 0-1ชี้ทีมของเขาเล่นไม่ดีพอเอง สำนักข่าวต่างประเทศรายงานวันที่ 27 ก.ย. ว่า กีเก ซานเชซ ฟลอเรส\\xa0 ผู้จัดการทีมชาวสเปน ของ แตนอาละวาด วัตฟอร์ด\\xa0 ยอมรับทีมของเขาเล่นได้ไม่ดีพอเอง ในเกมพรีเมียร์ลีก อังกฤษ นัดเปิดบ้านพ่าย อินทรีผงาด คริสตัล พาเลซ 0-1 เมื่อคืนวันอาทิตย์ที่ผ่านมา เกมนี้จุดเปลี่ยนมาอยู่ที่การได้จุดโทษในช่วงครึ่งหลังของ คริสตัล พาเลซ ซึ่งไม่ค่อยชัดเจนเท่าไหร่ว่า อัลลัน นียอม นั้นไปทำฟาล์วใส่ วิลฟรีด ซาฮา ในเขตโทษหรือไม่ แต่ผู้ตัดสินก็ชี้เป็นจุดโทษ ซึ่ง โยอัน กาบาย สังหารไม่พลาด และเป็นประตูชัยช่วยให้ คริสตัล พาเลซ เอาชนะ วัตฟอร์ด ไป 1-0 และเป็นการพ่ายแพ้ในบ้านนัดแรกของวัตฟอร์ดในฤดูกาลนี้อีกด้วย ฟลอเรส กล่าวว่า มันเป็นเรื่องยากในการหยุดเกมรุกของคริสตัล พาเลซ ซึ่งมันอึดอัดจริงๆสำหรับเรา เราเล่นกันได้ไม่ดีนักในตอนที่ได้ครองบอล เราต้องเล่นทางริมเส้นให้มากกว่านี้ เราไม่สามารถหยุดเกมสวนกลับของพวกเขาได้ และแนวรับของเราก็ยืนไม่เป็นระเบียบสักเท่าไหร่ในช่วงครึ่งแรก ส่วนเรื่องจุดโทษการตัดสินใจขั้นสุดท้ายมันอยู่ที่ผู้ตัดสิน ซึ่งมันเป็นการตัดสินใจที่สำคัญ ผมเองก็ไม่รู้ว่าเขาตัดสินถูกหรือเปล่า บางทีมันอาจเป็นจุดที่ตัดสินเกมนี้เลย แต่เราไม่ได้แพ้เกมนี้เพราะจุดโทษ เราแพ้ในวันนี้เพราะเราเล่นไม่ดีและคริสตัล พาเลซ เล่นดีกว่าเรา เราไม่ได้มีฟอร์มการเล่นที่ดีในเกมนี้เลย',\n",
              " 'ตาย30-เจ็บ400 เส้นทางตัดขาด เข้าช่วยลำบาก เนปาลระทึก หลังเกิดพายุฝนฟ้าคะนองถล่มทางใต้ สร้างความเสียหายหลายหมู่บ้าน เบื้องต้นพบผู้เสียชีวิตแล้ว 30 ศพ บาดเจ็บ 400 ราย ระบบสาธารณูปโภคพังพินาศ ทางการเร่งระดมเจ้าหน้าที่ตำรวจ ทหารและหน่วยกู้ภัยเข้าช่วยเหลือเป็นการด่วน แต่บางจุดยังเข้าถึงยาก เหตุเส้นทางคมนาคมถูกตัดขาด เจอทั้งเสาไฟ ต้นไม้ล้มพาดขวาง สำนักข่าวต่างประเทศรายงานเหตุภัยพิบัติจากธรรมชาติที่เกิดขึ้นในประเทศเนปาลสร้างความสูญเสียทั้งชีวิตและทรัพย์สิน ว่า เมื่อคืนอาทิตย์ที่ 31 มี.ค.ตามเวลาท้องถิ่น เกิดพายุฝนฟ้าคะนองพัดถล่มในหลายหมู่บ้าน ซึ่งส่วนใหญ่เป็นพื้นที่ทางการเกษตร ที่เมืองบาราและเมืองปารสา ซึ่งห่างจากกรุงกาฐมาณฑุ เมืองหลวงของเนปาล ไปทางใต้ราว 120 กม. และต่อมาเมื่อวันที่ 1 เม.ย. โฆษกประจำกองทัพเนปาล เปิดเผยกับสำนักข่าวเอเอ็นไอของอินเดีย ถึงความเสียหายที่เกิดจากเหตุพายุพัดถล่ม ว่า พบผู้เสียชีวิต 30 ศพ ส่วนใหญ่อยู่ในพื้นที่ทางตอนใต้ และมีได้รับบาดเจ็บประมาณ 400 ราย ทั้งนี้ ทางการจัดเฮลิคอปเตอร์ MI 17 จำนวน 2 ลำเตรียมพร้อมรอปฏิบัติการ ส่วนเครื่องบินสกายทรัก ก็เตรียมพร้อมอยู่ที่เมืองสิมารา รวมถึงมีการส่งทหารกว่า 100 นาย ลงพื้นที่ปฏิบัติการช่วยเหลือและบรรเทาทุกข์ผู้ประสบภัยแล้ว อย่างไรก็ดี คาดว่ายอดผู้เสียชีวิตอาจเพิ่มขึ้นอีก โดยเฉพาะที่เมืองบาราเนื่องจากได้รับความเสียหายจากพายุที่พัดถล่มอย่างรุนแรง ส่งผลให้ระบบสาธารณูปโภคพังพินาศ ทั้งถนน เสาไฟฟ้า และเสาส่งสัญญาณโทรศัพท์ในหลายพื้นที่หักโค่นเสียหายอย่างหนัก ขณะที่เจ้าหน้าที่พยายามใช้รถยนต์และรถตู้ ลำเลียงผู้บาดเจ็บไปส่งโรงพยาบาลอย่างโกลาหล ด้านนายกรัฐมนตรี คัดกา ปราสาด ชาร์ม โอลี แห่งเนปาล ทวีตข้อความผ่านสื่อโซเชียล แสดงความเสียใจต่อผู้ประสบภัยพิบัติจากพายุถล่ม ซึ่งมีผู้เสียชีวิตและบาดเจ็บจำนวนมาก บ้านเรือนพังเสียหาย ต้นไม้หักโค่น และเสาไฟฟ้าล้มระเนระนาด พร้อมกันนี้ กองกำลังรักษาความมั่นคงแห่งชาติก็เตรียมพร้อมตลอดเวลาที่จะเข้าไปให้การช่วยเหลือผู้ประสบภัย รวมถึงเฮลิคอปเตอร์กู้ภัยที่ต้องรอสภาพอากาศดีขึ้นกว่านี้ จึงจะสามารถเข้าไปช่วยนำผู้บาดเจ็บตามหมู่บ้านต่างๆ ไปส่งยังศูนย์อนามัยหรือตามโรงพยาบาลใกล้เคียง ขณะเดียวกัน นายราเชจ พูเดล เจ้าหน้าที่ระดับสูงของรัฐ เปิดเผยว่า ทั้งตำรวจทหารและเจ้าหน้าที่กู้ภัยกระจายกำลังไปรอบพื้นที่ เพื่อพยายามเข้าไปให้ถึงหมู่บ้านที่ได้รับความเสียหายแล้ว แต่ยอมรับสถานการณ์ขณะนี้เป็นไปด้วยความยากลำบากและมีอุปสรรค เพราะเหตุเกิดในช่วงกลางคืน ทางเข้าหมู่บ้านก็ถูกตัดขาด เพราะมีต้นไม้และเสาไฟฟ้าหักล้มกีดขวางเส้นทาง สื่อท้องถิ่นรายงานเพิ่มเติมเกี่ยวกับเหตุพายุถล่มครั้งนี้ว่า ผู้เสียชีวิตและผู้ได้รับบาดเจ็บ ซึ่งส่วนใหญ่ เป็นเกษตรกรชาวนา ถูกสิ่งของที่ปลิวว่อนไปกับกระแสลมพัดแรง ซึ่งมีทั้งต้นไม้ เสาไฟฟ้า แผ่นสังกะสีหลังคาบ้าน รวมถึงกระท่อมล้มทับใส่ อีกทั้งยังมีรถถูกลมแรงพัดจนพลิกคว่ำ และมีผู้โดยสารบนรถเมล์เสียชีวิตจากรถพลัดตกจากทางหลวง ทั้งนี้ เหตุพายุฝนฟ้าถล่มจนสร้างความเสียหายและสูญเสียจำนวนมากในช่วงฤดูนี้ ถือเป็นปรากฏการณ์ที่ไม่ค่อยเกิดขึ้นในเนปาล เพราะปกติพายุจะเข้าเนปาลช่วงฤดูใบไม้ผลิระหว่างเดือน เม.ย.-พ.ค.']"
            ]
          },
          "metadata": {
            "tags": []
          },
          "execution_count": 12
        }
      ]
    },
    {
      "cell_type": "code",
      "metadata": {
        "id": "3zWlEybo85GO"
      },
      "source": [
        "from tqdm import tqdm\n",
        "def segment_sent(data):\n",
        "  ret = []\n",
        "  for text in tqdm(data):\n",
        "    ret.append(sent_tokenize(text))\n",
        "  return ret"
      ],
      "execution_count": null,
      "outputs": []
    },
    {
      "cell_type": "code",
      "metadata": {
        "id": "N1gO-X5B9VDC",
        "colab": {
          "base_uri": "https://localhost:8080/"
        },
        "outputId": "23290247-f7a8-4042-e39b-b2e5d8f4d4bb"
      },
      "source": [
        "data_segmented_sentence = segment_sent(data_test)"
      ],
      "execution_count": null,
      "outputs": [
        {
          "output_type": "stream",
          "text": [
            "100%|██████████| 11000/11000 [09:15<00:00, 19.80it/s]\n"
          ],
          "name": "stderr"
        }
      ]
    },
    {
      "cell_type": "code",
      "metadata": {
        "id": "xbp7-l529nAQ",
        "colab": {
          "base_uri": "https://localhost:8080/"
        },
        "outputId": "d2de4217-0622-495c-fa24-50b354d86b30"
      },
      "source": [
        "data_segmented_sentence[:3]"
      ],
      "execution_count": null,
      "outputs": [
        {
          "output_type": "execute_result",
          "data": {
            "text/plain": [
              "[['พอไม่ได้ดังใจก็ร่างใหม่ ',\n",
              "  'แสลงชื่อสมชัยเดินหนี มีชัย ไม่ยี่หระเสียงค้านชงสูตรพิสดารเลือกตั้ง ส.ส. ประกาศ ',\n",
              "  'ผลช้าไปชั่วโมงสองชั่วโมงไม่เห็นเป็นไร แสลงหูชื่อ สมชัย ชิ่งหนีดื้อๆ พรเพชร ให้นายกฯ ตัดสินใจปลดล็อกพรรคการเมือง 34 สนช.ยื่นตีความต่อวาระให้ผู้ตรวจฯ ส่อขัด รธน. พท.ดาหน้าฉะ ซือแป๋ ใครแน่ดูถูกประชาชน ',\n",
              "  'สมคิด ซัดพูดย้อนแย้งไหลไปไหลมา ลั่น ไม่เคยกลัวในสนามเลือกตั้ง สมชัย กระแทกซ้ำเปิดช่องโกงสนั่นกันทั้งประเทศ ทนายปู มึนรถตู้รับจ้างถูกเล่นงาน ภูมิธรรม ดับกระแส พท.วางตัวผู้นำ ยันพรรคเหนียวแน่นไม่มีปีนเกลียว วิม ',\n",
              "  'แจงไม่ได้ล็อกเป้าแค่คน ชินวัตร บิ๊กตู่ รอรายงาน โกตี๋ ตายที่ลาว บิ๊กป้อม โบ้ยศพใครไม่รู้ ',\n",
              "  'ผบ.ทบ.ชี้ภาพตกแต่งกันได้ ',\n",
              "  'ครม.ตั้ง ',\n",
              "  'เลิศวิโรจน์ ขึ้นปลัดเกษตรฯ สุทธิพงษ์ ',\n",
              "  'อ.ส่งเสริมปกครองท้องถิ่น ประยุทธ์ รับ รมว.ต่างประเทศสหรัฐฯเยือนไทย ',\n",
              "  'ปัดไม่ได้โดนรังเกียจจากนานาชาติ ดอน ยังมั่นใจไปเยือนในปีนี้ ',\n",
              "  'แม้เสียงคัดค้านจากฝ่ายการเมืองต่อรูปแบบการเลือกตั้ง ส.ส. ',\n",
              "  'สูตรพิสดารของกรรมการร่างรัฐธรรมนูญ (กรธ.) ยังคงดังกระหึ่ม แต่นายมีชัย ฤชุพันธุ์ ',\n",
              "  'ประธาน กรธ. ',\n",
              "  'ยังคงยืนยันเดินหน้าต่อไป ',\n",
              "  'แม้การเลือกตั้งตามรูปแบบใหม่จะทำให้การประกาศผลล่าช้าไปบ้างก็ไม่เห็นเป็นอะไร ',\n",
              "  'เมื่อเวลา 13.45 น.วันที่ 8 ส.ค.ที่รัฐสภา ',\n",
              "  'นายมีชัย ฤชุพันธุ์ ประธานกรรมการร่างรัฐธรรมนูญ (กรธ.) กล่าวถึงกรณีนายอภิสิทธิ์ เวชชาชีวะ หัวหน้าพรรคประชาธิปัตย์ เสนอให้ใช้ชื่อหรือโลโก้พรรค โดยไม่ต้องมีเบอร์ในบัตรลงคะแนนว่า ถ้ามีที่ว่างสามารถใส่ได้ทั้งเบอร์ ชื่อ และโลโก้พรรค ',\n",
              "  'หากให้มีแต่ชื่อต้องนึกถึงคนไกลๆที่อ่านหนังสือไม่ออกด้วย แนวทาง กรธ.ทำให้การซื้อเสียงยากขึ้นอีกหน่อย แต่ไม่ได้บอกว่ามันจะหมดไป ',\n",
              "  'ไปตรวจสอบการเลือกตั้งของไทยทั้ง 27 ครั้งใช้มาแล้วทุกระบบ ',\n",
              "  'สงสัยนางสดศรี สัตยธรรม อดีตกรรมการการเลือกตั้ง (กกต.) คงเพิ่งเกิดจึงไม่รู้การกำหนดให้มีหมายเลขแตกต่างกันไป ',\n",
              "  'จะไม่มีปัญหาต่อการนับคะแนน ',\n",
              "  'เวลานับคะแนนก็เอามารวมกัน ',\n",
              "  'ใส่เข้าระบบคอมพิวเตอร์ประมวลผลออกมาให้เห็น เริ่มนับที่หน่วยเลือกตั้งแล้วนำมารวมที่เขตเลือกตั้ง และส่งมายังส่วนกลางอีกครั้ง ',\n",
              "  'ถ้าการประกาศผลต้องล่าช้าไปสักชั่วโมงสองชั่วโมง ',\n",
              "  'ไม่เห็นจะเป็นอะไร ',\n",
              "  'ผู้สื่อข่าวรายงานว่า ระหว่างการสัมภาษณ์ ',\n",
              "  'เมื่อผู้สื่อข่าวถามถึงความเห็นของนายสมชัย ศรีสุทธิยากร กกต. เกี่ยวกับปัญหาการนับคะแนนจากการแยกเบอร์ผู้สมัคร ส.ส.รายเขต ',\n",
              "  'นายมีชัยปฏิเสธที่จะตอบคำถามพร้อมเดินออกจากวงสัมภาษณ์ทันที ',\n",
              "  'ที่รัฐสภา ',\n",
              "  'นายพรเพชร วิชิตชลชัย ประธานสภานิติบัญญัติแห่งชาติ (สนช.) กล่าวว่า ได้ส่งร่าง พ.ร.บ.ประกอบรัฐธรรมนูญว่าด้วยพรรคการเมือง ให้ พล.อ.ประยุทธ์ จันทร์โอชา นายกรัฐมนตรีและหัวหน้า คสช.แล้ว เมื่อวันที่ 7 ส.ค. ส่วน คสช.จะยกเลิกคำสั่ง คสช. เกี่ยวกับการห้ามพรรคการเมืองดำเนินกิจกรรมทางการเมืองหรือไม่ ',\n",
              "  'เป็นเรื่องที่ คสช.จะพิจารณา ว่าคำสั่งดังกล่าวเป็นอุปสรรคต่อการที่พรรคการเมืองต้องดำเนินการตามกฎหมายพรรคการเมืองใหม่หรือไม่ ',\n",
              "  'เพราะคำสั่งเหล่านั้นยังคงอยู่ไม่ได้ยกเลิก ',\n",
              "  'แม้กฎหมายใหม่จะมีผลบังคับใช้ก็ตาม ',\n",
              "  'หากพรรคการเมืองเห็นว่าเป็นปัญหา ควรสะท้อนความเห็นไปยัง คสช.โดยตรง ',\n",
              "  'เพราะคำสั่งที่ออกมาต้องการให้สถานการณ์บ้านเมืองราบรื่น ',\n",
              "  'ดังนั้น คสช.ต้องพิจารณาว่าถึงเวลาที่จะยกเลิกหรือยัง ',\n",
              "  'ส่วนกรณีที่ กรธ.จะบัญญัติรูปแบบการเลือกตั้งใหม่ จากพรรคเดียวเบอร์เดียวมาเป็นการจับสลากในแต่ละพื้นที่ ไว้ในร่าง ',\n",
              "  'พ.ร.บ.ประกอบรัฐธรรมนูญว่าด้วยการเลือกตั้ง ',\n",
              "  'ส.ส.นั้น ',\n",
              "  'ยังเป็นเพียงความเห็นเบื้องต้น ',\n",
              "  'กรธ.คงฟังความเห็นรอบด้านว่า พรรคการเมืองและประชาชนจะว่าอย่างไร ',\n",
              "  'กรธ.มีสิทธิทบทวน ',\n",
              "  'เพราะยังไม่ได้เขียนกฎหมาย ',\n",
              "  'ส่วนที่มีเสียงท้วงติงเพราะเปลี่ยนแปลงไปจากที่เคยปฏิบัติ ',\n",
              "  'ในส่วนของ สนช.จะรอดูว่ามีการรับฟังความเห็นประชาชนตามรัฐธรรมนูญมาตรา 77 วรรค 2 หรือไม่ ',\n",
              "  'ยังไม่ขอวิจารณ์ นพ.เจตน์ ศิรธรานนท์ สมาชิก สนช.กล่าวว่า ตนพร้อมเพื่อน สนช.รวม 34 คน ได้เข้าชื่อยื่นหนังสือต่อประธาน สนช. ',\n",
              "  'ให้ยื่นศาลรัฐธรรมนูญตามรัฐธรรมนูญมาตรา 148 ขอให้วินิจฉัยว่าร่าง พ.ร.บ.ประกอบรัฐธรรมนูญว่าด้วยผู้ตรวจการแผ่นดิน ขัดต่อรัฐธรรมนูญหรือไม่ ',\n",
              "  'เนื่องจากมาตรา 56 บทเฉพาะกาล ที่ประชุม สนช.ได้แก้ไขในวาระ 2 และ 3 ให้ประธานและผู้ตรวจการแผ่นดินที่ดำรงตำแหน่งก่อนวันที่ พ.ร.บ.ฉบับนี้ใช้บังคับ อยู่จนครบวาระตาม พ.ร.บ.เดิม ',\n",
              "  'เราเห็นว่าตามรัฐธรรมนูญ ในบทเฉพาะกาลมาตรา 273 ให้การดำรงตำแหน่งต่อไปเป็นไปตามร่าง พ.ร.บ.ประกอบรัฐธรรมนูญดังกล่าวนั้น ไม่น่าจะหมายถึงอยู่จนครบวาระตาม พ.ร.บ.ผู้ตรวจการแผ่นดินฯ รวมทั้งไม่ได้ยกเว้นคุณสมบัติและลักษณะต้องห้ามไว้ ',\n",
              "  'จึงคิดว่าอาจขัดหรือแย้งรัฐธรรมนูญหรือไม่ ',\n",
              "  'ขณะที่นายชวลิต วิชยสุทธิ์ อดีตรองเลขาธิการพรรคเพื่อไทย ',\n",
              "  'กล่าวถึงกรณีนายมีชัย ฤชุพันธุ์ ',\n",
              "  'ประธาน กรธ. เตือนนักการเมืองอย่าดูถูกประชาชนกับระบบเลือกตั้งใหม่ ว่า ถามว่าใครกันแน่ดูถูกประชาชน ',\n",
              "  'ขอสรุปภาพรวมดังนี้ ',\n",
              "  '1.ใครออกแบบระบบเลือกตั้งแบบจัดสรรปันส่วนผสม ที่มีเพียงประเทศไทยประเทศเดียวในโลกที่ใช้ เพราะหวังให้การเมืองอ่อนแอ ',\n",
              "  'ไม่มีเสถียรภาพ ',\n",
              "  'ไม่ฟังเสียงประชาชน ตั้งใจเปิดโอกาสให้คนนอกมาเป็นนายกรัฐมนตรี 2.ใครออกแบบให้ ส.ว.มาจากการสรรหาทั้งหมด สรรหาโดยใคร ',\n",
              "  'โดยพวกท่านใช่หรือไม่ ',\n",
              "  'ท่านก็เป็นหนึ่งใน คสช. ที่สำคัญ ',\n",
              "  'ส.ว.มีหน้าที่เลือกนายกฯ ด้วยระบบที่ไม่ปกตินี้จะพาประเทศชาติและประชาชนลงเหว ภายใต้ระบอบประชาธิปไตยจอมปลอม ',\n",
              "  'ไม่ว่าใครจะให้ความเห็นอย่างไรก็ไม่ฟังเหตุผล ',\n",
              "  'ไม่คิดถึงความเดือดร้อนประชาชน ',\n",
              "  'หวังเพียงอำนาจส่วนตนและพวกพ้องเท่านั้น ',\n",
              "  'ถ้าให้ความสำคัญกับประชาชน ',\n",
              "  'ทำไมออกแบบกติกาบ้านเมืองโดยละทิ้งประชาชน ',\n",
              "  'หากจะมีเสียงวิจารณ์ว่าทำงานรับใช้อำนาจนิยม เท่ากับละทิ้งดูถูกประชาชนหรือไม่ ',\n",
              "  'นายสมคิด เชื้อคง อดีต ส.ส.อุบลราชธานี พรรคเพื่อไทย กล่าวว่า การที่ กรธ.จะบัญญัติระบบเลือกตั้ง ',\n",
              "  'ส.ส.ใหม่ ให้จับสลากเบอร์ในแต่ละเขตนั้น ถือว่าขัดแย้งกับคำพูดที่ว่าอยากทำให้พรรคการเมืองเข้มแข็ง เป็นคำพูดที่ย้อนแย้งในตัวเอง สะท้อนให้เห็นว่ากฎหมายลูกแต่ละฉบับมีหลักการที่ไหลไปไหลมา แล้วแต่ความต้องการของผู้มีอำนาจหรือไม่ ',\n",
              "  'เมื่อก่อนมีวาทกรรมพรรคเทพพรรคมาร ',\n",
              "  'วันนี้มีคนดีคนไม่ดี ',\n",
              "  'ฝ่ายการเมืองถูกยัดเยียดความไม่ดี แต่อีกฝ่ายที่จะแต่งตั้ง 250 คน ',\n",
              "  'มีกฎหมายกำหนดกฎเกณฑ์ไม่ให้อยู่ในคอกเหมือนนักการเมือง ยกเว้นสารพัดกฎเกณฑ์ ',\n",
              "  'แม้แต่การเป็นข้าราชการประจำก็ยกเว้นให้ ปากก็อ้างสารพัดว่าเพื่อชาติบ้านเมือง หรือมองคนกลุ่มอื่นไม่รักชาติบ้านเมืองเหมือนพวกท่าน กี่ครั้งกี่กติกาที่พวกท่านออกมา ',\n",
              "  'ถ้าไม่ได้ดังใจกลุ่มพวกท่านก็จะออกกติกาใหม่เรื่อยไป ',\n",
              "  'อ้างว่าของเดิมมันแย่ ',\n",
              "  'มันซื้อเสียงได้ ',\n",
              "  'เขตเดียว เบอร์เดียวก็ทำมาแล้ว ',\n",
              "  'เขตใหญ่เรียงเบอร์ก็ทำมาแล้ว ',\n",
              "  'นี่จะให้ทำไพรมารีโหวต จะมากำหนดเบอร์แต่ละเขตอีก ',\n",
              "  'ไหนว่าไม่ให้ยึดติดตัวบุคคล ไหนอยากให้พรรคการเมืองเข้มแข็ง เอาเลยตามสบาย ',\n",
              "  'พวกผมไม่กลัวพวกคุณในสนามการเลือกตั้ง ',\n",
              "  'นายสมคิดกล่าว ',\n",
              "  'ผู้สื่อข่าวรายงานจากพรรคประชาธิปัตย์ว่า นายอภิสิทธิ์ เวชชาชีวะ หัวหน้าพรรคประชาธิปัตย์ และอดีตนายกรัฐมนตรี ได้เปิดกิจกรรมสอบถามความเห็นประชาชนผ่านระบบไลน์ ประเด็น โหวตบัตรเลือกตั้ง ',\n",
              "  'ผู้สมัครจากพรรคเดียวกันในแต่ละเขตเลือกตั้งทั้งประเทศควรจะ? ',\n",
              "  'หลังจากที่ กรธ.กำหนดเนื้อหาในร่าง ',\n",
              "  'พ.ร.บ.ประกอบรัฐธรรมนูญว่าด้วยการเลือกตั้ง ส.ส. แบบแยกเบอร์ แทนที่จะเป็นเบอร์เดียวกันทั่วประเทศเหมือนอดีต ',\n",
              "  'โดยนายอภิสิทธิ์เปิดให้ประชาชนเข้าไปลงคะแนนเลือกใน 3 คำตอบ คือ 1.ใช้หมายเลขเดียวกัน ',\n",
              "  '2.ไม่จำเป็นต้องเป็นหมายเลขเดียวกัน ',\n",
              "  'และ 3.บัตรเลือกตั้งใส่เฉพาะชื่อผู้สมัครและโลโก้พรรค ',\n",
              "  'ไม่มีหมายเลข ',\n",
              "  'โดยจะเปิดให้โหวตถึงวันที่ 8 ส.ค. ก่อนหน้านี้ ',\n",
              "  'นายอภิสิทธิ์เสนอความเห็นว่า หาก กรธ.ต้องการแก้ปัญหาซื้อสิทธิขายเสียง ',\n",
              "  'ควรยกเลิกเบอร์ไปเลย ให้ใส่เฉพาะชื่อผู้สมัคร นามสกุล และโลโก้พรรค ที่สำนักงาน กกต. นายสมชัย ศรีสุทธิยากร กกต. กล่าวว่า รูปแบบการเลือกตั้ง ',\n",
              "  'ส.ส.ที่ กรธ.คิดขึ้น ',\n",
              "  'การเปลี่ยนแปลงครั้งนี้จะทำให้ประชาชนเกิดความสับสน ',\n",
              "  'แม้หลักการไม่ขัดต่อเจตนารมณ์รัฐธรรมนูญ ',\n",
              "  'ถ้าใช้บังคับ กกต.ก็สามารถปฏิบัติได้ แต่จะปฏิบัติได้ยาก แต่อาจมีปัญหาใน 3 ส่วน คือ 1.การจับสลากเพียงแค่จุดเดียว ',\n",
              "  'กกต.ต้องจัดชุดแยกดำเนินการใน 350 เขต หากเกิดกรณีปิดล้อมจับสลากไม่ได้จะเกิดปัญหา 2.การจัดพิมพ์บัตรเลือกตั้ง ',\n",
              "  'ยากควบคุมเรื่องคุณภาพ ',\n",
              "  'ต้องแยกพิมพ์แต่ละจังหวัดในโรงพิมพ์ท้องถิ่นเพื่อให้ทัน ',\n",
              "  'ผลคือจะมีบัตรปลอม ',\n",
              "  'นี่คือสิ่งที่ กกต.เป็นห่วงกลัวว่าจะเกิดการรั่วไหล เกิดการโกงกันทั้งประเทศ ยกเว้นว่าอยากทำให้โกงกันทั้งบ้านทั้งเมือง ก็ทำกระบวนการนี้ 3.การรวมคะแนน ',\n",
              "  'ปัญหาคือตรวจสอบของภาคประชาชน หรือองค์กรที่ร่วมตรวจสอบการเลือกตั้งจะทำได้ยาก ',\n",
              "  'คนที่บอกว่าทำแบบนี้แล้วการซื้อเสียงจะหมดไป ',\n",
              "  'ถ้าเกิดการซื้อเสียงมากกว่าเดิมกล้าพูดไหมว่าจะรับผิดชอบอย่างไร ',\n",
              "  'บ้านเมืองไม่ใช่ของเล่น ',\n",
              "  'ไม่ใช่อยากคิดอะไรเขียนอะไรใหม่ก็เอามาลองไปเรื่อย ',\n",
              "  'นายสมชัยกล่าวอีกว่า ที่ประชุม กกต.มีมติเห็นชอบขยายเวลาให้คณะอนุกรรมการสอบสวนข้อ ',\n",
              "  'เท็จจริงกรณี 9 รัฐมนตรี ที่ถูกร้องเรียนขาดคุณสมบัติในการดำรงตำแหน่งออกไปอีก 30 วัน ',\n",
              "  'นับแต่วันที่ 12 ส.ค.นี้ เพราะต้องรอข้อมูลให้ครบถ้วน และให้โอกาสรัฐมนตรีผู้ถูกกล่าวหาได้เข้าชี้แจง แต่คิดว่ากรอบเวลา 30 วันที่อนุกรรมการขอขยายมานี้จะไม่เพียงพอแต่ตามระเบียบแล้วจะขอขยายเวลาได้ครั้งละ 30 วันเท่านั้น ',\n",
              "  'วันเดียวกัน เวลา 09.00 น. ที่ทำเนียบรัฐบาล ก่อนการประชุมคณะรักษาความสงบแห่งชาติ (คสช.) และคณะรัฐมนตรี (ครม.) ',\n",
              "  'นางเพ็ญพักตร์ ศรีทอง เลขาธิการสภาสังคมสงเคราะห์แห่งประเทศไทย ',\n",
              "  'ในพระบรมราชูปถัมภ์ นำศิลปินดารา อาทิ นายพีรพัฒน์ สวัสดิ์มูล (พี สะเดิด) ',\n",
              "  'น.ส.สุรัตน์ติกานต์ พรรคเจริญ (เอิร์น เดอะสตาร์) และนายภูศิลป์ วารินรักษ์ (เต๋า) ร่วมรณรงค์ ',\n",
              "  'ประชาสัมพันธ์การจำหน่ายดอกมะลิงานวันแม่แห่งชาติประจำปี 2560 พร้อมกับติดเข็มกลัดดอกมะลิให้ พล.อ.ประยุทธ์ จันทร์โอชา นายกรัฐมนตรีและหัวหน้า คสช. และ ครม. พร้อมเชิญชวนคนไทยร่วมอุดหนุนผลิตภัณฑ์ดอกมะลิ โดยนายกฯกล่าวว่า วันแม่ ',\n",
              "  'รักแม่ให้มากๆ ',\n",
              "  'ขอบคุณที่ให้กำลังใจ เด็กๆถือเป็นผู้บริสุทธิ์ ทำอะไรให้คิดไปข้างหน้า ',\n",
              "  'ขอฝากภารกิจประเทศชาติกับทุกคน ',\n",
              "  'และให้กำลังใจซึ่งกันและกัน ',\n",
              "  'ต่อมา นพ.ธีระเกียรติ เจริญเศรษฐศิลป์ รมว.ศึกษาธิการ นำคณะเข้าพบนายกฯ เพื่อประชาสัมพันธ์โครงการผลิตสื่อการเรียนรู้และฝึกทักษะภาษาอังกฤษการสื่อสารเพื่อก้าวสู่อาชีพ (Echo VE) โดยสำนักงานคณะกรรมการการอาชีวศึกษาจัดทำแอพพลิเคชั่น EchoVE ใช้ได้กับโทรศัพท์ทั้งระบบแอนดรอยด์ และไอโอเอส เพื่อพัฒนาทักษะการฟัง พูด อ่าน เขียน ให้ผู้เรียนสายอาชีพมีทักษะภาษาอังกฤษเป็นที่ยอมรับในตลาดงาน ',\n",
              "  'จากนั้น พล.อ.ประยุทธ์ จันทร์โอชา นายกฯ แถลงภายหลังการประชุม ครม. ถึงข้อเสนอ กรธ.เตรียมบัญญัติให้ผู้สมัคร ส.ส.แบบเขตและแบบบัญชีรายชื่อ ',\n",
              "  'ไม่ใช้เบอร์เดียวกันเพื่อป้องกันการทุจริตซื้อเสียงว่า ยังอยู่ในขั้นตอนที่ กรธ.เสนอ ',\n",
              "  'ยังไม่มีความเห็นต้องรอฟังเมื่อเข้าสู่ขั้นตอนการพิจารณาของ สนช.ด้วย ตนให้สิทธิแก่แม่น้ำแต่ละสายทำงาน ',\n",
              "  'เป็นเรื่องที่จะทำงานร่วมกัน ',\n",
              "  'ต้องสร้างการรับรู้แก่ประชาชนตามรัฐธรรมนูญ ',\n",
              "  'เมื่อถามว่า แนวทางนี้จะลดการซื้อสิทธิ์ขายเสียงได้หรือไม่ ',\n",
              "  'พล.อ.ประยุทธ์ตอบว่า ไม่ได้อยู่ที่กฎหมายอย่างเดียว ',\n",
              "  'อยู่ที่ตัวคนด้วย ทั้งนักการเมือง พรรคการเมือง ประชาชนต้องไม่รับเงิน ',\n",
              "  'ปัญหาที่ผ่านมาทุกคนทราบดีอยู่แล้ว ',\n",
              "  'รับเงินแล้วประเทศได้อะไรนอกจากได้เงินมาเพียงเล็กน้อย ',\n",
              "  'ดังนั้นใครที่ให้เงินแสดงว่ามีเจตนาไม่บริสุทธิ์ เป็นพรรคการเมืองที่ไม่บริสุทธิ์ใจ ',\n",
              "  'อีกเรื่อง ',\n",
              "  'นายนรวิทย์ หล้าแหล่ง ทนายความ น.ส.ยิ่งลักษณ์ ชินวัตร อดีตนายกรัฐมนตรี ',\n",
              "  'คดีรับจำนำข้าว ',\n",
              "  'กล่าวถึงกรณีเจ้าหน้าที่ตำรวจดำเนินคดีกับผู้ประกอบการรถตู้สาธารณะที่รับจ้างประชาชนเดินทางมาให้กำลังใจ ',\n",
              "  'น.ส.ยิ่งลักษณ์ ในวันแถลงปิดคดีด้วยวาจาเมื่อวันที่ 1 ส.ค. ว่า ไม่รู้จักกับผู้ประกอบ ',\n",
              "  'การรถตู้ดังกล่าว ',\n",
              "  'ไม่รู้รายละเอียดข้อกล่าวหา ',\n",
              "  'ทราบแต่เพียงที่เป็นข่าว แต่มองว่ารถตู้รับจ้างที่ไม่ใช่รถประจำทาง สามารถวิ่งรับจ้างได้ทั่วไป ',\n",
              "  'เขาคงมีทนายความชี้แจงข้อเท็จจริง แต่ประเด็นสำคัญอยากให้ดูที่เจตนา ',\n",
              "  'ประชาชนที่มาให้กำลังใจ ',\n",
              "  'น.ส.ยิ่งลักษณ์ ',\n",
              "  'ไม่ได้มาชุมนุมสร้างความวุ่นวาย จึงไม่ทราบที่มาของการแจ้งข้อกล่าวหา ',\n",
              "  'เรื่องนี้เจ้าหน้าที่ปฏิบัติต้องระมัดระวังด้วย ',\n",
              "  'ส่วนการเตรียมพร้อมส่งคำแถลงปิดคดีด้วยลายลักษณ์อักษรคดีจำนำข้าวนั้น ทีมทนายความเตรียมการกันอยู่ ',\n",
              "  'โดยเตรียมข้อโต้แย้งพยานหลักฐานของโจทก์ทุกประเด็น ',\n",
              "  'ยืนยันจะส่งให้ศาลได้ภายในวันที่ 15 ส.ค. นายภูมิธรรม เวชยชัย เลขาธิการพรรคเพื่อไทย กล่าวว่า อ่านข่าวที่ระบุว่าพรรคเพื่อไทยเตรียมวางตัวหัวหน้าพรรคคนใหม่แล้ว ',\n",
              "  'ประหลาดใจว่าข่าวมาได้อย่างไร ',\n",
              "  'ยืนยันว่าไม่เป็นความจริง ',\n",
              "  'วันนี้พรรคเพื่อไทยยังอยู่ภายใต้การควบคุมของคำสั่ง คสช. ตั้งแต่มีการรัฐประหารพรรคต้องเผชิญกับภาวะถูกกระทำ มีข้อจำกัดต้องรับภาระจากคดีความต่างๆที่ฝ่ายผู้มีอำนาจมอบให้ ',\n",
              "  'เวลาส่วนใหญ่จึงอยู่ในสภาพต่อสู้กับคดี ',\n",
              "  'โดยเฉพาะ น.ส.ยิ่งลักษณ์ ชินวัตร แทบไม่มีเวลาสนใจกับเรื่องอื่น ',\n",
              "  'ยืนยันว่าไม่ได้เข้ามายุ่งเกี่ยวกับการบริหารจัดการภายในพรรคเลย ',\n",
              "  'ข้อมูลที่ระบุจะผลักดันนางมณฑาทิพย์ โกวิทเจริญกุล พี่สาวขึ้นมาเป็นหัวหน้าพรรคนั้นไม่เป็นความจริง ',\n",
              "  'จากที่รู้จักและมีโอกาสได้คุย ',\n",
              "  'นางมณฑาทิพย์ยืนยันว่าไม่ประสงค์และไม่เคยสนใจเข้ามาเกี่ยวข้องกับเรื่องการเมืองเลย ',\n",
              "  'นายภูมิธรรมกล่าวต่อว่า ',\n",
              "  'ส่วนกระแสข่าวว่านายสมชาย วงศ์สวัสดิ์ อดีตนายกฯ และคุณหญิงสุดารัตน์ เกยุราพันธุ์ แกนนำพรรคเพื่อไทย จะเข้ามาเป็นหัวหน้าพรรค จนเกิดกระแสข่าวความขัดแย้งในพรรคนั้น ยืนยันพรรคเพื่อไทยยังมีความสามัคคีภายในแนบแน่น ',\n",
              "  'ยังเร็วเกินไปที่จะพูดเรื่องนี้ ',\n",
              "  'ยืนยันว่าพรรคเพื่อไทยมีบุคลากรคุณภาพจำนวนมาก พร้อมรับภาระหน้าที่นำพาพรรครับใช้ประชาชน และขึ้นอยู่กับสถานการณ์ขณะนั้นว่าต้องการคุณสมบัติผู้นำเช่นไร ',\n",
              "  'เราพร้อมสนับสนุนคนที่มีคุณสมบัติเหมาะกับสถานการณ์ ',\n",
              "  'นายวิม รุ่งวัฒนจินดา ',\n",
              "  'หนึ่งในทีมงานของ น.ส.ยิ่งลักษณ์กล่าวว่า ยืนยันว่ากระแสข่าวที่เกิดขึ้นไม่เป็นความจริง ',\n",
              "  'ตั้งแต่ถูกรัฐประหารมา ',\n",
              "  'น.ส.ยิ่งลักษณ์มุ่งแต่เรื่องต่อสู้คดีรับจำนำข้าว ',\n",
              "  'ไม่ได้เข้าไปมีส่วนในกิจกรรมทางการเมืองของพรรค ',\n",
              "  'นอกจากนี้ นางมณฑาทิพย์ไม่สนใจการเมือง ',\n",
              "  'ใช้ชีวิตแบบเรียบง่ายเป็นแม่บ้าน ',\n",
              "  'ไม่เอาตัวเองมายุ่งเกี่ยวการเมืองที่วุ่นวายแน่ ',\n",
              "  'ทั้งนี้ ผู้นำพรรคต้องเป็นที่ยอมรับของพี่น้องประชาชน ',\n",
              "  'ไม่ใช่ตระกูลชินวัตรจะเป็นผู้กำหนด ที่พรรคเพื่อไทย ',\n",
              "  'นายวัฒนา เมืองสุข อดีต รมว.พาณิชย์ และแกนนำพรรคเพื่อไทย แถลงว่า หลังเข้าพบพนักงานสอบสวน บก.ปอท. พร้อมทนายความ มาทราบภายหลังว่า คสช.ต้องการให้พนักงานสอบสวนนำตนไปขออำนาจศาลฝากขัง ',\n",
              "  'และจะคัดค้านการประกันตัว ',\n",
              "  'เรื่องนี้ถือเป็นการสร้างมาตรฐานใหม่ ',\n",
              "  'เมื่อแสดงความเห็นไม่ถูกใจผู้มีอำนาจจะกลายเป็นความผิด ',\n",
              "  'โดยใช้คำว่าความมั่นคงเป็นข้ออ้าง โดยเฉพาะผู้ที่ได้รับมอบอำนาจจาก คสช.ให้มาร้องทุกข์กล่าวโทษตน ',\n",
              "  'กลับมีพฤติกรรมแทรกแซงการทำงานพนักงานสอบสวน ',\n",
              "  'มีการดำเนินการที่ผิดไปจากกฎหมายและแนวทางปฏิบัติ ',\n",
              "  'มีเจตนาจะเอาตัวตนไปศาลให้ได้ ',\n",
              "  'พฤติการณ์ที่เห็นถ้า พล.อ.ประยุทธ์อยากเอาใครเข้าคุก ก็ต้องเป็นไปตามนั้น คำสั่ง พล.อ.ประยุทธ์กลายเป็นกฎหมายไปแล้วหรือ จะปล่อยให้เป็นแบบนี้หรือ การที่ พล.อ.ประยุทธ์ระบุว่าถูกแบล็กลิสต์ห้ามเดินทางไปต่างประเทศ ',\n",
              "  'แสดงว่าเขาไม่ให้การยอมรับ แต่ยังไม่รู้ตัว ',\n",
              "  'เป็นเรื่องน่าอับอายที่ผู้นำของเราไปต่างประเทศไปเจรจาไม่ได้ ',\n",
              "  'ที่ทำเนียบรัฐบาล พล.อ.ประยุทธ์ จันทร์โอชา นายกฯ แถลงภายหลังประชุม ครม. ถึงภาพข่าวว่านายวุฒิพงศ์ กชธรรมคุณ หรือโกตี๋ ผู้ต้องหาตามประมวลกฎหมายอาญามาตรา 112 เสียชีวิตในสาธารณรัฐประชาธิปไตยประชาชนลาว ',\n",
              "  '(สปป.ลาว) ว่า ได้เห็นภาพแล้ว แต่ยังไม่มีใครรายงานเข้ามา ',\n",
              "  'ไม่ทราบว่าเป็นภาพถ่ายจากที่ใด และการประชุม ',\n",
              "  'คสช.วันนี้ ',\n",
              "  'มีการรายงานสถานการณ์ทางการเมืองเน้นที่การประเมินสถานการณ์ด้านความมั่นคง ทั้งการเตรียมความพร้อมในงานพระราชพิธีถวายพระเพลิงพระบรมศพรัชกาลที่ 9 ต้องรักษาสถานการณ์และเสถียรภาพรัฐบาลให้ได้ ให้ทุกคนปฏิบัติตามกฎหมาย ',\n",
              "  'ขอฝากเตือนทุกกลุ่มทุกพวกด้วยอย่าทำผิดกฎหมาย พล.อ.ประวิตร วงษ์สุวรรณ รองนายกรัฐมนตรีและ รมว.กลาโหม กล่าวถึงมาตรการเพิ่มเติมในการ รับมือมวลชนที่จะเดินทางมาให้กำลังใจ ',\n",
              "  'น.ส.ยิ่งลักษณ์ ชินวัตร อดีตนายกรัฐมนตรี ในวันที่ 25 ส.ค. เพื่อฟังคำตัดสินคดีรับจำนำข้าว ',\n",
              "  'หลังจากมีการตรวจสอบเรื่องรถตู้ที่ขนคนมา ว่าไม่มีมาตรการอื่นเพิ่มเติม ',\n",
              "  'บอกไปแล้วว่า ไม่ต้องมา จะมาทำไม คงไม่ต้องประชุมประเมินสถานการณ์อะไร ',\n",
              "  'ส่วนที่ ผบ.ทบ.บอกว่าจะมีการประชุมเพื่อประเมินสถานการณ์นั้น ผบ.ทบ.เขาประชุม ตนไม่ได้ประชุมกับเขา ',\n",
              "  'ส่วนข่าวการเสียชีวิตของนายวุฒิพงศ์ กชธรรมคุณ หรือโกตี๋ ที่มีภาพว่าพบศพแล้วนั้น ',\n",
              "  'ยังไม่ทราบ ',\n",
              "  'ยังไม่ได้ประสานไปยัง สปป.ลาว ',\n",
              "  'ศพที่เห็นเป็นศพใครก็ไม่รู้ ',\n",
              "  'และเราไม่รู้ว่าจะตามยังไง ',\n",
              "  'นายวุฒิพงศ์อยู่ที่นั่นจริงหรือไม่ หรือไปเสียชีวิตที่นั่นหรือไม่ ',\n",
              "  'ก็ไม่รู้ แต่เรายังตามตัวอยู่ ก็ยังไม่พบ ',\n",
              "  'เท่าที่เจ้าหน้าที่ประสานกับทางการลาว ก็ไม่รายงานอะไรเข้ามา ',\n",
              "  'เขาบอกว่าไม่รู้เรื่องเช่นกัน ที่กองบัญชาการกองทัพบก (บก.ทบ.) พล.อ.เฉลิมชัย ',\n",
              "  'สิทธิสาท ผบ.ทบ. ในฐานะเลขาธิการ คสช. กล่าวถึงการประชุม คสช. ว่า นายกฯยังไม่ได้กำชับอะไรเป็นพิเศษ อยู่ระหว่างประเมินสถานการณ์ที่จะมีมวลชนเดินทางมาให้กำลังใจ ',\n",
              "  'น.ส.ยิ่งลักษณ์ ชินวัตร อดีตนายกฯ ',\n",
              "  'ช่วงสัปดาห์หน้าจะเชิญหน่วยงานที่ดูแลด้านความปลอดภัยเข้าประชุม ',\n",
              "  'เพื่อกำหนดแนวทาง ',\n",
              "  'คิดว่าจะมอบหมายให้เจ้าหน้าที่ตำรวจดูแลเป็นหลัก ',\n",
              "  'เหมือนทุกครั้งที่ผ่านมา ',\n",
              "  'มองว่าไม่น่าห่วงใยอะไรมากนัก ',\n",
              "  'และเจ้าหน้าที่มีการตรวจสอบการเช่าเหมารถตู้มาให้กำลังใจอยู่ ',\n",
              "  'สิ่งใดที่เป็นเรื่องผิดกฎหมายต้องตรวจสอบ และติดตามเพื่อดำเนินการตามกฎหมาย บอกแล้วถ้ามาโดยมีเจตนาบริสุทธิ์ใจเพื่อให้กำลังใจ ก็ไม่มีปัญหา ',\n",
              "  'แต่ถ้ามีกระบวนการยุยงปลุกปั่นเป็นเรื่องที่ทำไม่ได้ ',\n",
              "  'และไม่สมควร ',\n",
              "  'หน่วยงานด้านการข่าวทำงานอยู่ตลอดเวลาเพื่อประเมินสถานการณ์ แต่คิดว่าไม่มีอะไรมาก ',\n",
              "  'หากคนมามากแล้วเรียบร้อย ',\n",
              "  'ดีกว่าคนมาน้อยแต่วุ่นวาย ',\n",
              "  'เมื่อถามถึงกรณีมีภาพปรากฏทางโซเชียลมีเดีย ',\n",
              "  'มีชายสวมเสื้อสีแดงเสียชีวิตที่ สปป.ลาว ',\n",
              "  'คาดว่าเป็นนายวุฒิพงศ์ กชธรรมคุณ หรือโกตี๋ พล.อ.เฉลิมชัยตอบว่า ยังไม่เห็นภาพจึงไม่กล้าวิจารณ์ว่าใช่หรือไม่ใช่ ',\n",
              "  'อีกทั้งเหตุไม่ได้เกิดขึ้นในประเทศไทย ',\n",
              "  'จึงเป็นเรื่องที่ยากที่จะยืนยัน ',\n",
              "  'อย่างไรก็ตามภาพเหล่านี้สามารถตัดต่อ ตกแต่งและดึงมาจากที่ไหนก็ได้ ',\n",
              "  'ไม่อยากให้เป็นประเด็น ',\n",
              "  'เพราะไม่ทราบจริงๆ ',\n",
              "  'ส่วนทางผู้ช่วยทูตทหารประจำประเทศลาวได้ติดตามงานข่าวอยู่ ',\n",
              "  'เพียงแต่ยังไม่มีข้อมูลเพิ่มเติม ได้รับทราบตามข้อมูลข่าวเท่านั้น แต่เชื่อว่าไม่มีผลอะไร พล.อ.ทวีป ',\n",
              "  'เนตรนิยม เลขาธิการสภาความมั่นคงแห่งชาติ (สมช.) ว่า ยังไม่มีการยืนยันเรื่องของนายโกตี๋ ',\n",
              "  'ตราบใดที่ไม่มีอะไรยืนยันมาเรายังต้องสืบหาต่อไป ',\n",
              "  'ภาพบางภาพที่มาที่ไปอาจมีการตกแต่ง หรือทำอะไรขึ้นมาก็ได้ ',\n",
              "  'ต้องระวังอย่าเพิ่งเชื่อในสิ่งที่เห็น ต้องพิสูจน์ให้ได้ ',\n",
              "  'เมื่อถามว่าสมมติฐานเรื่องความขัดแย้งในกลุ่มเสื้อแดงกันเองยังใช้ได้หรือไม่ ',\n",
              "  'พล.อ.ทวีปตอบว่า ในกลุ่มคนเสื้อแดงกันเองยังมีอุดมการณ์ไม่เหมือนกัน ',\n",
              "  'บางคนก็รุนแรง แต่บางคนก็บอกว่าไม่ควรทำอะไรรุนแรงขนาดนั้น ',\n",
              "  'ที่ศาลอาญา พล.ต.จำลอง ศรีเมือง อดีตแกนนำพันธมิตรประชาชนเพื่อประชาธิปไตย (พธม.)\\xa0กล่าวถึงกรณีกลุ่มพันธมิตรฯ ยื่นเรื่องให้คณะกรรมการป้องกันและปราบปรามการทุจริตแห่งชาติ (ป.ป.ช.) ยื่นอุทธรณ์ในคดีการสลายชุมนุมเมื่อปี 2551 ว่า ผลจะออกมาประการใดแล้วแต่ศาล ',\n",
              "  'เมื่อถามถึงกรณีแนวร่วมประชาธิปไตยต่อต้านเผด็จการแห่งชาติ (นปช.) เรียกร้องให้ ',\n",
              "  'ป.ป.ช.สั่งฟ้องคดีสลายการชุมนุมของ นปช.ด้วย พล.ต.จำลองตอบว่า ใครจะทำอะไรก็ทำ ',\n",
              "  'ยืนยันพร้อมรับฟังและปฏิบัติตามคำพิพากษาทุกประการ ',\n",
              "  'ไม่ว่าจะออกมาหนักหรือเบา ',\n",
              "  'หากเราเคารพกฎหมายบ้านเมือง ทุกอย่างก็จะดำเนินไปได้ด้วยดี ',\n",
              "  'นายมีชัย ฤชุพันธุ์ ',\n",
              "  'ประธาน กรธ. กล่าวว่า ต้องดูว่าถ้า ป.ป.ช.ไม่ยื่นอุทธรณ์โดยไม่สุจริต ',\n",
              "  'ประชาชนสามารถใช้สิทธิตามรัฐธรรมนูญ ',\n",
              "  'ด้วยการเข้าชื่อส่งไปยังประธานรัฐสภา เพื่อเสนอเรื่องไปยังประธานศาลฎีกาให้ตั้งคณะผู้ไต่สวนอิสระได้ แต่การร้องเรียนนั้นต้องมีหลักฐานที่ชัดเจน ',\n",
              "  'ไม่ได้เป็นการกล่าวหาลอยๆ ที่ทำเนียบรัฐบาล พ.อ.หญิงทักษดา สังขจันทร์ ผู้ช่วยโฆษกประจำสำนักนายกรัฐมนตรี แถลงว่า ที่ประชุม ครม.อนุมัติแต่งตั้งข้าราชการกระทรวงต่างๆ อาทิ นายเลิศวิโรจน์ โกวัฒนะ เป็นปลัดกระทรวงเกษตรและสหกรณ์ ',\n",
              "  'น.ส.บรรจงจิตต์ อังศุสิงห์ เป็นรองปลัดกระทรวงพาณิชย์ ',\n",
              "  'นางกุลณี อิศดิศัย เป็นอธิบดีกรมพัฒนาธุรกิจการค้า ',\n",
              "  'นายบุณยฤทธิ์ กัลยาณมิตร เป็นอธิบดีการค้าภายใน ',\n",
              "  'นางจันทิรา ',\n",
              "  'ยิมเรวัต วิวัฒน์รัตน์ เป็นอธิบดีกรมส่งเสริมการค้าระหว่างประเทศ ',\n",
              "  'นายสุทธิพงษ์ จุลเจริญ เป็นอธิบดีกรมส่งเสริมการปกครองท้องถิ่น ',\n",
              "  'นายบุญธรรม เลิศสุขีเกษม เป็นรองปลัดกระทรวงฯ ',\n",
              "  'นายเกียรติศักดิ์ จันทรา เป็นผู้ตรวจราชการกระทรวงฯ ',\n",
              "  'นายสมชาย วิทย์ดำรง ผวจ.ฉะเชิงเทรา เป็น ผวจ.นครพนม\\xa0นายสุวิทย์ ',\n",
              "  'คำดี ',\n",
              "  'ผวจ.กาฬสินธุ์ เป็น ผวจ.ฉะเชิงเทรา พ.อ.อธิสิทธิ์ ไชยนุวัติ ผู้ช่วยโฆษกประจำสำนักนายกรัฐมนตรี แถลงว่า ที่ประชุมร่วม คสช. จะมีการออกคำสั่งหัวหน้า คสช. 3 ฉบับ คือ 1.เกี่ยวกับการให้อำนาจสถาบันอุดมศึกษา เพื่อ ให้อำนาจสถาบันอุดมศึกษาแต่งตั้งบุคคลที่อาจไม่ได้เป็นข้าราชการพลเรือนมาดำรงตำแหน่งอธิการบดี รองอธิการบดี ผู้ช่วยอธิการบดี คณบดี หรือหัวหน้าหน่วยงานต่างๆ 2.การเพิ่มประสิทธิภาพในการป้องกันและปราบปรามการฟอกเงิน เพื่อปรับปรุงแก้ไของค์ประกอบขอบเขตอำนาจหน้าที่ของ ปปง. และ 3.แนวคิดการรวมหน่วยงานบริหารจัดการน้ำของรัฐบาล ',\n",
              "  'เพื่อรวมหน่วยงานบริหารจัดการน้ำของภาครัฐทั้งหมดเข้าด้วยกัน ',\n",
              "  'และต้องการแก้ปัญหาน้ำอย่างยั่งยืน ',\n",
              "  'โดยจัดตั้งเป็นสำนักงานทรัพยากรน้ำแห่งชาติ ขึ้นตรงกับสำนักนายกรัฐมนตรี ภายใต้การบังคับบัญชาของนายกรัฐมนตรี ',\n",
              "  'ชี้แจงรายละเอียดสำหรับบุคลากรจากหน่วยงานที่เกี่ยวข้องที่ต้องมีการโยกย้ายมายังสำนักดังกล่าว ',\n",
              "  'โดยสำนักงานคณะกรรมการพัฒนาระบบราชการ (กพร.) และจะออกเป็นคำสั่ง ',\n",
              "  'คสช.ต่อไป ',\n",
              "  'ช่วงบ่ายวันเดียวกันที่ห้องสีงาช้าง ตึกไทยคู่ฟ้า ทำเนียบรัฐบาล นายเร็กซ์ เวย์น ทิลเลอร์สัน รมว.ต่างประเทศสหรัฐอเมริกา เข้าเยี่ยมคารวะ พล.อ.ประยุทธ์ จันทร์โอชา นายกฯและหัวหน้า คสช. ',\n",
              "  'ต่อมา พล.ท.วีรชน สุคนธปฏิภาค รองโฆษกประจำสำนักนายกรัฐมนตรี กล่าวว่า นายเร็กซ์ เวย์น ทิลเลอร์สัน ได้ร่วมลงนามในสมุดแสดงความอาลัยต่อการสวรรคตของพระบาทสมเด็จพระปรมินทรมหาภูมิพลอดุลยเดช ',\n",
              "  'บรมนาถบพิตร สะท้อนถึงความผูกพันและความสัมพันธ์ที่แน่นแฟ้น ซึ่งนายกฯย้ำว่าไทยให้ความสำคัญและเห็นสหรัฐฯมีบทบาทมากในประชาคมโลก ทั้งในเรื่องความมั่นคง การค้ามนุษย์ ก่อการร้าย อาชญากรรมข้ามชาติ ',\n",
              "  'นอกจากนี้ ทั้ง 2 ฝ่าย เห็นพ้องความร่วมมือด้านเศรษฐกิจ และความสัมพันธ์ระหว่างประชาชน พล.อ.ประยุทธ์กล่าวถึงความคืบหน้าการเดินทางเยือนสหรัฐอเมริกาอย่างเป็นทางการตามคำเชิญของนายโดนัลด์ ทรัมป์ ประธานาธิบดีสหรัฐอเมริกา ว่า เบื้องต้นตนจะเดินทางไปเยือนสหรัฐฯในเดือน ',\n",
              "  'ต.ค.นี้ ทางนายโดนัลด์ ทรัมป์ ไม่ได้ตั้งเงื่อนไขอะไร ',\n",
              "  'เราแสดงชัดเจนไปแล้วว่าปฏิบัติตามมติพันธะกรณีต่างๆของสหประชาชาติ ',\n",
              "  'ส่วนกรณีที่ตนพูดว่ามีบางประเทศไม่เชิญไปเยือนนั้น มี 2 อย่าง ',\n",
              "  'ถ้าเป็นเรื่องการประชุมเวทีนานาชาติตนเดินทางไปหมด แต่การเยือนอย่างเป็นทางการไปไม่ได้ ',\n",
              "  'เพราะเป็นผู้นำรัฐบาลแบบนี้ ',\n",
              "  'คนละประเด็นกัน ',\n",
              "  'ไม่ใช่ว่าเขารังเกียจอะไร แต่กฎหมายเขาเป็นอย่างนั้น ',\n",
              "  'วันข้างหน้าที่ทุกอย่างจะกลับมาเป็นปกติ'],\n",
              " ['กีเก ซานเชซ ฟลอเรส\\xa0 กุนซือเลือดกระทิงของทีมวัตฟอร์ด\\xa0 ',\n",
              "  'เมินประเด็นจุดโทษปัญหาในเกมพรีเมียร์ลีก อังกฤษ นัดที่แตนอาละวาดเปิดบ้านพ่าย คริสตัล พาเลซ 0-1ชี้ทีมของเขาเล่นไม่ดีพอเอง ',\n",
              "  'สำนักข่าวต่างประเทศรายงานวันที่ 27 ก.ย. ว่า กีเก ซานเชซ ฟลอเรส\\xa0 ผู้จัดการทีมชาวสเปน ของ แตนอาละวาด วัตฟอร์ด\\xa0 ยอมรับทีมของเขาเล่นได้ไม่ดีพอเอง ',\n",
              "  'ในเกมพรีเมียร์ลีก อังกฤษ นัดเปิดบ้านพ่าย อินทรีผงาด คริสตัล พาเลซ 0-1 เมื่อคืนวันอาทิตย์ที่ผ่านมา ',\n",
              "  'เกมนี้จุดเปลี่ยนมาอยู่ที่การได้จุดโทษในช่วงครึ่งหลังของ คริสตัล พาเลซ ซึ่งไม่ค่อยชัดเจนเท่าไหร่ว่า อัลลัน นียอม นั้นไปทำฟาล์วใส่ วิลฟรีด ซาฮา ในเขตโทษหรือไม่ แต่ผู้ตัดสินก็ชี้เป็นจุดโทษ ',\n",
              "  'ซึ่ง โยอัน ',\n",
              "  'กาบาย สังหารไม่พลาด และเป็นประตูชัยช่วยให้ คริสตัล พาเลซ เอาชนะ วัตฟอร์ด ไป 1-0 และเป็นการพ่ายแพ้ในบ้านนัดแรกของวัตฟอร์ดในฤดูกาลนี้อีกด้วย ',\n",
              "  'ฟลอเรส กล่าวว่า มันเป็นเรื่องยากในการหยุดเกมรุกของคริสตัล พาเลซ ซึ่งมันอึดอัดจริงๆสำหรับเรา ',\n",
              "  'เราเล่นกันได้ไม่ดีนักในตอนที่ได้ครองบอล ',\n",
              "  'เราต้องเล่นทางริมเส้นให้มากกว่านี้ ',\n",
              "  'เราไม่สามารถหยุดเกมสวนกลับของพวกเขาได้ ',\n",
              "  'และแนวรับของเราก็ยืนไม่เป็นระเบียบสักเท่าไหร่ในช่วงครึ่งแรก ',\n",
              "  'ส่วนเรื่องจุดโทษการตัดสินใจขั้นสุดท้ายมันอยู่ที่ผู้ตัดสิน ',\n",
              "  'ซึ่งมันเป็นการตัดสินใจที่สำคัญ ',\n",
              "  'ผมเองก็ไม่รู้ว่าเขาตัดสินถูกหรือเปล่า ',\n",
              "  'บางทีมันอาจเป็นจุดที่ตัดสินเกมนี้เลย ',\n",
              "  'แต่เราไม่ได้แพ้เกมนี้เพราะจุดโทษ ',\n",
              "  'เราแพ้ในวันนี้เพราะเราเล่นไม่ดีและคริสตัล พาเลซ เล่นดีกว่าเรา ',\n",
              "  'เราไม่ได้มีฟอร์มการเล่นที่ดีในเกมนี้เลย'],\n",
              " ['ตาย30-เจ็บ400 เส้นทางตัดขาด เข้าช่วยลำบาก ',\n",
              "  'เนปาลระทึก หลังเกิดพายุฝนฟ้าคะนองถล่มทางใต้ สร้างความเสียหายหลายหมู่บ้าน ',\n",
              "  'เบื้องต้นพบผู้เสียชีวิตแล้ว 30 ศพ บาดเจ็บ 400 ราย ระบบสาธารณูปโภคพังพินาศ ทางการเร่งระดมเจ้าหน้าที่ตำรวจ ',\n",
              "  'ทหารและหน่วยกู้ภัยเข้าช่วยเหลือเป็นการด่วน แต่บางจุดยังเข้าถึงยาก ',\n",
              "  'เหตุเส้นทางคมนาคมถูกตัดขาด ',\n",
              "  'เจอทั้งเสาไฟ ต้นไม้ล้มพาดขวาง สำนักข่าวต่างประเทศรายงานเหตุภัยพิบัติจากธรรมชาติที่เกิดขึ้นในประเทศเนปาลสร้างความสูญเสียทั้งชีวิตและทรัพย์สิน ว่า เมื่อคืนอาทิตย์ที่ 31 มี.ค.ตามเวลาท้องถิ่น เกิดพายุฝนฟ้าคะนองพัดถล่มในหลายหมู่บ้าน ',\n",
              "  'ซึ่งส่วนใหญ่เป็นพื้นที่ทางการเกษตร ที่เมืองบาราและเมืองปารสา ',\n",
              "  'ซึ่งห่างจากกรุงกาฐมาณฑุ ',\n",
              "  'เมืองหลวงของเนปาล ไปทางใต้ราว 120 กม. และต่อมาเมื่อวันที่ 1 เม.ย. โฆษกประจำกองทัพเนปาล เปิดเผยกับสำนักข่าวเอเอ็นไอของอินเดีย ถึงความเสียหายที่เกิดจากเหตุพายุพัดถล่ม ว่า พบผู้เสียชีวิต 30 ศพ ส่วนใหญ่อยู่ในพื้นที่ทางตอนใต้ ',\n",
              "  'และมีได้รับบาดเจ็บประมาณ 400 ราย ',\n",
              "  'ทั้งนี้ ทางการจัดเฮลิคอปเตอร์ MI 17 จำนวน 2 ลำเตรียมพร้อมรอปฏิบัติการ ',\n",
              "  'ส่วนเครื่องบินสกายทรัก ก็เตรียมพร้อมอยู่ที่เมืองสิมารา รวมถึงมีการส่งทหารกว่า 100 นาย ลงพื้นที่ปฏิบัติการช่วยเหลือและบรรเทาทุกข์ผู้ประสบภัยแล้ว ',\n",
              "  'อย่างไรก็ดี คาดว่ายอดผู้เสียชีวิตอาจเพิ่มขึ้นอีก ',\n",
              "  'โดยเฉพาะที่เมืองบาราเนื่องจากได้รับความเสียหายจากพายุที่พัดถล่มอย่างรุนแรง ',\n",
              "  'ส่งผลให้ระบบสาธารณูปโภคพังพินาศ ทั้งถนน เสาไฟฟ้า และเสาส่งสัญญาณโทรศัพท์ในหลายพื้นที่หักโค่นเสียหายอย่างหนัก ',\n",
              "  'ขณะที่เจ้าหน้าที่พยายามใช้รถยนต์และรถตู้ ลำเลียงผู้บาดเจ็บไปส่งโรงพยาบาลอย่างโกลาหล ',\n",
              "  'ด้านนายกรัฐมนตรี คัดกา ปราสาด ชาร์ม โอลี แห่งเนปาล ',\n",
              "  'ทวีตข้อความผ่านสื่อโซเชียล แสดงความเสียใจต่อผู้ประสบภัยพิบัติจากพายุถล่ม ซึ่งมีผู้เสียชีวิตและบาดเจ็บจำนวนมาก ',\n",
              "  'บ้านเรือนพังเสียหาย ',\n",
              "  'ต้นไม้หักโค่น และเสาไฟฟ้าล้มระเนระนาด พร้อมกันนี้ กองกำลังรักษาความมั่นคงแห่งชาติก็เตรียมพร้อมตลอดเวลาที่จะเข้าไปให้การช่วยเหลือผู้ประสบภัย รวมถึงเฮลิคอปเตอร์กู้ภัยที่ต้องรอสภาพอากาศดีขึ้นกว่านี้ ',\n",
              "  'จึงจะสามารถเข้าไปช่วยนำผู้บาดเจ็บตามหมู่บ้านต่างๆ ไปส่งยังศูนย์อนามัยหรือตามโรงพยาบาลใกล้เคียง ขณะเดียวกัน นายราเชจ พูเดล เจ้าหน้าที่ระดับสูงของรัฐ เปิดเผยว่า ทั้งตำรวจทหารและเจ้าหน้าที่กู้ภัยกระจายกำลังไปรอบพื้นที่ เพื่อพยายามเข้าไปให้ถึงหมู่บ้านที่ได้รับความเสียหายแล้ว แต่ยอมรับสถานการณ์ขณะนี้เป็นไปด้วยความยากลำบากและมีอุปสรรค เพราะเหตุเกิดในช่วงกลางคืน ทางเข้าหมู่บ้านก็ถูกตัดขาด ',\n",
              "  'เพราะมีต้นไม้และเสาไฟฟ้าหักล้มกีดขวางเส้นทาง ',\n",
              "  'สื่อท้องถิ่นรายงานเพิ่มเติมเกี่ยวกับเหตุพายุถล่มครั้งนี้ว่า ผู้เสียชีวิตและผู้ได้รับบาดเจ็บ ',\n",
              "  'ซึ่งส่วนใหญ่ เป็นเกษตรกรชาวนา ถูกสิ่งของที่ปลิวว่อนไปกับกระแสลมพัดแรง ซึ่งมีทั้งต้นไม้ เสาไฟฟ้า แผ่นสังกะสีหลังคาบ้าน รวมถึงกระท่อมล้มทับใส่ ',\n",
              "  'อีกทั้งยังมีรถถูกลมแรงพัดจนพลิกคว่ำ ',\n",
              "  'และมีผู้โดยสารบนรถเมล์เสียชีวิตจากรถพลัดตกจากทางหลวง ',\n",
              "  'ทั้งนี้ เหตุพายุฝนฟ้าถล่มจนสร้างความเสียหายและสูญเสียจำนวนมากในช่วงฤดูนี้ ถือเป็นปรากฏการณ์ที่ไม่ค่อยเกิดขึ้นในเนปาล เพราะปกติพายุจะเข้าเนปาลช่วงฤดูใบไม้ผลิระหว่างเดือน เม.ย.-พ.ค.']]"
            ]
          },
          "metadata": {
            "tags": []
          },
          "execution_count": 15
        }
      ]
    },
    {
      "cell_type": "code",
      "metadata": {
        "id": "SJSwfD9Q8SQa"
      },
      "source": [
        "def gold_summary(df, num_train, num_val, num_test):\n",
        "  return df.iloc[num_train+num_val:num_train+num_val+num_test,:]['summary'].tolist()"
      ],
      "execution_count": null,
      "outputs": []
    },
    {
      "cell_type": "code",
      "metadata": {
        "colab": {
          "base_uri": "https://localhost:8080/"
        },
        "id": "Vyyl1TmA7kjH",
        "outputId": "b7804260-45a4-4125-f59f-8d0704bd4029"
      },
      "source": [
        "gold_summaries = gold_summary(df, 358868, 11000, 11000)\n",
        "gold_summaries_sentence_segmented = segment_sent(gold_summaries)"
      ],
      "execution_count": null,
      "outputs": [
        {
          "output_type": "stream",
          "text": [
            "100%|██████████| 11000/11000 [00:27<00:00, 403.21it/s]\n"
          ],
          "name": "stderr"
        }
      ]
    },
    {
      "cell_type": "code",
      "metadata": {
        "id": "bVgUHyvm0xIW"
      },
      "source": [
        "import collections as coll\n",
        "# stopwords = pkgutil.get_data(__package__, 'smart_common_words.txt')\n",
        "# stopwords = stopwords.decode('ascii').split('\\n')\n",
        "# stopwords = {key.strip(): 1 for key in stopwords}\n",
        "\n",
        "def _get_ngrams_count(n, text):\n",
        "    \"\"\"Calcualtes n-grams.\n",
        "    Args:\n",
        "      n: which n-grams to calculate\n",
        "      text: An array of tokens\n",
        "    Returns:\n",
        "      A set of n-grams\n",
        "    \"\"\"\n",
        "    ngram_dic = coll.defaultdict(int)\n",
        "    text_length = len(text)\n",
        "    max_index_ngram_start = text_length - n\n",
        "    for i in range(max_index_ngram_start + 1):\n",
        "        ngram_dic[tuple(text[i:i + n])] += 1\n",
        "    return ngram_dic\n",
        "\n",
        "def _get_ngrams(n, text):\n",
        "    \"\"\"Calcualtes n-grams.\n",
        "    Args:\n",
        "      n: which n-grams to calculate\n",
        "      text: An array of tokens\n",
        "    Returns:\n",
        "      A set of n-grams\n",
        "    \"\"\"\n",
        "    ngram_set = set()\n",
        "    text_length = len(text)\n",
        "    max_index_ngram_start = text_length - n\n",
        "    for i in range(max_index_ngram_start + 1):\n",
        "        ngram_set.add(tuple(text[i:i + n]))\n",
        "    return ngram_set\n",
        "\n",
        "def _get_word_ngrams_list(n, text):\n",
        "    \"\"\"Calcualtes n-grams.\n",
        "    Args:\n",
        "      n: which n-grams to calculate\n",
        "      text: An array of tokens\n",
        "    Returns:\n",
        "      A set of n-grams\n",
        "    \"\"\"\n",
        "    text = sum(text, [])\n",
        "    ngram_set = []\n",
        "    text_length = len(text)\n",
        "    max_index_ngram_start = text_length - n\n",
        "    for i in range(max_index_ngram_start + 1):\n",
        "        ngram_set.append(tuple(text[i:i + n]))\n",
        "    return ngram_set\n",
        "\n",
        "def _get_word_ngrams(n, sentences, do_count=False):\n",
        "    \"\"\"Calculates word n-grams for multiple sentences.\n",
        "    \"\"\"\n",
        "    assert len(sentences) > 0\n",
        "    assert n > 0\n",
        "\n",
        "    # words = _split_into_words(sentences)\n",
        "\n",
        "    words = sum(sentences, [])\n",
        "    # words = [w for w in words if w not in stopwords]\n",
        "    if do_count:\n",
        "        return _get_ngrams_count(n, words)\n",
        "    return _get_ngrams(n, words)\n",
        "  \n",
        "def cal_rouge(evaluated_ngrams, reference_ngrams):\n",
        "    reference_count = len(reference_ngrams)\n",
        "    evaluated_count = len(evaluated_ngrams)\n",
        "\n",
        "    overlapping_ngrams = evaluated_ngrams.intersection(reference_ngrams)\n",
        "    overlapping_count = len(overlapping_ngrams)\n",
        "\n",
        "    if evaluated_count == 0:\n",
        "        precision = 0.0\n",
        "    else:\n",
        "        precision = overlapping_count / evaluated_count\n",
        "\n",
        "    if reference_count == 0:\n",
        "        recall = 0.0\n",
        "    else:\n",
        "        recall = overlapping_count / reference_count\n",
        "\n",
        "    f1_score = 2.0 * ((precision * recall) / (precision + recall + 1e-8))\n",
        "    return {\"f\": f1_score, \"p\": precision, \"r\": recall}\n",
        "\n",
        "def greedy_selection(doc_sent_list, abstract_sent_list, summary_size):\n",
        "  max_rouge = 0.0\n",
        "  abstract = sum(abstract_sent_list, [])\n",
        "  abstract = ' '.join(abstract).split()\n",
        "  sents = [' '.join(s).split() for s in doc_sent_list]\n",
        "  evaluated_1grams = [_get_word_ngrams(1, [sent]) for sent in sents]\n",
        "  reference_1grams = _get_word_ngrams(1, [abstract])\n",
        "  evaluated_2grams = [_get_word_ngrams(2, [sent]) for sent in sents]\n",
        "  reference_2grams = _get_word_ngrams(2, [abstract])\n",
        "\n",
        "  selected = []\n",
        "  for s in range(summary_size):\n",
        "      cur_max_rouge = max_rouge\n",
        "      cur_id = -1\n",
        "      for i in range(len(sents)):\n",
        "          if (i in selected):\n",
        "              continue\n",
        "          c = selected + [i]\n",
        "          candidates_1 = [evaluated_1grams[idx] for idx in c]\n",
        "          candidates_1 = set.union(*map(set, candidates_1))\n",
        "          candidates_2 = [evaluated_2grams[idx] for idx in c]\n",
        "          candidates_2 = set.union(*map(set, candidates_2))\n",
        "          rouge_1 = cal_rouge(candidates_1, reference_1grams)['f']\n",
        "          rouge_2 = cal_rouge(candidates_2, reference_2grams)['f']\n",
        "          rouge_score = rouge_1 + rouge_2\n",
        "          if rouge_score > cur_max_rouge:\n",
        "              cur_max_rouge = rouge_score\n",
        "              cur_id = i\n",
        "      if (cur_id == -1):\n",
        "          return selected\n",
        "      selected.append(cur_id)\n",
        "      max_rouge = cur_max_rouge\n",
        "\n",
        "  return sorted(selected)"
      ],
      "execution_count": null,
      "outputs": []
    },
    {
      "cell_type": "code",
      "metadata": {
        "id": "i3IkCsZ60x-X"
      },
      "source": [
        "def oracle_a(paragraph_raw, gold_summaries):\n",
        "  ret = []\n",
        "  sent_selected = []\n",
        "  for docs, abs in tqdm(zip(paragraph_raw, gold_summaries)):\n",
        "    t_docs = [[x] for x in docs]\n",
        "    t_abs = [[x] for x in abs]\n",
        "    selected = greedy_selection(t_docs, t_abs, 4)\n",
        "    new_docs = []\n",
        "    sent_selected.append(selected)\n",
        "    for idx in selected:\n",
        "      new_docs.append(docs[idx])\n",
        "    ret.append(\"\".join(new_docs))\n",
        "  return ret, sent_selected"
      ],
      "execution_count": null,
      "outputs": []
    },
    {
      "cell_type": "code",
      "metadata": {
        "id": "aBdCbObYkyLo",
        "colab": {
          "base_uri": "https://localhost:8080/"
        },
        "outputId": "a78cfb48-f6e8-4854-a04b-ce0d6ce32be0"
      },
      "source": [
        "data_segmented_sentence[0]"
      ],
      "execution_count": null,
      "outputs": [
        {
          "output_type": "execute_result",
          "data": {
            "text/plain": [
              "['พอไม่ได้ดังใจก็ร่างใหม่ ',\n",
              " 'แสลงชื่อสมชัยเดินหนี มีชัย ไม่ยี่หระเสียงค้านชงสูตรพิสดารเลือกตั้ง ส.ส. ประกาศ ',\n",
              " 'ผลช้าไปชั่วโมงสองชั่วโมงไม่เห็นเป็นไร แสลงหูชื่อ สมชัย ชิ่งหนีดื้อๆ พรเพชร ให้นายกฯ ตัดสินใจปลดล็อกพรรคการเมือง 34 สนช.ยื่นตีความต่อวาระให้ผู้ตรวจฯ ส่อขัด รธน. พท.ดาหน้าฉะ ซือแป๋ ใครแน่ดูถูกประชาชน ',\n",
              " 'สมคิด ซัดพูดย้อนแย้งไหลไปไหลมา ลั่น ไม่เคยกลัวในสนามเลือกตั้ง สมชัย กระแทกซ้ำเปิดช่องโกงสนั่นกันทั้งประเทศ ทนายปู มึนรถตู้รับจ้างถูกเล่นงาน ภูมิธรรม ดับกระแส พท.วางตัวผู้นำ ยันพรรคเหนียวแน่นไม่มีปีนเกลียว วิม ',\n",
              " 'แจงไม่ได้ล็อกเป้าแค่คน ชินวัตร บิ๊กตู่ รอรายงาน โกตี๋ ตายที่ลาว บิ๊กป้อม โบ้ยศพใครไม่รู้ ',\n",
              " 'ผบ.ทบ.ชี้ภาพตกแต่งกันได้ ',\n",
              " 'ครม.ตั้ง ',\n",
              " 'เลิศวิโรจน์ ขึ้นปลัดเกษตรฯ สุทธิพงษ์ ',\n",
              " 'อ.ส่งเสริมปกครองท้องถิ่น ประยุทธ์ รับ รมว.ต่างประเทศสหรัฐฯเยือนไทย ',\n",
              " 'ปัดไม่ได้โดนรังเกียจจากนานาชาติ ดอน ยังมั่นใจไปเยือนในปีนี้ ',\n",
              " 'แม้เสียงคัดค้านจากฝ่ายการเมืองต่อรูปแบบการเลือกตั้ง ส.ส. ',\n",
              " 'สูตรพิสดารของกรรมการร่างรัฐธรรมนูญ (กรธ.) ยังคงดังกระหึ่ม แต่นายมีชัย ฤชุพันธุ์ ',\n",
              " 'ประธาน กรธ. ',\n",
              " 'ยังคงยืนยันเดินหน้าต่อไป ',\n",
              " 'แม้การเลือกตั้งตามรูปแบบใหม่จะทำให้การประกาศผลล่าช้าไปบ้างก็ไม่เห็นเป็นอะไร ',\n",
              " 'เมื่อเวลา 13.45 น.วันที่ 8 ส.ค.ที่รัฐสภา ',\n",
              " 'นายมีชัย ฤชุพันธุ์ ประธานกรรมการร่างรัฐธรรมนูญ (กรธ.) กล่าวถึงกรณีนายอภิสิทธิ์ เวชชาชีวะ หัวหน้าพรรคประชาธิปัตย์ เสนอให้ใช้ชื่อหรือโลโก้พรรค โดยไม่ต้องมีเบอร์ในบัตรลงคะแนนว่า ถ้ามีที่ว่างสามารถใส่ได้ทั้งเบอร์ ชื่อ และโลโก้พรรค ',\n",
              " 'หากให้มีแต่ชื่อต้องนึกถึงคนไกลๆที่อ่านหนังสือไม่ออกด้วย แนวทาง กรธ.ทำให้การซื้อเสียงยากขึ้นอีกหน่อย แต่ไม่ได้บอกว่ามันจะหมดไป ',\n",
              " 'ไปตรวจสอบการเลือกตั้งของไทยทั้ง 27 ครั้งใช้มาแล้วทุกระบบ ',\n",
              " 'สงสัยนางสดศรี สัตยธรรม อดีตกรรมการการเลือกตั้ง (กกต.) คงเพิ่งเกิดจึงไม่รู้การกำหนดให้มีหมายเลขแตกต่างกันไป ',\n",
              " 'จะไม่มีปัญหาต่อการนับคะแนน ',\n",
              " 'เวลานับคะแนนก็เอามารวมกัน ',\n",
              " 'ใส่เข้าระบบคอมพิวเตอร์ประมวลผลออกมาให้เห็น เริ่มนับที่หน่วยเลือกตั้งแล้วนำมารวมที่เขตเลือกตั้ง และส่งมายังส่วนกลางอีกครั้ง ',\n",
              " 'ถ้าการประกาศผลต้องล่าช้าไปสักชั่วโมงสองชั่วโมง ',\n",
              " 'ไม่เห็นจะเป็นอะไร ',\n",
              " 'ผู้สื่อข่าวรายงานว่า ระหว่างการสัมภาษณ์ ',\n",
              " 'เมื่อผู้สื่อข่าวถามถึงความเห็นของนายสมชัย ศรีสุทธิยากร กกต. เกี่ยวกับปัญหาการนับคะแนนจากการแยกเบอร์ผู้สมัคร ส.ส.รายเขต ',\n",
              " 'นายมีชัยปฏิเสธที่จะตอบคำถามพร้อมเดินออกจากวงสัมภาษณ์ทันที ',\n",
              " 'ที่รัฐสภา ',\n",
              " 'นายพรเพชร วิชิตชลชัย ประธานสภานิติบัญญัติแห่งชาติ (สนช.) กล่าวว่า ได้ส่งร่าง พ.ร.บ.ประกอบรัฐธรรมนูญว่าด้วยพรรคการเมือง ให้ พล.อ.ประยุทธ์ จันทร์โอชา นายกรัฐมนตรีและหัวหน้า คสช.แล้ว เมื่อวันที่ 7 ส.ค. ส่วน คสช.จะยกเลิกคำสั่ง คสช. เกี่ยวกับการห้ามพรรคการเมืองดำเนินกิจกรรมทางการเมืองหรือไม่ ',\n",
              " 'เป็นเรื่องที่ คสช.จะพิจารณา ว่าคำสั่งดังกล่าวเป็นอุปสรรคต่อการที่พรรคการเมืองต้องดำเนินการตามกฎหมายพรรคการเมืองใหม่หรือไม่ ',\n",
              " 'เพราะคำสั่งเหล่านั้นยังคงอยู่ไม่ได้ยกเลิก ',\n",
              " 'แม้กฎหมายใหม่จะมีผลบังคับใช้ก็ตาม ',\n",
              " 'หากพรรคการเมืองเห็นว่าเป็นปัญหา ควรสะท้อนความเห็นไปยัง คสช.โดยตรง ',\n",
              " 'เพราะคำสั่งที่ออกมาต้องการให้สถานการณ์บ้านเมืองราบรื่น ',\n",
              " 'ดังนั้น คสช.ต้องพิจารณาว่าถึงเวลาที่จะยกเลิกหรือยัง ',\n",
              " 'ส่วนกรณีที่ กรธ.จะบัญญัติรูปแบบการเลือกตั้งใหม่ จากพรรคเดียวเบอร์เดียวมาเป็นการจับสลากในแต่ละพื้นที่ ไว้ในร่าง ',\n",
              " 'พ.ร.บ.ประกอบรัฐธรรมนูญว่าด้วยการเลือกตั้ง ',\n",
              " 'ส.ส.นั้น ',\n",
              " 'ยังเป็นเพียงความเห็นเบื้องต้น ',\n",
              " 'กรธ.คงฟังความเห็นรอบด้านว่า พรรคการเมืองและประชาชนจะว่าอย่างไร ',\n",
              " 'กรธ.มีสิทธิทบทวน ',\n",
              " 'เพราะยังไม่ได้เขียนกฎหมาย ',\n",
              " 'ส่วนที่มีเสียงท้วงติงเพราะเปลี่ยนแปลงไปจากที่เคยปฏิบัติ ',\n",
              " 'ในส่วนของ สนช.จะรอดูว่ามีการรับฟังความเห็นประชาชนตามรัฐธรรมนูญมาตรา 77 วรรค 2 หรือไม่ ',\n",
              " 'ยังไม่ขอวิจารณ์ นพ.เจตน์ ศิรธรานนท์ สมาชิก สนช.กล่าวว่า ตนพร้อมเพื่อน สนช.รวม 34 คน ได้เข้าชื่อยื่นหนังสือต่อประธาน สนช. ',\n",
              " 'ให้ยื่นศาลรัฐธรรมนูญตามรัฐธรรมนูญมาตรา 148 ขอให้วินิจฉัยว่าร่าง พ.ร.บ.ประกอบรัฐธรรมนูญว่าด้วยผู้ตรวจการแผ่นดิน ขัดต่อรัฐธรรมนูญหรือไม่ ',\n",
              " 'เนื่องจากมาตรา 56 บทเฉพาะกาล ที่ประชุม สนช.ได้แก้ไขในวาระ 2 และ 3 ให้ประธานและผู้ตรวจการแผ่นดินที่ดำรงตำแหน่งก่อนวันที่ พ.ร.บ.ฉบับนี้ใช้บังคับ อยู่จนครบวาระตาม พ.ร.บ.เดิม ',\n",
              " 'เราเห็นว่าตามรัฐธรรมนูญ ในบทเฉพาะกาลมาตรา 273 ให้การดำรงตำแหน่งต่อไปเป็นไปตามร่าง พ.ร.บ.ประกอบรัฐธรรมนูญดังกล่าวนั้น ไม่น่าจะหมายถึงอยู่จนครบวาระตาม พ.ร.บ.ผู้ตรวจการแผ่นดินฯ รวมทั้งไม่ได้ยกเว้นคุณสมบัติและลักษณะต้องห้ามไว้ ',\n",
              " 'จึงคิดว่าอาจขัดหรือแย้งรัฐธรรมนูญหรือไม่ ',\n",
              " 'ขณะที่นายชวลิต วิชยสุทธิ์ อดีตรองเลขาธิการพรรคเพื่อไทย ',\n",
              " 'กล่าวถึงกรณีนายมีชัย ฤชุพันธุ์ ',\n",
              " 'ประธาน กรธ. เตือนนักการเมืองอย่าดูถูกประชาชนกับระบบเลือกตั้งใหม่ ว่า ถามว่าใครกันแน่ดูถูกประชาชน ',\n",
              " 'ขอสรุปภาพรวมดังนี้ ',\n",
              " '1.ใครออกแบบระบบเลือกตั้งแบบจัดสรรปันส่วนผสม ที่มีเพียงประเทศไทยประเทศเดียวในโลกที่ใช้ เพราะหวังให้การเมืองอ่อนแอ ',\n",
              " 'ไม่มีเสถียรภาพ ',\n",
              " 'ไม่ฟังเสียงประชาชน ตั้งใจเปิดโอกาสให้คนนอกมาเป็นนายกรัฐมนตรี 2.ใครออกแบบให้ ส.ว.มาจากการสรรหาทั้งหมด สรรหาโดยใคร ',\n",
              " 'โดยพวกท่านใช่หรือไม่ ',\n",
              " 'ท่านก็เป็นหนึ่งใน คสช. ที่สำคัญ ',\n",
              " 'ส.ว.มีหน้าที่เลือกนายกฯ ด้วยระบบที่ไม่ปกตินี้จะพาประเทศชาติและประชาชนลงเหว ภายใต้ระบอบประชาธิปไตยจอมปลอม ',\n",
              " 'ไม่ว่าใครจะให้ความเห็นอย่างไรก็ไม่ฟังเหตุผล ',\n",
              " 'ไม่คิดถึงความเดือดร้อนประชาชน ',\n",
              " 'หวังเพียงอำนาจส่วนตนและพวกพ้องเท่านั้น ',\n",
              " 'ถ้าให้ความสำคัญกับประชาชน ',\n",
              " 'ทำไมออกแบบกติกาบ้านเมืองโดยละทิ้งประชาชน ',\n",
              " 'หากจะมีเสียงวิจารณ์ว่าทำงานรับใช้อำนาจนิยม เท่ากับละทิ้งดูถูกประชาชนหรือไม่ ',\n",
              " 'นายสมคิด เชื้อคง อดีต ส.ส.อุบลราชธานี พรรคเพื่อไทย กล่าวว่า การที่ กรธ.จะบัญญัติระบบเลือกตั้ง ',\n",
              " 'ส.ส.ใหม่ ให้จับสลากเบอร์ในแต่ละเขตนั้น ถือว่าขัดแย้งกับคำพูดที่ว่าอยากทำให้พรรคการเมืองเข้มแข็ง เป็นคำพูดที่ย้อนแย้งในตัวเอง สะท้อนให้เห็นว่ากฎหมายลูกแต่ละฉบับมีหลักการที่ไหลไปไหลมา แล้วแต่ความต้องการของผู้มีอำนาจหรือไม่ ',\n",
              " 'เมื่อก่อนมีวาทกรรมพรรคเทพพรรคมาร ',\n",
              " 'วันนี้มีคนดีคนไม่ดี ',\n",
              " 'ฝ่ายการเมืองถูกยัดเยียดความไม่ดี แต่อีกฝ่ายที่จะแต่งตั้ง 250 คน ',\n",
              " 'มีกฎหมายกำหนดกฎเกณฑ์ไม่ให้อยู่ในคอกเหมือนนักการเมือง ยกเว้นสารพัดกฎเกณฑ์ ',\n",
              " 'แม้แต่การเป็นข้าราชการประจำก็ยกเว้นให้ ปากก็อ้างสารพัดว่าเพื่อชาติบ้านเมือง หรือมองคนกลุ่มอื่นไม่รักชาติบ้านเมืองเหมือนพวกท่าน กี่ครั้งกี่กติกาที่พวกท่านออกมา ',\n",
              " 'ถ้าไม่ได้ดังใจกลุ่มพวกท่านก็จะออกกติกาใหม่เรื่อยไป ',\n",
              " 'อ้างว่าของเดิมมันแย่ ',\n",
              " 'มันซื้อเสียงได้ ',\n",
              " 'เขตเดียว เบอร์เดียวก็ทำมาแล้ว ',\n",
              " 'เขตใหญ่เรียงเบอร์ก็ทำมาแล้ว ',\n",
              " 'นี่จะให้ทำไพรมารีโหวต จะมากำหนดเบอร์แต่ละเขตอีก ',\n",
              " 'ไหนว่าไม่ให้ยึดติดตัวบุคคล ไหนอยากให้พรรคการเมืองเข้มแข็ง เอาเลยตามสบาย ',\n",
              " 'พวกผมไม่กลัวพวกคุณในสนามการเลือกตั้ง ',\n",
              " 'นายสมคิดกล่าว ',\n",
              " 'ผู้สื่อข่าวรายงานจากพรรคประชาธิปัตย์ว่า นายอภิสิทธิ์ เวชชาชีวะ หัวหน้าพรรคประชาธิปัตย์ และอดีตนายกรัฐมนตรี ได้เปิดกิจกรรมสอบถามความเห็นประชาชนผ่านระบบไลน์ ประเด็น โหวตบัตรเลือกตั้ง ',\n",
              " 'ผู้สมัครจากพรรคเดียวกันในแต่ละเขตเลือกตั้งทั้งประเทศควรจะ? ',\n",
              " 'หลังจากที่ กรธ.กำหนดเนื้อหาในร่าง ',\n",
              " 'พ.ร.บ.ประกอบรัฐธรรมนูญว่าด้วยการเลือกตั้ง ส.ส. แบบแยกเบอร์ แทนที่จะเป็นเบอร์เดียวกันทั่วประเทศเหมือนอดีต ',\n",
              " 'โดยนายอภิสิทธิ์เปิดให้ประชาชนเข้าไปลงคะแนนเลือกใน 3 คำตอบ คือ 1.ใช้หมายเลขเดียวกัน ',\n",
              " '2.ไม่จำเป็นต้องเป็นหมายเลขเดียวกัน ',\n",
              " 'และ 3.บัตรเลือกตั้งใส่เฉพาะชื่อผู้สมัครและโลโก้พรรค ',\n",
              " 'ไม่มีหมายเลข ',\n",
              " 'โดยจะเปิดให้โหวตถึงวันที่ 8 ส.ค. ก่อนหน้านี้ ',\n",
              " 'นายอภิสิทธิ์เสนอความเห็นว่า หาก กรธ.ต้องการแก้ปัญหาซื้อสิทธิขายเสียง ',\n",
              " 'ควรยกเลิกเบอร์ไปเลย ให้ใส่เฉพาะชื่อผู้สมัคร นามสกุล และโลโก้พรรค ที่สำนักงาน กกต. นายสมชัย ศรีสุทธิยากร กกต. กล่าวว่า รูปแบบการเลือกตั้ง ',\n",
              " 'ส.ส.ที่ กรธ.คิดขึ้น ',\n",
              " 'การเปลี่ยนแปลงครั้งนี้จะทำให้ประชาชนเกิดความสับสน ',\n",
              " 'แม้หลักการไม่ขัดต่อเจตนารมณ์รัฐธรรมนูญ ',\n",
              " 'ถ้าใช้บังคับ กกต.ก็สามารถปฏิบัติได้ แต่จะปฏิบัติได้ยาก แต่อาจมีปัญหาใน 3 ส่วน คือ 1.การจับสลากเพียงแค่จุดเดียว ',\n",
              " 'กกต.ต้องจัดชุดแยกดำเนินการใน 350 เขต หากเกิดกรณีปิดล้อมจับสลากไม่ได้จะเกิดปัญหา 2.การจัดพิมพ์บัตรเลือกตั้ง ',\n",
              " 'ยากควบคุมเรื่องคุณภาพ ',\n",
              " 'ต้องแยกพิมพ์แต่ละจังหวัดในโรงพิมพ์ท้องถิ่นเพื่อให้ทัน ',\n",
              " 'ผลคือจะมีบัตรปลอม ',\n",
              " 'นี่คือสิ่งที่ กกต.เป็นห่วงกลัวว่าจะเกิดการรั่วไหล เกิดการโกงกันทั้งประเทศ ยกเว้นว่าอยากทำให้โกงกันทั้งบ้านทั้งเมือง ก็ทำกระบวนการนี้ 3.การรวมคะแนน ',\n",
              " 'ปัญหาคือตรวจสอบของภาคประชาชน หรือองค์กรที่ร่วมตรวจสอบการเลือกตั้งจะทำได้ยาก ',\n",
              " 'คนที่บอกว่าทำแบบนี้แล้วการซื้อเสียงจะหมดไป ',\n",
              " 'ถ้าเกิดการซื้อเสียงมากกว่าเดิมกล้าพูดไหมว่าจะรับผิดชอบอย่างไร ',\n",
              " 'บ้านเมืองไม่ใช่ของเล่น ',\n",
              " 'ไม่ใช่อยากคิดอะไรเขียนอะไรใหม่ก็เอามาลองไปเรื่อย ',\n",
              " 'นายสมชัยกล่าวอีกว่า ที่ประชุม กกต.มีมติเห็นชอบขยายเวลาให้คณะอนุกรรมการสอบสวนข้อ ',\n",
              " 'เท็จจริงกรณี 9 รัฐมนตรี ที่ถูกร้องเรียนขาดคุณสมบัติในการดำรงตำแหน่งออกไปอีก 30 วัน ',\n",
              " 'นับแต่วันที่ 12 ส.ค.นี้ เพราะต้องรอข้อมูลให้ครบถ้วน และให้โอกาสรัฐมนตรีผู้ถูกกล่าวหาได้เข้าชี้แจง แต่คิดว่ากรอบเวลา 30 วันที่อนุกรรมการขอขยายมานี้จะไม่เพียงพอแต่ตามระเบียบแล้วจะขอขยายเวลาได้ครั้งละ 30 วันเท่านั้น ',\n",
              " 'วันเดียวกัน เวลา 09.00 น. ที่ทำเนียบรัฐบาล ก่อนการประชุมคณะรักษาความสงบแห่งชาติ (คสช.) และคณะรัฐมนตรี (ครม.) ',\n",
              " 'นางเพ็ญพักตร์ ศรีทอง เลขาธิการสภาสังคมสงเคราะห์แห่งประเทศไทย ',\n",
              " 'ในพระบรมราชูปถัมภ์ นำศิลปินดารา อาทิ นายพีรพัฒน์ สวัสดิ์มูล (พี สะเดิด) ',\n",
              " 'น.ส.สุรัตน์ติกานต์ พรรคเจริญ (เอิร์น เดอะสตาร์) และนายภูศิลป์ วารินรักษ์ (เต๋า) ร่วมรณรงค์ ',\n",
              " 'ประชาสัมพันธ์การจำหน่ายดอกมะลิงานวันแม่แห่งชาติประจำปี 2560 พร้อมกับติดเข็มกลัดดอกมะลิให้ พล.อ.ประยุทธ์ จันทร์โอชา นายกรัฐมนตรีและหัวหน้า คสช. และ ครม. พร้อมเชิญชวนคนไทยร่วมอุดหนุนผลิตภัณฑ์ดอกมะลิ โดยนายกฯกล่าวว่า วันแม่ ',\n",
              " 'รักแม่ให้มากๆ ',\n",
              " 'ขอบคุณที่ให้กำลังใจ เด็กๆถือเป็นผู้บริสุทธิ์ ทำอะไรให้คิดไปข้างหน้า ',\n",
              " 'ขอฝากภารกิจประเทศชาติกับทุกคน ',\n",
              " 'และให้กำลังใจซึ่งกันและกัน ',\n",
              " 'ต่อมา นพ.ธีระเกียรติ เจริญเศรษฐศิลป์ รมว.ศึกษาธิการ นำคณะเข้าพบนายกฯ เพื่อประชาสัมพันธ์โครงการผลิตสื่อการเรียนรู้และฝึกทักษะภาษาอังกฤษการสื่อสารเพื่อก้าวสู่อาชีพ (Echo VE) โดยสำนักงานคณะกรรมการการอาชีวศึกษาจัดทำแอพพลิเคชั่น EchoVE ใช้ได้กับโทรศัพท์ทั้งระบบแอนดรอยด์ และไอโอเอส เพื่อพัฒนาทักษะการฟัง พูด อ่าน เขียน ให้ผู้เรียนสายอาชีพมีทักษะภาษาอังกฤษเป็นที่ยอมรับในตลาดงาน ',\n",
              " 'จากนั้น พล.อ.ประยุทธ์ จันทร์โอชา นายกฯ แถลงภายหลังการประชุม ครม. ถึงข้อเสนอ กรธ.เตรียมบัญญัติให้ผู้สมัคร ส.ส.แบบเขตและแบบบัญชีรายชื่อ ',\n",
              " 'ไม่ใช้เบอร์เดียวกันเพื่อป้องกันการทุจริตซื้อเสียงว่า ยังอยู่ในขั้นตอนที่ กรธ.เสนอ ',\n",
              " 'ยังไม่มีความเห็นต้องรอฟังเมื่อเข้าสู่ขั้นตอนการพิจารณาของ สนช.ด้วย ตนให้สิทธิแก่แม่น้ำแต่ละสายทำงาน ',\n",
              " 'เป็นเรื่องที่จะทำงานร่วมกัน ',\n",
              " 'ต้องสร้างการรับรู้แก่ประชาชนตามรัฐธรรมนูญ ',\n",
              " 'เมื่อถามว่า แนวทางนี้จะลดการซื้อสิทธิ์ขายเสียงได้หรือไม่ ',\n",
              " 'พล.อ.ประยุทธ์ตอบว่า ไม่ได้อยู่ที่กฎหมายอย่างเดียว ',\n",
              " 'อยู่ที่ตัวคนด้วย ทั้งนักการเมือง พรรคการเมือง ประชาชนต้องไม่รับเงิน ',\n",
              " 'ปัญหาที่ผ่านมาทุกคนทราบดีอยู่แล้ว ',\n",
              " 'รับเงินแล้วประเทศได้อะไรนอกจากได้เงินมาเพียงเล็กน้อย ',\n",
              " 'ดังนั้นใครที่ให้เงินแสดงว่ามีเจตนาไม่บริสุทธิ์ เป็นพรรคการเมืองที่ไม่บริสุทธิ์ใจ ',\n",
              " 'อีกเรื่อง ',\n",
              " 'นายนรวิทย์ หล้าแหล่ง ทนายความ น.ส.ยิ่งลักษณ์ ชินวัตร อดีตนายกรัฐมนตรี ',\n",
              " 'คดีรับจำนำข้าว ',\n",
              " 'กล่าวถึงกรณีเจ้าหน้าที่ตำรวจดำเนินคดีกับผู้ประกอบการรถตู้สาธารณะที่รับจ้างประชาชนเดินทางมาให้กำลังใจ ',\n",
              " 'น.ส.ยิ่งลักษณ์ ในวันแถลงปิดคดีด้วยวาจาเมื่อวันที่ 1 ส.ค. ว่า ไม่รู้จักกับผู้ประกอบ ',\n",
              " 'การรถตู้ดังกล่าว ',\n",
              " 'ไม่รู้รายละเอียดข้อกล่าวหา ',\n",
              " 'ทราบแต่เพียงที่เป็นข่าว แต่มองว่ารถตู้รับจ้างที่ไม่ใช่รถประจำทาง สามารถวิ่งรับจ้างได้ทั่วไป ',\n",
              " 'เขาคงมีทนายความชี้แจงข้อเท็จจริง แต่ประเด็นสำคัญอยากให้ดูที่เจตนา ',\n",
              " 'ประชาชนที่มาให้กำลังใจ ',\n",
              " 'น.ส.ยิ่งลักษณ์ ',\n",
              " 'ไม่ได้มาชุมนุมสร้างความวุ่นวาย จึงไม่ทราบที่มาของการแจ้งข้อกล่าวหา ',\n",
              " 'เรื่องนี้เจ้าหน้าที่ปฏิบัติต้องระมัดระวังด้วย ',\n",
              " 'ส่วนการเตรียมพร้อมส่งคำแถลงปิดคดีด้วยลายลักษณ์อักษรคดีจำนำข้าวนั้น ทีมทนายความเตรียมการกันอยู่ ',\n",
              " 'โดยเตรียมข้อโต้แย้งพยานหลักฐานของโจทก์ทุกประเด็น ',\n",
              " 'ยืนยันจะส่งให้ศาลได้ภายในวันที่ 15 ส.ค. นายภูมิธรรม เวชยชัย เลขาธิการพรรคเพื่อไทย กล่าวว่า อ่านข่าวที่ระบุว่าพรรคเพื่อไทยเตรียมวางตัวหัวหน้าพรรคคนใหม่แล้ว ',\n",
              " 'ประหลาดใจว่าข่าวมาได้อย่างไร ',\n",
              " 'ยืนยันว่าไม่เป็นความจริง ',\n",
              " 'วันนี้พรรคเพื่อไทยยังอยู่ภายใต้การควบคุมของคำสั่ง คสช. ตั้งแต่มีการรัฐประหารพรรคต้องเผชิญกับภาวะถูกกระทำ มีข้อจำกัดต้องรับภาระจากคดีความต่างๆที่ฝ่ายผู้มีอำนาจมอบให้ ',\n",
              " 'เวลาส่วนใหญ่จึงอยู่ในสภาพต่อสู้กับคดี ',\n",
              " 'โดยเฉพาะ น.ส.ยิ่งลักษณ์ ชินวัตร แทบไม่มีเวลาสนใจกับเรื่องอื่น ',\n",
              " 'ยืนยันว่าไม่ได้เข้ามายุ่งเกี่ยวกับการบริหารจัดการภายในพรรคเลย ',\n",
              " 'ข้อมูลที่ระบุจะผลักดันนางมณฑาทิพย์ โกวิทเจริญกุล พี่สาวขึ้นมาเป็นหัวหน้าพรรคนั้นไม่เป็นความจริง ',\n",
              " 'จากที่รู้จักและมีโอกาสได้คุย ',\n",
              " 'นางมณฑาทิพย์ยืนยันว่าไม่ประสงค์และไม่เคยสนใจเข้ามาเกี่ยวข้องกับเรื่องการเมืองเลย ',\n",
              " 'นายภูมิธรรมกล่าวต่อว่า ',\n",
              " 'ส่วนกระแสข่าวว่านายสมชาย วงศ์สวัสดิ์ อดีตนายกฯ และคุณหญิงสุดารัตน์ เกยุราพันธุ์ แกนนำพรรคเพื่อไทย จะเข้ามาเป็นหัวหน้าพรรค จนเกิดกระแสข่าวความขัดแย้งในพรรคนั้น ยืนยันพรรคเพื่อไทยยังมีความสามัคคีภายในแนบแน่น ',\n",
              " 'ยังเร็วเกินไปที่จะพูดเรื่องนี้ ',\n",
              " 'ยืนยันว่าพรรคเพื่อไทยมีบุคลากรคุณภาพจำนวนมาก พร้อมรับภาระหน้าที่นำพาพรรครับใช้ประชาชน และขึ้นอยู่กับสถานการณ์ขณะนั้นว่าต้องการคุณสมบัติผู้นำเช่นไร ',\n",
              " 'เราพร้อมสนับสนุนคนที่มีคุณสมบัติเหมาะกับสถานการณ์ ',\n",
              " 'นายวิม รุ่งวัฒนจินดา ',\n",
              " 'หนึ่งในทีมงานของ น.ส.ยิ่งลักษณ์กล่าวว่า ยืนยันว่ากระแสข่าวที่เกิดขึ้นไม่เป็นความจริง ',\n",
              " 'ตั้งแต่ถูกรัฐประหารมา ',\n",
              " 'น.ส.ยิ่งลักษณ์มุ่งแต่เรื่องต่อสู้คดีรับจำนำข้าว ',\n",
              " 'ไม่ได้เข้าไปมีส่วนในกิจกรรมทางการเมืองของพรรค ',\n",
              " 'นอกจากนี้ นางมณฑาทิพย์ไม่สนใจการเมือง ',\n",
              " 'ใช้ชีวิตแบบเรียบง่ายเป็นแม่บ้าน ',\n",
              " 'ไม่เอาตัวเองมายุ่งเกี่ยวการเมืองที่วุ่นวายแน่ ',\n",
              " 'ทั้งนี้ ผู้นำพรรคต้องเป็นที่ยอมรับของพี่น้องประชาชน ',\n",
              " 'ไม่ใช่ตระกูลชินวัตรจะเป็นผู้กำหนด ที่พรรคเพื่อไทย ',\n",
              " 'นายวัฒนา เมืองสุข อดีต รมว.พาณิชย์ และแกนนำพรรคเพื่อไทย แถลงว่า หลังเข้าพบพนักงานสอบสวน บก.ปอท. พร้อมทนายความ มาทราบภายหลังว่า คสช.ต้องการให้พนักงานสอบสวนนำตนไปขออำนาจศาลฝากขัง ',\n",
              " 'และจะคัดค้านการประกันตัว ',\n",
              " 'เรื่องนี้ถือเป็นการสร้างมาตรฐานใหม่ ',\n",
              " 'เมื่อแสดงความเห็นไม่ถูกใจผู้มีอำนาจจะกลายเป็นความผิด ',\n",
              " 'โดยใช้คำว่าความมั่นคงเป็นข้ออ้าง โดยเฉพาะผู้ที่ได้รับมอบอำนาจจาก คสช.ให้มาร้องทุกข์กล่าวโทษตน ',\n",
              " 'กลับมีพฤติกรรมแทรกแซงการทำงานพนักงานสอบสวน ',\n",
              " 'มีการดำเนินการที่ผิดไปจากกฎหมายและแนวทางปฏิบัติ ',\n",
              " 'มีเจตนาจะเอาตัวตนไปศาลให้ได้ ',\n",
              " 'พฤติการณ์ที่เห็นถ้า พล.อ.ประยุทธ์อยากเอาใครเข้าคุก ก็ต้องเป็นไปตามนั้น คำสั่ง พล.อ.ประยุทธ์กลายเป็นกฎหมายไปแล้วหรือ จะปล่อยให้เป็นแบบนี้หรือ การที่ พล.อ.ประยุทธ์ระบุว่าถูกแบล็กลิสต์ห้ามเดินทางไปต่างประเทศ ',\n",
              " 'แสดงว่าเขาไม่ให้การยอมรับ แต่ยังไม่รู้ตัว ',\n",
              " 'เป็นเรื่องน่าอับอายที่ผู้นำของเราไปต่างประเทศไปเจรจาไม่ได้ ',\n",
              " 'ที่ทำเนียบรัฐบาล พล.อ.ประยุทธ์ จันทร์โอชา นายกฯ แถลงภายหลังประชุม ครม. ถึงภาพข่าวว่านายวุฒิพงศ์ กชธรรมคุณ หรือโกตี๋ ผู้ต้องหาตามประมวลกฎหมายอาญามาตรา 112 เสียชีวิตในสาธารณรัฐประชาธิปไตยประชาชนลาว ',\n",
              " '(สปป.ลาว) ว่า ได้เห็นภาพแล้ว แต่ยังไม่มีใครรายงานเข้ามา ',\n",
              " 'ไม่ทราบว่าเป็นภาพถ่ายจากที่ใด และการประชุม ',\n",
              " 'คสช.วันนี้ ',\n",
              " 'มีการรายงานสถานการณ์ทางการเมืองเน้นที่การประเมินสถานการณ์ด้านความมั่นคง ทั้งการเตรียมความพร้อมในงานพระราชพิธีถวายพระเพลิงพระบรมศพรัชกาลที่ 9 ต้องรักษาสถานการณ์และเสถียรภาพรัฐบาลให้ได้ ให้ทุกคนปฏิบัติตามกฎหมาย ',\n",
              " 'ขอฝากเตือนทุกกลุ่มทุกพวกด้วยอย่าทำผิดกฎหมาย พล.อ.ประวิตร วงษ์สุวรรณ รองนายกรัฐมนตรีและ รมว.กลาโหม กล่าวถึงมาตรการเพิ่มเติมในการ รับมือมวลชนที่จะเดินทางมาให้กำลังใจ ',\n",
              " 'น.ส.ยิ่งลักษณ์ ชินวัตร อดีตนายกรัฐมนตรี ในวันที่ 25 ส.ค. เพื่อฟังคำตัดสินคดีรับจำนำข้าว ',\n",
              " 'หลังจากมีการตรวจสอบเรื่องรถตู้ที่ขนคนมา ว่าไม่มีมาตรการอื่นเพิ่มเติม ',\n",
              " 'บอกไปแล้วว่า ไม่ต้องมา จะมาทำไม คงไม่ต้องประชุมประเมินสถานการณ์อะไร ',\n",
              " 'ส่วนที่ ผบ.ทบ.บอกว่าจะมีการประชุมเพื่อประเมินสถานการณ์นั้น ผบ.ทบ.เขาประชุม ตนไม่ได้ประชุมกับเขา ',\n",
              " 'ส่วนข่าวการเสียชีวิตของนายวุฒิพงศ์ กชธรรมคุณ หรือโกตี๋ ที่มีภาพว่าพบศพแล้วนั้น ',\n",
              " 'ยังไม่ทราบ ',\n",
              " 'ยังไม่ได้ประสานไปยัง สปป.ลาว ',\n",
              " 'ศพที่เห็นเป็นศพใครก็ไม่รู้ ',\n",
              " 'และเราไม่รู้ว่าจะตามยังไง ',\n",
              " 'นายวุฒิพงศ์อยู่ที่นั่นจริงหรือไม่ หรือไปเสียชีวิตที่นั่นหรือไม่ ',\n",
              " 'ก็ไม่รู้ แต่เรายังตามตัวอยู่ ก็ยังไม่พบ ',\n",
              " 'เท่าที่เจ้าหน้าที่ประสานกับทางการลาว ก็ไม่รายงานอะไรเข้ามา ',\n",
              " 'เขาบอกว่าไม่รู้เรื่องเช่นกัน ที่กองบัญชาการกองทัพบก (บก.ทบ.) พล.อ.เฉลิมชัย ',\n",
              " 'สิทธิสาท ผบ.ทบ. ในฐานะเลขาธิการ คสช. กล่าวถึงการประชุม คสช. ว่า นายกฯยังไม่ได้กำชับอะไรเป็นพิเศษ อยู่ระหว่างประเมินสถานการณ์ที่จะมีมวลชนเดินทางมาให้กำลังใจ ',\n",
              " 'น.ส.ยิ่งลักษณ์ ชินวัตร อดีตนายกฯ ',\n",
              " 'ช่วงสัปดาห์หน้าจะเชิญหน่วยงานที่ดูแลด้านความปลอดภัยเข้าประชุม ',\n",
              " 'เพื่อกำหนดแนวทาง ',\n",
              " 'คิดว่าจะมอบหมายให้เจ้าหน้าที่ตำรวจดูแลเป็นหลัก ',\n",
              " 'เหมือนทุกครั้งที่ผ่านมา ',\n",
              " 'มองว่าไม่น่าห่วงใยอะไรมากนัก ',\n",
              " 'และเจ้าหน้าที่มีการตรวจสอบการเช่าเหมารถตู้มาให้กำลังใจอยู่ ',\n",
              " 'สิ่งใดที่เป็นเรื่องผิดกฎหมายต้องตรวจสอบ และติดตามเพื่อดำเนินการตามกฎหมาย บอกแล้วถ้ามาโดยมีเจตนาบริสุทธิ์ใจเพื่อให้กำลังใจ ก็ไม่มีปัญหา ',\n",
              " 'แต่ถ้ามีกระบวนการยุยงปลุกปั่นเป็นเรื่องที่ทำไม่ได้ ',\n",
              " 'และไม่สมควร ',\n",
              " 'หน่วยงานด้านการข่าวทำงานอยู่ตลอดเวลาเพื่อประเมินสถานการณ์ แต่คิดว่าไม่มีอะไรมาก ',\n",
              " 'หากคนมามากแล้วเรียบร้อย ',\n",
              " 'ดีกว่าคนมาน้อยแต่วุ่นวาย ',\n",
              " 'เมื่อถามถึงกรณีมีภาพปรากฏทางโซเชียลมีเดีย ',\n",
              " 'มีชายสวมเสื้อสีแดงเสียชีวิตที่ สปป.ลาว ',\n",
              " 'คาดว่าเป็นนายวุฒิพงศ์ กชธรรมคุณ หรือโกตี๋ พล.อ.เฉลิมชัยตอบว่า ยังไม่เห็นภาพจึงไม่กล้าวิจารณ์ว่าใช่หรือไม่ใช่ ',\n",
              " 'อีกทั้งเหตุไม่ได้เกิดขึ้นในประเทศไทย ',\n",
              " 'จึงเป็นเรื่องที่ยากที่จะยืนยัน ',\n",
              " 'อย่างไรก็ตามภาพเหล่านี้สามารถตัดต่อ ตกแต่งและดึงมาจากที่ไหนก็ได้ ',\n",
              " 'ไม่อยากให้เป็นประเด็น ',\n",
              " 'เพราะไม่ทราบจริงๆ ',\n",
              " 'ส่วนทางผู้ช่วยทูตทหารประจำประเทศลาวได้ติดตามงานข่าวอยู่ ',\n",
              " 'เพียงแต่ยังไม่มีข้อมูลเพิ่มเติม ได้รับทราบตามข้อมูลข่าวเท่านั้น แต่เชื่อว่าไม่มีผลอะไร พล.อ.ทวีป ',\n",
              " 'เนตรนิยม เลขาธิการสภาความมั่นคงแห่งชาติ (สมช.) ว่า ยังไม่มีการยืนยันเรื่องของนายโกตี๋ ',\n",
              " 'ตราบใดที่ไม่มีอะไรยืนยันมาเรายังต้องสืบหาต่อไป ',\n",
              " 'ภาพบางภาพที่มาที่ไปอาจมีการตกแต่ง หรือทำอะไรขึ้นมาก็ได้ ',\n",
              " 'ต้องระวังอย่าเพิ่งเชื่อในสิ่งที่เห็น ต้องพิสูจน์ให้ได้ ',\n",
              " 'เมื่อถามว่าสมมติฐานเรื่องความขัดแย้งในกลุ่มเสื้อแดงกันเองยังใช้ได้หรือไม่ ',\n",
              " 'พล.อ.ทวีปตอบว่า ในกลุ่มคนเสื้อแดงกันเองยังมีอุดมการณ์ไม่เหมือนกัน ',\n",
              " 'บางคนก็รุนแรง แต่บางคนก็บอกว่าไม่ควรทำอะไรรุนแรงขนาดนั้น ',\n",
              " 'ที่ศาลอาญา พล.ต.จำลอง ศรีเมือง อดีตแกนนำพันธมิตรประชาชนเพื่อประชาธิปไตย (พธม.)\\xa0กล่าวถึงกรณีกลุ่มพันธมิตรฯ ยื่นเรื่องให้คณะกรรมการป้องกันและปราบปรามการทุจริตแห่งชาติ (ป.ป.ช.) ยื่นอุทธรณ์ในคดีการสลายชุมนุมเมื่อปี 2551 ว่า ผลจะออกมาประการใดแล้วแต่ศาล ',\n",
              " 'เมื่อถามถึงกรณีแนวร่วมประชาธิปไตยต่อต้านเผด็จการแห่งชาติ (นปช.) เรียกร้องให้ ',\n",
              " 'ป.ป.ช.สั่งฟ้องคดีสลายการชุมนุมของ นปช.ด้วย พล.ต.จำลองตอบว่า ใครจะทำอะไรก็ทำ ',\n",
              " 'ยืนยันพร้อมรับฟังและปฏิบัติตามคำพิพากษาทุกประการ ',\n",
              " 'ไม่ว่าจะออกมาหนักหรือเบา ',\n",
              " 'หากเราเคารพกฎหมายบ้านเมือง ทุกอย่างก็จะดำเนินไปได้ด้วยดี ',\n",
              " 'นายมีชัย ฤชุพันธุ์ ',\n",
              " 'ประธาน กรธ. กล่าวว่า ต้องดูว่าถ้า ป.ป.ช.ไม่ยื่นอุทธรณ์โดยไม่สุจริต ',\n",
              " 'ประชาชนสามารถใช้สิทธิตามรัฐธรรมนูญ ',\n",
              " 'ด้วยการเข้าชื่อส่งไปยังประธานรัฐสภา เพื่อเสนอเรื่องไปยังประธานศาลฎีกาให้ตั้งคณะผู้ไต่สวนอิสระได้ แต่การร้องเรียนนั้นต้องมีหลักฐานที่ชัดเจน ',\n",
              " 'ไม่ได้เป็นการกล่าวหาลอยๆ ที่ทำเนียบรัฐบาล พ.อ.หญิงทักษดา สังขจันทร์ ผู้ช่วยโฆษกประจำสำนักนายกรัฐมนตรี แถลงว่า ที่ประชุม ครม.อนุมัติแต่งตั้งข้าราชการกระทรวงต่างๆ อาทิ นายเลิศวิโรจน์ โกวัฒนะ เป็นปลัดกระทรวงเกษตรและสหกรณ์ ',\n",
              " 'น.ส.บรรจงจิตต์ อังศุสิงห์ เป็นรองปลัดกระทรวงพาณิชย์ ',\n",
              " 'นางกุลณี อิศดิศัย เป็นอธิบดีกรมพัฒนาธุรกิจการค้า ',\n",
              " 'นายบุณยฤทธิ์ กัลยาณมิตร เป็นอธิบดีการค้าภายใน ',\n",
              " 'นางจันทิรา ',\n",
              " 'ยิมเรวัต วิวัฒน์รัตน์ เป็นอธิบดีกรมส่งเสริมการค้าระหว่างประเทศ ',\n",
              " 'นายสุทธิพงษ์ จุลเจริญ เป็นอธิบดีกรมส่งเสริมการปกครองท้องถิ่น ',\n",
              " 'นายบุญธรรม เลิศสุขีเกษม เป็นรองปลัดกระทรวงฯ ',\n",
              " 'นายเกียรติศักดิ์ จันทรา เป็นผู้ตรวจราชการกระทรวงฯ ',\n",
              " 'นายสมชาย วิทย์ดำรง ผวจ.ฉะเชิงเทรา เป็น ผวจ.นครพนม\\xa0นายสุวิทย์ ',\n",
              " 'คำดี ',\n",
              " 'ผวจ.กาฬสินธุ์ เป็น ผวจ.ฉะเชิงเทรา พ.อ.อธิสิทธิ์ ไชยนุวัติ ผู้ช่วยโฆษกประจำสำนักนายกรัฐมนตรี แถลงว่า ที่ประชุมร่วม คสช. จะมีการออกคำสั่งหัวหน้า คสช. 3 ฉบับ คือ 1.เกี่ยวกับการให้อำนาจสถาบันอุดมศึกษา เพื่อ ให้อำนาจสถาบันอุดมศึกษาแต่งตั้งบุคคลที่อาจไม่ได้เป็นข้าราชการพลเรือนมาดำรงตำแหน่งอธิการบดี รองอธิการบดี ผู้ช่วยอธิการบดี คณบดี หรือหัวหน้าหน่วยงานต่างๆ 2.การเพิ่มประสิทธิภาพในการป้องกันและปราบปรามการฟอกเงิน เพื่อปรับปรุงแก้ไของค์ประกอบขอบเขตอำนาจหน้าที่ของ ปปง. และ 3.แนวคิดการรวมหน่วยงานบริหารจัดการน้ำของรัฐบาล ',\n",
              " 'เพื่อรวมหน่วยงานบริหารจัดการน้ำของภาครัฐทั้งหมดเข้าด้วยกัน ',\n",
              " 'และต้องการแก้ปัญหาน้ำอย่างยั่งยืน ',\n",
              " 'โดยจัดตั้งเป็นสำนักงานทรัพยากรน้ำแห่งชาติ ขึ้นตรงกับสำนักนายกรัฐมนตรี ภายใต้การบังคับบัญชาของนายกรัฐมนตรี ',\n",
              " 'ชี้แจงรายละเอียดสำหรับบุคลากรจากหน่วยงานที่เกี่ยวข้องที่ต้องมีการโยกย้ายมายังสำนักดังกล่าว ',\n",
              " 'โดยสำนักงานคณะกรรมการพัฒนาระบบราชการ (กพร.) และจะออกเป็นคำสั่ง ',\n",
              " 'คสช.ต่อไป ',\n",
              " 'ช่วงบ่ายวันเดียวกันที่ห้องสีงาช้าง ตึกไทยคู่ฟ้า ทำเนียบรัฐบาล นายเร็กซ์ เวย์น ทิลเลอร์สัน รมว.ต่างประเทศสหรัฐอเมริกา เข้าเยี่ยมคารวะ พล.อ.ประยุทธ์ จันทร์โอชา นายกฯและหัวหน้า คสช. ',\n",
              " 'ต่อมา พล.ท.วีรชน สุคนธปฏิภาค รองโฆษกประจำสำนักนายกรัฐมนตรี กล่าวว่า นายเร็กซ์ เวย์น ทิลเลอร์สัน ได้ร่วมลงนามในสมุดแสดงความอาลัยต่อการสวรรคตของพระบาทสมเด็จพระปรมินทรมหาภูมิพลอดุลยเดช ',\n",
              " 'บรมนาถบพิตร สะท้อนถึงความผูกพันและความสัมพันธ์ที่แน่นแฟ้น ซึ่งนายกฯย้ำว่าไทยให้ความสำคัญและเห็นสหรัฐฯมีบทบาทมากในประชาคมโลก ทั้งในเรื่องความมั่นคง การค้ามนุษย์ ก่อการร้าย อาชญากรรมข้ามชาติ ',\n",
              " 'นอกจากนี้ ทั้ง 2 ฝ่าย เห็นพ้องความร่วมมือด้านเศรษฐกิจ และความสัมพันธ์ระหว่างประชาชน พล.อ.ประยุทธ์กล่าวถึงความคืบหน้าการเดินทางเยือนสหรัฐอเมริกาอย่างเป็นทางการตามคำเชิญของนายโดนัลด์ ทรัมป์ ประธานาธิบดีสหรัฐอเมริกา ว่า เบื้องต้นตนจะเดินทางไปเยือนสหรัฐฯในเดือน ',\n",
              " 'ต.ค.นี้ ทางนายโดนัลด์ ทรัมป์ ไม่ได้ตั้งเงื่อนไขอะไร ',\n",
              " 'เราแสดงชัดเจนไปแล้วว่าปฏิบัติตามมติพันธะกรณีต่างๆของสหประชาชาติ ',\n",
              " 'ส่วนกรณีที่ตนพูดว่ามีบางประเทศไม่เชิญไปเยือนนั้น มี 2 อย่าง ',\n",
              " 'ถ้าเป็นเรื่องการประชุมเวทีนานาชาติตนเดินทางไปหมด แต่การเยือนอย่างเป็นทางการไปไม่ได้ ',\n",
              " 'เพราะเป็นผู้นำรัฐบาลแบบนี้ ',\n",
              " 'คนละประเด็นกัน ',\n",
              " 'ไม่ใช่ว่าเขารังเกียจอะไร แต่กฎหมายเขาเป็นอย่างนั้น ',\n",
              " 'วันข้างหน้าที่ทุกอย่างจะกลับมาเป็นปกติ']"
            ]
          },
          "metadata": {
            "tags": []
          },
          "execution_count": 20
        }
      ]
    },
    {
      "cell_type": "code",
      "metadata": {
        "colab": {
          "base_uri": "https://localhost:8080/"
        },
        "id": "1lUFfOP10zM3",
        "outputId": "e6dc28cc-c092-4058-c29e-c889746f6395"
      },
      "source": [
        "summaries_oracle_a = oracle_a(data_segmented_sentence, gold_summaries_sentence_segmented)"
      ],
      "execution_count": null,
      "outputs": [
        {
          "output_type": "stream",
          "text": [
            "11000it [00:11, 941.34it/s]\n"
          ],
          "name": "stderr"
        }
      ]
    },
    {
      "cell_type": "code",
      "metadata": {
        "colab": {
          "base_uri": "https://localhost:8080/"
        },
        "id": "upLPhQLT23yI",
        "outputId": "48aae59e-7bf0-441c-dc14-80fa96ada152"
      },
      "source": [
        "# summaries_oracle_a[0][:10]\n",
        "text_summaries_oracle_a = summaries_oracle_a[0]\n",
        "text_summaries_oracle_a[:5]"
      ],
      "execution_count": null,
      "outputs": [
        {
          "output_type": "execute_result",
          "data": {
            "text/plain": [
              "['ผลช้าไปชั่วโมงสองชั่วโมงไม่เห็นเป็นไร แสลงหูชื่อ สมชัย ชิ่งหนีดื้อๆ พรเพชร ให้นายกฯ ตัดสินใจปลดล็อกพรรคการเมือง 34 สนช.ยื่นตีความต่อวาระให้ผู้ตรวจฯ ส่อขัด รธน. พท.ดาหน้าฉะ ซือแป๋ ใครแน่ดูถูกประชาชน แสลงชื่อสมชัยเดินหนี มีชัย ไม่ยี่หระเสียงค้านชงสูตรพิสดารเลือกตั้ง ส.ส. ประกาศ ',\n",
              " 'เมินประเด็นจุดโทษปัญหาในเกมพรีเมียร์ลีก อังกฤษ นัดที่แตนอาละวาดเปิดบ้านพ่าย คริสตัล พาเลซ 0-1ชี้ทีมของเขาเล่นไม่ดีพอเอง กีเก ซานเชซ ฟลอเรส\\xa0 กุนซือเลือดกระทิงของทีมวัตฟอร์ด\\xa0 ',\n",
              " 'เบื้องต้นพบผู้เสียชีวิตแล้ว 30 ศพ บาดเจ็บ 400 ราย ระบบสาธารณูปโภคพังพินาศ ทางการเร่งระดมเจ้าหน้าที่ตำรวจ เนปาลระทึก หลังเกิดพายุฝนฟ้าคะนองถล่มทางใต้ สร้างความเสียหายหลายหมู่บ้าน ',\n",
              " 'ระหว่าง 17-18 พ.ค. ที่ห้องอาซัวร์ เรเนซองส์ เป็นศูนย์รวมของความคิดสร้างสรรค์และคอมมูนิตี้คนรุ่นใหม่ ล่าสุด อุสรา ยงปิยะกุล คว้าศิลปินไทยรุ่นใหม่จากนิวยอร์ก กันตภณ เมธีกุล มาร่วมคอลลาโบเรชั่น สินค้าลิมิเต็ด อิดิชั่น ODS X GONGKAN ให้คนรักงานศิลป์คนไทย ริเริ่มจัดบุฟเฟต์ทุเรียนจนเป็นเทรนด์นิยม ปีนี้ ',\n",
              " 'บ้านตะวันลับ Twilight Villa ถูกจัดตั้งขึ้นในปี 2010 เพื่อแก้ไขปัญหาผู้สูงอายุที่ถูกทอดทิ้งเพิ่มมากขึ้นในสังคมเมียนมา ปัจจุบันมีผู้พักอาศัยอยู่ในบ้านหลังนี้ราว 120 คน ส่วนใหญ่มีอายุ 70 ปีขึ้นไป แต่เนื่องจากพื้นที่ของบ้านมีขนาดไม่ใหญ่มาก สังคมเมียนมากำลังก้าวเข้าสู่สังคมผู้สูงอายุ ']"
            ]
          },
          "metadata": {
            "tags": []
          },
          "execution_count": 22
        }
      ]
    },
    {
      "cell_type": "code",
      "metadata": {
        "colab": {
          "base_uri": "https://localhost:8080/",
          "height": 53
        },
        "id": "eHrUDkeclGEx",
        "outputId": "77e4d8dd-80b6-44f2-ebaa-ec734e438440"
      },
      "source": [
        "gold_summaries[0]"
      ],
      "execution_count": null,
      "outputs": [
        {
          "output_type": "execute_result",
          "data": {
            "application/vnd.google.colaboratory.intrinsic+json": {
              "type": "string"
            },
            "text/plain": [
              "'มีชัย ไม่ยี่หระเสียงค้านชงสูตรพิสดารเลือกตั้ง ส.ส. ประกาศ ผลช้าไปชั่วโมงสองชั่วโมงไม่เห็นเป็นไร แสลงหูชื่อ สมชัย ชิ่งหนีดื้อๆ พรเพชร ให้นายกฯ ตัดสินใจปลดล็อกพรรคการเมือง'"
            ]
          },
          "metadata": {
            "tags": []
          },
          "execution_count": 23
        }
      ]
    },
    {
      "cell_type": "code",
      "metadata": {
        "colab": {
          "base_uri": "https://localhost:8080/"
        },
        "id": "UYuBgmgRSwfa",
        "outputId": "5dc2ccbf-684b-4434-dafc-718f9924b6b5"
      },
      "source": [
        "r1, r2, rl = evaluate_rouge(text_summaries_oracle_a, gold_summaries, tokenizer)\n",
        "print(r1, r2, rl)"
      ],
      "execution_count": null,
      "outputs": [
        {
          "output_type": "stream",
          "text": [
            "0.7808340934426083 0.7448053091355908 0.76082355242242\n"
          ],
          "name": "stdout"
        }
      ]
    },
    {
      "cell_type": "code",
      "metadata": {
        "colab": {
          "base_uri": "https://localhost:8080/"
        },
        "id": "dk60_c-bf3g1",
        "outputId": "e90ac756-e61b-4526-d2cd-6f70af25ca8d"
      },
      "source": [
        "BERTScore = cal_batch_bert_score(text_summaries_oracle_a, gold_summaries, batch_size=128)"
      ],
      "execution_count": null,
      "outputs": [
        {
          "output_type": "stream",
          "text": [
            "  1%|          | 1/86 [00:09<13:38,  9.63s/it]Warning: Empty candidate sentence detected; setting precision to be 0.\n",
            "  2%|▏         | 2/86 [00:18<13:17,  9.49s/it]Warning: Empty candidate sentence detected; setting precision to be 0.\n",
            "  3%|▎         | 3/86 [00:28<13:05,  9.46s/it]Warning: Empty candidate sentence detected; setting precision to be 0.\n",
            "Warning: Empty candidate sentence detected; setting precision to be 0.\n",
            "  5%|▍         | 4/86 [00:37<12:59,  9.50s/it]Warning: Empty candidate sentence detected; setting precision to be 0.\n",
            "  6%|▌         | 5/86 [00:47<12:46,  9.46s/it]Warning: Empty candidate sentence detected; setting precision to be 0.\n",
            "Warning: Empty candidate sentence detected; setting precision to be 0.\n",
            "  8%|▊         | 7/86 [01:06<12:43,  9.66s/it]Warning: Empty candidate sentence detected; setting precision to be 0.\n",
            "Warning: Empty candidate sentence detected; setting precision to be 0.\n",
            " 10%|█         | 9/86 [01:26<12:25,  9.68s/it]Warning: Empty candidate sentence detected; setting precision to be 0.\n",
            " 12%|█▏        | 10/86 [01:35<12:06,  9.57s/it]Warning: Empty candidate sentence detected; setting precision to be 0.\n",
            "Warning: Empty candidate sentence detected; setting precision to be 0.\n",
            " 16%|█▋        | 14/86 [02:14<11:50,  9.87s/it]Warning: Empty candidate sentence detected; setting precision to be 0.\n",
            " 17%|█▋        | 15/86 [02:23<11:20,  9.58s/it]Warning: Empty candidate sentence detected; setting precision to be 0.\n",
            " 19%|█▊        | 16/86 [02:32<11:07,  9.54s/it]Warning: Empty candidate sentence detected; setting precision to be 0.\n",
            " 20%|█▉        | 17/86 [02:43<11:16,  9.80s/it]Warning: Empty candidate sentence detected; setting precision to be 0.\n",
            "Warning: Empty candidate sentence detected; setting precision to be 0.\n",
            " 21%|██        | 18/86 [02:53<11:08,  9.83s/it]Warning: Empty candidate sentence detected; setting precision to be 0.\n",
            " 22%|██▏       | 19/86 [03:02<10:55,  9.78s/it]Warning: Empty candidate sentence detected; setting precision to be 0.\n",
            " 23%|██▎       | 20/86 [03:12<10:45,  9.77s/it]Warning: Empty candidate sentence detected; setting precision to be 0.\n",
            " 26%|██▌       | 22/86 [03:31<10:20,  9.70s/it]Warning: Empty candidate sentence detected; setting precision to be 0.\n",
            " 27%|██▋       | 23/86 [03:41<10:17,  9.80s/it]Warning: Empty candidate sentence detected; setting precision to be 0.\n",
            "Warning: Empty candidate sentence detected; setting precision to be 0.\n",
            " 28%|██▊       | 24/86 [03:52<10:14,  9.92s/it]Warning: Empty candidate sentence detected; setting precision to be 0.\n",
            "Warning: Empty candidate sentence detected; setting precision to be 0.\n",
            " 29%|██▉       | 25/86 [04:02<10:06,  9.94s/it]Warning: Empty candidate sentence detected; setting precision to be 0.\n",
            "Warning: Empty candidate sentence detected; setting precision to be 0.\n",
            " 30%|███       | 26/86 [04:12<10:06, 10.12s/it]Warning: Empty candidate sentence detected; setting precision to be 0.\n",
            " 31%|███▏      | 27/86 [04:22<09:53, 10.06s/it]Warning: Empty candidate sentence detected; setting precision to be 0.\n",
            " 33%|███▎      | 28/86 [04:32<09:34,  9.91s/it]Warning: Empty candidate sentence detected; setting precision to be 0.\n",
            "Warning: Empty candidate sentence detected; setting precision to be 0.\n",
            " 34%|███▎      | 29/86 [04:41<09:16,  9.76s/it]Warning: Empty candidate sentence detected; setting precision to be 0.\n",
            "Warning: Empty candidate sentence detected; setting precision to be 0.\n",
            " 35%|███▍      | 30/86 [04:51<09:10,  9.82s/it]Warning: Empty candidate sentence detected; setting precision to be 0.\n",
            " 36%|███▌      | 31/86 [05:01<08:59,  9.81s/it]Warning: Empty candidate sentence detected; setting precision to be 0.\n",
            " 38%|███▊      | 33/86 [05:20<08:38,  9.78s/it]Warning: Empty candidate sentence detected; setting precision to be 0.\n",
            "Warning: Empty candidate sentence detected; setting precision to be 0.\n",
            " 40%|███▉      | 34/86 [05:30<08:29,  9.80s/it]Warning: Empty candidate sentence detected; setting precision to be 0.\n",
            " 42%|████▏     | 36/86 [05:49<08:08,  9.76s/it]Warning: Empty candidate sentence detected; setting precision to be 0.\n",
            " 44%|████▍     | 38/86 [06:09<07:47,  9.74s/it]Warning: Empty candidate sentence detected; setting precision to be 0.\n",
            " 47%|████▋     | 40/86 [06:30<07:40, 10.01s/it]Warning: Empty candidate sentence detected; setting precision to be 0.\n",
            " 48%|████▊     | 41/86 [06:40<07:30, 10.00s/it]Warning: Empty candidate sentence detected; setting precision to be 0.\n",
            " 50%|█████     | 43/86 [07:00<07:16, 10.16s/it]Warning: Empty candidate sentence detected; setting precision to be 0.\n",
            " 51%|█████     | 44/86 [07:10<07:04, 10.11s/it]Warning: Empty candidate sentence detected; setting precision to be 0.\n",
            " 55%|█████▍    | 47/86 [07:42<06:47, 10.45s/it]Warning: Empty candidate sentence detected; setting precision to be 0.\n",
            " 56%|█████▌    | 48/86 [07:51<06:31, 10.30s/it]Warning: Empty candidate sentence detected; setting precision to be 0.\n",
            " 58%|█████▊    | 50/86 [08:12<06:10, 10.28s/it]Warning: Empty candidate sentence detected; setting precision to be 0.\n",
            " 59%|█████▉    | 51/86 [08:22<06:00, 10.30s/it]Warning: Empty candidate sentence detected; setting precision to be 0.\n",
            " 60%|██████    | 52/86 [08:32<05:47, 10.21s/it]Warning: Empty candidate sentence detected; setting precision to be 0.\n",
            " 62%|██████▏   | 53/86 [08:42<05:34, 10.15s/it]Warning: Empty candidate sentence detected; setting precision to be 0.\n",
            " 63%|██████▎   | 54/86 [08:52<05:22, 10.08s/it]Warning: Empty candidate sentence detected; setting precision to be 0.\n",
            " 64%|██████▍   | 55/86 [09:02<05:11, 10.05s/it]Warning: Empty candidate sentence detected; setting precision to be 0.\n",
            "Warning: Empty candidate sentence detected; setting precision to be 0.\n",
            " 65%|██████▌   | 56/86 [09:11<04:53,  9.77s/it]Warning: Empty candidate sentence detected; setting precision to be 0.\n",
            " 66%|██████▋   | 57/86 [09:22<04:47,  9.91s/it]Warning: Empty candidate sentence detected; setting precision to be 0.\n",
            " 69%|██████▊   | 59/86 [09:41<04:28,  9.94s/it]Warning: Empty candidate sentence detected; setting precision to be 0.\n",
            " 70%|██████▉   | 60/86 [09:51<04:14,  9.80s/it]Warning: Empty candidate sentence detected; setting precision to be 0.\n",
            " 71%|███████   | 61/86 [10:01<04:04,  9.77s/it]Warning: Empty candidate sentence detected; setting precision to be 0.\n",
            "Warning: Empty candidate sentence detected; setting precision to be 0.\n",
            " 72%|███████▏  | 62/86 [10:11<03:58,  9.96s/it]Warning: Empty candidate sentence detected; setting precision to be 0.\n",
            "Warning: Empty candidate sentence detected; setting precision to be 0.\n",
            " 76%|███████▌  | 65/86 [10:41<03:30, 10.02s/it]Warning: Empty candidate sentence detected; setting precision to be 0.\n",
            "Warning: Empty candidate sentence detected; setting precision to be 0.\n",
            " 77%|███████▋  | 66/86 [10:51<03:19,  9.96s/it]Warning: Empty candidate sentence detected; setting precision to be 0.\n",
            " 78%|███████▊  | 67/86 [11:01<03:10, 10.04s/it]Warning: Empty candidate sentence detected; setting precision to be 0.\n",
            " 80%|████████  | 69/86 [11:21<02:48,  9.90s/it]Warning: Empty candidate sentence detected; setting precision to be 0.\n",
            "Warning: Empty candidate sentence detected; setting precision to be 0.\n",
            " 81%|████████▏ | 70/86 [11:31<02:38,  9.88s/it]Warning: Empty candidate sentence detected; setting precision to be 0.\n",
            " 83%|████████▎ | 71/86 [11:40<02:26,  9.78s/it]Warning: Empty candidate sentence detected; setting precision to be 0.\n",
            " 84%|████████▎ | 72/86 [11:50<02:16,  9.77s/it]Warning: Empty candidate sentence detected; setting precision to be 0.\n",
            " 85%|████████▍ | 73/86 [12:00<02:08,  9.89s/it]Warning: Empty candidate sentence detected; setting precision to be 0.\n",
            "Warning: Empty candidate sentence detected; setting precision to be 0.\n",
            " 86%|████████▌ | 74/86 [12:11<02:02, 10.23s/it]Warning: Empty candidate sentence detected; setting precision to be 0.\n",
            " 87%|████████▋ | 75/86 [12:21<01:51, 10.12s/it]Warning: Empty candidate sentence detected; setting precision to be 0.\n",
            "Warning: Empty candidate sentence detected; setting precision to be 0.\n",
            " 88%|████████▊ | 76/86 [12:31<01:39,  9.98s/it]Warning: Empty candidate sentence detected; setting precision to be 0.\n",
            " 90%|████████▉ | 77/86 [12:41<01:29,  9.99s/it]Warning: Empty candidate sentence detected; setting precision to be 0.\n",
            " 94%|█████████▍| 81/86 [13:21<00:50, 10.00s/it]Warning: Empty candidate sentence detected; setting precision to be 0.\n",
            " 95%|█████████▌| 82/86 [13:32<00:41, 10.34s/it]Warning: Empty candidate sentence detected; setting precision to be 0.\n",
            " 97%|█████████▋| 83/86 [13:42<00:30, 10.13s/it]Warning: Empty candidate sentence detected; setting precision to be 0.\n",
            " 98%|█████████▊| 84/86 [13:51<00:20, 10.06s/it]Warning: Empty candidate sentence detected; setting precision to be 0.\n",
            " 99%|█████████▉| 85/86 [14:01<00:10, 10.04s/it]Warning: Empty candidate sentence detected; setting precision to be 0.\n",
            "100%|██████████| 86/86 [14:12<00:00,  9.91s/it]"
          ],
          "name": "stderr"
        },
        {
          "output_type": "stream",
          "text": [
            "[0.89319736, 0.8836837, 0.88032484, 0.8779398, 0.8858798, 0.8809267, 0.88100886, 0.87674797, 0.89173806, 0.87507653, 0.8732444, 0.88800573, 0.8811226, 0.8898343, 0.8793214, 0.8658464, 0.8761872, 0.8603794, 0.88456786, 0.88599443, 0.8757633, 0.89016646, 0.89399076, 0.87415874, 0.87273276, 0.880453, 0.8796413, 0.8908386, 0.8764343, 0.87796783, 0.88312936, 0.8836874, 0.8804669, 0.8573898, 0.87110853, 0.879704, 0.8681684, 0.890043, 0.8747535, 0.890775, 0.88171005, 0.87800777, 0.89452434, 0.8808714, 0.88298535, 0.8807734, 0.88243896, 0.8797245, 0.88437307, 0.88141817, 0.8905538, 0.88761854, 0.8906372, 0.88758254, 0.8784401, 0.87384605, 0.8899583, 0.8804734, 0.89921236, 0.88413066, 0.890375, 0.87512314, 0.87130505, 0.88755757, 0.8972032, 0.8746815, 0.8713199, 0.8795327, 0.8980079, 0.8765938, 0.8822874, 0.8898929, 0.89170563, 0.8693235, 0.88157827, 0.8730935, 0.882172, 0.8828261, 0.8888686, 0.8984972, 0.89771914, 0.89279693, 0.87961847, 0.87243587, 0.88805604, 0.8856912]\n"
          ],
          "name": "stdout"
        },
        {
          "output_type": "stream",
          "text": [
            "\n"
          ],
          "name": "stderr"
        }
      ]
    },
    {
      "cell_type": "code",
      "metadata": {
        "colab": {
          "base_uri": "https://localhost:8080/"
        },
        "id": "imVnGCq9q42T",
        "outputId": "e983793c-32a1-436b-e804-922510c7751f"
      },
      "source": [
        "print(BERTScore)"
      ],
      "execution_count": null,
      "outputs": [
        {
          "output_type": "stream",
          "text": [
            "0.8822086370268534\n"
          ],
          "name": "stdout"
        }
      ]
    },
    {
      "cell_type": "code",
      "metadata": {
        "id": "FAjPzlWrgyJG"
      },
      "source": [
        "np.save('text_summaries_oracle_a', np.array(text_summaries_oracle_a))"
      ],
      "execution_count": null,
      "outputs": []
    },
    {
      "cell_type": "markdown",
      "metadata": {
        "id": "0V7JlSwc8BtF"
      },
      "source": [
        "## Lead-3"
      ]
    },
    {
      "cell_type": "code",
      "metadata": {
        "id": "29u0T_mj9qSI"
      },
      "source": [
        "def lead_3(data):\n",
        "  ret = []\n",
        "  for text in tqdm(data):\n",
        "    ret.append(\"\".join(text[:3]))\n",
        "  return ret"
      ],
      "execution_count": null,
      "outputs": []
    },
    {
      "cell_type": "code",
      "metadata": {
        "colab": {
          "base_uri": "https://localhost:8080/"
        },
        "id": "mUlWABeV8EGa",
        "outputId": "16caabc8-5b0a-4919-ace2-908a1161c494"
      },
      "source": [
        "summaries_lead_3 = lead_3(data_segmented_sentence)"
      ],
      "execution_count": null,
      "outputs": [
        {
          "output_type": "stream",
          "text": [
            "100%|██████████| 11000/11000 [00:00<00:00, 283780.66it/s]\n"
          ],
          "name": "stderr"
        }
      ]
    },
    {
      "cell_type": "code",
      "metadata": {
        "colab": {
          "base_uri": "https://localhost:8080/"
        },
        "id": "xFab6WTYEpDy",
        "outputId": "c915774a-035f-4352-a83b-a1da46ed9d66"
      },
      "source": [
        "summaries_lead_3[:3]"
      ],
      "execution_count": null,
      "outputs": [
        {
          "output_type": "execute_result",
          "data": {
            "text/plain": [
              "['พอไม่ได้ดังใจก็ร่างใหม่ แสลงชื่อสมชัยเดินหนี มีชัย ไม่ยี่หระเสียงค้านชงสูตรพิสดารเลือกตั้ง ส.ส. ประกาศ ผลช้าไปชั่วโมงสองชั่วโมงไม่เห็นเป็นไร แสลงหูชื่อ สมชัย ชิ่งหนีดื้อๆ พรเพชร ให้นายกฯ ตัดสินใจปลดล็อกพรรคการเมือง 34 สนช.ยื่นตีความต่อวาระให้ผู้ตรวจฯ ส่อขัด รธน. พท.ดาหน้าฉะ ซือแป๋ ใครแน่ดูถูกประชาชน ',\n",
              " 'กีเก ซานเชซ ฟลอเรส\\xa0 กุนซือเลือดกระทิงของทีมวัตฟอร์ด\\xa0 เมินประเด็นจุดโทษปัญหาในเกมพรีเมียร์ลีก อังกฤษ นัดที่แตนอาละวาดเปิดบ้านพ่าย คริสตัล พาเลซ 0-1ชี้ทีมของเขาเล่นไม่ดีพอเอง สำนักข่าวต่างประเทศรายงานวันที่ 27 ก.ย. ว่า กีเก ซานเชซ ฟลอเรส\\xa0 ผู้จัดการทีมชาวสเปน ของ แตนอาละวาด วัตฟอร์ด\\xa0 ยอมรับทีมของเขาเล่นได้ไม่ดีพอเอง ',\n",
              " 'ตาย30-เจ็บ400 เส้นทางตัดขาด เข้าช่วยลำบาก เนปาลระทึก หลังเกิดพายุฝนฟ้าคะนองถล่มทางใต้ สร้างความเสียหายหลายหมู่บ้าน เบื้องต้นพบผู้เสียชีวิตแล้ว 30 ศพ บาดเจ็บ 400 ราย ระบบสาธารณูปโภคพังพินาศ ทางการเร่งระดมเจ้าหน้าที่ตำรวจ ']"
            ]
          },
          "metadata": {
            "tags": []
          },
          "execution_count": 36
        }
      ]
    },
    {
      "cell_type": "code",
      "metadata": {
        "colab": {
          "base_uri": "https://localhost:8080/"
        },
        "id": "rpTofOHCVc5s",
        "outputId": "467cb36d-6429-463e-89a7-0cde921a6189"
      },
      "source": [
        "gold_summaries[:3]"
      ],
      "execution_count": null,
      "outputs": [
        {
          "output_type": "execute_result",
          "data": {
            "text/plain": [
              "['มีชัย ไม่ยี่หระเสียงค้านชงสูตรพิสดารเลือกตั้ง ส.ส. ประกาศ ผลช้าไปชั่วโมงสองชั่วโมงไม่เห็นเป็นไร แสลงหูชื่อ สมชัย ชิ่งหนีดื้อๆ พรเพชร ให้นายกฯ ตัดสินใจปลดล็อกพรรคการเมือง',\n",
              " 'กีเก ซานเชซ ฟลอเรส  กุนซือเลือดกระทิงของทีมวัตฟอร์ด  เมินประเด็นจุดโทษปัญหาในเกมพรีเมียร์ลีก อังกฤษ นัดที่แตนอาละวาดเปิดบ้านพ่าย คริสตัล พาเลซ 0-1ชี้ทีมของเขาเล่นไม่ดีพอเอง',\n",
              " 'เนปาลระทึก หลังเกิดพายุฝนฟ้าคะนองถล่มทางใต้ สร้างความเสียหายหลายหมู่บ้าน เบื้องต้นพบผู้เสียชีวิตแล้ว 30 ศพ บาดเจ็บ 400 ราย ระบบสาธารณูปโภคพังพินาศ']"
            ]
          },
          "metadata": {
            "tags": []
          },
          "execution_count": 37
        }
      ]
    },
    {
      "cell_type": "code",
      "metadata": {
        "colab": {
          "base_uri": "https://localhost:8080/"
        },
        "id": "_QqpZsGJEwvD",
        "outputId": "ec97e2a9-12c5-483c-bd83-bf772eee4579"
      },
      "source": [
        "r1, r2, rl = evaluate_rouge(summaries_lead_3, gold_summaries, tokenizer)\n",
        "print(r1, r2, rl)"
      ],
      "execution_count": null,
      "outputs": [
        {
          "output_type": "stream",
          "text": [
            "0.604528036727442 0.5596666594573724 0.6195494182077482\n"
          ],
          "name": "stdout"
        }
      ]
    },
    {
      "cell_type": "code",
      "metadata": {
        "colab": {
          "base_uri": "https://localhost:8080/"
        },
        "id": "l5HmT2Verbvp",
        "outputId": "ff6f1400-85de-451e-e82d-c3c48121a455"
      },
      "source": [
        "BERTScore = cal_batch_bert_score(summaries_lead_3, gold_summaries, batch_size=128)"
      ],
      "execution_count": null,
      "outputs": [
        {
          "output_type": "stream",
          "text": [
            "100%|██████████| 86/86 [15:44<00:00, 10.99s/it]"
          ],
          "name": "stderr"
        },
        {
          "output_type": "stream",
          "text": [
            "[0.8345444, 0.8464756, 0.84273994, 0.8378253, 0.8387501, 0.8473702, 0.8320834, 0.83725685, 0.8413744, 0.8321419, 0.8419398, 0.84918404, 0.8347242, 0.8334775, 0.8336364, 0.832308, 0.8470652, 0.83865845, 0.8404116, 0.8402912, 0.8413036, 0.8509978, 0.84434867, 0.8459867, 0.8289015, 0.8424605, 0.8345797, 0.8530023, 0.8438095, 0.8451314, 0.83553374, 0.8405249, 0.83000356, 0.827894, 0.8329407, 0.8314443, 0.83256584, 0.8395792, 0.84691614, 0.8428999, 0.83579373, 0.8395871, 0.84907603, 0.8470104, 0.8377347, 0.8397471, 0.82915545, 0.83986306, 0.8349063, 0.84085053, 0.8430065, 0.83317757, 0.84134436, 0.83819497, 0.83277583, 0.8472707, 0.8360435, 0.83738154, 0.854439, 0.83460546, 0.8452349, 0.8466543, 0.83415437, 0.8331202, 0.8566128, 0.8388778, 0.83837813, 0.8298112, 0.8465066, 0.83458006, 0.8427532, 0.83417904, 0.8561456, 0.82710695, 0.84181404, 0.8374928, 0.8336501, 0.8468715, 0.849596, 0.8510137, 0.8446379, 0.84719455, 0.8470298, 0.83733153, 0.8330279, 0.82907903]\n"
          ],
          "name": "stdout"
        },
        {
          "output_type": "stream",
          "text": [
            "\n"
          ],
          "name": "stderr"
        }
      ]
    },
    {
      "cell_type": "code",
      "metadata": {
        "colab": {
          "base_uri": "https://localhost:8080/"
        },
        "id": "SD7kje2yrhqs",
        "outputId": "b85f170b-f03c-409c-ef05-15e7201d2944"
      },
      "source": [
        "BERTScore"
      ],
      "execution_count": null,
      "outputs": [
        {
          "output_type": "execute_result",
          "data": {
            "text/plain": [
              "0.8398593068122864"
            ]
          },
          "metadata": {
            "tags": []
          },
          "execution_count": 40
        }
      ]
    },
    {
      "cell_type": "code",
      "metadata": {
        "id": "TecOIS5Ugvn-"
      },
      "source": [
        "np.save('summaries_lead_3', np.array(summaries_lead_3))"
      ],
      "execution_count": null,
      "outputs": []
    }
  ]
}