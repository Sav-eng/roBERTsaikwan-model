{
  "nbformat": 4,
  "nbformat_minor": 0,
  "metadata": {
    "colab": {
      "name": "Copy of Metrics.ipynb",
      "provenance": [],
      "collapsed_sections": [],
      "toc_visible": true
    },
    "language_info": {
      "codemirror_mode": {
        "name": "ipython",
        "version": 3
      },
      "file_extension": ".py",
      "mimetype": "text/x-python",
      "name": "python",
      "nbconvert_exporter": "python",
      "pygments_lexer": "ipython3",
      "version": "3.6.7"
    },
    "kernelspec": {
      "name": "python3",
      "display_name": "Python 3"
    },
    "widgets": {
      "application/vnd.jupyter.widget-state+json": {
        "d36c8c40ca99467cbbc9ffd5f47f01ba": {
          "model_module": "@jupyter-widgets/controls",
          "model_name": "HBoxModel",
          "state": {
            "_view_name": "HBoxView",
            "_dom_classes": [],
            "_model_name": "HBoxModel",
            "_view_module": "@jupyter-widgets/controls",
            "_model_module_version": "1.5.0",
            "_view_count": null,
            "_view_module_version": "1.5.0",
            "box_style": "",
            "layout": "IPY_MODEL_4b4f9ac3ca7242c5948870fb3c7284be",
            "_model_module": "@jupyter-widgets/controls",
            "children": [
              "IPY_MODEL_6387592f3e98417f93695b90f1759f05",
              "IPY_MODEL_0d88c964d00e4397932803dcb4be940d"
            ]
          }
        },
        "4b4f9ac3ca7242c5948870fb3c7284be": {
          "model_module": "@jupyter-widgets/base",
          "model_name": "LayoutModel",
          "state": {
            "_view_name": "LayoutView",
            "grid_template_rows": null,
            "right": null,
            "justify_content": null,
            "_view_module": "@jupyter-widgets/base",
            "overflow": null,
            "_model_module_version": "1.2.0",
            "_view_count": null,
            "flex_flow": null,
            "width": null,
            "min_width": null,
            "border": null,
            "align_items": null,
            "bottom": null,
            "_model_module": "@jupyter-widgets/base",
            "top": null,
            "grid_column": null,
            "overflow_y": null,
            "overflow_x": null,
            "grid_auto_flow": null,
            "grid_area": null,
            "grid_template_columns": null,
            "flex": null,
            "_model_name": "LayoutModel",
            "justify_items": null,
            "grid_row": null,
            "max_height": null,
            "align_content": null,
            "visibility": null,
            "align_self": null,
            "height": null,
            "min_height": null,
            "padding": null,
            "grid_auto_rows": null,
            "grid_gap": null,
            "max_width": null,
            "order": null,
            "_view_module_version": "1.2.0",
            "grid_template_areas": null,
            "object_position": null,
            "object_fit": null,
            "grid_auto_columns": null,
            "margin": null,
            "display": null,
            "left": null
          }
        },
        "6387592f3e98417f93695b90f1759f05": {
          "model_module": "@jupyter-widgets/controls",
          "model_name": "FloatProgressModel",
          "state": {
            "_view_name": "ProgressView",
            "style": "IPY_MODEL_45840136e85840328f98a87227e77c41",
            "_dom_classes": [],
            "description": "Downloading: 100%",
            "_model_name": "FloatProgressModel",
            "bar_style": "success",
            "max": 546,
            "_view_module": "@jupyter-widgets/controls",
            "_model_module_version": "1.5.0",
            "value": 546,
            "_view_count": null,
            "_view_module_version": "1.5.0",
            "orientation": "horizontal",
            "min": 0,
            "description_tooltip": null,
            "_model_module": "@jupyter-widgets/controls",
            "layout": "IPY_MODEL_04c4fd33b197470c906d16580f644808"
          }
        },
        "0d88c964d00e4397932803dcb4be940d": {
          "model_module": "@jupyter-widgets/controls",
          "model_name": "HTMLModel",
          "state": {
            "_view_name": "HTMLView",
            "style": "IPY_MODEL_8d6a887a742a4c84a515afcd3b2d7b18",
            "_dom_classes": [],
            "description": "",
            "_model_name": "HTMLModel",
            "placeholder": "​",
            "_view_module": "@jupyter-widgets/controls",
            "_model_module_version": "1.5.0",
            "value": " 546/546 [00:00&lt;00:00, 7.77kB/s]",
            "_view_count": null,
            "_view_module_version": "1.5.0",
            "description_tooltip": null,
            "_model_module": "@jupyter-widgets/controls",
            "layout": "IPY_MODEL_4337eb8325314d3c81247777e212a8fb"
          }
        },
        "45840136e85840328f98a87227e77c41": {
          "model_module": "@jupyter-widgets/controls",
          "model_name": "ProgressStyleModel",
          "state": {
            "_view_name": "StyleView",
            "_model_name": "ProgressStyleModel",
            "description_width": "initial",
            "_view_module": "@jupyter-widgets/base",
            "_model_module_version": "1.5.0",
            "_view_count": null,
            "_view_module_version": "1.2.0",
            "bar_color": null,
            "_model_module": "@jupyter-widgets/controls"
          }
        },
        "04c4fd33b197470c906d16580f644808": {
          "model_module": "@jupyter-widgets/base",
          "model_name": "LayoutModel",
          "state": {
            "_view_name": "LayoutView",
            "grid_template_rows": null,
            "right": null,
            "justify_content": null,
            "_view_module": "@jupyter-widgets/base",
            "overflow": null,
            "_model_module_version": "1.2.0",
            "_view_count": null,
            "flex_flow": null,
            "width": null,
            "min_width": null,
            "border": null,
            "align_items": null,
            "bottom": null,
            "_model_module": "@jupyter-widgets/base",
            "top": null,
            "grid_column": null,
            "overflow_y": null,
            "overflow_x": null,
            "grid_auto_flow": null,
            "grid_area": null,
            "grid_template_columns": null,
            "flex": null,
            "_model_name": "LayoutModel",
            "justify_items": null,
            "grid_row": null,
            "max_height": null,
            "align_content": null,
            "visibility": null,
            "align_self": null,
            "height": null,
            "min_height": null,
            "padding": null,
            "grid_auto_rows": null,
            "grid_gap": null,
            "max_width": null,
            "order": null,
            "_view_module_version": "1.2.0",
            "grid_template_areas": null,
            "object_position": null,
            "object_fit": null,
            "grid_auto_columns": null,
            "margin": null,
            "display": null,
            "left": null
          }
        },
        "8d6a887a742a4c84a515afcd3b2d7b18": {
          "model_module": "@jupyter-widgets/controls",
          "model_name": "DescriptionStyleModel",
          "state": {
            "_view_name": "StyleView",
            "_model_name": "DescriptionStyleModel",
            "description_width": "",
            "_view_module": "@jupyter-widgets/base",
            "_model_module_version": "1.5.0",
            "_view_count": null,
            "_view_module_version": "1.2.0",
            "_model_module": "@jupyter-widgets/controls"
          }
        },
        "4337eb8325314d3c81247777e212a8fb": {
          "model_module": "@jupyter-widgets/base",
          "model_name": "LayoutModel",
          "state": {
            "_view_name": "LayoutView",
            "grid_template_rows": null,
            "right": null,
            "justify_content": null,
            "_view_module": "@jupyter-widgets/base",
            "overflow": null,
            "_model_module_version": "1.2.0",
            "_view_count": null,
            "flex_flow": null,
            "width": null,
            "min_width": null,
            "border": null,
            "align_items": null,
            "bottom": null,
            "_model_module": "@jupyter-widgets/base",
            "top": null,
            "grid_column": null,
            "overflow_y": null,
            "overflow_x": null,
            "grid_auto_flow": null,
            "grid_area": null,
            "grid_template_columns": null,
            "flex": null,
            "_model_name": "LayoutModel",
            "justify_items": null,
            "grid_row": null,
            "max_height": null,
            "align_content": null,
            "visibility": null,
            "align_self": null,
            "height": null,
            "min_height": null,
            "padding": null,
            "grid_auto_rows": null,
            "grid_gap": null,
            "max_width": null,
            "order": null,
            "_view_module_version": "1.2.0",
            "grid_template_areas": null,
            "object_position": null,
            "object_fit": null,
            "grid_auto_columns": null,
            "margin": null,
            "display": null,
            "left": null
          }
        },
        "d1759f1f8aef41858ba16c9a5a95a537": {
          "model_module": "@jupyter-widgets/controls",
          "model_name": "HBoxModel",
          "state": {
            "_view_name": "HBoxView",
            "_dom_classes": [],
            "_model_name": "HBoxModel",
            "_view_module": "@jupyter-widgets/controls",
            "_model_module_version": "1.5.0",
            "_view_count": null,
            "_view_module_version": "1.5.0",
            "box_style": "",
            "layout": "IPY_MODEL_f932530a66b2419d82e38c3aeaf6baa9",
            "_model_module": "@jupyter-widgets/controls",
            "children": [
              "IPY_MODEL_d458d090e58c423b99f7c2c346967d0d",
              "IPY_MODEL_d954b2197f24436d9c6648409af3e990"
            ]
          }
        },
        "f932530a66b2419d82e38c3aeaf6baa9": {
          "model_module": "@jupyter-widgets/base",
          "model_name": "LayoutModel",
          "state": {
            "_view_name": "LayoutView",
            "grid_template_rows": null,
            "right": null,
            "justify_content": null,
            "_view_module": "@jupyter-widgets/base",
            "overflow": null,
            "_model_module_version": "1.2.0",
            "_view_count": null,
            "flex_flow": null,
            "width": null,
            "min_width": null,
            "border": null,
            "align_items": null,
            "bottom": null,
            "_model_module": "@jupyter-widgets/base",
            "top": null,
            "grid_column": null,
            "overflow_y": null,
            "overflow_x": null,
            "grid_auto_flow": null,
            "grid_area": null,
            "grid_template_columns": null,
            "flex": null,
            "_model_name": "LayoutModel",
            "justify_items": null,
            "grid_row": null,
            "max_height": null,
            "align_content": null,
            "visibility": null,
            "align_self": null,
            "height": null,
            "min_height": null,
            "padding": null,
            "grid_auto_rows": null,
            "grid_gap": null,
            "max_width": null,
            "order": null,
            "_view_module_version": "1.2.0",
            "grid_template_areas": null,
            "object_position": null,
            "object_fit": null,
            "grid_auto_columns": null,
            "margin": null,
            "display": null,
            "left": null
          }
        },
        "d458d090e58c423b99f7c2c346967d0d": {
          "model_module": "@jupyter-widgets/controls",
          "model_name": "FloatProgressModel",
          "state": {
            "_view_name": "ProgressView",
            "style": "IPY_MODEL_bb832f983050471a99999725c1d5da94",
            "_dom_classes": [],
            "description": "Downloading: 100%",
            "_model_name": "FloatProgressModel",
            "bar_style": "success",
            "max": 904693,
            "_view_module": "@jupyter-widgets/controls",
            "_model_module_version": "1.5.0",
            "value": 904693,
            "_view_count": null,
            "_view_module_version": "1.5.0",
            "orientation": "horizontal",
            "min": 0,
            "description_tooltip": null,
            "_model_module": "@jupyter-widgets/controls",
            "layout": "IPY_MODEL_4bce208e45f543f28a40f0c91e9959f8"
          }
        },
        "d954b2197f24436d9c6648409af3e990": {
          "model_module": "@jupyter-widgets/controls",
          "model_name": "HTMLModel",
          "state": {
            "_view_name": "HTMLView",
            "style": "IPY_MODEL_34e6a52d2a5542828958b78f22955f84",
            "_dom_classes": [],
            "description": "",
            "_model_name": "HTMLModel",
            "placeholder": "​",
            "_view_module": "@jupyter-widgets/controls",
            "_model_module_version": "1.5.0",
            "value": " 905k/905k [00:00&lt;00:00, 3.08MB/s]",
            "_view_count": null,
            "_view_module_version": "1.5.0",
            "description_tooltip": null,
            "_model_module": "@jupyter-widgets/controls",
            "layout": "IPY_MODEL_91395547f1ca4dea9dca44ebe69ee788"
          }
        },
        "bb832f983050471a99999725c1d5da94": {
          "model_module": "@jupyter-widgets/controls",
          "model_name": "ProgressStyleModel",
          "state": {
            "_view_name": "StyleView",
            "_model_name": "ProgressStyleModel",
            "description_width": "initial",
            "_view_module": "@jupyter-widgets/base",
            "_model_module_version": "1.5.0",
            "_view_count": null,
            "_view_module_version": "1.2.0",
            "bar_color": null,
            "_model_module": "@jupyter-widgets/controls"
          }
        },
        "4bce208e45f543f28a40f0c91e9959f8": {
          "model_module": "@jupyter-widgets/base",
          "model_name": "LayoutModel",
          "state": {
            "_view_name": "LayoutView",
            "grid_template_rows": null,
            "right": null,
            "justify_content": null,
            "_view_module": "@jupyter-widgets/base",
            "overflow": null,
            "_model_module_version": "1.2.0",
            "_view_count": null,
            "flex_flow": null,
            "width": null,
            "min_width": null,
            "border": null,
            "align_items": null,
            "bottom": null,
            "_model_module": "@jupyter-widgets/base",
            "top": null,
            "grid_column": null,
            "overflow_y": null,
            "overflow_x": null,
            "grid_auto_flow": null,
            "grid_area": null,
            "grid_template_columns": null,
            "flex": null,
            "_model_name": "LayoutModel",
            "justify_items": null,
            "grid_row": null,
            "max_height": null,
            "align_content": null,
            "visibility": null,
            "align_self": null,
            "height": null,
            "min_height": null,
            "padding": null,
            "grid_auto_rows": null,
            "grid_gap": null,
            "max_width": null,
            "order": null,
            "_view_module_version": "1.2.0",
            "grid_template_areas": null,
            "object_position": null,
            "object_fit": null,
            "grid_auto_columns": null,
            "margin": null,
            "display": null,
            "left": null
          }
        },
        "34e6a52d2a5542828958b78f22955f84": {
          "model_module": "@jupyter-widgets/controls",
          "model_name": "DescriptionStyleModel",
          "state": {
            "_view_name": "StyleView",
            "_model_name": "DescriptionStyleModel",
            "description_width": "",
            "_view_module": "@jupyter-widgets/base",
            "_model_module_version": "1.5.0",
            "_view_count": null,
            "_view_module_version": "1.2.0",
            "_model_module": "@jupyter-widgets/controls"
          }
        },
        "91395547f1ca4dea9dca44ebe69ee788": {
          "model_module": "@jupyter-widgets/base",
          "model_name": "LayoutModel",
          "state": {
            "_view_name": "LayoutView",
            "grid_template_rows": null,
            "right": null,
            "justify_content": null,
            "_view_module": "@jupyter-widgets/base",
            "overflow": null,
            "_model_module_version": "1.2.0",
            "_view_count": null,
            "flex_flow": null,
            "width": null,
            "min_width": null,
            "border": null,
            "align_items": null,
            "bottom": null,
            "_model_module": "@jupyter-widgets/base",
            "top": null,
            "grid_column": null,
            "overflow_y": null,
            "overflow_x": null,
            "grid_auto_flow": null,
            "grid_area": null,
            "grid_template_columns": null,
            "flex": null,
            "_model_name": "LayoutModel",
            "justify_items": null,
            "grid_row": null,
            "max_height": null,
            "align_content": null,
            "visibility": null,
            "align_self": null,
            "height": null,
            "min_height": null,
            "padding": null,
            "grid_auto_rows": null,
            "grid_gap": null,
            "max_width": null,
            "order": null,
            "_view_module_version": "1.2.0",
            "grid_template_areas": null,
            "object_position": null,
            "object_fit": null,
            "grid_auto_columns": null,
            "margin": null,
            "display": null,
            "left": null
          }
        },
        "dcb74a19aa274a6bb3e9b94f681bc66b": {
          "model_module": "@jupyter-widgets/controls",
          "model_name": "HBoxModel",
          "state": {
            "_view_name": "HBoxView",
            "_dom_classes": [],
            "_model_name": "HBoxModel",
            "_view_module": "@jupyter-widgets/controls",
            "_model_module_version": "1.5.0",
            "_view_count": null,
            "_view_module_version": "1.5.0",
            "box_style": "",
            "layout": "IPY_MODEL_422b40debd4b44808c92248da5062248",
            "_model_module": "@jupyter-widgets/controls",
            "children": [
              "IPY_MODEL_7fd3e036a53e41908f3b56475ac16d37",
              "IPY_MODEL_baac040abb4b49de97565c9b55101c56"
            ]
          }
        },
        "422b40debd4b44808c92248da5062248": {
          "model_module": "@jupyter-widgets/base",
          "model_name": "LayoutModel",
          "state": {
            "_view_name": "LayoutView",
            "grid_template_rows": null,
            "right": null,
            "justify_content": null,
            "_view_module": "@jupyter-widgets/base",
            "overflow": null,
            "_model_module_version": "1.2.0",
            "_view_count": null,
            "flex_flow": null,
            "width": null,
            "min_width": null,
            "border": null,
            "align_items": null,
            "bottom": null,
            "_model_module": "@jupyter-widgets/base",
            "top": null,
            "grid_column": null,
            "overflow_y": null,
            "overflow_x": null,
            "grid_auto_flow": null,
            "grid_area": null,
            "grid_template_columns": null,
            "flex": null,
            "_model_name": "LayoutModel",
            "justify_items": null,
            "grid_row": null,
            "max_height": null,
            "align_content": null,
            "visibility": null,
            "align_self": null,
            "height": null,
            "min_height": null,
            "padding": null,
            "grid_auto_rows": null,
            "grid_gap": null,
            "max_width": null,
            "order": null,
            "_view_module_version": "1.2.0",
            "grid_template_areas": null,
            "object_position": null,
            "object_fit": null,
            "grid_auto_columns": null,
            "margin": null,
            "display": null,
            "left": null
          }
        },
        "7fd3e036a53e41908f3b56475ac16d37": {
          "model_module": "@jupyter-widgets/controls",
          "model_name": "FloatProgressModel",
          "state": {
            "_view_name": "ProgressView",
            "style": "IPY_MODEL_87413f09ca594c8c858fb44e5be72145",
            "_dom_classes": [],
            "description": "Downloading: 100%",
            "_model_name": "FloatProgressModel",
            "bar_style": "success",
            "max": 282,
            "_view_module": "@jupyter-widgets/controls",
            "_model_module_version": "1.5.0",
            "value": 282,
            "_view_count": null,
            "_view_module_version": "1.5.0",
            "orientation": "horizontal",
            "min": 0,
            "description_tooltip": null,
            "_model_module": "@jupyter-widgets/controls",
            "layout": "IPY_MODEL_0900117efa5a4dbd9972e61b9851d3b3"
          }
        },
        "baac040abb4b49de97565c9b55101c56": {
          "model_module": "@jupyter-widgets/controls",
          "model_name": "HTMLModel",
          "state": {
            "_view_name": "HTMLView",
            "style": "IPY_MODEL_3ea3603db9eb48069e8bfe51691cbd1a",
            "_dom_classes": [],
            "description": "",
            "_model_name": "HTMLModel",
            "placeholder": "​",
            "_view_module": "@jupyter-widgets/controls",
            "_model_module_version": "1.5.0",
            "value": " 282/282 [00:00&lt;00:00, 1.88kB/s]",
            "_view_count": null,
            "_view_module_version": "1.5.0",
            "description_tooltip": null,
            "_model_module": "@jupyter-widgets/controls",
            "layout": "IPY_MODEL_d0501f5fc3814ee985072ec052397a32"
          }
        },
        "87413f09ca594c8c858fb44e5be72145": {
          "model_module": "@jupyter-widgets/controls",
          "model_name": "ProgressStyleModel",
          "state": {
            "_view_name": "StyleView",
            "_model_name": "ProgressStyleModel",
            "description_width": "initial",
            "_view_module": "@jupyter-widgets/base",
            "_model_module_version": "1.5.0",
            "_view_count": null,
            "_view_module_version": "1.2.0",
            "bar_color": null,
            "_model_module": "@jupyter-widgets/controls"
          }
        },
        "0900117efa5a4dbd9972e61b9851d3b3": {
          "model_module": "@jupyter-widgets/base",
          "model_name": "LayoutModel",
          "state": {
            "_view_name": "LayoutView",
            "grid_template_rows": null,
            "right": null,
            "justify_content": null,
            "_view_module": "@jupyter-widgets/base",
            "overflow": null,
            "_model_module_version": "1.2.0",
            "_view_count": null,
            "flex_flow": null,
            "width": null,
            "min_width": null,
            "border": null,
            "align_items": null,
            "bottom": null,
            "_model_module": "@jupyter-widgets/base",
            "top": null,
            "grid_column": null,
            "overflow_y": null,
            "overflow_x": null,
            "grid_auto_flow": null,
            "grid_area": null,
            "grid_template_columns": null,
            "flex": null,
            "_model_name": "LayoutModel",
            "justify_items": null,
            "grid_row": null,
            "max_height": null,
            "align_content": null,
            "visibility": null,
            "align_self": null,
            "height": null,
            "min_height": null,
            "padding": null,
            "grid_auto_rows": null,
            "grid_gap": null,
            "max_width": null,
            "order": null,
            "_view_module_version": "1.2.0",
            "grid_template_areas": null,
            "object_position": null,
            "object_fit": null,
            "grid_auto_columns": null,
            "margin": null,
            "display": null,
            "left": null
          }
        },
        "3ea3603db9eb48069e8bfe51691cbd1a": {
          "model_module": "@jupyter-widgets/controls",
          "model_name": "DescriptionStyleModel",
          "state": {
            "_view_name": "StyleView",
            "_model_name": "DescriptionStyleModel",
            "description_width": "",
            "_view_module": "@jupyter-widgets/base",
            "_model_module_version": "1.5.0",
            "_view_count": null,
            "_view_module_version": "1.2.0",
            "_model_module": "@jupyter-widgets/controls"
          }
        },
        "d0501f5fc3814ee985072ec052397a32": {
          "model_module": "@jupyter-widgets/base",
          "model_name": "LayoutModel",
          "state": {
            "_view_name": "LayoutView",
            "grid_template_rows": null,
            "right": null,
            "justify_content": null,
            "_view_module": "@jupyter-widgets/base",
            "overflow": null,
            "_model_module_version": "1.2.0",
            "_view_count": null,
            "flex_flow": null,
            "width": null,
            "min_width": null,
            "border": null,
            "align_items": null,
            "bottom": null,
            "_model_module": "@jupyter-widgets/base",
            "top": null,
            "grid_column": null,
            "overflow_y": null,
            "overflow_x": null,
            "grid_auto_flow": null,
            "grid_area": null,
            "grid_template_columns": null,
            "flex": null,
            "_model_name": "LayoutModel",
            "justify_items": null,
            "grid_row": null,
            "max_height": null,
            "align_content": null,
            "visibility": null,
            "align_self": null,
            "height": null,
            "min_height": null,
            "padding": null,
            "grid_auto_rows": null,
            "grid_gap": null,
            "max_width": null,
            "order": null,
            "_view_module_version": "1.2.0",
            "grid_template_areas": null,
            "object_position": null,
            "object_fit": null,
            "grid_auto_columns": null,
            "margin": null,
            "display": null,
            "left": null
          }
        },
        "025c923d3d144915a523ff884ef918ab": {
          "model_module": "@jupyter-widgets/controls",
          "model_name": "HBoxModel",
          "state": {
            "_view_name": "HBoxView",
            "_dom_classes": [],
            "_model_name": "HBoxModel",
            "_view_module": "@jupyter-widgets/controls",
            "_model_module_version": "1.5.0",
            "_view_count": null,
            "_view_module_version": "1.5.0",
            "box_style": "",
            "layout": "IPY_MODEL_3b17bfc8ccd44c3694a4a6b64d26debc",
            "_model_module": "@jupyter-widgets/controls",
            "children": [
              "IPY_MODEL_f0fad143ad7b475d8456eb7029ad5fb5",
              "IPY_MODEL_8938fb8296464b1792401f9390dafdfb"
            ]
          }
        },
        "3b17bfc8ccd44c3694a4a6b64d26debc": {
          "model_module": "@jupyter-widgets/base",
          "model_name": "LayoutModel",
          "state": {
            "_view_name": "LayoutView",
            "grid_template_rows": null,
            "right": null,
            "justify_content": null,
            "_view_module": "@jupyter-widgets/base",
            "overflow": null,
            "_model_module_version": "1.2.0",
            "_view_count": null,
            "flex_flow": null,
            "width": null,
            "min_width": null,
            "border": null,
            "align_items": null,
            "bottom": null,
            "_model_module": "@jupyter-widgets/base",
            "top": null,
            "grid_column": null,
            "overflow_y": null,
            "overflow_x": null,
            "grid_auto_flow": null,
            "grid_area": null,
            "grid_template_columns": null,
            "flex": null,
            "_model_name": "LayoutModel",
            "justify_items": null,
            "grid_row": null,
            "max_height": null,
            "align_content": null,
            "visibility": null,
            "align_self": null,
            "height": null,
            "min_height": null,
            "padding": null,
            "grid_auto_rows": null,
            "grid_gap": null,
            "max_width": null,
            "order": null,
            "_view_module_version": "1.2.0",
            "grid_template_areas": null,
            "object_position": null,
            "object_fit": null,
            "grid_auto_columns": null,
            "margin": null,
            "display": null,
            "left": null
          }
        },
        "f0fad143ad7b475d8456eb7029ad5fb5": {
          "model_module": "@jupyter-widgets/controls",
          "model_name": "FloatProgressModel",
          "state": {
            "_view_name": "ProgressView",
            "style": "IPY_MODEL_37badf8d93cc4c6bb787fc41db1a6d69",
            "_dom_classes": [],
            "description": "Downloading: 100%",
            "_model_name": "FloatProgressModel",
            "bar_style": "success",
            "max": 625,
            "_view_module": "@jupyter-widgets/controls",
            "_model_module_version": "1.5.0",
            "value": 625,
            "_view_count": null,
            "_view_module_version": "1.5.0",
            "orientation": "horizontal",
            "min": 0,
            "description_tooltip": null,
            "_model_module": "@jupyter-widgets/controls",
            "layout": "IPY_MODEL_4976e0f95dd24c728c1acdbc15cdac82"
          }
        },
        "8938fb8296464b1792401f9390dafdfb": {
          "model_module": "@jupyter-widgets/controls",
          "model_name": "HTMLModel",
          "state": {
            "_view_name": "HTMLView",
            "style": "IPY_MODEL_9877863497be4f9da30b185bdc48f20c",
            "_dom_classes": [],
            "description": "",
            "_model_name": "HTMLModel",
            "placeholder": "​",
            "_view_module": "@jupyter-widgets/controls",
            "_model_module_version": "1.5.0",
            "value": " 625/625 [00:00&lt;00:00, 1.11kB/s]",
            "_view_count": null,
            "_view_module_version": "1.5.0",
            "description_tooltip": null,
            "_model_module": "@jupyter-widgets/controls",
            "layout": "IPY_MODEL_b15e70128d4b4f2a9460eae05ebc7175"
          }
        },
        "37badf8d93cc4c6bb787fc41db1a6d69": {
          "model_module": "@jupyter-widgets/controls",
          "model_name": "ProgressStyleModel",
          "state": {
            "_view_name": "StyleView",
            "_model_name": "ProgressStyleModel",
            "description_width": "initial",
            "_view_module": "@jupyter-widgets/base",
            "_model_module_version": "1.5.0",
            "_view_count": null,
            "_view_module_version": "1.2.0",
            "bar_color": null,
            "_model_module": "@jupyter-widgets/controls"
          }
        },
        "4976e0f95dd24c728c1acdbc15cdac82": {
          "model_module": "@jupyter-widgets/base",
          "model_name": "LayoutModel",
          "state": {
            "_view_name": "LayoutView",
            "grid_template_rows": null,
            "right": null,
            "justify_content": null,
            "_view_module": "@jupyter-widgets/base",
            "overflow": null,
            "_model_module_version": "1.2.0",
            "_view_count": null,
            "flex_flow": null,
            "width": null,
            "min_width": null,
            "border": null,
            "align_items": null,
            "bottom": null,
            "_model_module": "@jupyter-widgets/base",
            "top": null,
            "grid_column": null,
            "overflow_y": null,
            "overflow_x": null,
            "grid_auto_flow": null,
            "grid_area": null,
            "grid_template_columns": null,
            "flex": null,
            "_model_name": "LayoutModel",
            "justify_items": null,
            "grid_row": null,
            "max_height": null,
            "align_content": null,
            "visibility": null,
            "align_self": null,
            "height": null,
            "min_height": null,
            "padding": null,
            "grid_auto_rows": null,
            "grid_gap": null,
            "max_width": null,
            "order": null,
            "_view_module_version": "1.2.0",
            "grid_template_areas": null,
            "object_position": null,
            "object_fit": null,
            "grid_auto_columns": null,
            "margin": null,
            "display": null,
            "left": null
          }
        },
        "9877863497be4f9da30b185bdc48f20c": {
          "model_module": "@jupyter-widgets/controls",
          "model_name": "DescriptionStyleModel",
          "state": {
            "_view_name": "StyleView",
            "_model_name": "DescriptionStyleModel",
            "description_width": "",
            "_view_module": "@jupyter-widgets/base",
            "_model_module_version": "1.5.0",
            "_view_count": null,
            "_view_module_version": "1.2.0",
            "_model_module": "@jupyter-widgets/controls"
          }
        },
        "b15e70128d4b4f2a9460eae05ebc7175": {
          "model_module": "@jupyter-widgets/base",
          "model_name": "LayoutModel",
          "state": {
            "_view_name": "LayoutView",
            "grid_template_rows": null,
            "right": null,
            "justify_content": null,
            "_view_module": "@jupyter-widgets/base",
            "overflow": null,
            "_model_module_version": "1.2.0",
            "_view_count": null,
            "flex_flow": null,
            "width": null,
            "min_width": null,
            "border": null,
            "align_items": null,
            "bottom": null,
            "_model_module": "@jupyter-widgets/base",
            "top": null,
            "grid_column": null,
            "overflow_y": null,
            "overflow_x": null,
            "grid_auto_flow": null,
            "grid_area": null,
            "grid_template_columns": null,
            "flex": null,
            "_model_name": "LayoutModel",
            "justify_items": null,
            "grid_row": null,
            "max_height": null,
            "align_content": null,
            "visibility": null,
            "align_self": null,
            "height": null,
            "min_height": null,
            "padding": null,
            "grid_auto_rows": null,
            "grid_gap": null,
            "max_width": null,
            "order": null,
            "_view_module_version": "1.2.0",
            "grid_template_areas": null,
            "object_position": null,
            "object_fit": null,
            "grid_auto_columns": null,
            "margin": null,
            "display": null,
            "left": null
          }
        },
        "e321169e4984403a8cc9d6f1e93521ae": {
          "model_module": "@jupyter-widgets/controls",
          "model_name": "HBoxModel",
          "state": {
            "_view_name": "HBoxView",
            "_dom_classes": [],
            "_model_name": "HBoxModel",
            "_view_module": "@jupyter-widgets/controls",
            "_model_module_version": "1.5.0",
            "_view_count": null,
            "_view_module_version": "1.5.0",
            "box_style": "",
            "layout": "IPY_MODEL_53bd1d5f32724aa7965ed412efdd6eb8",
            "_model_module": "@jupyter-widgets/controls",
            "children": [
              "IPY_MODEL_d9b7264307c24103b3ef690931bcf31d",
              "IPY_MODEL_975e40ec95a54734add313358831ed95"
            ]
          }
        },
        "53bd1d5f32724aa7965ed412efdd6eb8": {
          "model_module": "@jupyter-widgets/base",
          "model_name": "LayoutModel",
          "state": {
            "_view_name": "LayoutView",
            "grid_template_rows": null,
            "right": null,
            "justify_content": null,
            "_view_module": "@jupyter-widgets/base",
            "overflow": null,
            "_model_module_version": "1.2.0",
            "_view_count": null,
            "flex_flow": null,
            "width": null,
            "min_width": null,
            "border": null,
            "align_items": null,
            "bottom": null,
            "_model_module": "@jupyter-widgets/base",
            "top": null,
            "grid_column": null,
            "overflow_y": null,
            "overflow_x": null,
            "grid_auto_flow": null,
            "grid_area": null,
            "grid_template_columns": null,
            "flex": null,
            "_model_name": "LayoutModel",
            "justify_items": null,
            "grid_row": null,
            "max_height": null,
            "align_content": null,
            "visibility": null,
            "align_self": null,
            "height": null,
            "min_height": null,
            "padding": null,
            "grid_auto_rows": null,
            "grid_gap": null,
            "max_width": null,
            "order": null,
            "_view_module_version": "1.2.0",
            "grid_template_areas": null,
            "object_position": null,
            "object_fit": null,
            "grid_auto_columns": null,
            "margin": null,
            "display": null,
            "left": null
          }
        },
        "d9b7264307c24103b3ef690931bcf31d": {
          "model_module": "@jupyter-widgets/controls",
          "model_name": "FloatProgressModel",
          "state": {
            "_view_name": "ProgressView",
            "style": "IPY_MODEL_4dde6f5052c54d84853c3da30d5ef172",
            "_dom_classes": [],
            "description": "Downloading: 100%",
            "_model_name": "FloatProgressModel",
            "bar_style": "success",
            "max": 995526,
            "_view_module": "@jupyter-widgets/controls",
            "_model_module_version": "1.5.0",
            "value": 995526,
            "_view_count": null,
            "_view_module_version": "1.5.0",
            "orientation": "horizontal",
            "min": 0,
            "description_tooltip": null,
            "_model_module": "@jupyter-widgets/controls",
            "layout": "IPY_MODEL_6711de056df1421fa5daef0ded580567"
          }
        },
        "975e40ec95a54734add313358831ed95": {
          "model_module": "@jupyter-widgets/controls",
          "model_name": "HTMLModel",
          "state": {
            "_view_name": "HTMLView",
            "style": "IPY_MODEL_39aeb828a3144c39995aa8a893c1e298",
            "_dom_classes": [],
            "description": "",
            "_model_name": "HTMLModel",
            "placeholder": "​",
            "_view_module": "@jupyter-widgets/controls",
            "_model_module_version": "1.5.0",
            "value": " 996k/996k [00:00&lt;00:00, 2.15MB/s]",
            "_view_count": null,
            "_view_module_version": "1.5.0",
            "description_tooltip": null,
            "_model_module": "@jupyter-widgets/controls",
            "layout": "IPY_MODEL_782f66cc3c0a4e40a4b26e5674400851"
          }
        },
        "4dde6f5052c54d84853c3da30d5ef172": {
          "model_module": "@jupyter-widgets/controls",
          "model_name": "ProgressStyleModel",
          "state": {
            "_view_name": "StyleView",
            "_model_name": "ProgressStyleModel",
            "description_width": "initial",
            "_view_module": "@jupyter-widgets/base",
            "_model_module_version": "1.5.0",
            "_view_count": null,
            "_view_module_version": "1.2.0",
            "bar_color": null,
            "_model_module": "@jupyter-widgets/controls"
          }
        },
        "6711de056df1421fa5daef0ded580567": {
          "model_module": "@jupyter-widgets/base",
          "model_name": "LayoutModel",
          "state": {
            "_view_name": "LayoutView",
            "grid_template_rows": null,
            "right": null,
            "justify_content": null,
            "_view_module": "@jupyter-widgets/base",
            "overflow": null,
            "_model_module_version": "1.2.0",
            "_view_count": null,
            "flex_flow": null,
            "width": null,
            "min_width": null,
            "border": null,
            "align_items": null,
            "bottom": null,
            "_model_module": "@jupyter-widgets/base",
            "top": null,
            "grid_column": null,
            "overflow_y": null,
            "overflow_x": null,
            "grid_auto_flow": null,
            "grid_area": null,
            "grid_template_columns": null,
            "flex": null,
            "_model_name": "LayoutModel",
            "justify_items": null,
            "grid_row": null,
            "max_height": null,
            "align_content": null,
            "visibility": null,
            "align_self": null,
            "height": null,
            "min_height": null,
            "padding": null,
            "grid_auto_rows": null,
            "grid_gap": null,
            "max_width": null,
            "order": null,
            "_view_module_version": "1.2.0",
            "grid_template_areas": null,
            "object_position": null,
            "object_fit": null,
            "grid_auto_columns": null,
            "margin": null,
            "display": null,
            "left": null
          }
        },
        "39aeb828a3144c39995aa8a893c1e298": {
          "model_module": "@jupyter-widgets/controls",
          "model_name": "DescriptionStyleModel",
          "state": {
            "_view_name": "StyleView",
            "_model_name": "DescriptionStyleModel",
            "description_width": "",
            "_view_module": "@jupyter-widgets/base",
            "_model_module_version": "1.5.0",
            "_view_count": null,
            "_view_module_version": "1.2.0",
            "_model_module": "@jupyter-widgets/controls"
          }
        },
        "782f66cc3c0a4e40a4b26e5674400851": {
          "model_module": "@jupyter-widgets/base",
          "model_name": "LayoutModel",
          "state": {
            "_view_name": "LayoutView",
            "grid_template_rows": null,
            "right": null,
            "justify_content": null,
            "_view_module": "@jupyter-widgets/base",
            "overflow": null,
            "_model_module_version": "1.2.0",
            "_view_count": null,
            "flex_flow": null,
            "width": null,
            "min_width": null,
            "border": null,
            "align_items": null,
            "bottom": null,
            "_model_module": "@jupyter-widgets/base",
            "top": null,
            "grid_column": null,
            "overflow_y": null,
            "overflow_x": null,
            "grid_auto_flow": null,
            "grid_area": null,
            "grid_template_columns": null,
            "flex": null,
            "_model_name": "LayoutModel",
            "justify_items": null,
            "grid_row": null,
            "max_height": null,
            "align_content": null,
            "visibility": null,
            "align_self": null,
            "height": null,
            "min_height": null,
            "padding": null,
            "grid_auto_rows": null,
            "grid_gap": null,
            "max_width": null,
            "order": null,
            "_view_module_version": "1.2.0",
            "grid_template_areas": null,
            "object_position": null,
            "object_fit": null,
            "grid_auto_columns": null,
            "margin": null,
            "display": null,
            "left": null
          }
        },
        "92654703ba184198a4245a62052763c8": {
          "model_module": "@jupyter-widgets/controls",
          "model_name": "HBoxModel",
          "state": {
            "_view_name": "HBoxView",
            "_dom_classes": [],
            "_model_name": "HBoxModel",
            "_view_module": "@jupyter-widgets/controls",
            "_model_module_version": "1.5.0",
            "_view_count": null,
            "_view_module_version": "1.5.0",
            "box_style": "",
            "layout": "IPY_MODEL_1931184a2f6444e98843afc3e0dfe899",
            "_model_module": "@jupyter-widgets/controls",
            "children": [
              "IPY_MODEL_de72952a6a134ea58e3dbbda5336e8bd",
              "IPY_MODEL_6730de2c453e440e8d32cbe6b316c5e1"
            ]
          }
        },
        "1931184a2f6444e98843afc3e0dfe899": {
          "model_module": "@jupyter-widgets/base",
          "model_name": "LayoutModel",
          "state": {
            "_view_name": "LayoutView",
            "grid_template_rows": null,
            "right": null,
            "justify_content": null,
            "_view_module": "@jupyter-widgets/base",
            "overflow": null,
            "_model_module_version": "1.2.0",
            "_view_count": null,
            "flex_flow": null,
            "width": null,
            "min_width": null,
            "border": null,
            "align_items": null,
            "bottom": null,
            "_model_module": "@jupyter-widgets/base",
            "top": null,
            "grid_column": null,
            "overflow_y": null,
            "overflow_x": null,
            "grid_auto_flow": null,
            "grid_area": null,
            "grid_template_columns": null,
            "flex": null,
            "_model_name": "LayoutModel",
            "justify_items": null,
            "grid_row": null,
            "max_height": null,
            "align_content": null,
            "visibility": null,
            "align_self": null,
            "height": null,
            "min_height": null,
            "padding": null,
            "grid_auto_rows": null,
            "grid_gap": null,
            "max_width": null,
            "order": null,
            "_view_module_version": "1.2.0",
            "grid_template_areas": null,
            "object_position": null,
            "object_fit": null,
            "grid_auto_columns": null,
            "margin": null,
            "display": null,
            "left": null
          }
        },
        "de72952a6a134ea58e3dbbda5336e8bd": {
          "model_module": "@jupyter-widgets/controls",
          "model_name": "FloatProgressModel",
          "state": {
            "_view_name": "ProgressView",
            "style": "IPY_MODEL_2d6dc948f730442495443ac6ad729ef2",
            "_dom_classes": [],
            "description": "Downloading: 100%",
            "_model_name": "FloatProgressModel",
            "bar_style": "success",
            "max": 29,
            "_view_module": "@jupyter-widgets/controls",
            "_model_module_version": "1.5.0",
            "value": 29,
            "_view_count": null,
            "_view_module_version": "1.5.0",
            "orientation": "horizontal",
            "min": 0,
            "description_tooltip": null,
            "_model_module": "@jupyter-widgets/controls",
            "layout": "IPY_MODEL_2154e8dbacb047cd969612762ea0e045"
          }
        },
        "6730de2c453e440e8d32cbe6b316c5e1": {
          "model_module": "@jupyter-widgets/controls",
          "model_name": "HTMLModel",
          "state": {
            "_view_name": "HTMLView",
            "style": "IPY_MODEL_6afdd0d9c30047f881047755d0093098",
            "_dom_classes": [],
            "description": "",
            "_model_name": "HTMLModel",
            "placeholder": "​",
            "_view_module": "@jupyter-widgets/controls",
            "_model_module_version": "1.5.0",
            "value": " 29.0/29.0 [00:00&lt;00:00, 99.9B/s]",
            "_view_count": null,
            "_view_module_version": "1.5.0",
            "description_tooltip": null,
            "_model_module": "@jupyter-widgets/controls",
            "layout": "IPY_MODEL_654b3e4bc48d404394035519528c0b58"
          }
        },
        "2d6dc948f730442495443ac6ad729ef2": {
          "model_module": "@jupyter-widgets/controls",
          "model_name": "ProgressStyleModel",
          "state": {
            "_view_name": "StyleView",
            "_model_name": "ProgressStyleModel",
            "description_width": "initial",
            "_view_module": "@jupyter-widgets/base",
            "_model_module_version": "1.5.0",
            "_view_count": null,
            "_view_module_version": "1.2.0",
            "bar_color": null,
            "_model_module": "@jupyter-widgets/controls"
          }
        },
        "2154e8dbacb047cd969612762ea0e045": {
          "model_module": "@jupyter-widgets/base",
          "model_name": "LayoutModel",
          "state": {
            "_view_name": "LayoutView",
            "grid_template_rows": null,
            "right": null,
            "justify_content": null,
            "_view_module": "@jupyter-widgets/base",
            "overflow": null,
            "_model_module_version": "1.2.0",
            "_view_count": null,
            "flex_flow": null,
            "width": null,
            "min_width": null,
            "border": null,
            "align_items": null,
            "bottom": null,
            "_model_module": "@jupyter-widgets/base",
            "top": null,
            "grid_column": null,
            "overflow_y": null,
            "overflow_x": null,
            "grid_auto_flow": null,
            "grid_area": null,
            "grid_template_columns": null,
            "flex": null,
            "_model_name": "LayoutModel",
            "justify_items": null,
            "grid_row": null,
            "max_height": null,
            "align_content": null,
            "visibility": null,
            "align_self": null,
            "height": null,
            "min_height": null,
            "padding": null,
            "grid_auto_rows": null,
            "grid_gap": null,
            "max_width": null,
            "order": null,
            "_view_module_version": "1.2.0",
            "grid_template_areas": null,
            "object_position": null,
            "object_fit": null,
            "grid_auto_columns": null,
            "margin": null,
            "display": null,
            "left": null
          }
        },
        "6afdd0d9c30047f881047755d0093098": {
          "model_module": "@jupyter-widgets/controls",
          "model_name": "DescriptionStyleModel",
          "state": {
            "_view_name": "StyleView",
            "_model_name": "DescriptionStyleModel",
            "description_width": "",
            "_view_module": "@jupyter-widgets/base",
            "_model_module_version": "1.5.0",
            "_view_count": null,
            "_view_module_version": "1.2.0",
            "_model_module": "@jupyter-widgets/controls"
          }
        },
        "654b3e4bc48d404394035519528c0b58": {
          "model_module": "@jupyter-widgets/base",
          "model_name": "LayoutModel",
          "state": {
            "_view_name": "LayoutView",
            "grid_template_rows": null,
            "right": null,
            "justify_content": null,
            "_view_module": "@jupyter-widgets/base",
            "overflow": null,
            "_model_module_version": "1.2.0",
            "_view_count": null,
            "flex_flow": null,
            "width": null,
            "min_width": null,
            "border": null,
            "align_items": null,
            "bottom": null,
            "_model_module": "@jupyter-widgets/base",
            "top": null,
            "grid_column": null,
            "overflow_y": null,
            "overflow_x": null,
            "grid_auto_flow": null,
            "grid_area": null,
            "grid_template_columns": null,
            "flex": null,
            "_model_name": "LayoutModel",
            "justify_items": null,
            "grid_row": null,
            "max_height": null,
            "align_content": null,
            "visibility": null,
            "align_self": null,
            "height": null,
            "min_height": null,
            "padding": null,
            "grid_auto_rows": null,
            "grid_gap": null,
            "max_width": null,
            "order": null,
            "_view_module_version": "1.2.0",
            "grid_template_areas": null,
            "object_position": null,
            "object_fit": null,
            "grid_auto_columns": null,
            "margin": null,
            "display": null,
            "left": null
          }
        },
        "55b5a423fd394185904ef06092ff4d3b": {
          "model_module": "@jupyter-widgets/controls",
          "model_name": "HBoxModel",
          "state": {
            "_view_name": "HBoxView",
            "_dom_classes": [],
            "_model_name": "HBoxModel",
            "_view_module": "@jupyter-widgets/controls",
            "_model_module_version": "1.5.0",
            "_view_count": null,
            "_view_module_version": "1.5.0",
            "box_style": "",
            "layout": "IPY_MODEL_a20d2e459aad4f5eaff3a088f82ab2af",
            "_model_module": "@jupyter-widgets/controls",
            "children": [
              "IPY_MODEL_c514d103e7b34e7887517a3e1fde4146",
              "IPY_MODEL_23381b7eef474ed88ff586888f032eef"
            ]
          }
        },
        "a20d2e459aad4f5eaff3a088f82ab2af": {
          "model_module": "@jupyter-widgets/base",
          "model_name": "LayoutModel",
          "state": {
            "_view_name": "LayoutView",
            "grid_template_rows": null,
            "right": null,
            "justify_content": null,
            "_view_module": "@jupyter-widgets/base",
            "overflow": null,
            "_model_module_version": "1.2.0",
            "_view_count": null,
            "flex_flow": null,
            "width": null,
            "min_width": null,
            "border": null,
            "align_items": null,
            "bottom": null,
            "_model_module": "@jupyter-widgets/base",
            "top": null,
            "grid_column": null,
            "overflow_y": null,
            "overflow_x": null,
            "grid_auto_flow": null,
            "grid_area": null,
            "grid_template_columns": null,
            "flex": null,
            "_model_name": "LayoutModel",
            "justify_items": null,
            "grid_row": null,
            "max_height": null,
            "align_content": null,
            "visibility": null,
            "align_self": null,
            "height": null,
            "min_height": null,
            "padding": null,
            "grid_auto_rows": null,
            "grid_gap": null,
            "max_width": null,
            "order": null,
            "_view_module_version": "1.2.0",
            "grid_template_areas": null,
            "object_position": null,
            "object_fit": null,
            "grid_auto_columns": null,
            "margin": null,
            "display": null,
            "left": null
          }
        },
        "c514d103e7b34e7887517a3e1fde4146": {
          "model_module": "@jupyter-widgets/controls",
          "model_name": "FloatProgressModel",
          "state": {
            "_view_name": "ProgressView",
            "style": "IPY_MODEL_5a276f65e0e94324a936c5bb87f02441",
            "_dom_classes": [],
            "description": "Downloading: 100%",
            "_model_name": "FloatProgressModel",
            "bar_style": "success",
            "max": 1961828,
            "_view_module": "@jupyter-widgets/controls",
            "_model_module_version": "1.5.0",
            "value": 1961828,
            "_view_count": null,
            "_view_module_version": "1.5.0",
            "orientation": "horizontal",
            "min": 0,
            "description_tooltip": null,
            "_model_module": "@jupyter-widgets/controls",
            "layout": "IPY_MODEL_83ce070d9e0f44549a5fe663bf726938"
          }
        },
        "23381b7eef474ed88ff586888f032eef": {
          "model_module": "@jupyter-widgets/controls",
          "model_name": "HTMLModel",
          "state": {
            "_view_name": "HTMLView",
            "style": "IPY_MODEL_4645bc32c0f54c27b9b33d0abc535917",
            "_dom_classes": [],
            "description": "",
            "_model_name": "HTMLModel",
            "placeholder": "​",
            "_view_module": "@jupyter-widgets/controls",
            "_model_module_version": "1.5.0",
            "value": " 1.96M/1.96M [00:00&lt;00:00, 10.5MB/s]",
            "_view_count": null,
            "_view_module_version": "1.5.0",
            "description_tooltip": null,
            "_model_module": "@jupyter-widgets/controls",
            "layout": "IPY_MODEL_7d81648168f149e7be68bbf5e63d4bca"
          }
        },
        "5a276f65e0e94324a936c5bb87f02441": {
          "model_module": "@jupyter-widgets/controls",
          "model_name": "ProgressStyleModel",
          "state": {
            "_view_name": "StyleView",
            "_model_name": "ProgressStyleModel",
            "description_width": "initial",
            "_view_module": "@jupyter-widgets/base",
            "_model_module_version": "1.5.0",
            "_view_count": null,
            "_view_module_version": "1.2.0",
            "bar_color": null,
            "_model_module": "@jupyter-widgets/controls"
          }
        },
        "83ce070d9e0f44549a5fe663bf726938": {
          "model_module": "@jupyter-widgets/base",
          "model_name": "LayoutModel",
          "state": {
            "_view_name": "LayoutView",
            "grid_template_rows": null,
            "right": null,
            "justify_content": null,
            "_view_module": "@jupyter-widgets/base",
            "overflow": null,
            "_model_module_version": "1.2.0",
            "_view_count": null,
            "flex_flow": null,
            "width": null,
            "min_width": null,
            "border": null,
            "align_items": null,
            "bottom": null,
            "_model_module": "@jupyter-widgets/base",
            "top": null,
            "grid_column": null,
            "overflow_y": null,
            "overflow_x": null,
            "grid_auto_flow": null,
            "grid_area": null,
            "grid_template_columns": null,
            "flex": null,
            "_model_name": "LayoutModel",
            "justify_items": null,
            "grid_row": null,
            "max_height": null,
            "align_content": null,
            "visibility": null,
            "align_self": null,
            "height": null,
            "min_height": null,
            "padding": null,
            "grid_auto_rows": null,
            "grid_gap": null,
            "max_width": null,
            "order": null,
            "_view_module_version": "1.2.0",
            "grid_template_areas": null,
            "object_position": null,
            "object_fit": null,
            "grid_auto_columns": null,
            "margin": null,
            "display": null,
            "left": null
          }
        },
        "4645bc32c0f54c27b9b33d0abc535917": {
          "model_module": "@jupyter-widgets/controls",
          "model_name": "DescriptionStyleModel",
          "state": {
            "_view_name": "StyleView",
            "_model_name": "DescriptionStyleModel",
            "description_width": "",
            "_view_module": "@jupyter-widgets/base",
            "_model_module_version": "1.5.0",
            "_view_count": null,
            "_view_module_version": "1.2.0",
            "_model_module": "@jupyter-widgets/controls"
          }
        },
        "7d81648168f149e7be68bbf5e63d4bca": {
          "model_module": "@jupyter-widgets/base",
          "model_name": "LayoutModel",
          "state": {
            "_view_name": "LayoutView",
            "grid_template_rows": null,
            "right": null,
            "justify_content": null,
            "_view_module": "@jupyter-widgets/base",
            "overflow": null,
            "_model_module_version": "1.2.0",
            "_view_count": null,
            "flex_flow": null,
            "width": null,
            "min_width": null,
            "border": null,
            "align_items": null,
            "bottom": null,
            "_model_module": "@jupyter-widgets/base",
            "top": null,
            "grid_column": null,
            "overflow_y": null,
            "overflow_x": null,
            "grid_auto_flow": null,
            "grid_area": null,
            "grid_template_columns": null,
            "flex": null,
            "_model_name": "LayoutModel",
            "justify_items": null,
            "grid_row": null,
            "max_height": null,
            "align_content": null,
            "visibility": null,
            "align_self": null,
            "height": null,
            "min_height": null,
            "padding": null,
            "grid_auto_rows": null,
            "grid_gap": null,
            "max_width": null,
            "order": null,
            "_view_module_version": "1.2.0",
            "grid_template_areas": null,
            "object_position": null,
            "object_fit": null,
            "grid_auto_columns": null,
            "margin": null,
            "display": null,
            "left": null
          }
        },
        "fb6d54b1d70b45c2ae67378596bcc094": {
          "model_module": "@jupyter-widgets/controls",
          "model_name": "HBoxModel",
          "state": {
            "_view_name": "HBoxView",
            "_dom_classes": [],
            "_model_name": "HBoxModel",
            "_view_module": "@jupyter-widgets/controls",
            "_model_module_version": "1.5.0",
            "_view_count": null,
            "_view_module_version": "1.5.0",
            "box_style": "",
            "layout": "IPY_MODEL_70b2095549f243cd988d44e1c2e41144",
            "_model_module": "@jupyter-widgets/controls",
            "children": [
              "IPY_MODEL_4f8239877270424aab0c693d8917f6db",
              "IPY_MODEL_3690934f11724a7f8cdea9cf45c1822b"
            ]
          }
        },
        "70b2095549f243cd988d44e1c2e41144": {
          "model_module": "@jupyter-widgets/base",
          "model_name": "LayoutModel",
          "state": {
            "_view_name": "LayoutView",
            "grid_template_rows": null,
            "right": null,
            "justify_content": null,
            "_view_module": "@jupyter-widgets/base",
            "overflow": null,
            "_model_module_version": "1.2.0",
            "_view_count": null,
            "flex_flow": null,
            "width": null,
            "min_width": null,
            "border": null,
            "align_items": null,
            "bottom": null,
            "_model_module": "@jupyter-widgets/base",
            "top": null,
            "grid_column": null,
            "overflow_y": null,
            "overflow_x": null,
            "grid_auto_flow": null,
            "grid_area": null,
            "grid_template_columns": null,
            "flex": null,
            "_model_name": "LayoutModel",
            "justify_items": null,
            "grid_row": null,
            "max_height": null,
            "align_content": null,
            "visibility": null,
            "align_self": null,
            "height": null,
            "min_height": null,
            "padding": null,
            "grid_auto_rows": null,
            "grid_gap": null,
            "max_width": null,
            "order": null,
            "_view_module_version": "1.2.0",
            "grid_template_areas": null,
            "object_position": null,
            "object_fit": null,
            "grid_auto_columns": null,
            "margin": null,
            "display": null,
            "left": null
          }
        },
        "4f8239877270424aab0c693d8917f6db": {
          "model_module": "@jupyter-widgets/controls",
          "model_name": "FloatProgressModel",
          "state": {
            "_view_name": "ProgressView",
            "style": "IPY_MODEL_9e368c03d4e742b3aa070eca92378820",
            "_dom_classes": [],
            "description": "Downloading: 100%",
            "_model_name": "FloatProgressModel",
            "bar_style": "success",
            "max": 714314041,
            "_view_module": "@jupyter-widgets/controls",
            "_model_module_version": "1.5.0",
            "value": 714314041,
            "_view_count": null,
            "_view_module_version": "1.5.0",
            "orientation": "horizontal",
            "min": 0,
            "description_tooltip": null,
            "_model_module": "@jupyter-widgets/controls",
            "layout": "IPY_MODEL_54df98b4cbd04327b0a4981610de268e"
          }
        },
        "3690934f11724a7f8cdea9cf45c1822b": {
          "model_module": "@jupyter-widgets/controls",
          "model_name": "HTMLModel",
          "state": {
            "_view_name": "HTMLView",
            "style": "IPY_MODEL_2d6f45d764a542ac87fb3264e6d93fb8",
            "_dom_classes": [],
            "description": "",
            "_model_name": "HTMLModel",
            "placeholder": "​",
            "_view_module": "@jupyter-widgets/controls",
            "_model_module_version": "1.5.0",
            "value": " 714M/714M [00:18&lt;00:00, 39.3MB/s]",
            "_view_count": null,
            "_view_module_version": "1.5.0",
            "description_tooltip": null,
            "_model_module": "@jupyter-widgets/controls",
            "layout": "IPY_MODEL_bf84c1c1e60c4a7da56825f8bbdfb2b4"
          }
        },
        "9e368c03d4e742b3aa070eca92378820": {
          "model_module": "@jupyter-widgets/controls",
          "model_name": "ProgressStyleModel",
          "state": {
            "_view_name": "StyleView",
            "_model_name": "ProgressStyleModel",
            "description_width": "initial",
            "_view_module": "@jupyter-widgets/base",
            "_model_module_version": "1.5.0",
            "_view_count": null,
            "_view_module_version": "1.2.0",
            "bar_color": null,
            "_model_module": "@jupyter-widgets/controls"
          }
        },
        "54df98b4cbd04327b0a4981610de268e": {
          "model_module": "@jupyter-widgets/base",
          "model_name": "LayoutModel",
          "state": {
            "_view_name": "LayoutView",
            "grid_template_rows": null,
            "right": null,
            "justify_content": null,
            "_view_module": "@jupyter-widgets/base",
            "overflow": null,
            "_model_module_version": "1.2.0",
            "_view_count": null,
            "flex_flow": null,
            "width": null,
            "min_width": null,
            "border": null,
            "align_items": null,
            "bottom": null,
            "_model_module": "@jupyter-widgets/base",
            "top": null,
            "grid_column": null,
            "overflow_y": null,
            "overflow_x": null,
            "grid_auto_flow": null,
            "grid_area": null,
            "grid_template_columns": null,
            "flex": null,
            "_model_name": "LayoutModel",
            "justify_items": null,
            "grid_row": null,
            "max_height": null,
            "align_content": null,
            "visibility": null,
            "align_self": null,
            "height": null,
            "min_height": null,
            "padding": null,
            "grid_auto_rows": null,
            "grid_gap": null,
            "max_width": null,
            "order": null,
            "_view_module_version": "1.2.0",
            "grid_template_areas": null,
            "object_position": null,
            "object_fit": null,
            "grid_auto_columns": null,
            "margin": null,
            "display": null,
            "left": null
          }
        },
        "2d6f45d764a542ac87fb3264e6d93fb8": {
          "model_module": "@jupyter-widgets/controls",
          "model_name": "DescriptionStyleModel",
          "state": {
            "_view_name": "StyleView",
            "_model_name": "DescriptionStyleModel",
            "description_width": "",
            "_view_module": "@jupyter-widgets/base",
            "_model_module_version": "1.5.0",
            "_view_count": null,
            "_view_module_version": "1.2.0",
            "_model_module": "@jupyter-widgets/controls"
          }
        },
        "bf84c1c1e60c4a7da56825f8bbdfb2b4": {
          "model_module": "@jupyter-widgets/base",
          "model_name": "LayoutModel",
          "state": {
            "_view_name": "LayoutView",
            "grid_template_rows": null,
            "right": null,
            "justify_content": null,
            "_view_module": "@jupyter-widgets/base",
            "overflow": null,
            "_model_module_version": "1.2.0",
            "_view_count": null,
            "flex_flow": null,
            "width": null,
            "min_width": null,
            "border": null,
            "align_items": null,
            "bottom": null,
            "_model_module": "@jupyter-widgets/base",
            "top": null,
            "grid_column": null,
            "overflow_y": null,
            "overflow_x": null,
            "grid_auto_flow": null,
            "grid_area": null,
            "grid_template_columns": null,
            "flex": null,
            "_model_name": "LayoutModel",
            "justify_items": null,
            "grid_row": null,
            "max_height": null,
            "align_content": null,
            "visibility": null,
            "align_self": null,
            "height": null,
            "min_height": null,
            "padding": null,
            "grid_auto_rows": null,
            "grid_gap": null,
            "max_width": null,
            "order": null,
            "_view_module_version": "1.2.0",
            "grid_template_areas": null,
            "object_position": null,
            "object_fit": null,
            "grid_auto_columns": null,
            "margin": null,
            "display": null,
            "left": null
          }
        },
        "723117950bfc405ca540dd7f2f160660": {
          "model_module": "@jupyter-widgets/controls",
          "model_name": "HBoxModel",
          "state": {
            "_view_name": "HBoxView",
            "_dom_classes": [],
            "_model_name": "HBoxModel",
            "_view_module": "@jupyter-widgets/controls",
            "_model_module_version": "1.5.0",
            "_view_count": null,
            "_view_module_version": "1.5.0",
            "box_style": "",
            "layout": "IPY_MODEL_3b84fa6197474c6fab56d396a39cc3bd",
            "_model_module": "@jupyter-widgets/controls",
            "children": [
              "IPY_MODEL_6cd8e97177c748aebefb9db56d99b04b",
              "IPY_MODEL_01e9ee27d68c44f59a47ea743e1393d2"
            ]
          }
        },
        "3b84fa6197474c6fab56d396a39cc3bd": {
          "model_module": "@jupyter-widgets/base",
          "model_name": "LayoutModel",
          "state": {
            "_view_name": "LayoutView",
            "grid_template_rows": null,
            "right": null,
            "justify_content": null,
            "_view_module": "@jupyter-widgets/base",
            "overflow": null,
            "_model_module_version": "1.2.0",
            "_view_count": null,
            "flex_flow": null,
            "width": null,
            "min_width": null,
            "border": null,
            "align_items": null,
            "bottom": null,
            "_model_module": "@jupyter-widgets/base",
            "top": null,
            "grid_column": null,
            "overflow_y": null,
            "overflow_x": null,
            "grid_auto_flow": null,
            "grid_area": null,
            "grid_template_columns": null,
            "flex": null,
            "_model_name": "LayoutModel",
            "justify_items": null,
            "grid_row": null,
            "max_height": null,
            "align_content": null,
            "visibility": null,
            "align_self": null,
            "height": null,
            "min_height": null,
            "padding": null,
            "grid_auto_rows": null,
            "grid_gap": null,
            "max_width": null,
            "order": null,
            "_view_module_version": "1.2.0",
            "grid_template_areas": null,
            "object_position": null,
            "object_fit": null,
            "grid_auto_columns": null,
            "margin": null,
            "display": null,
            "left": null
          }
        },
        "6cd8e97177c748aebefb9db56d99b04b": {
          "model_module": "@jupyter-widgets/controls",
          "model_name": "FloatProgressModel",
          "state": {
            "_view_name": "ProgressView",
            "style": "IPY_MODEL_f9039e1932ed4fb785c10a69861ac3db",
            "_dom_classes": [],
            "description": "",
            "_model_name": "FloatProgressModel",
            "bar_style": "info",
            "max": 1,
            "_view_module": "@jupyter-widgets/controls",
            "_model_module_version": "1.5.0",
            "value": 1,
            "_view_count": null,
            "_view_module_version": "1.5.0",
            "orientation": "horizontal",
            "min": 0,
            "description_tooltip": null,
            "_model_module": "@jupyter-widgets/controls",
            "layout": "IPY_MODEL_3f0c7f46c62440dcafa2999c3cf36694"
          }
        },
        "01e9ee27d68c44f59a47ea743e1393d2": {
          "model_module": "@jupyter-widgets/controls",
          "model_name": "HTMLModel",
          "state": {
            "_view_name": "HTMLView",
            "style": "IPY_MODEL_b29c485a8cd3463e9d49af914b27a805",
            "_dom_classes": [],
            "description": "",
            "_model_name": "HTMLModel",
            "placeholder": "​",
            "_view_module": "@jupyter-widgets/controls",
            "_model_module_version": "1.5.0",
            "value": " 1/? [00:08&lt;00:00,  8.51s/ tables]",
            "_view_count": null,
            "_view_module_version": "1.5.0",
            "description_tooltip": null,
            "_model_module": "@jupyter-widgets/controls",
            "layout": "IPY_MODEL_8602108497274a3aa8b3e1068cf921ba"
          }
        },
        "f9039e1932ed4fb785c10a69861ac3db": {
          "model_module": "@jupyter-widgets/controls",
          "model_name": "ProgressStyleModel",
          "state": {
            "_view_name": "StyleView",
            "_model_name": "ProgressStyleModel",
            "description_width": "initial",
            "_view_module": "@jupyter-widgets/base",
            "_model_module_version": "1.5.0",
            "_view_count": null,
            "_view_module_version": "1.2.0",
            "bar_color": null,
            "_model_module": "@jupyter-widgets/controls"
          }
        },
        "3f0c7f46c62440dcafa2999c3cf36694": {
          "model_module": "@jupyter-widgets/base",
          "model_name": "LayoutModel",
          "state": {
            "_view_name": "LayoutView",
            "grid_template_rows": null,
            "right": null,
            "justify_content": null,
            "_view_module": "@jupyter-widgets/base",
            "overflow": null,
            "_model_module_version": "1.2.0",
            "_view_count": null,
            "flex_flow": null,
            "width": null,
            "min_width": null,
            "border": null,
            "align_items": null,
            "bottom": null,
            "_model_module": "@jupyter-widgets/base",
            "top": null,
            "grid_column": null,
            "overflow_y": null,
            "overflow_x": null,
            "grid_auto_flow": null,
            "grid_area": null,
            "grid_template_columns": null,
            "flex": null,
            "_model_name": "LayoutModel",
            "justify_items": null,
            "grid_row": null,
            "max_height": null,
            "align_content": null,
            "visibility": null,
            "align_self": null,
            "height": null,
            "min_height": null,
            "padding": null,
            "grid_auto_rows": null,
            "grid_gap": null,
            "max_width": null,
            "order": null,
            "_view_module_version": "1.2.0",
            "grid_template_areas": null,
            "object_position": null,
            "object_fit": null,
            "grid_auto_columns": null,
            "margin": null,
            "display": null,
            "left": null
          }
        },
        "b29c485a8cd3463e9d49af914b27a805": {
          "model_module": "@jupyter-widgets/controls",
          "model_name": "DescriptionStyleModel",
          "state": {
            "_view_name": "StyleView",
            "_model_name": "DescriptionStyleModel",
            "description_width": "",
            "_view_module": "@jupyter-widgets/base",
            "_model_module_version": "1.5.0",
            "_view_count": null,
            "_view_module_version": "1.2.0",
            "_model_module": "@jupyter-widgets/controls"
          }
        },
        "8602108497274a3aa8b3e1068cf921ba": {
          "model_module": "@jupyter-widgets/base",
          "model_name": "LayoutModel",
          "state": {
            "_view_name": "LayoutView",
            "grid_template_rows": null,
            "right": null,
            "justify_content": null,
            "_view_module": "@jupyter-widgets/base",
            "overflow": null,
            "_model_module_version": "1.2.0",
            "_view_count": null,
            "flex_flow": null,
            "width": null,
            "min_width": null,
            "border": null,
            "align_items": null,
            "bottom": null,
            "_model_module": "@jupyter-widgets/base",
            "top": null,
            "grid_column": null,
            "overflow_y": null,
            "overflow_x": null,
            "grid_auto_flow": null,
            "grid_area": null,
            "grid_template_columns": null,
            "flex": null,
            "_model_name": "LayoutModel",
            "justify_items": null,
            "grid_row": null,
            "max_height": null,
            "align_content": null,
            "visibility": null,
            "align_self": null,
            "height": null,
            "min_height": null,
            "padding": null,
            "grid_auto_rows": null,
            "grid_gap": null,
            "max_width": null,
            "order": null,
            "_view_module_version": "1.2.0",
            "grid_template_areas": null,
            "object_position": null,
            "object_fit": null,
            "grid_auto_columns": null,
            "margin": null,
            "display": null,
            "left": null
          }
        },
        "0b1c0cc8d8e9405baa80d6f46e76b98c": {
          "model_module": "@jupyter-widgets/controls",
          "model_name": "HBoxModel",
          "state": {
            "_view_name": "HBoxView",
            "_dom_classes": [],
            "_model_name": "HBoxModel",
            "_view_module": "@jupyter-widgets/controls",
            "_model_module_version": "1.5.0",
            "_view_count": null,
            "_view_module_version": "1.5.0",
            "box_style": "",
            "layout": "IPY_MODEL_2142e9e737cb4032b9098a48b87dd8eb",
            "_model_module": "@jupyter-widgets/controls",
            "children": [
              "IPY_MODEL_0537e8bd16fe4c13836099695e8500a7",
              "IPY_MODEL_bc244e255fd74728a47f71a30c693ad4"
            ]
          }
        },
        "2142e9e737cb4032b9098a48b87dd8eb": {
          "model_module": "@jupyter-widgets/base",
          "model_name": "LayoutModel",
          "state": {
            "_view_name": "LayoutView",
            "grid_template_rows": null,
            "right": null,
            "justify_content": null,
            "_view_module": "@jupyter-widgets/base",
            "overflow": null,
            "_model_module_version": "1.2.0",
            "_view_count": null,
            "flex_flow": null,
            "width": null,
            "min_width": null,
            "border": null,
            "align_items": null,
            "bottom": null,
            "_model_module": "@jupyter-widgets/base",
            "top": null,
            "grid_column": null,
            "overflow_y": null,
            "overflow_x": null,
            "grid_auto_flow": null,
            "grid_area": null,
            "grid_template_columns": null,
            "flex": null,
            "_model_name": "LayoutModel",
            "justify_items": null,
            "grid_row": null,
            "max_height": null,
            "align_content": null,
            "visibility": null,
            "align_self": null,
            "height": null,
            "min_height": null,
            "padding": null,
            "grid_auto_rows": null,
            "grid_gap": null,
            "max_width": null,
            "order": null,
            "_view_module_version": "1.2.0",
            "grid_template_areas": null,
            "object_position": null,
            "object_fit": null,
            "grid_auto_columns": null,
            "margin": null,
            "display": null,
            "left": null
          }
        },
        "0537e8bd16fe4c13836099695e8500a7": {
          "model_module": "@jupyter-widgets/controls",
          "model_name": "FloatProgressModel",
          "state": {
            "_view_name": "ProgressView",
            "style": "IPY_MODEL_c77d84302d66433db1ce387b34c69e5f",
            "_dom_classes": [],
            "description": "",
            "_model_name": "FloatProgressModel",
            "bar_style": "info",
            "max": 1,
            "_view_module": "@jupyter-widgets/controls",
            "_model_module_version": "1.5.0",
            "value": 1,
            "_view_count": null,
            "_view_module_version": "1.5.0",
            "orientation": "horizontal",
            "min": 0,
            "description_tooltip": null,
            "_model_module": "@jupyter-widgets/controls",
            "layout": "IPY_MODEL_ca388b8d5f524a8f8d73fee9ba7f50c7"
          }
        },
        "bc244e255fd74728a47f71a30c693ad4": {
          "model_module": "@jupyter-widgets/controls",
          "model_name": "HTMLModel",
          "state": {
            "_view_name": "HTMLView",
            "style": "IPY_MODEL_9ee9e3a2a41d48e1b0fb372975c580d4",
            "_dom_classes": [],
            "description": "",
            "_model_name": "HTMLModel",
            "placeholder": "​",
            "_view_module": "@jupyter-widgets/controls",
            "_model_module_version": "1.5.0",
            "value": " 1/? [00:00&lt;00:00,  1.22 tables/s]",
            "_view_count": null,
            "_view_module_version": "1.5.0",
            "description_tooltip": null,
            "_model_module": "@jupyter-widgets/controls",
            "layout": "IPY_MODEL_89d5fe66d000489a8088bbe26ba357ea"
          }
        },
        "c77d84302d66433db1ce387b34c69e5f": {
          "model_module": "@jupyter-widgets/controls",
          "model_name": "ProgressStyleModel",
          "state": {
            "_view_name": "StyleView",
            "_model_name": "ProgressStyleModel",
            "description_width": "initial",
            "_view_module": "@jupyter-widgets/base",
            "_model_module_version": "1.5.0",
            "_view_count": null,
            "_view_module_version": "1.2.0",
            "bar_color": null,
            "_model_module": "@jupyter-widgets/controls"
          }
        },
        "ca388b8d5f524a8f8d73fee9ba7f50c7": {
          "model_module": "@jupyter-widgets/base",
          "model_name": "LayoutModel",
          "state": {
            "_view_name": "LayoutView",
            "grid_template_rows": null,
            "right": null,
            "justify_content": null,
            "_view_module": "@jupyter-widgets/base",
            "overflow": null,
            "_model_module_version": "1.2.0",
            "_view_count": null,
            "flex_flow": null,
            "width": null,
            "min_width": null,
            "border": null,
            "align_items": null,
            "bottom": null,
            "_model_module": "@jupyter-widgets/base",
            "top": null,
            "grid_column": null,
            "overflow_y": null,
            "overflow_x": null,
            "grid_auto_flow": null,
            "grid_area": null,
            "grid_template_columns": null,
            "flex": null,
            "_model_name": "LayoutModel",
            "justify_items": null,
            "grid_row": null,
            "max_height": null,
            "align_content": null,
            "visibility": null,
            "align_self": null,
            "height": null,
            "min_height": null,
            "padding": null,
            "grid_auto_rows": null,
            "grid_gap": null,
            "max_width": null,
            "order": null,
            "_view_module_version": "1.2.0",
            "grid_template_areas": null,
            "object_position": null,
            "object_fit": null,
            "grid_auto_columns": null,
            "margin": null,
            "display": null,
            "left": null
          }
        },
        "9ee9e3a2a41d48e1b0fb372975c580d4": {
          "model_module": "@jupyter-widgets/controls",
          "model_name": "DescriptionStyleModel",
          "state": {
            "_view_name": "StyleView",
            "_model_name": "DescriptionStyleModel",
            "description_width": "",
            "_view_module": "@jupyter-widgets/base",
            "_model_module_version": "1.5.0",
            "_view_count": null,
            "_view_module_version": "1.2.0",
            "_model_module": "@jupyter-widgets/controls"
          }
        },
        "89d5fe66d000489a8088bbe26ba357ea": {
          "model_module": "@jupyter-widgets/base",
          "model_name": "LayoutModel",
          "state": {
            "_view_name": "LayoutView",
            "grid_template_rows": null,
            "right": null,
            "justify_content": null,
            "_view_module": "@jupyter-widgets/base",
            "overflow": null,
            "_model_module_version": "1.2.0",
            "_view_count": null,
            "flex_flow": null,
            "width": null,
            "min_width": null,
            "border": null,
            "align_items": null,
            "bottom": null,
            "_model_module": "@jupyter-widgets/base",
            "top": null,
            "grid_column": null,
            "overflow_y": null,
            "overflow_x": null,
            "grid_auto_flow": null,
            "grid_area": null,
            "grid_template_columns": null,
            "flex": null,
            "_model_name": "LayoutModel",
            "justify_items": null,
            "grid_row": null,
            "max_height": null,
            "align_content": null,
            "visibility": null,
            "align_self": null,
            "height": null,
            "min_height": null,
            "padding": null,
            "grid_auto_rows": null,
            "grid_gap": null,
            "max_width": null,
            "order": null,
            "_view_module_version": "1.2.0",
            "grid_template_areas": null,
            "object_position": null,
            "object_fit": null,
            "grid_auto_columns": null,
            "margin": null,
            "display": null,
            "left": null
          }
        },
        "b5db2974fdec4f95bb00e7d029f4fc85": {
          "model_module": "@jupyter-widgets/controls",
          "model_name": "HBoxModel",
          "state": {
            "_view_name": "HBoxView",
            "_dom_classes": [],
            "_model_name": "HBoxModel",
            "_view_module": "@jupyter-widgets/controls",
            "_model_module_version": "1.5.0",
            "_view_count": null,
            "_view_module_version": "1.5.0",
            "box_style": "",
            "layout": "IPY_MODEL_5cd171abd1b6402a96c29a65b12decb2",
            "_model_module": "@jupyter-widgets/controls",
            "children": [
              "IPY_MODEL_a53d962401f8493cb9ea6c857289cae5",
              "IPY_MODEL_115f437ef9b84bffaa6dde0d41a90206"
            ]
          }
        },
        "5cd171abd1b6402a96c29a65b12decb2": {
          "model_module": "@jupyter-widgets/base",
          "model_name": "LayoutModel",
          "state": {
            "_view_name": "LayoutView",
            "grid_template_rows": null,
            "right": null,
            "justify_content": null,
            "_view_module": "@jupyter-widgets/base",
            "overflow": null,
            "_model_module_version": "1.2.0",
            "_view_count": null,
            "flex_flow": null,
            "width": null,
            "min_width": null,
            "border": null,
            "align_items": null,
            "bottom": null,
            "_model_module": "@jupyter-widgets/base",
            "top": null,
            "grid_column": null,
            "overflow_y": null,
            "overflow_x": null,
            "grid_auto_flow": null,
            "grid_area": null,
            "grid_template_columns": null,
            "flex": null,
            "_model_name": "LayoutModel",
            "justify_items": null,
            "grid_row": null,
            "max_height": null,
            "align_content": null,
            "visibility": null,
            "align_self": null,
            "height": null,
            "min_height": null,
            "padding": null,
            "grid_auto_rows": null,
            "grid_gap": null,
            "max_width": null,
            "order": null,
            "_view_module_version": "1.2.0",
            "grid_template_areas": null,
            "object_position": null,
            "object_fit": null,
            "grid_auto_columns": null,
            "margin": null,
            "display": null,
            "left": null
          }
        },
        "a53d962401f8493cb9ea6c857289cae5": {
          "model_module": "@jupyter-widgets/controls",
          "model_name": "FloatProgressModel",
          "state": {
            "_view_name": "ProgressView",
            "style": "IPY_MODEL_b21a90ece77f46f49ca600ae5d717d1a",
            "_dom_classes": [],
            "description": "",
            "_model_name": "FloatProgressModel",
            "bar_style": "info",
            "max": 1,
            "_view_module": "@jupyter-widgets/controls",
            "_model_module_version": "1.5.0",
            "value": 1,
            "_view_count": null,
            "_view_module_version": "1.5.0",
            "orientation": "horizontal",
            "min": 0,
            "description_tooltip": null,
            "_model_module": "@jupyter-widgets/controls",
            "layout": "IPY_MODEL_ee555dd1244f4bc9a697fc944f76ec70"
          }
        },
        "115f437ef9b84bffaa6dde0d41a90206": {
          "model_module": "@jupyter-widgets/controls",
          "model_name": "HTMLModel",
          "state": {
            "_view_name": "HTMLView",
            "style": "IPY_MODEL_2067e106c4ed48509d2e00a6bf70ab2b",
            "_dom_classes": [],
            "description": "",
            "_model_name": "HTMLModel",
            "placeholder": "​",
            "_view_module": "@jupyter-widgets/controls",
            "_model_module_version": "1.5.0",
            "value": " 1/? [00:00&lt;00:00,  1.20 tables/s]",
            "_view_count": null,
            "_view_module_version": "1.5.0",
            "description_tooltip": null,
            "_model_module": "@jupyter-widgets/controls",
            "layout": "IPY_MODEL_55ce4d6dfed84363b8bd90db0e324d3b"
          }
        },
        "b21a90ece77f46f49ca600ae5d717d1a": {
          "model_module": "@jupyter-widgets/controls",
          "model_name": "ProgressStyleModel",
          "state": {
            "_view_name": "StyleView",
            "_model_name": "ProgressStyleModel",
            "description_width": "initial",
            "_view_module": "@jupyter-widgets/base",
            "_model_module_version": "1.5.0",
            "_view_count": null,
            "_view_module_version": "1.2.0",
            "bar_color": null,
            "_model_module": "@jupyter-widgets/controls"
          }
        },
        "ee555dd1244f4bc9a697fc944f76ec70": {
          "model_module": "@jupyter-widgets/base",
          "model_name": "LayoutModel",
          "state": {
            "_view_name": "LayoutView",
            "grid_template_rows": null,
            "right": null,
            "justify_content": null,
            "_view_module": "@jupyter-widgets/base",
            "overflow": null,
            "_model_module_version": "1.2.0",
            "_view_count": null,
            "flex_flow": null,
            "width": null,
            "min_width": null,
            "border": null,
            "align_items": null,
            "bottom": null,
            "_model_module": "@jupyter-widgets/base",
            "top": null,
            "grid_column": null,
            "overflow_y": null,
            "overflow_x": null,
            "grid_auto_flow": null,
            "grid_area": null,
            "grid_template_columns": null,
            "flex": null,
            "_model_name": "LayoutModel",
            "justify_items": null,
            "grid_row": null,
            "max_height": null,
            "align_content": null,
            "visibility": null,
            "align_self": null,
            "height": null,
            "min_height": null,
            "padding": null,
            "grid_auto_rows": null,
            "grid_gap": null,
            "max_width": null,
            "order": null,
            "_view_module_version": "1.2.0",
            "grid_template_areas": null,
            "object_position": null,
            "object_fit": null,
            "grid_auto_columns": null,
            "margin": null,
            "display": null,
            "left": null
          }
        },
        "2067e106c4ed48509d2e00a6bf70ab2b": {
          "model_module": "@jupyter-widgets/controls",
          "model_name": "DescriptionStyleModel",
          "state": {
            "_view_name": "StyleView",
            "_model_name": "DescriptionStyleModel",
            "description_width": "",
            "_view_module": "@jupyter-widgets/base",
            "_model_module_version": "1.5.0",
            "_view_count": null,
            "_view_module_version": "1.2.0",
            "_model_module": "@jupyter-widgets/controls"
          }
        },
        "55ce4d6dfed84363b8bd90db0e324d3b": {
          "model_module": "@jupyter-widgets/base",
          "model_name": "LayoutModel",
          "state": {
            "_view_name": "LayoutView",
            "grid_template_rows": null,
            "right": null,
            "justify_content": null,
            "_view_module": "@jupyter-widgets/base",
            "overflow": null,
            "_model_module_version": "1.2.0",
            "_view_count": null,
            "flex_flow": null,
            "width": null,
            "min_width": null,
            "border": null,
            "align_items": null,
            "bottom": null,
            "_model_module": "@jupyter-widgets/base",
            "top": null,
            "grid_column": null,
            "overflow_y": null,
            "overflow_x": null,
            "grid_auto_flow": null,
            "grid_area": null,
            "grid_template_columns": null,
            "flex": null,
            "_model_name": "LayoutModel",
            "justify_items": null,
            "grid_row": null,
            "max_height": null,
            "align_content": null,
            "visibility": null,
            "align_self": null,
            "height": null,
            "min_height": null,
            "padding": null,
            "grid_auto_rows": null,
            "grid_gap": null,
            "max_width": null,
            "order": null,
            "_view_module_version": "1.2.0",
            "grid_template_areas": null,
            "object_position": null,
            "object_fit": null,
            "grid_auto_columns": null,
            "margin": null,
            "display": null,
            "left": null
          }
        }
      }
    },
    "accelerator": "GPU"
  },
  "cells": [
    {
      "cell_type": "markdown",
      "metadata": {
        "id": "VyL4M54sYZc5"
      },
      "source": [
        "## Getting data and install packages"
      ]
    },
    {
      "cell_type": "code",
      "metadata": {
        "id": "rQiVAuCP2-E2",
        "colab": {
          "base_uri": "https://localhost:8080/"
        },
        "outputId": "7ad4f431-fd9b-4623-a3a8-4b9fde3598fe"
      },
      "source": [
        "!pip install -Uqq datasets pythainlp==2.2.4 transformers==4.4.0 tensorflow==2.4.0 tensorflow_text emoji seqeval sentencepiece fuzzywuzzy\n",
        "!npx degit --force https://github.com/vistec-AI/thai2transformers#dev"
      ],
      "execution_count": 1,
      "outputs": [
        {
          "output_type": "stream",
          "text": [
            "\u001b[K     |████████████████████████████████| 225kB 28.5MB/s \n",
            "\u001b[K     |████████████████████████████████| 8.9MB 27.3MB/s \n",
            "\u001b[K     |████████████████████████████████| 2.1MB 30.6MB/s \n",
            "\u001b[K     |████████████████████████████████| 394.7MB 38kB/s \n",
            "\u001b[K     |████████████████████████████████| 4.3MB 43.1MB/s \n",
            "\u001b[K     |████████████████████████████████| 133kB 56.7MB/s \n",
            "\u001b[K     |████████████████████████████████| 51kB 8.7MB/s \n",
            "\u001b[K     |████████████████████████████████| 1.2MB 47.3MB/s \n",
            "\u001b[K     |████████████████████████████████| 112kB 58.7MB/s \n",
            "\u001b[K     |████████████████████████████████| 245kB 57.4MB/s \n",
            "\u001b[K     |████████████████████████████████| 747kB 49.1MB/s \n",
            "\u001b[K     |████████████████████████████████| 901kB 47.4MB/s \n",
            "\u001b[K     |████████████████████████████████| 3.3MB 47.8MB/s \n",
            "\u001b[?25h  Building wheel for seqeval (setup.py) ... \u001b[?25l\u001b[?25hdone\n",
            "\u001b[31mERROR: tensorflow-text 2.5.0 has requirement tensorflow<2.6,>=2.5.0, but you'll have tensorflow 2.4.0 which is incompatible.\u001b[0m\n",
            "\u001b[K\u001b[?25hnpx: installed 1 in 2.231s\n",
            "\u001b[36m> destination directory is not empty. Using --force, continuing\u001b[39m\n",
            "\u001b[36m> cloned \u001b[1mvistec-AI/thai2transformers\u001b[22m#\u001b[1mdev\u001b[22m\u001b[39m\n"
          ],
          "name": "stdout"
        }
      ]
    },
    {
      "cell_type": "code",
      "metadata": {
        "id": "--selBuBbsda",
        "colab": {
          "base_uri": "https://localhost:8080/"
        },
        "outputId": "9a892994-7d55-41c8-d596-9f52b1db4153"
      },
      "source": [
        "%load_ext autoreload\n",
        "%autoreload 2\n",
        "\n",
        "import pythainlp, transformers\n",
        "pythainlp.__version__, transformers.__version__ #fix pythainlp to stabilize word tokenization for metrics"
      ],
      "execution_count": 2,
      "outputs": [
        {
          "output_type": "execute_result",
          "data": {
            "text/plain": [
              "('2.2.4', '4.4.0')"
            ]
          },
          "metadata": {
            "tags": []
          },
          "execution_count": 2
        }
      ]
    },
    {
      "cell_type": "code",
      "metadata": {
        "id": "RmPQsuSe29Q6"
      },
      "source": [
        "import collections\n",
        "import logging\n",
        "import pprint\n",
        "import re\n",
        "from tqdm.auto import tqdm\n",
        "\n",
        "import numpy as np\n",
        "import torch\n",
        "\n",
        "#datasets\n",
        "from datasets import (\n",
        "    load_dataset, \n",
        "    load_metric, \n",
        "    concatenate_datasets,\n",
        "    load_from_disk,\n",
        ")\n",
        "\n",
        "#transformers\n",
        "from transformers import (\n",
        "    AutoConfig,\n",
        "    AutoTokenizer,\n",
        "    AutoModelForQuestionAnswering,\n",
        "    TrainingArguments,\n",
        "    Trainer,\n",
        "    default_data_collator,\n",
        ")\n",
        "\n",
        "#thai2transformers\n",
        "import thai2transformers\n",
        "from thai2transformers.metrics import (\n",
        "    squad_newmm_metric,\n",
        "    question_answering_metrics,\n",
        ")\n",
        "from thai2transformers.preprocess import (\n",
        "    prepare_qa_train_features\n",
        ")\n",
        "from thai2transformers.tokenizers import (\n",
        "    ThaiRobertaTokenizer,\n",
        "    ThaiWordsNewmmTokenizer,\n",
        "    ThaiWordsSyllableTokenizer,\n",
        "    FakeSefrCutTokenizer,\n",
        "    SEFR_SPLIT_TOKEN\n",
        ")\n",
        "\n",
        "from tqdm import tqdm"
      ],
      "execution_count": 3,
      "outputs": []
    },
    {
      "cell_type": "code",
      "metadata": {
        "id": "IzJPUr0_26DJ",
        "colab": {
          "base_uri": "https://localhost:8080/",
          "height": 167,
          "referenced_widgets": [
            "d36c8c40ca99467cbbc9ffd5f47f01ba",
            "4b4f9ac3ca7242c5948870fb3c7284be",
            "6387592f3e98417f93695b90f1759f05",
            "0d88c964d00e4397932803dcb4be940d",
            "45840136e85840328f98a87227e77c41",
            "04c4fd33b197470c906d16580f644808",
            "8d6a887a742a4c84a515afcd3b2d7b18",
            "4337eb8325314d3c81247777e212a8fb",
            "d1759f1f8aef41858ba16c9a5a95a537",
            "f932530a66b2419d82e38c3aeaf6baa9",
            "d458d090e58c423b99f7c2c346967d0d",
            "d954b2197f24436d9c6648409af3e990",
            "bb832f983050471a99999725c1d5da94",
            "4bce208e45f543f28a40f0c91e9959f8",
            "34e6a52d2a5542828958b78f22955f84",
            "91395547f1ca4dea9dca44ebe69ee788",
            "dcb74a19aa274a6bb3e9b94f681bc66b",
            "422b40debd4b44808c92248da5062248",
            "7fd3e036a53e41908f3b56475ac16d37",
            "baac040abb4b49de97565c9b55101c56",
            "87413f09ca594c8c858fb44e5be72145",
            "0900117efa5a4dbd9972e61b9851d3b3",
            "3ea3603db9eb48069e8bfe51691cbd1a",
            "d0501f5fc3814ee985072ec052397a32"
          ]
        },
        "outputId": "6feebc95-1b68-4894-b793-fdc84634a695"
      },
      "source": [
        "from thai2transformers.tokenizers import ThaiWordsNewmmTokenizer\n",
        "tokenizer = AutoTokenizer.from_pretrained('airesearch/wangchanberta-base-att-spm-uncased')"
      ],
      "execution_count": 4,
      "outputs": [
        {
          "output_type": "display_data",
          "data": {
            "application/vnd.jupyter.widget-view+json": {
              "model_id": "d36c8c40ca99467cbbc9ffd5f47f01ba",
              "version_minor": 0,
              "version_major": 2
            },
            "text/plain": [
              "HBox(children=(FloatProgress(value=0.0, description='Downloading', max=546.0, style=ProgressStyle(description_…"
            ]
          },
          "metadata": {
            "tags": []
          }
        },
        {
          "output_type": "stream",
          "text": [
            "\n"
          ],
          "name": "stdout"
        },
        {
          "output_type": "display_data",
          "data": {
            "application/vnd.jupyter.widget-view+json": {
              "model_id": "d1759f1f8aef41858ba16c9a5a95a537",
              "version_minor": 0,
              "version_major": 2
            },
            "text/plain": [
              "HBox(children=(FloatProgress(value=0.0, description='Downloading', max=904693.0, style=ProgressStyle(descripti…"
            ]
          },
          "metadata": {
            "tags": []
          }
        },
        {
          "output_type": "stream",
          "text": [
            "\n"
          ],
          "name": "stdout"
        },
        {
          "output_type": "display_data",
          "data": {
            "application/vnd.jupyter.widget-view+json": {
              "model_id": "dcb74a19aa274a6bb3e9b94f681bc66b",
              "version_minor": 0,
              "version_major": 2
            },
            "text/plain": [
              "HBox(children=(FloatProgress(value=0.0, description='Downloading', max=282.0, style=ProgressStyle(description_…"
            ]
          },
          "metadata": {
            "tags": []
          }
        },
        {
          "output_type": "stream",
          "text": [
            "\n"
          ],
          "name": "stdout"
        }
      ]
    },
    {
      "cell_type": "code",
      "metadata": {
        "id": "6QW11JaD7fob",
        "colab": {
          "base_uri": "https://localhost:8080/"
        },
        "outputId": "4a1279d5-59b2-4311-a57b-8782353983ed"
      },
      "source": [
        "!gdown --id 1-8IU8qyry-yPXwQ7AXz0GHIgn19QKGZP\n",
        "!gdown --id 1-J0eqf4ig7cP8bMPRgSFUejshnBFTZoq\n",
        "!gdown --id 1-IIJFl4AGNr7rRax4YSQTTm7j12YJ0ya"
      ],
      "execution_count": 5,
      "outputs": [
        {
          "output_type": "stream",
          "text": [
            "Downloading...\n",
            "From: https://drive.google.com/uc?id=1-8IU8qyry-yPXwQ7AXz0GHIgn19QKGZP\n",
            "To: /content/thaisum.csv\n",
            "2.94GB [00:54, 53.7MB/s]\n",
            "Downloading...\n",
            "From: https://drive.google.com/uc?id=1-J0eqf4ig7cP8bMPRgSFUejshnBFTZoq\n",
            "To: /content/validation_set.csv\n",
            "118MB [00:01, 93.3MB/s] \n",
            "Downloading...\n",
            "From: https://drive.google.com/uc?id=1-IIJFl4AGNr7rRax4YSQTTm7j12YJ0ya\n",
            "To: /content/test_set.csv\n",
            "119MB [00:02, 48.3MB/s]\n"
          ],
          "name": "stdout"
        }
      ]
    },
    {
      "cell_type": "code",
      "metadata": {
        "colab": {
          "base_uri": "https://localhost:8080/"
        },
        "id": "qJHyQQpkUpYL",
        "outputId": "b6de1bfa-d1b8-464f-a815-b9ce251587d8"
      },
      "source": [
        "from google.colab import drive\n",
        "drive.mount('/content/drive')"
      ],
      "execution_count": 6,
      "outputs": [
        {
          "output_type": "stream",
          "text": [
            "Mounted at /content/drive\n"
          ],
          "name": "stdout"
        }
      ]
    },
    {
      "cell_type": "code",
      "metadata": {
        "id": "z18apMRS7hjj"
      },
      "source": [
        "import pandas as pd\n",
        "df = pd.read_csv('/content/drive/MyDrive/thaisum.csv')\n",
        "val_df = pd.read_csv('/content/drive/MyDrive/validation_set.csv')\n",
        "test_df = pd.read_csv('/content/drive/MyDrive/test_set.csv')\n",
        "df = pd.concat([df, val_df, test_df], axis=0)"
      ],
      "execution_count": 7,
      "outputs": []
    },
    {
      "cell_type": "code",
      "metadata": {
        "id": "632hPyzh7llD",
        "colab": {
          "base_uri": "https://localhost:8080/"
        },
        "outputId": "d5259f4e-3a0e-4f41-c9fe-1675fa44deed"
      },
      "source": [
        "data_test = df['body'][369868:380868].tolist()\n",
        "data_test[:3]"
      ],
      "execution_count": 8,
      "outputs": [
        {
          "output_type": "execute_result",
          "data": {
            "text/plain": [
              "['พอไม่ได้ดังใจก็ร่างใหม่ แสลงชื่อสมชัยเดินหนี มีชัย ไม่ยี่หระเสียงค้านชงสูตรพิสดารเลือกตั้ง ส.ส. ประกาศ ผลช้าไปชั่วโมงสองชั่วโมงไม่เห็นเป็นไร แสลงหูชื่อ สมชัย ชิ่งหนีดื้อๆ พรเพชร ให้นายกฯ ตัดสินใจปลดล็อกพรรคการเมือง 34 สนช.ยื่นตีความต่อวาระให้ผู้ตรวจฯ ส่อขัด รธน. พท.ดาหน้าฉะ ซือแป๋ ใครแน่ดูถูกประชาชน สมคิด ซัดพูดย้อนแย้งไหลไปไหลมา ลั่น ไม่เคยกลัวในสนามเลือกตั้ง สมชัย กระแทกซ้ำเปิดช่องโกงสนั่นกันทั้งประเทศ ทนายปู มึนรถตู้รับจ้างถูกเล่นงาน ภูมิธรรม ดับกระแส พท.วางตัวผู้นำ ยันพรรคเหนียวแน่นไม่มีปีนเกลียว วิม แจงไม่ได้ล็อกเป้าแค่คน ชินวัตร บิ๊กตู่ รอรายงาน โกตี๋ ตายที่ลาว บิ๊กป้อม โบ้ยศพใครไม่รู้ ผบ.ทบ.ชี้ภาพตกแต่งกันได้ ครม.ตั้ง เลิศวิโรจน์ ขึ้นปลัดเกษตรฯ สุทธิพงษ์ อ.ส่งเสริมปกครองท้องถิ่น ประยุทธ์ รับ รมว.ต่างประเทศสหรัฐฯเยือนไทย ปัดไม่ได้โดนรังเกียจจากนานาชาติ ดอน ยังมั่นใจไปเยือนในปีนี้ แม้เสียงคัดค้านจากฝ่ายการเมืองต่อรูปแบบการเลือกตั้ง ส.ส. สูตรพิสดารของกรรมการร่างรัฐธรรมนูญ (กรธ.) ยังคงดังกระหึ่ม แต่นายมีชัย ฤชุพันธุ์ ประธาน กรธ. ยังคงยืนยันเดินหน้าต่อไป แม้การเลือกตั้งตามรูปแบบใหม่จะทำให้การประกาศผลล่าช้าไปบ้างก็ไม่เห็นเป็นอะไร เมื่อเวลา 13.45 น.วันที่ 8 ส.ค.ที่รัฐสภา นายมีชัย ฤชุพันธุ์ ประธานกรรมการร่างรัฐธรรมนูญ (กรธ.) กล่าวถึงกรณีนายอภิสิทธิ์ เวชชาชีวะ หัวหน้าพรรคประชาธิปัตย์ เสนอให้ใช้ชื่อหรือโลโก้พรรค โดยไม่ต้องมีเบอร์ในบัตรลงคะแนนว่า ถ้ามีที่ว่างสามารถใส่ได้ทั้งเบอร์ ชื่อ และโลโก้พรรค หากให้มีแต่ชื่อต้องนึกถึงคนไกลๆที่อ่านหนังสือไม่ออกด้วย แนวทาง กรธ.ทำให้การซื้อเสียงยากขึ้นอีกหน่อย แต่ไม่ได้บอกว่ามันจะหมดไป ไปตรวจสอบการเลือกตั้งของไทยทั้ง 27 ครั้งใช้มาแล้วทุกระบบ สงสัยนางสดศรี สัตยธรรม อดีตกรรมการการเลือกตั้ง (กกต.) คงเพิ่งเกิดจึงไม่รู้การกำหนดให้มีหมายเลขแตกต่างกันไป จะไม่มีปัญหาต่อการนับคะแนน เวลานับคะแนนก็เอามารวมกัน ใส่เข้าระบบคอมพิวเตอร์ประมวลผลออกมาให้เห็น เริ่มนับที่หน่วยเลือกตั้งแล้วนำมารวมที่เขตเลือกตั้ง และส่งมายังส่วนกลางอีกครั้ง ถ้าการประกาศผลต้องล่าช้าไปสักชั่วโมงสองชั่วโมง ไม่เห็นจะเป็นอะไร ผู้สื่อข่าวรายงานว่า ระหว่างการสัมภาษณ์ เมื่อผู้สื่อข่าวถามถึงความเห็นของนายสมชัย ศรีสุทธิยากร กกต. เกี่ยวกับปัญหาการนับคะแนนจากการแยกเบอร์ผู้สมัคร ส.ส.รายเขต นายมีชัยปฏิเสธที่จะตอบคำถามพร้อมเดินออกจากวงสัมภาษณ์ทันที ที่รัฐสภา นายพรเพชร วิชิตชลชัย ประธานสภานิติบัญญัติแห่งชาติ (สนช.) กล่าวว่า ได้ส่งร่าง พ.ร.บ.ประกอบรัฐธรรมนูญว่าด้วยพรรคการเมือง ให้ พล.อ.ประยุทธ์ จันทร์โอชา นายกรัฐมนตรีและหัวหน้า คสช.แล้ว เมื่อวันที่ 7 ส.ค. ส่วน คสช.จะยกเลิกคำสั่ง คสช. เกี่ยวกับการห้ามพรรคการเมืองดำเนินกิจกรรมทางการเมืองหรือไม่ เป็นเรื่องที่ คสช.จะพิจารณา ว่าคำสั่งดังกล่าวเป็นอุปสรรคต่อการที่พรรคการเมืองต้องดำเนินการตามกฎหมายพรรคการเมืองใหม่หรือไม่ เพราะคำสั่งเหล่านั้นยังคงอยู่ไม่ได้ยกเลิก แม้กฎหมายใหม่จะมีผลบังคับใช้ก็ตาม หากพรรคการเมืองเห็นว่าเป็นปัญหา ควรสะท้อนความเห็นไปยัง คสช.โดยตรง เพราะคำสั่งที่ออกมาต้องการให้สถานการณ์บ้านเมืองราบรื่น ดังนั้น คสช.ต้องพิจารณาว่าถึงเวลาที่จะยกเลิกหรือยัง ส่วนกรณีที่ กรธ.จะบัญญัติรูปแบบการเลือกตั้งใหม่ จากพรรคเดียวเบอร์เดียวมาเป็นการจับสลากในแต่ละพื้นที่ ไว้ในร่าง พ.ร.บ.ประกอบรัฐธรรมนูญว่าด้วยการเลือกตั้ง ส.ส.นั้น ยังเป็นเพียงความเห็นเบื้องต้น กรธ.คงฟังความเห็นรอบด้านว่า พรรคการเมืองและประชาชนจะว่าอย่างไร กรธ.มีสิทธิทบทวน เพราะยังไม่ได้เขียนกฎหมาย ส่วนที่มีเสียงท้วงติงเพราะเปลี่ยนแปลงไปจากที่เคยปฏิบัติ ในส่วนของ สนช.จะรอดูว่ามีการรับฟังความเห็นประชาชนตามรัฐธรรมนูญมาตรา 77 วรรค 2 หรือไม่ ยังไม่ขอวิจารณ์ นพ.เจตน์ ศิรธรานนท์ สมาชิก สนช.กล่าวว่า ตนพร้อมเพื่อน สนช.รวม 34 คน ได้เข้าชื่อยื่นหนังสือต่อประธาน สนช. ให้ยื่นศาลรัฐธรรมนูญตามรัฐธรรมนูญมาตรา 148 ขอให้วินิจฉัยว่าร่าง พ.ร.บ.ประกอบรัฐธรรมนูญว่าด้วยผู้ตรวจการแผ่นดิน ขัดต่อรัฐธรรมนูญหรือไม่ เนื่องจากมาตรา 56 บทเฉพาะกาล ที่ประชุม สนช.ได้แก้ไขในวาระ 2 และ 3 ให้ประธานและผู้ตรวจการแผ่นดินที่ดำรงตำแหน่งก่อนวันที่ พ.ร.บ.ฉบับนี้ใช้บังคับ อยู่จนครบวาระตาม พ.ร.บ.เดิม เราเห็นว่าตามรัฐธรรมนูญ ในบทเฉพาะกาลมาตรา 273 ให้การดำรงตำแหน่งต่อไปเป็นไปตามร่าง พ.ร.บ.ประกอบรัฐธรรมนูญดังกล่าวนั้น ไม่น่าจะหมายถึงอยู่จนครบวาระตาม พ.ร.บ.ผู้ตรวจการแผ่นดินฯ รวมทั้งไม่ได้ยกเว้นคุณสมบัติและลักษณะต้องห้ามไว้ จึงคิดว่าอาจขัดหรือแย้งรัฐธรรมนูญหรือไม่ ขณะที่นายชวลิต วิชยสุทธิ์ อดีตรองเลขาธิการพรรคเพื่อไทย กล่าวถึงกรณีนายมีชัย ฤชุพันธุ์ ประธาน กรธ. เตือนนักการเมืองอย่าดูถูกประชาชนกับระบบเลือกตั้งใหม่ ว่า ถามว่าใครกันแน่ดูถูกประชาชน ขอสรุปภาพรวมดังนี้ 1.ใครออกแบบระบบเลือกตั้งแบบจัดสรรปันส่วนผสม ที่มีเพียงประเทศไทยประเทศเดียวในโลกที่ใช้ เพราะหวังให้การเมืองอ่อนแอ ไม่มีเสถียรภาพ ไม่ฟังเสียงประชาชน ตั้งใจเปิดโอกาสให้คนนอกมาเป็นนายกรัฐมนตรี 2.ใครออกแบบให้ ส.ว.มาจากการสรรหาทั้งหมด สรรหาโดยใคร โดยพวกท่านใช่หรือไม่ ท่านก็เป็นหนึ่งใน คสช. ที่สำคัญ ส.ว.มีหน้าที่เลือกนายกฯ ด้วยระบบที่ไม่ปกตินี้จะพาประเทศชาติและประชาชนลงเหว ภายใต้ระบอบประชาธิปไตยจอมปลอม ไม่ว่าใครจะให้ความเห็นอย่างไรก็ไม่ฟังเหตุผล ไม่คิดถึงความเดือดร้อนประชาชน หวังเพียงอำนาจส่วนตนและพวกพ้องเท่านั้น ถ้าให้ความสำคัญกับประชาชน ทำไมออกแบบกติกาบ้านเมืองโดยละทิ้งประชาชน หากจะมีเสียงวิจารณ์ว่าทำงานรับใช้อำนาจนิยม เท่ากับละทิ้งดูถูกประชาชนหรือไม่ นายสมคิด เชื้อคง อดีต ส.ส.อุบลราชธานี พรรคเพื่อไทย กล่าวว่า การที่ กรธ.จะบัญญัติระบบเลือกตั้ง ส.ส.ใหม่ ให้จับสลากเบอร์ในแต่ละเขตนั้น ถือว่าขัดแย้งกับคำพูดที่ว่าอยากทำให้พรรคการเมืองเข้มแข็ง เป็นคำพูดที่ย้อนแย้งในตัวเอง สะท้อนให้เห็นว่ากฎหมายลูกแต่ละฉบับมีหลักการที่ไหลไปไหลมา แล้วแต่ความต้องการของผู้มีอำนาจหรือไม่ เมื่อก่อนมีวาทกรรมพรรคเทพพรรคมาร วันนี้มีคนดีคนไม่ดี ฝ่ายการเมืองถูกยัดเยียดความไม่ดี แต่อีกฝ่ายที่จะแต่งตั้ง 250 คน มีกฎหมายกำหนดกฎเกณฑ์ไม่ให้อยู่ในคอกเหมือนนักการเมือง ยกเว้นสารพัดกฎเกณฑ์ แม้แต่การเป็นข้าราชการประจำก็ยกเว้นให้ ปากก็อ้างสารพัดว่าเพื่อชาติบ้านเมือง หรือมองคนกลุ่มอื่นไม่รักชาติบ้านเมืองเหมือนพวกท่าน กี่ครั้งกี่กติกาที่พวกท่านออกมา ถ้าไม่ได้ดังใจกลุ่มพวกท่านก็จะออกกติกาใหม่เรื่อยไป อ้างว่าของเดิมมันแย่ มันซื้อเสียงได้ เขตเดียว เบอร์เดียวก็ทำมาแล้ว เขตใหญ่เรียงเบอร์ก็ทำมาแล้ว นี่จะให้ทำไพรมารีโหวต จะมากำหนดเบอร์แต่ละเขตอีก ไหนว่าไม่ให้ยึดติดตัวบุคคล ไหนอยากให้พรรคการเมืองเข้มแข็ง เอาเลยตามสบาย พวกผมไม่กลัวพวกคุณในสนามการเลือกตั้ง นายสมคิดกล่าว ผู้สื่อข่าวรายงานจากพรรคประชาธิปัตย์ว่า นายอภิสิทธิ์ เวชชาชีวะ หัวหน้าพรรคประชาธิปัตย์ และอดีตนายกรัฐมนตรี ได้เปิดกิจกรรมสอบถามความเห็นประชาชนผ่านระบบไลน์ ประเด็น โหวตบัตรเลือกตั้ง ผู้สมัครจากพรรคเดียวกันในแต่ละเขตเลือกตั้งทั้งประเทศควรจะ? หลังจากที่ กรธ.กำหนดเนื้อหาในร่าง พ.ร.บ.ประกอบรัฐธรรมนูญว่าด้วยการเลือกตั้ง ส.ส. แบบแยกเบอร์ แทนที่จะเป็นเบอร์เดียวกันทั่วประเทศเหมือนอดีต โดยนายอภิสิทธิ์เปิดให้ประชาชนเข้าไปลงคะแนนเลือกใน 3 คำตอบ คือ 1.ใช้หมายเลขเดียวกัน 2.ไม่จำเป็นต้องเป็นหมายเลขเดียวกัน และ 3.บัตรเลือกตั้งใส่เฉพาะชื่อผู้สมัครและโลโก้พรรค ไม่มีหมายเลข โดยจะเปิดให้โหวตถึงวันที่ 8 ส.ค. ก่อนหน้านี้ นายอภิสิทธิ์เสนอความเห็นว่า หาก กรธ.ต้องการแก้ปัญหาซื้อสิทธิขายเสียง ควรยกเลิกเบอร์ไปเลย ให้ใส่เฉพาะชื่อผู้สมัคร นามสกุล และโลโก้พรรค ที่สำนักงาน กกต. นายสมชัย ศรีสุทธิยากร กกต. กล่าวว่า รูปแบบการเลือกตั้ง ส.ส.ที่ กรธ.คิดขึ้น การเปลี่ยนแปลงครั้งนี้จะทำให้ประชาชนเกิดความสับสน แม้หลักการไม่ขัดต่อเจตนารมณ์รัฐธรรมนูญ ถ้าใช้บังคับ กกต.ก็สามารถปฏิบัติได้ แต่จะปฏิบัติได้ยาก แต่อาจมีปัญหาใน 3 ส่วน คือ 1.การจับสลากเพียงแค่จุดเดียว กกต.ต้องจัดชุดแยกดำเนินการใน 350 เขต หากเกิดกรณีปิดล้อมจับสลากไม่ได้จะเกิดปัญหา 2.การจัดพิมพ์บัตรเลือกตั้ง ยากควบคุมเรื่องคุณภาพ ต้องแยกพิมพ์แต่ละจังหวัดในโรงพิมพ์ท้องถิ่นเพื่อให้ทัน ผลคือจะมีบัตรปลอม นี่คือสิ่งที่ กกต.เป็นห่วงกลัวว่าจะเกิดการรั่วไหล เกิดการโกงกันทั้งประเทศ ยกเว้นว่าอยากทำให้โกงกันทั้งบ้านทั้งเมือง ก็ทำกระบวนการนี้ 3.การรวมคะแนน ปัญหาคือตรวจสอบของภาคประชาชน หรือองค์กรที่ร่วมตรวจสอบการเลือกตั้งจะทำได้ยาก คนที่บอกว่าทำแบบนี้แล้วการซื้อเสียงจะหมดไป ถ้าเกิดการซื้อเสียงมากกว่าเดิมกล้าพูดไหมว่าจะรับผิดชอบอย่างไร บ้านเมืองไม่ใช่ของเล่น ไม่ใช่อยากคิดอะไรเขียนอะไรใหม่ก็เอามาลองไปเรื่อย นายสมชัยกล่าวอีกว่า ที่ประชุม กกต.มีมติเห็นชอบขยายเวลาให้คณะอนุกรรมการสอบสวนข้อ เท็จจริงกรณี 9 รัฐมนตรี ที่ถูกร้องเรียนขาดคุณสมบัติในการดำรงตำแหน่งออกไปอีก 30 วัน นับแต่วันที่ 12 ส.ค.นี้ เพราะต้องรอข้อมูลให้ครบถ้วน และให้โอกาสรัฐมนตรีผู้ถูกกล่าวหาได้เข้าชี้แจง แต่คิดว่ากรอบเวลา 30 วันที่อนุกรรมการขอขยายมานี้จะไม่เพียงพอแต่ตามระเบียบแล้วจะขอขยายเวลาได้ครั้งละ 30 วันเท่านั้น วันเดียวกัน เวลา 09.00 น. ที่ทำเนียบรัฐบาล ก่อนการประชุมคณะรักษาความสงบแห่งชาติ (คสช.) และคณะรัฐมนตรี (ครม.) นางเพ็ญพักตร์ ศรีทอง เลขาธิการสภาสังคมสงเคราะห์แห่งประเทศไทย ในพระบรมราชูปถัมภ์ นำศิลปินดารา อาทิ นายพีรพัฒน์ สวัสดิ์มูล (พี สะเดิด) น.ส.สุรัตน์ติกานต์ พรรคเจริญ (เอิร์น เดอะสตาร์) และนายภูศิลป์ วารินรักษ์ (เต๋า) ร่วมรณรงค์ ประชาสัมพันธ์การจำหน่ายดอกมะลิงานวันแม่แห่งชาติประจำปี 2560 พร้อมกับติดเข็มกลัดดอกมะลิให้ พล.อ.ประยุทธ์ จันทร์โอชา นายกรัฐมนตรีและหัวหน้า คสช. และ ครม. พร้อมเชิญชวนคนไทยร่วมอุดหนุนผลิตภัณฑ์ดอกมะลิ โดยนายกฯกล่าวว่า วันแม่ รักแม่ให้มากๆ ขอบคุณที่ให้กำลังใจ เด็กๆถือเป็นผู้บริสุทธิ์ ทำอะไรให้คิดไปข้างหน้า ขอฝากภารกิจประเทศชาติกับทุกคน และให้กำลังใจซึ่งกันและกัน ต่อมา นพ.ธีระเกียรติ เจริญเศรษฐศิลป์ รมว.ศึกษาธิการ นำคณะเข้าพบนายกฯ เพื่อประชาสัมพันธ์โครงการผลิตสื่อการเรียนรู้และฝึกทักษะภาษาอังกฤษการสื่อสารเพื่อก้าวสู่อาชีพ (Echo VE) โดยสำนักงานคณะกรรมการการอาชีวศึกษาจัดทำแอพพลิเคชั่น EchoVE ใช้ได้กับโทรศัพท์ทั้งระบบแอนดรอยด์ และไอโอเอส เพื่อพัฒนาทักษะการฟัง พูด อ่าน เขียน ให้ผู้เรียนสายอาชีพมีทักษะภาษาอังกฤษเป็นที่ยอมรับในตลาดงาน จากนั้น พล.อ.ประยุทธ์ จันทร์โอชา นายกฯ แถลงภายหลังการประชุม ครม. ถึงข้อเสนอ กรธ.เตรียมบัญญัติให้ผู้สมัคร ส.ส.แบบเขตและแบบบัญชีรายชื่อ ไม่ใช้เบอร์เดียวกันเพื่อป้องกันการทุจริตซื้อเสียงว่า ยังอยู่ในขั้นตอนที่ กรธ.เสนอ ยังไม่มีความเห็นต้องรอฟังเมื่อเข้าสู่ขั้นตอนการพิจารณาของ สนช.ด้วย ตนให้สิทธิแก่แม่น้ำแต่ละสายทำงาน เป็นเรื่องที่จะทำงานร่วมกัน ต้องสร้างการรับรู้แก่ประชาชนตามรัฐธรรมนูญ เมื่อถามว่า แนวทางนี้จะลดการซื้อสิทธิ์ขายเสียงได้หรือไม่ พล.อ.ประยุทธ์ตอบว่า ไม่ได้อยู่ที่กฎหมายอย่างเดียว อยู่ที่ตัวคนด้วย ทั้งนักการเมือง พรรคการเมือง ประชาชนต้องไม่รับเงิน ปัญหาที่ผ่านมาทุกคนทราบดีอยู่แล้ว รับเงินแล้วประเทศได้อะไรนอกจากได้เงินมาเพียงเล็กน้อย ดังนั้นใครที่ให้เงินแสดงว่ามีเจตนาไม่บริสุทธิ์ เป็นพรรคการเมืองที่ไม่บริสุทธิ์ใจ อีกเรื่อง นายนรวิทย์ หล้าแหล่ง ทนายความ น.ส.ยิ่งลักษณ์ ชินวัตร อดีตนายกรัฐมนตรี คดีรับจำนำข้าว กล่าวถึงกรณีเจ้าหน้าที่ตำรวจดำเนินคดีกับผู้ประกอบการรถตู้สาธารณะที่รับจ้างประชาชนเดินทางมาให้กำลังใจ น.ส.ยิ่งลักษณ์ ในวันแถลงปิดคดีด้วยวาจาเมื่อวันที่ 1 ส.ค. ว่า ไม่รู้จักกับผู้ประกอบ การรถตู้ดังกล่าว ไม่รู้รายละเอียดข้อกล่าวหา ทราบแต่เพียงที่เป็นข่าว แต่มองว่ารถตู้รับจ้างที่ไม่ใช่รถประจำทาง สามารถวิ่งรับจ้างได้ทั่วไป เขาคงมีทนายความชี้แจงข้อเท็จจริง แต่ประเด็นสำคัญอยากให้ดูที่เจตนา ประชาชนที่มาให้กำลังใจ น.ส.ยิ่งลักษณ์ ไม่ได้มาชุมนุมสร้างความวุ่นวาย จึงไม่ทราบที่มาของการแจ้งข้อกล่าวหา เรื่องนี้เจ้าหน้าที่ปฏิบัติต้องระมัดระวังด้วย ส่วนการเตรียมพร้อมส่งคำแถลงปิดคดีด้วยลายลักษณ์อักษรคดีจำนำข้าวนั้น ทีมทนายความเตรียมการกันอยู่ โดยเตรียมข้อโต้แย้งพยานหลักฐานของโจทก์ทุกประเด็น ยืนยันจะส่งให้ศาลได้ภายในวันที่ 15 ส.ค. นายภูมิธรรม เวชยชัย เลขาธิการพรรคเพื่อไทย กล่าวว่า อ่านข่าวที่ระบุว่าพรรคเพื่อไทยเตรียมวางตัวหัวหน้าพรรคคนใหม่แล้ว ประหลาดใจว่าข่าวมาได้อย่างไร ยืนยันว่าไม่เป็นความจริง วันนี้พรรคเพื่อไทยยังอยู่ภายใต้การควบคุมของคำสั่ง คสช. ตั้งแต่มีการรัฐประหารพรรคต้องเผชิญกับภาวะถูกกระทำ มีข้อจำกัดต้องรับภาระจากคดีความต่างๆที่ฝ่ายผู้มีอำนาจมอบให้ เวลาส่วนใหญ่จึงอยู่ในสภาพต่อสู้กับคดี โดยเฉพาะ น.ส.ยิ่งลักษณ์ ชินวัตร แทบไม่มีเวลาสนใจกับเรื่องอื่น ยืนยันว่าไม่ได้เข้ามายุ่งเกี่ยวกับการบริหารจัดการภายในพรรคเลย ข้อมูลที่ระบุจะผลักดันนางมณฑาทิพย์ โกวิทเจริญกุล พี่สาวขึ้นมาเป็นหัวหน้าพรรคนั้นไม่เป็นความจริง จากที่รู้จักและมีโอกาสได้คุย นางมณฑาทิพย์ยืนยันว่าไม่ประสงค์และไม่เคยสนใจเข้ามาเกี่ยวข้องกับเรื่องการเมืองเลย นายภูมิธรรมกล่าวต่อว่า ส่วนกระแสข่าวว่านายสมชาย วงศ์สวัสดิ์ อดีตนายกฯ และคุณหญิงสุดารัตน์ เกยุราพันธุ์ แกนนำพรรคเพื่อไทย จะเข้ามาเป็นหัวหน้าพรรค จนเกิดกระแสข่าวความขัดแย้งในพรรคนั้น ยืนยันพรรคเพื่อไทยยังมีความสามัคคีภายในแนบแน่น ยังเร็วเกินไปที่จะพูดเรื่องนี้ ยืนยันว่าพรรคเพื่อไทยมีบุคลากรคุณภาพจำนวนมาก พร้อมรับภาระหน้าที่นำพาพรรครับใช้ประชาชน และขึ้นอยู่กับสถานการณ์ขณะนั้นว่าต้องการคุณสมบัติผู้นำเช่นไร เราพร้อมสนับสนุนคนที่มีคุณสมบัติเหมาะกับสถานการณ์ นายวิม รุ่งวัฒนจินดา หนึ่งในทีมงานของ น.ส.ยิ่งลักษณ์กล่าวว่า ยืนยันว่ากระแสข่าวที่เกิดขึ้นไม่เป็นความจริง ตั้งแต่ถูกรัฐประหารมา น.ส.ยิ่งลักษณ์มุ่งแต่เรื่องต่อสู้คดีรับจำนำข้าว ไม่ได้เข้าไปมีส่วนในกิจกรรมทางการเมืองของพรรค นอกจากนี้ นางมณฑาทิพย์ไม่สนใจการเมือง ใช้ชีวิตแบบเรียบง่ายเป็นแม่บ้าน ไม่เอาตัวเองมายุ่งเกี่ยวการเมืองที่วุ่นวายแน่ ทั้งนี้ ผู้นำพรรคต้องเป็นที่ยอมรับของพี่น้องประชาชน ไม่ใช่ตระกูลชินวัตรจะเป็นผู้กำหนด ที่พรรคเพื่อไทย นายวัฒนา เมืองสุข อดีต รมว.พาณิชย์ และแกนนำพรรคเพื่อไทย แถลงว่า หลังเข้าพบพนักงานสอบสวน บก.ปอท. พร้อมทนายความ มาทราบภายหลังว่า คสช.ต้องการให้พนักงานสอบสวนนำตนไปขออำนาจศาลฝากขัง และจะคัดค้านการประกันตัว เรื่องนี้ถือเป็นการสร้างมาตรฐานใหม่ เมื่อแสดงความเห็นไม่ถูกใจผู้มีอำนาจจะกลายเป็นความผิด โดยใช้คำว่าความมั่นคงเป็นข้ออ้าง โดยเฉพาะผู้ที่ได้รับมอบอำนาจจาก คสช.ให้มาร้องทุกข์กล่าวโทษตน กลับมีพฤติกรรมแทรกแซงการทำงานพนักงานสอบสวน มีการดำเนินการที่ผิดไปจากกฎหมายและแนวทางปฏิบัติ มีเจตนาจะเอาตัวตนไปศาลให้ได้ พฤติการณ์ที่เห็นถ้า พล.อ.ประยุทธ์อยากเอาใครเข้าคุก ก็ต้องเป็นไปตามนั้น คำสั่ง พล.อ.ประยุทธ์กลายเป็นกฎหมายไปแล้วหรือ จะปล่อยให้เป็นแบบนี้หรือ การที่ พล.อ.ประยุทธ์ระบุว่าถูกแบล็กลิสต์ห้ามเดินทางไปต่างประเทศ แสดงว่าเขาไม่ให้การยอมรับ แต่ยังไม่รู้ตัว เป็นเรื่องน่าอับอายที่ผู้นำของเราไปต่างประเทศไปเจรจาไม่ได้ ที่ทำเนียบรัฐบาล พล.อ.ประยุทธ์ จันทร์โอชา นายกฯ แถลงภายหลังประชุม ครม. ถึงภาพข่าวว่านายวุฒิพงศ์ กชธรรมคุณ หรือโกตี๋ ผู้ต้องหาตามประมวลกฎหมายอาญามาตรา 112 เสียชีวิตในสาธารณรัฐประชาธิปไตยประชาชนลาว (สปป.ลาว) ว่า ได้เห็นภาพแล้ว แต่ยังไม่มีใครรายงานเข้ามา ไม่ทราบว่าเป็นภาพถ่ายจากที่ใด และการประชุม คสช.วันนี้ มีการรายงานสถานการณ์ทางการเมืองเน้นที่การประเมินสถานการณ์ด้านความมั่นคง ทั้งการเตรียมความพร้อมในงานพระราชพิธีถวายพระเพลิงพระบรมศพรัชกาลที่ 9 ต้องรักษาสถานการณ์และเสถียรภาพรัฐบาลให้ได้ ให้ทุกคนปฏิบัติตามกฎหมาย ขอฝากเตือนทุกกลุ่มทุกพวกด้วยอย่าทำผิดกฎหมาย พล.อ.ประวิตร วงษ์สุวรรณ รองนายกรัฐมนตรีและ รมว.กลาโหม กล่าวถึงมาตรการเพิ่มเติมในการ รับมือมวลชนที่จะเดินทางมาให้กำลังใจ น.ส.ยิ่งลักษณ์ ชินวัตร อดีตนายกรัฐมนตรี ในวันที่ 25 ส.ค. เพื่อฟังคำตัดสินคดีรับจำนำข้าว หลังจากมีการตรวจสอบเรื่องรถตู้ที่ขนคนมา ว่าไม่มีมาตรการอื่นเพิ่มเติม บอกไปแล้วว่า ไม่ต้องมา จะมาทำไม คงไม่ต้องประชุมประเมินสถานการณ์อะไร ส่วนที่ ผบ.ทบ.บอกว่าจะมีการประชุมเพื่อประเมินสถานการณ์นั้น ผบ.ทบ.เขาประชุม ตนไม่ได้ประชุมกับเขา ส่วนข่าวการเสียชีวิตของนายวุฒิพงศ์ กชธรรมคุณ หรือโกตี๋ ที่มีภาพว่าพบศพแล้วนั้น ยังไม่ทราบ ยังไม่ได้ประสานไปยัง สปป.ลาว ศพที่เห็นเป็นศพใครก็ไม่รู้ และเราไม่รู้ว่าจะตามยังไง นายวุฒิพงศ์อยู่ที่นั่นจริงหรือไม่ หรือไปเสียชีวิตที่นั่นหรือไม่ ก็ไม่รู้ แต่เรายังตามตัวอยู่ ก็ยังไม่พบ เท่าที่เจ้าหน้าที่ประสานกับทางการลาว ก็ไม่รายงานอะไรเข้ามา เขาบอกว่าไม่รู้เรื่องเช่นกัน ที่กองบัญชาการกองทัพบก (บก.ทบ.) พล.อ.เฉลิมชัย สิทธิสาท ผบ.ทบ. ในฐานะเลขาธิการ คสช. กล่าวถึงการประชุม คสช. ว่า นายกฯยังไม่ได้กำชับอะไรเป็นพิเศษ อยู่ระหว่างประเมินสถานการณ์ที่จะมีมวลชนเดินทางมาให้กำลังใจ น.ส.ยิ่งลักษณ์ ชินวัตร อดีตนายกฯ ช่วงสัปดาห์หน้าจะเชิญหน่วยงานที่ดูแลด้านความปลอดภัยเข้าประชุม เพื่อกำหนดแนวทาง คิดว่าจะมอบหมายให้เจ้าหน้าที่ตำรวจดูแลเป็นหลัก เหมือนทุกครั้งที่ผ่านมา มองว่าไม่น่าห่วงใยอะไรมากนัก และเจ้าหน้าที่มีการตรวจสอบการเช่าเหมารถตู้มาให้กำลังใจอยู่ สิ่งใดที่เป็นเรื่องผิดกฎหมายต้องตรวจสอบ และติดตามเพื่อดำเนินการตามกฎหมาย บอกแล้วถ้ามาโดยมีเจตนาบริสุทธิ์ใจเพื่อให้กำลังใจ ก็ไม่มีปัญหา แต่ถ้ามีกระบวนการยุยงปลุกปั่นเป็นเรื่องที่ทำไม่ได้ และไม่สมควร หน่วยงานด้านการข่าวทำงานอยู่ตลอดเวลาเพื่อประเมินสถานการณ์ แต่คิดว่าไม่มีอะไรมาก หากคนมามากแล้วเรียบร้อย ดีกว่าคนมาน้อยแต่วุ่นวาย เมื่อถามถึงกรณีมีภาพปรากฏทางโซเชียลมีเดีย มีชายสวมเสื้อสีแดงเสียชีวิตที่ สปป.ลาว คาดว่าเป็นนายวุฒิพงศ์ กชธรรมคุณ หรือโกตี๋ พล.อ.เฉลิมชัยตอบว่า ยังไม่เห็นภาพจึงไม่กล้าวิจารณ์ว่าใช่หรือไม่ใช่ อีกทั้งเหตุไม่ได้เกิดขึ้นในประเทศไทย จึงเป็นเรื่องที่ยากที่จะยืนยัน อย่างไรก็ตามภาพเหล่านี้สามารถตัดต่อ ตกแต่งและดึงมาจากที่ไหนก็ได้ ไม่อยากให้เป็นประเด็น เพราะไม่ทราบจริงๆ ส่วนทางผู้ช่วยทูตทหารประจำประเทศลาวได้ติดตามงานข่าวอยู่ เพียงแต่ยังไม่มีข้อมูลเพิ่มเติม ได้รับทราบตามข้อมูลข่าวเท่านั้น แต่เชื่อว่าไม่มีผลอะไร พล.อ.ทวีป เนตรนิยม เลขาธิการสภาความมั่นคงแห่งชาติ (สมช.) ว่า ยังไม่มีการยืนยันเรื่องของนายโกตี๋ ตราบใดที่ไม่มีอะไรยืนยันมาเรายังต้องสืบหาต่อไป ภาพบางภาพที่มาที่ไปอาจมีการตกแต่ง หรือทำอะไรขึ้นมาก็ได้ ต้องระวังอย่าเพิ่งเชื่อในสิ่งที่เห็น ต้องพิสูจน์ให้ได้ เมื่อถามว่าสมมติฐานเรื่องความขัดแย้งในกลุ่มเสื้อแดงกันเองยังใช้ได้หรือไม่ พล.อ.ทวีปตอบว่า ในกลุ่มคนเสื้อแดงกันเองยังมีอุดมการณ์ไม่เหมือนกัน บางคนก็รุนแรง แต่บางคนก็บอกว่าไม่ควรทำอะไรรุนแรงขนาดนั้น ที่ศาลอาญา พล.ต.จำลอง ศรีเมือง อดีตแกนนำพันธมิตรประชาชนเพื่อประชาธิปไตย (พธม.)\\xa0กล่าวถึงกรณีกลุ่มพันธมิตรฯ ยื่นเรื่องให้คณะกรรมการป้องกันและปราบปรามการทุจริตแห่งชาติ (ป.ป.ช.) ยื่นอุทธรณ์ในคดีการสลายชุมนุมเมื่อปี 2551 ว่า ผลจะออกมาประการใดแล้วแต่ศาล เมื่อถามถึงกรณีแนวร่วมประชาธิปไตยต่อต้านเผด็จการแห่งชาติ (นปช.) เรียกร้องให้ ป.ป.ช.สั่งฟ้องคดีสลายการชุมนุมของ นปช.ด้วย พล.ต.จำลองตอบว่า ใครจะทำอะไรก็ทำ ยืนยันพร้อมรับฟังและปฏิบัติตามคำพิพากษาทุกประการ ไม่ว่าจะออกมาหนักหรือเบา หากเราเคารพกฎหมายบ้านเมือง ทุกอย่างก็จะดำเนินไปได้ด้วยดี นายมีชัย ฤชุพันธุ์ ประธาน กรธ. กล่าวว่า ต้องดูว่าถ้า ป.ป.ช.ไม่ยื่นอุทธรณ์โดยไม่สุจริต ประชาชนสามารถใช้สิทธิตามรัฐธรรมนูญ ด้วยการเข้าชื่อส่งไปยังประธานรัฐสภา เพื่อเสนอเรื่องไปยังประธานศาลฎีกาให้ตั้งคณะผู้ไต่สวนอิสระได้ แต่การร้องเรียนนั้นต้องมีหลักฐานที่ชัดเจน ไม่ได้เป็นการกล่าวหาลอยๆ ที่ทำเนียบรัฐบาล พ.อ.หญิงทักษดา สังขจันทร์ ผู้ช่วยโฆษกประจำสำนักนายกรัฐมนตรี แถลงว่า ที่ประชุม ครม.อนุมัติแต่งตั้งข้าราชการกระทรวงต่างๆ อาทิ นายเลิศวิโรจน์ โกวัฒนะ เป็นปลัดกระทรวงเกษตรและสหกรณ์ น.ส.บรรจงจิตต์ อังศุสิงห์ เป็นรองปลัดกระทรวงพาณิชย์ นางกุลณี อิศดิศัย เป็นอธิบดีกรมพัฒนาธุรกิจการค้า นายบุณยฤทธิ์ กัลยาณมิตร เป็นอธิบดีการค้าภายใน นางจันทิรา ยิมเรวัต วิวัฒน์รัตน์ เป็นอธิบดีกรมส่งเสริมการค้าระหว่างประเทศ นายสุทธิพงษ์ จุลเจริญ เป็นอธิบดีกรมส่งเสริมการปกครองท้องถิ่น นายบุญธรรม เลิศสุขีเกษม เป็นรองปลัดกระทรวงฯ นายเกียรติศักดิ์ จันทรา เป็นผู้ตรวจราชการกระทรวงฯ นายสมชาย วิทย์ดำรง ผวจ.ฉะเชิงเทรา เป็น ผวจ.นครพนม\\xa0นายสุวิทย์ คำดี ผวจ.กาฬสินธุ์ เป็น ผวจ.ฉะเชิงเทรา พ.อ.อธิสิทธิ์ ไชยนุวัติ ผู้ช่วยโฆษกประจำสำนักนายกรัฐมนตรี แถลงว่า ที่ประชุมร่วม คสช. จะมีการออกคำสั่งหัวหน้า คสช. 3 ฉบับ คือ 1.เกี่ยวกับการให้อำนาจสถาบันอุดมศึกษา เพื่อ ให้อำนาจสถาบันอุดมศึกษาแต่งตั้งบุคคลที่อาจไม่ได้เป็นข้าราชการพลเรือนมาดำรงตำแหน่งอธิการบดี รองอธิการบดี ผู้ช่วยอธิการบดี คณบดี หรือหัวหน้าหน่วยงานต่างๆ 2.การเพิ่มประสิทธิภาพในการป้องกันและปราบปรามการฟอกเงิน เพื่อปรับปรุงแก้ไของค์ประกอบขอบเขตอำนาจหน้าที่ของ ปปง. และ 3.แนวคิดการรวมหน่วยงานบริหารจัดการน้ำของรัฐบาล เพื่อรวมหน่วยงานบริหารจัดการน้ำของภาครัฐทั้งหมดเข้าด้วยกัน และต้องการแก้ปัญหาน้ำอย่างยั่งยืน โดยจัดตั้งเป็นสำนักงานทรัพยากรน้ำแห่งชาติ ขึ้นตรงกับสำนักนายกรัฐมนตรี ภายใต้การบังคับบัญชาของนายกรัฐมนตรี ชี้แจงรายละเอียดสำหรับบุคลากรจากหน่วยงานที่เกี่ยวข้องที่ต้องมีการโยกย้ายมายังสำนักดังกล่าว โดยสำนักงานคณะกรรมการพัฒนาระบบราชการ (กพร.) และจะออกเป็นคำสั่ง คสช.ต่อไป ช่วงบ่ายวันเดียวกันที่ห้องสีงาช้าง ตึกไทยคู่ฟ้า ทำเนียบรัฐบาล นายเร็กซ์ เวย์น ทิลเลอร์สัน รมว.ต่างประเทศสหรัฐอเมริกา เข้าเยี่ยมคารวะ พล.อ.ประยุทธ์ จันทร์โอชา นายกฯและหัวหน้า คสช. ต่อมา พล.ท.วีรชน สุคนธปฏิภาค รองโฆษกประจำสำนักนายกรัฐมนตรี กล่าวว่า นายเร็กซ์ เวย์น ทิลเลอร์สัน ได้ร่วมลงนามในสมุดแสดงความอาลัยต่อการสวรรคตของพระบาทสมเด็จพระปรมินทรมหาภูมิพลอดุลยเดช บรมนาถบพิตร สะท้อนถึงความผูกพันและความสัมพันธ์ที่แน่นแฟ้น ซึ่งนายกฯย้ำว่าไทยให้ความสำคัญและเห็นสหรัฐฯมีบทบาทมากในประชาคมโลก ทั้งในเรื่องความมั่นคง การค้ามนุษย์ ก่อการร้าย อาชญากรรมข้ามชาติ นอกจากนี้ ทั้ง 2 ฝ่าย เห็นพ้องความร่วมมือด้านเศรษฐกิจ และความสัมพันธ์ระหว่างประชาชน พล.อ.ประยุทธ์กล่าวถึงความคืบหน้าการเดินทางเยือนสหรัฐอเมริกาอย่างเป็นทางการตามคำเชิญของนายโดนัลด์ ทรัมป์ ประธานาธิบดีสหรัฐอเมริกา ว่า เบื้องต้นตนจะเดินทางไปเยือนสหรัฐฯในเดือน ต.ค.นี้ ทางนายโดนัลด์ ทรัมป์ ไม่ได้ตั้งเงื่อนไขอะไร เราแสดงชัดเจนไปแล้วว่าปฏิบัติตามมติพันธะกรณีต่างๆของสหประชาชาติ ส่วนกรณีที่ตนพูดว่ามีบางประเทศไม่เชิญไปเยือนนั้น มี 2 อย่าง ถ้าเป็นเรื่องการประชุมเวทีนานาชาติตนเดินทางไปหมด แต่การเยือนอย่างเป็นทางการไปไม่ได้ เพราะเป็นผู้นำรัฐบาลแบบนี้ คนละประเด็นกัน ไม่ใช่ว่าเขารังเกียจอะไร แต่กฎหมายเขาเป็นอย่างนั้น วันข้างหน้าที่ทุกอย่างจะกลับมาเป็นปกติ',\n",
              " 'กีเก ซานเชซ ฟลอเรส\\xa0 กุนซือเลือดกระทิงของทีมวัตฟอร์ด\\xa0 เมินประเด็นจุดโทษปัญหาในเกมพรีเมียร์ลีก อังกฤษ นัดที่แตนอาละวาดเปิดบ้านพ่าย คริสตัล พาเลซ 0-1ชี้ทีมของเขาเล่นไม่ดีพอเอง สำนักข่าวต่างประเทศรายงานวันที่ 27 ก.ย. ว่า กีเก ซานเชซ ฟลอเรส\\xa0 ผู้จัดการทีมชาวสเปน ของ แตนอาละวาด วัตฟอร์ด\\xa0 ยอมรับทีมของเขาเล่นได้ไม่ดีพอเอง ในเกมพรีเมียร์ลีก อังกฤษ นัดเปิดบ้านพ่าย อินทรีผงาด คริสตัล พาเลซ 0-1 เมื่อคืนวันอาทิตย์ที่ผ่านมา เกมนี้จุดเปลี่ยนมาอยู่ที่การได้จุดโทษในช่วงครึ่งหลังของ คริสตัล พาเลซ ซึ่งไม่ค่อยชัดเจนเท่าไหร่ว่า อัลลัน นียอม นั้นไปทำฟาล์วใส่ วิลฟรีด ซาฮา ในเขตโทษหรือไม่ แต่ผู้ตัดสินก็ชี้เป็นจุดโทษ ซึ่ง โยอัน กาบาย สังหารไม่พลาด และเป็นประตูชัยช่วยให้ คริสตัล พาเลซ เอาชนะ วัตฟอร์ด ไป 1-0 และเป็นการพ่ายแพ้ในบ้านนัดแรกของวัตฟอร์ดในฤดูกาลนี้อีกด้วย ฟลอเรส กล่าวว่า มันเป็นเรื่องยากในการหยุดเกมรุกของคริสตัล พาเลซ ซึ่งมันอึดอัดจริงๆสำหรับเรา เราเล่นกันได้ไม่ดีนักในตอนที่ได้ครองบอล เราต้องเล่นทางริมเส้นให้มากกว่านี้ เราไม่สามารถหยุดเกมสวนกลับของพวกเขาได้ และแนวรับของเราก็ยืนไม่เป็นระเบียบสักเท่าไหร่ในช่วงครึ่งแรก ส่วนเรื่องจุดโทษการตัดสินใจขั้นสุดท้ายมันอยู่ที่ผู้ตัดสิน ซึ่งมันเป็นการตัดสินใจที่สำคัญ ผมเองก็ไม่รู้ว่าเขาตัดสินถูกหรือเปล่า บางทีมันอาจเป็นจุดที่ตัดสินเกมนี้เลย แต่เราไม่ได้แพ้เกมนี้เพราะจุดโทษ เราแพ้ในวันนี้เพราะเราเล่นไม่ดีและคริสตัล พาเลซ เล่นดีกว่าเรา เราไม่ได้มีฟอร์มการเล่นที่ดีในเกมนี้เลย',\n",
              " 'ตาย30-เจ็บ400 เส้นทางตัดขาด เข้าช่วยลำบาก เนปาลระทึก หลังเกิดพายุฝนฟ้าคะนองถล่มทางใต้ สร้างความเสียหายหลายหมู่บ้าน เบื้องต้นพบผู้เสียชีวิตแล้ว 30 ศพ บาดเจ็บ 400 ราย ระบบสาธารณูปโภคพังพินาศ ทางการเร่งระดมเจ้าหน้าที่ตำรวจ ทหารและหน่วยกู้ภัยเข้าช่วยเหลือเป็นการด่วน แต่บางจุดยังเข้าถึงยาก เหตุเส้นทางคมนาคมถูกตัดขาด เจอทั้งเสาไฟ ต้นไม้ล้มพาดขวาง สำนักข่าวต่างประเทศรายงานเหตุภัยพิบัติจากธรรมชาติที่เกิดขึ้นในประเทศเนปาลสร้างความสูญเสียทั้งชีวิตและทรัพย์สิน ว่า เมื่อคืนอาทิตย์ที่ 31 มี.ค.ตามเวลาท้องถิ่น เกิดพายุฝนฟ้าคะนองพัดถล่มในหลายหมู่บ้าน ซึ่งส่วนใหญ่เป็นพื้นที่ทางการเกษตร ที่เมืองบาราและเมืองปารสา ซึ่งห่างจากกรุงกาฐมาณฑุ เมืองหลวงของเนปาล ไปทางใต้ราว 120 กม. และต่อมาเมื่อวันที่ 1 เม.ย. โฆษกประจำกองทัพเนปาล เปิดเผยกับสำนักข่าวเอเอ็นไอของอินเดีย ถึงความเสียหายที่เกิดจากเหตุพายุพัดถล่ม ว่า พบผู้เสียชีวิต 30 ศพ ส่วนใหญ่อยู่ในพื้นที่ทางตอนใต้ และมีได้รับบาดเจ็บประมาณ 400 ราย ทั้งนี้ ทางการจัดเฮลิคอปเตอร์ MI 17 จำนวน 2 ลำเตรียมพร้อมรอปฏิบัติการ ส่วนเครื่องบินสกายทรัก ก็เตรียมพร้อมอยู่ที่เมืองสิมารา รวมถึงมีการส่งทหารกว่า 100 นาย ลงพื้นที่ปฏิบัติการช่วยเหลือและบรรเทาทุกข์ผู้ประสบภัยแล้ว อย่างไรก็ดี คาดว่ายอดผู้เสียชีวิตอาจเพิ่มขึ้นอีก โดยเฉพาะที่เมืองบาราเนื่องจากได้รับความเสียหายจากพายุที่พัดถล่มอย่างรุนแรง ส่งผลให้ระบบสาธารณูปโภคพังพินาศ ทั้งถนน เสาไฟฟ้า และเสาส่งสัญญาณโทรศัพท์ในหลายพื้นที่หักโค่นเสียหายอย่างหนัก ขณะที่เจ้าหน้าที่พยายามใช้รถยนต์และรถตู้ ลำเลียงผู้บาดเจ็บไปส่งโรงพยาบาลอย่างโกลาหล ด้านนายกรัฐมนตรี คัดกา ปราสาด ชาร์ม โอลี แห่งเนปาล ทวีตข้อความผ่านสื่อโซเชียล แสดงความเสียใจต่อผู้ประสบภัยพิบัติจากพายุถล่ม ซึ่งมีผู้เสียชีวิตและบาดเจ็บจำนวนมาก บ้านเรือนพังเสียหาย ต้นไม้หักโค่น และเสาไฟฟ้าล้มระเนระนาด พร้อมกันนี้ กองกำลังรักษาความมั่นคงแห่งชาติก็เตรียมพร้อมตลอดเวลาที่จะเข้าไปให้การช่วยเหลือผู้ประสบภัย รวมถึงเฮลิคอปเตอร์กู้ภัยที่ต้องรอสภาพอากาศดีขึ้นกว่านี้ จึงจะสามารถเข้าไปช่วยนำผู้บาดเจ็บตามหมู่บ้านต่างๆ ไปส่งยังศูนย์อนามัยหรือตามโรงพยาบาลใกล้เคียง ขณะเดียวกัน นายราเชจ พูเดล เจ้าหน้าที่ระดับสูงของรัฐ เปิดเผยว่า ทั้งตำรวจทหารและเจ้าหน้าที่กู้ภัยกระจายกำลังไปรอบพื้นที่ เพื่อพยายามเข้าไปให้ถึงหมู่บ้านที่ได้รับความเสียหายแล้ว แต่ยอมรับสถานการณ์ขณะนี้เป็นไปด้วยความยากลำบากและมีอุปสรรค เพราะเหตุเกิดในช่วงกลางคืน ทางเข้าหมู่บ้านก็ถูกตัดขาด เพราะมีต้นไม้และเสาไฟฟ้าหักล้มกีดขวางเส้นทาง สื่อท้องถิ่นรายงานเพิ่มเติมเกี่ยวกับเหตุพายุถล่มครั้งนี้ว่า ผู้เสียชีวิตและผู้ได้รับบาดเจ็บ ซึ่งส่วนใหญ่ เป็นเกษตรกรชาวนา ถูกสิ่งของที่ปลิวว่อนไปกับกระแสลมพัดแรง ซึ่งมีทั้งต้นไม้ เสาไฟฟ้า แผ่นสังกะสีหลังคาบ้าน รวมถึงกระท่อมล้มทับใส่ อีกทั้งยังมีรถถูกลมแรงพัดจนพลิกคว่ำ และมีผู้โดยสารบนรถเมล์เสียชีวิตจากรถพลัดตกจากทางหลวง ทั้งนี้ เหตุพายุฝนฟ้าถล่มจนสร้างความเสียหายและสูญเสียจำนวนมากในช่วงฤดูนี้ ถือเป็นปรากฏการณ์ที่ไม่ค่อยเกิดขึ้นในเนปาล เพราะปกติพายุจะเข้าเนปาลช่วงฤดูใบไม้ผลิระหว่างเดือน เม.ย.-พ.ค.']"
            ]
          },
          "metadata": {
            "tags": []
          },
          "execution_count": 8
        }
      ]
    },
    {
      "cell_type": "code",
      "metadata": {
        "id": "3zWlEybo85GO"
      },
      "source": [
        "from tqdm import tqdm\n",
        "from pythainlp.tokenize import word_tokenize, sent_tokenize\n",
        "\n",
        "def segment_sent(data):\n",
        "  ret = []\n",
        "  for text in tqdm(data):\n",
        "    ret.append(sent_tokenize(text))\n",
        "  return ret"
      ],
      "execution_count": 9,
      "outputs": []
    },
    {
      "cell_type": "code",
      "metadata": {
        "id": "N1gO-X5B9VDC",
        "colab": {
          "base_uri": "https://localhost:8080/"
        },
        "outputId": "91ace1a3-45ac-4c54-bf5b-3535e7cf956c"
      },
      "source": [
        "data_segmented_sentence = segment_sent(data_test)"
      ],
      "execution_count": 10,
      "outputs": [
        {
          "output_type": "stream",
          "text": [
            "100%|██████████| 11000/11000 [08:53<00:00, 20.61it/s]\n"
          ],
          "name": "stderr"
        }
      ]
    },
    {
      "cell_type": "code",
      "metadata": {
        "id": "xbp7-l529nAQ",
        "colab": {
          "base_uri": "https://localhost:8080/"
        },
        "outputId": "9badeda7-99b9-4e1d-d59f-51a7c9e94fcc"
      },
      "source": [
        "data_segmented_sentence[:3]"
      ],
      "execution_count": 11,
      "outputs": [
        {
          "output_type": "execute_result",
          "data": {
            "text/plain": [
              "[['พอไม่ได้ดังใจก็ร่างใหม่ ',\n",
              "  'แสลงชื่อสมชัยเดินหนี มีชัย ไม่ยี่หระเสียงค้านชงสูตรพิสดารเลือกตั้ง ส.ส. ประกาศ ',\n",
              "  'ผลช้าไปชั่วโมงสองชั่วโมงไม่เห็นเป็นไร แสลงหูชื่อ สมชัย ชิ่งหนีดื้อๆ พรเพชร ให้นายกฯ ตัดสินใจปลดล็อกพรรคการเมือง 34 สนช.ยื่นตีความต่อวาระให้ผู้ตรวจฯ ส่อขัด รธน. พท.ดาหน้าฉะ ซือแป๋ ใครแน่ดูถูกประชาชน ',\n",
              "  'สมคิด ซัดพูดย้อนแย้งไหลไปไหลมา ลั่น ไม่เคยกลัวในสนามเลือกตั้ง สมชัย กระแทกซ้ำเปิดช่องโกงสนั่นกันทั้งประเทศ ทนายปู มึนรถตู้รับจ้างถูกเล่นงาน ภูมิธรรม ดับกระแส พท.วางตัวผู้นำ ยันพรรคเหนียวแน่นไม่มีปีนเกลียว วิม ',\n",
              "  'แจงไม่ได้ล็อกเป้าแค่คน ชินวัตร บิ๊กตู่ รอรายงาน โกตี๋ ตายที่ลาว บิ๊กป้อม โบ้ยศพใครไม่รู้ ',\n",
              "  'ผบ.ทบ.ชี้ภาพตกแต่งกันได้ ',\n",
              "  'ครม.ตั้ง ',\n",
              "  'เลิศวิโรจน์ ขึ้นปลัดเกษตรฯ สุทธิพงษ์ ',\n",
              "  'อ.ส่งเสริมปกครองท้องถิ่น ประยุทธ์ รับ รมว.ต่างประเทศสหรัฐฯเยือนไทย ',\n",
              "  'ปัดไม่ได้โดนรังเกียจจากนานาชาติ ดอน ยังมั่นใจไปเยือนในปีนี้ ',\n",
              "  'แม้เสียงคัดค้านจากฝ่ายการเมืองต่อรูปแบบการเลือกตั้ง ส.ส. ',\n",
              "  'สูตรพิสดารของกรรมการร่างรัฐธรรมนูญ (กรธ.) ยังคงดังกระหึ่ม แต่นายมีชัย ฤชุพันธุ์ ',\n",
              "  'ประธาน กรธ. ',\n",
              "  'ยังคงยืนยันเดินหน้าต่อไป ',\n",
              "  'แม้การเลือกตั้งตามรูปแบบใหม่จะทำให้การประกาศผลล่าช้าไปบ้างก็ไม่เห็นเป็นอะไร ',\n",
              "  'เมื่อเวลา 13.45 น.วันที่ 8 ส.ค.ที่รัฐสภา ',\n",
              "  'นายมีชัย ฤชุพันธุ์ ประธานกรรมการร่างรัฐธรรมนูญ (กรธ.) กล่าวถึงกรณีนายอภิสิทธิ์ เวชชาชีวะ หัวหน้าพรรคประชาธิปัตย์ เสนอให้ใช้ชื่อหรือโลโก้พรรค โดยไม่ต้องมีเบอร์ในบัตรลงคะแนนว่า ถ้ามีที่ว่างสามารถใส่ได้ทั้งเบอร์ ชื่อ และโลโก้พรรค ',\n",
              "  'หากให้มีแต่ชื่อต้องนึกถึงคนไกลๆที่อ่านหนังสือไม่ออกด้วย แนวทาง กรธ.ทำให้การซื้อเสียงยากขึ้นอีกหน่อย แต่ไม่ได้บอกว่ามันจะหมดไป ',\n",
              "  'ไปตรวจสอบการเลือกตั้งของไทยทั้ง 27 ครั้งใช้มาแล้วทุกระบบ ',\n",
              "  'สงสัยนางสดศรี สัตยธรรม อดีตกรรมการการเลือกตั้ง (กกต.) คงเพิ่งเกิดจึงไม่รู้การกำหนดให้มีหมายเลขแตกต่างกันไป ',\n",
              "  'จะไม่มีปัญหาต่อการนับคะแนน ',\n",
              "  'เวลานับคะแนนก็เอามารวมกัน ',\n",
              "  'ใส่เข้าระบบคอมพิวเตอร์ประมวลผลออกมาให้เห็น เริ่มนับที่หน่วยเลือกตั้งแล้วนำมารวมที่เขตเลือกตั้ง และส่งมายังส่วนกลางอีกครั้ง ',\n",
              "  'ถ้าการประกาศผลต้องล่าช้าไปสักชั่วโมงสองชั่วโมง ',\n",
              "  'ไม่เห็นจะเป็นอะไร ',\n",
              "  'ผู้สื่อข่าวรายงานว่า ระหว่างการสัมภาษณ์ ',\n",
              "  'เมื่อผู้สื่อข่าวถามถึงความเห็นของนายสมชัย ศรีสุทธิยากร กกต. เกี่ยวกับปัญหาการนับคะแนนจากการแยกเบอร์ผู้สมัคร ส.ส.รายเขต ',\n",
              "  'นายมีชัยปฏิเสธที่จะตอบคำถามพร้อมเดินออกจากวงสัมภาษณ์ทันที ',\n",
              "  'ที่รัฐสภา ',\n",
              "  'นายพรเพชร วิชิตชลชัย ประธานสภานิติบัญญัติแห่งชาติ (สนช.) กล่าวว่า ได้ส่งร่าง พ.ร.บ.ประกอบรัฐธรรมนูญว่าด้วยพรรคการเมือง ให้ พล.อ.ประยุทธ์ จันทร์โอชา นายกรัฐมนตรีและหัวหน้า คสช.แล้ว เมื่อวันที่ 7 ส.ค. ส่วน คสช.จะยกเลิกคำสั่ง คสช. เกี่ยวกับการห้ามพรรคการเมืองดำเนินกิจกรรมทางการเมืองหรือไม่ ',\n",
              "  'เป็นเรื่องที่ คสช.จะพิจารณา ว่าคำสั่งดังกล่าวเป็นอุปสรรคต่อการที่พรรคการเมืองต้องดำเนินการตามกฎหมายพรรคการเมืองใหม่หรือไม่ ',\n",
              "  'เพราะคำสั่งเหล่านั้นยังคงอยู่ไม่ได้ยกเลิก ',\n",
              "  'แม้กฎหมายใหม่จะมีผลบังคับใช้ก็ตาม ',\n",
              "  'หากพรรคการเมืองเห็นว่าเป็นปัญหา ควรสะท้อนความเห็นไปยัง คสช.โดยตรง ',\n",
              "  'เพราะคำสั่งที่ออกมาต้องการให้สถานการณ์บ้านเมืองราบรื่น ',\n",
              "  'ดังนั้น คสช.ต้องพิจารณาว่าถึงเวลาที่จะยกเลิกหรือยัง ',\n",
              "  'ส่วนกรณีที่ กรธ.จะบัญญัติรูปแบบการเลือกตั้งใหม่ จากพรรคเดียวเบอร์เดียวมาเป็นการจับสลากในแต่ละพื้นที่ ไว้ในร่าง ',\n",
              "  'พ.ร.บ.ประกอบรัฐธรรมนูญว่าด้วยการเลือกตั้ง ',\n",
              "  'ส.ส.นั้น ',\n",
              "  'ยังเป็นเพียงความเห็นเบื้องต้น ',\n",
              "  'กรธ.คงฟังความเห็นรอบด้านว่า พรรคการเมืองและประชาชนจะว่าอย่างไร ',\n",
              "  'กรธ.มีสิทธิทบทวน ',\n",
              "  'เพราะยังไม่ได้เขียนกฎหมาย ',\n",
              "  'ส่วนที่มีเสียงท้วงติงเพราะเปลี่ยนแปลงไปจากที่เคยปฏิบัติ ',\n",
              "  'ในส่วนของ สนช.จะรอดูว่ามีการรับฟังความเห็นประชาชนตามรัฐธรรมนูญมาตรา 77 วรรค 2 หรือไม่ ',\n",
              "  'ยังไม่ขอวิจารณ์ นพ.เจตน์ ศิรธรานนท์ สมาชิก สนช.กล่าวว่า ตนพร้อมเพื่อน สนช.รวม 34 คน ได้เข้าชื่อยื่นหนังสือต่อประธาน สนช. ',\n",
              "  'ให้ยื่นศาลรัฐธรรมนูญตามรัฐธรรมนูญมาตรา 148 ขอให้วินิจฉัยว่าร่าง พ.ร.บ.ประกอบรัฐธรรมนูญว่าด้วยผู้ตรวจการแผ่นดิน ขัดต่อรัฐธรรมนูญหรือไม่ ',\n",
              "  'เนื่องจากมาตรา 56 บทเฉพาะกาล ที่ประชุม สนช.ได้แก้ไขในวาระ 2 และ 3 ให้ประธานและผู้ตรวจการแผ่นดินที่ดำรงตำแหน่งก่อนวันที่ พ.ร.บ.ฉบับนี้ใช้บังคับ อยู่จนครบวาระตาม พ.ร.บ.เดิม ',\n",
              "  'เราเห็นว่าตามรัฐธรรมนูญ ในบทเฉพาะกาลมาตรา 273 ให้การดำรงตำแหน่งต่อไปเป็นไปตามร่าง พ.ร.บ.ประกอบรัฐธรรมนูญดังกล่าวนั้น ไม่น่าจะหมายถึงอยู่จนครบวาระตาม พ.ร.บ.ผู้ตรวจการแผ่นดินฯ รวมทั้งไม่ได้ยกเว้นคุณสมบัติและลักษณะต้องห้ามไว้ ',\n",
              "  'จึงคิดว่าอาจขัดหรือแย้งรัฐธรรมนูญหรือไม่ ',\n",
              "  'ขณะที่นายชวลิต วิชยสุทธิ์ อดีตรองเลขาธิการพรรคเพื่อไทย ',\n",
              "  'กล่าวถึงกรณีนายมีชัย ฤชุพันธุ์ ',\n",
              "  'ประธาน กรธ. เตือนนักการเมืองอย่าดูถูกประชาชนกับระบบเลือกตั้งใหม่ ว่า ถามว่าใครกันแน่ดูถูกประชาชน ',\n",
              "  'ขอสรุปภาพรวมดังนี้ ',\n",
              "  '1.ใครออกแบบระบบเลือกตั้งแบบจัดสรรปันส่วนผสม ที่มีเพียงประเทศไทยประเทศเดียวในโลกที่ใช้ เพราะหวังให้การเมืองอ่อนแอ ',\n",
              "  'ไม่มีเสถียรภาพ ',\n",
              "  'ไม่ฟังเสียงประชาชน ตั้งใจเปิดโอกาสให้คนนอกมาเป็นนายกรัฐมนตรี 2.ใครออกแบบให้ ส.ว.มาจากการสรรหาทั้งหมด สรรหาโดยใคร ',\n",
              "  'โดยพวกท่านใช่หรือไม่ ',\n",
              "  'ท่านก็เป็นหนึ่งใน คสช. ที่สำคัญ ',\n",
              "  'ส.ว.มีหน้าที่เลือกนายกฯ ด้วยระบบที่ไม่ปกตินี้จะพาประเทศชาติและประชาชนลงเหว ภายใต้ระบอบประชาธิปไตยจอมปลอม ',\n",
              "  'ไม่ว่าใครจะให้ความเห็นอย่างไรก็ไม่ฟังเหตุผล ',\n",
              "  'ไม่คิดถึงความเดือดร้อนประชาชน ',\n",
              "  'หวังเพียงอำนาจส่วนตนและพวกพ้องเท่านั้น ',\n",
              "  'ถ้าให้ความสำคัญกับประชาชน ',\n",
              "  'ทำไมออกแบบกติกาบ้านเมืองโดยละทิ้งประชาชน ',\n",
              "  'หากจะมีเสียงวิจารณ์ว่าทำงานรับใช้อำนาจนิยม เท่ากับละทิ้งดูถูกประชาชนหรือไม่ ',\n",
              "  'นายสมคิด เชื้อคง อดีต ส.ส.อุบลราชธานี พรรคเพื่อไทย กล่าวว่า การที่ กรธ.จะบัญญัติระบบเลือกตั้ง ',\n",
              "  'ส.ส.ใหม่ ให้จับสลากเบอร์ในแต่ละเขตนั้น ถือว่าขัดแย้งกับคำพูดที่ว่าอยากทำให้พรรคการเมืองเข้มแข็ง เป็นคำพูดที่ย้อนแย้งในตัวเอง สะท้อนให้เห็นว่ากฎหมายลูกแต่ละฉบับมีหลักการที่ไหลไปไหลมา แล้วแต่ความต้องการของผู้มีอำนาจหรือไม่ ',\n",
              "  'เมื่อก่อนมีวาทกรรมพรรคเทพพรรคมาร ',\n",
              "  'วันนี้มีคนดีคนไม่ดี ',\n",
              "  'ฝ่ายการเมืองถูกยัดเยียดความไม่ดี แต่อีกฝ่ายที่จะแต่งตั้ง 250 คน ',\n",
              "  'มีกฎหมายกำหนดกฎเกณฑ์ไม่ให้อยู่ในคอกเหมือนนักการเมือง ยกเว้นสารพัดกฎเกณฑ์ ',\n",
              "  'แม้แต่การเป็นข้าราชการประจำก็ยกเว้นให้ ปากก็อ้างสารพัดว่าเพื่อชาติบ้านเมือง หรือมองคนกลุ่มอื่นไม่รักชาติบ้านเมืองเหมือนพวกท่าน กี่ครั้งกี่กติกาที่พวกท่านออกมา ',\n",
              "  'ถ้าไม่ได้ดังใจกลุ่มพวกท่านก็จะออกกติกาใหม่เรื่อยไป ',\n",
              "  'อ้างว่าของเดิมมันแย่ ',\n",
              "  'มันซื้อเสียงได้ ',\n",
              "  'เขตเดียว เบอร์เดียวก็ทำมาแล้ว ',\n",
              "  'เขตใหญ่เรียงเบอร์ก็ทำมาแล้ว ',\n",
              "  'นี่จะให้ทำไพรมารีโหวต จะมากำหนดเบอร์แต่ละเขตอีก ',\n",
              "  'ไหนว่าไม่ให้ยึดติดตัวบุคคล ไหนอยากให้พรรคการเมืองเข้มแข็ง เอาเลยตามสบาย ',\n",
              "  'พวกผมไม่กลัวพวกคุณในสนามการเลือกตั้ง ',\n",
              "  'นายสมคิดกล่าว ',\n",
              "  'ผู้สื่อข่าวรายงานจากพรรคประชาธิปัตย์ว่า นายอภิสิทธิ์ เวชชาชีวะ หัวหน้าพรรคประชาธิปัตย์ และอดีตนายกรัฐมนตรี ได้เปิดกิจกรรมสอบถามความเห็นประชาชนผ่านระบบไลน์ ประเด็น โหวตบัตรเลือกตั้ง ',\n",
              "  'ผู้สมัครจากพรรคเดียวกันในแต่ละเขตเลือกตั้งทั้งประเทศควรจะ? ',\n",
              "  'หลังจากที่ กรธ.กำหนดเนื้อหาในร่าง ',\n",
              "  'พ.ร.บ.ประกอบรัฐธรรมนูญว่าด้วยการเลือกตั้ง ส.ส. แบบแยกเบอร์ แทนที่จะเป็นเบอร์เดียวกันทั่วประเทศเหมือนอดีต ',\n",
              "  'โดยนายอภิสิทธิ์เปิดให้ประชาชนเข้าไปลงคะแนนเลือกใน 3 คำตอบ คือ 1.ใช้หมายเลขเดียวกัน ',\n",
              "  '2.ไม่จำเป็นต้องเป็นหมายเลขเดียวกัน ',\n",
              "  'และ 3.บัตรเลือกตั้งใส่เฉพาะชื่อผู้สมัครและโลโก้พรรค ',\n",
              "  'ไม่มีหมายเลข ',\n",
              "  'โดยจะเปิดให้โหวตถึงวันที่ 8 ส.ค. ก่อนหน้านี้ ',\n",
              "  'นายอภิสิทธิ์เสนอความเห็นว่า หาก กรธ.ต้องการแก้ปัญหาซื้อสิทธิขายเสียง ',\n",
              "  'ควรยกเลิกเบอร์ไปเลย ให้ใส่เฉพาะชื่อผู้สมัคร นามสกุล และโลโก้พรรค ที่สำนักงาน กกต. นายสมชัย ศรีสุทธิยากร กกต. กล่าวว่า รูปแบบการเลือกตั้ง ',\n",
              "  'ส.ส.ที่ กรธ.คิดขึ้น ',\n",
              "  'การเปลี่ยนแปลงครั้งนี้จะทำให้ประชาชนเกิดความสับสน ',\n",
              "  'แม้หลักการไม่ขัดต่อเจตนารมณ์รัฐธรรมนูญ ',\n",
              "  'ถ้าใช้บังคับ กกต.ก็สามารถปฏิบัติได้ แต่จะปฏิบัติได้ยาก แต่อาจมีปัญหาใน 3 ส่วน คือ 1.การจับสลากเพียงแค่จุดเดียว ',\n",
              "  'กกต.ต้องจัดชุดแยกดำเนินการใน 350 เขต หากเกิดกรณีปิดล้อมจับสลากไม่ได้จะเกิดปัญหา 2.การจัดพิมพ์บัตรเลือกตั้ง ',\n",
              "  'ยากควบคุมเรื่องคุณภาพ ',\n",
              "  'ต้องแยกพิมพ์แต่ละจังหวัดในโรงพิมพ์ท้องถิ่นเพื่อให้ทัน ',\n",
              "  'ผลคือจะมีบัตรปลอม ',\n",
              "  'นี่คือสิ่งที่ กกต.เป็นห่วงกลัวว่าจะเกิดการรั่วไหล เกิดการโกงกันทั้งประเทศ ยกเว้นว่าอยากทำให้โกงกันทั้งบ้านทั้งเมือง ก็ทำกระบวนการนี้ 3.การรวมคะแนน ',\n",
              "  'ปัญหาคือตรวจสอบของภาคประชาชน หรือองค์กรที่ร่วมตรวจสอบการเลือกตั้งจะทำได้ยาก ',\n",
              "  'คนที่บอกว่าทำแบบนี้แล้วการซื้อเสียงจะหมดไป ',\n",
              "  'ถ้าเกิดการซื้อเสียงมากกว่าเดิมกล้าพูดไหมว่าจะรับผิดชอบอย่างไร ',\n",
              "  'บ้านเมืองไม่ใช่ของเล่น ',\n",
              "  'ไม่ใช่อยากคิดอะไรเขียนอะไรใหม่ก็เอามาลองไปเรื่อย ',\n",
              "  'นายสมชัยกล่าวอีกว่า ที่ประชุม กกต.มีมติเห็นชอบขยายเวลาให้คณะอนุกรรมการสอบสวนข้อ ',\n",
              "  'เท็จจริงกรณี 9 รัฐมนตรี ที่ถูกร้องเรียนขาดคุณสมบัติในการดำรงตำแหน่งออกไปอีก 30 วัน ',\n",
              "  'นับแต่วันที่ 12 ส.ค.นี้ เพราะต้องรอข้อมูลให้ครบถ้วน และให้โอกาสรัฐมนตรีผู้ถูกกล่าวหาได้เข้าชี้แจง แต่คิดว่ากรอบเวลา 30 วันที่อนุกรรมการขอขยายมานี้จะไม่เพียงพอแต่ตามระเบียบแล้วจะขอขยายเวลาได้ครั้งละ 30 วันเท่านั้น ',\n",
              "  'วันเดียวกัน เวลา 09.00 น. ที่ทำเนียบรัฐบาล ก่อนการประชุมคณะรักษาความสงบแห่งชาติ (คสช.) และคณะรัฐมนตรี (ครม.) ',\n",
              "  'นางเพ็ญพักตร์ ศรีทอง เลขาธิการสภาสังคมสงเคราะห์แห่งประเทศไทย ',\n",
              "  'ในพระบรมราชูปถัมภ์ นำศิลปินดารา อาทิ นายพีรพัฒน์ สวัสดิ์มูล (พี สะเดิด) ',\n",
              "  'น.ส.สุรัตน์ติกานต์ พรรคเจริญ (เอิร์น เดอะสตาร์) และนายภูศิลป์ วารินรักษ์ (เต๋า) ร่วมรณรงค์ ',\n",
              "  'ประชาสัมพันธ์การจำหน่ายดอกมะลิงานวันแม่แห่งชาติประจำปี 2560 พร้อมกับติดเข็มกลัดดอกมะลิให้ พล.อ.ประยุทธ์ จันทร์โอชา นายกรัฐมนตรีและหัวหน้า คสช. และ ครม. พร้อมเชิญชวนคนไทยร่วมอุดหนุนผลิตภัณฑ์ดอกมะลิ โดยนายกฯกล่าวว่า วันแม่ ',\n",
              "  'รักแม่ให้มากๆ ',\n",
              "  'ขอบคุณที่ให้กำลังใจ เด็กๆถือเป็นผู้บริสุทธิ์ ทำอะไรให้คิดไปข้างหน้า ',\n",
              "  'ขอฝากภารกิจประเทศชาติกับทุกคน ',\n",
              "  'และให้กำลังใจซึ่งกันและกัน ',\n",
              "  'ต่อมา นพ.ธีระเกียรติ เจริญเศรษฐศิลป์ รมว.ศึกษาธิการ นำคณะเข้าพบนายกฯ เพื่อประชาสัมพันธ์โครงการผลิตสื่อการเรียนรู้และฝึกทักษะภาษาอังกฤษการสื่อสารเพื่อก้าวสู่อาชีพ (Echo VE) โดยสำนักงานคณะกรรมการการอาชีวศึกษาจัดทำแอพพลิเคชั่น EchoVE ใช้ได้กับโทรศัพท์ทั้งระบบแอนดรอยด์ และไอโอเอส เพื่อพัฒนาทักษะการฟัง พูด อ่าน เขียน ให้ผู้เรียนสายอาชีพมีทักษะภาษาอังกฤษเป็นที่ยอมรับในตลาดงาน ',\n",
              "  'จากนั้น พล.อ.ประยุทธ์ จันทร์โอชา นายกฯ แถลงภายหลังการประชุม ครม. ถึงข้อเสนอ กรธ.เตรียมบัญญัติให้ผู้สมัคร ส.ส.แบบเขตและแบบบัญชีรายชื่อ ',\n",
              "  'ไม่ใช้เบอร์เดียวกันเพื่อป้องกันการทุจริตซื้อเสียงว่า ยังอยู่ในขั้นตอนที่ กรธ.เสนอ ',\n",
              "  'ยังไม่มีความเห็นต้องรอฟังเมื่อเข้าสู่ขั้นตอนการพิจารณาของ สนช.ด้วย ตนให้สิทธิแก่แม่น้ำแต่ละสายทำงาน ',\n",
              "  'เป็นเรื่องที่จะทำงานร่วมกัน ',\n",
              "  'ต้องสร้างการรับรู้แก่ประชาชนตามรัฐธรรมนูญ ',\n",
              "  'เมื่อถามว่า แนวทางนี้จะลดการซื้อสิทธิ์ขายเสียงได้หรือไม่ ',\n",
              "  'พล.อ.ประยุทธ์ตอบว่า ไม่ได้อยู่ที่กฎหมายอย่างเดียว ',\n",
              "  'อยู่ที่ตัวคนด้วย ทั้งนักการเมือง พรรคการเมือง ประชาชนต้องไม่รับเงิน ',\n",
              "  'ปัญหาที่ผ่านมาทุกคนทราบดีอยู่แล้ว ',\n",
              "  'รับเงินแล้วประเทศได้อะไรนอกจากได้เงินมาเพียงเล็กน้อย ',\n",
              "  'ดังนั้นใครที่ให้เงินแสดงว่ามีเจตนาไม่บริสุทธิ์ เป็นพรรคการเมืองที่ไม่บริสุทธิ์ใจ ',\n",
              "  'อีกเรื่อง ',\n",
              "  'นายนรวิทย์ หล้าแหล่ง ทนายความ น.ส.ยิ่งลักษณ์ ชินวัตร อดีตนายกรัฐมนตรี ',\n",
              "  'คดีรับจำนำข้าว ',\n",
              "  'กล่าวถึงกรณีเจ้าหน้าที่ตำรวจดำเนินคดีกับผู้ประกอบการรถตู้สาธารณะที่รับจ้างประชาชนเดินทางมาให้กำลังใจ ',\n",
              "  'น.ส.ยิ่งลักษณ์ ในวันแถลงปิดคดีด้วยวาจาเมื่อวันที่ 1 ส.ค. ว่า ไม่รู้จักกับผู้ประกอบ ',\n",
              "  'การรถตู้ดังกล่าว ',\n",
              "  'ไม่รู้รายละเอียดข้อกล่าวหา ',\n",
              "  'ทราบแต่เพียงที่เป็นข่าว แต่มองว่ารถตู้รับจ้างที่ไม่ใช่รถประจำทาง สามารถวิ่งรับจ้างได้ทั่วไป ',\n",
              "  'เขาคงมีทนายความชี้แจงข้อเท็จจริง แต่ประเด็นสำคัญอยากให้ดูที่เจตนา ',\n",
              "  'ประชาชนที่มาให้กำลังใจ ',\n",
              "  'น.ส.ยิ่งลักษณ์ ',\n",
              "  'ไม่ได้มาชุมนุมสร้างความวุ่นวาย จึงไม่ทราบที่มาของการแจ้งข้อกล่าวหา ',\n",
              "  'เรื่องนี้เจ้าหน้าที่ปฏิบัติต้องระมัดระวังด้วย ',\n",
              "  'ส่วนการเตรียมพร้อมส่งคำแถลงปิดคดีด้วยลายลักษณ์อักษรคดีจำนำข้าวนั้น ทีมทนายความเตรียมการกันอยู่ ',\n",
              "  'โดยเตรียมข้อโต้แย้งพยานหลักฐานของโจทก์ทุกประเด็น ',\n",
              "  'ยืนยันจะส่งให้ศาลได้ภายในวันที่ 15 ส.ค. นายภูมิธรรม เวชยชัย เลขาธิการพรรคเพื่อไทย กล่าวว่า อ่านข่าวที่ระบุว่าพรรคเพื่อไทยเตรียมวางตัวหัวหน้าพรรคคนใหม่แล้ว ',\n",
              "  'ประหลาดใจว่าข่าวมาได้อย่างไร ',\n",
              "  'ยืนยันว่าไม่เป็นความจริง ',\n",
              "  'วันนี้พรรคเพื่อไทยยังอยู่ภายใต้การควบคุมของคำสั่ง คสช. ตั้งแต่มีการรัฐประหารพรรคต้องเผชิญกับภาวะถูกกระทำ มีข้อจำกัดต้องรับภาระจากคดีความต่างๆที่ฝ่ายผู้มีอำนาจมอบให้ ',\n",
              "  'เวลาส่วนใหญ่จึงอยู่ในสภาพต่อสู้กับคดี ',\n",
              "  'โดยเฉพาะ น.ส.ยิ่งลักษณ์ ชินวัตร แทบไม่มีเวลาสนใจกับเรื่องอื่น ',\n",
              "  'ยืนยันว่าไม่ได้เข้ามายุ่งเกี่ยวกับการบริหารจัดการภายในพรรคเลย ',\n",
              "  'ข้อมูลที่ระบุจะผลักดันนางมณฑาทิพย์ โกวิทเจริญกุล พี่สาวขึ้นมาเป็นหัวหน้าพรรคนั้นไม่เป็นความจริง ',\n",
              "  'จากที่รู้จักและมีโอกาสได้คุย ',\n",
              "  'นางมณฑาทิพย์ยืนยันว่าไม่ประสงค์และไม่เคยสนใจเข้ามาเกี่ยวข้องกับเรื่องการเมืองเลย ',\n",
              "  'นายภูมิธรรมกล่าวต่อว่า ',\n",
              "  'ส่วนกระแสข่าวว่านายสมชาย วงศ์สวัสดิ์ อดีตนายกฯ และคุณหญิงสุดารัตน์ เกยุราพันธุ์ แกนนำพรรคเพื่อไทย จะเข้ามาเป็นหัวหน้าพรรค จนเกิดกระแสข่าวความขัดแย้งในพรรคนั้น ยืนยันพรรคเพื่อไทยยังมีความสามัคคีภายในแนบแน่น ',\n",
              "  'ยังเร็วเกินไปที่จะพูดเรื่องนี้ ',\n",
              "  'ยืนยันว่าพรรคเพื่อไทยมีบุคลากรคุณภาพจำนวนมาก พร้อมรับภาระหน้าที่นำพาพรรครับใช้ประชาชน และขึ้นอยู่กับสถานการณ์ขณะนั้นว่าต้องการคุณสมบัติผู้นำเช่นไร ',\n",
              "  'เราพร้อมสนับสนุนคนที่มีคุณสมบัติเหมาะกับสถานการณ์ ',\n",
              "  'นายวิม รุ่งวัฒนจินดา ',\n",
              "  'หนึ่งในทีมงานของ น.ส.ยิ่งลักษณ์กล่าวว่า ยืนยันว่ากระแสข่าวที่เกิดขึ้นไม่เป็นความจริง ',\n",
              "  'ตั้งแต่ถูกรัฐประหารมา ',\n",
              "  'น.ส.ยิ่งลักษณ์มุ่งแต่เรื่องต่อสู้คดีรับจำนำข้าว ',\n",
              "  'ไม่ได้เข้าไปมีส่วนในกิจกรรมทางการเมืองของพรรค ',\n",
              "  'นอกจากนี้ นางมณฑาทิพย์ไม่สนใจการเมือง ',\n",
              "  'ใช้ชีวิตแบบเรียบง่ายเป็นแม่บ้าน ',\n",
              "  'ไม่เอาตัวเองมายุ่งเกี่ยวการเมืองที่วุ่นวายแน่ ',\n",
              "  'ทั้งนี้ ผู้นำพรรคต้องเป็นที่ยอมรับของพี่น้องประชาชน ',\n",
              "  'ไม่ใช่ตระกูลชินวัตรจะเป็นผู้กำหนด ที่พรรคเพื่อไทย ',\n",
              "  'นายวัฒนา เมืองสุข อดีต รมว.พาณิชย์ และแกนนำพรรคเพื่อไทย แถลงว่า หลังเข้าพบพนักงานสอบสวน บก.ปอท. พร้อมทนายความ มาทราบภายหลังว่า คสช.ต้องการให้พนักงานสอบสวนนำตนไปขออำนาจศาลฝากขัง ',\n",
              "  'และจะคัดค้านการประกันตัว ',\n",
              "  'เรื่องนี้ถือเป็นการสร้างมาตรฐานใหม่ ',\n",
              "  'เมื่อแสดงความเห็นไม่ถูกใจผู้มีอำนาจจะกลายเป็นความผิด ',\n",
              "  'โดยใช้คำว่าความมั่นคงเป็นข้ออ้าง โดยเฉพาะผู้ที่ได้รับมอบอำนาจจาก คสช.ให้มาร้องทุกข์กล่าวโทษตน ',\n",
              "  'กลับมีพฤติกรรมแทรกแซงการทำงานพนักงานสอบสวน ',\n",
              "  'มีการดำเนินการที่ผิดไปจากกฎหมายและแนวทางปฏิบัติ ',\n",
              "  'มีเจตนาจะเอาตัวตนไปศาลให้ได้ ',\n",
              "  'พฤติการณ์ที่เห็นถ้า พล.อ.ประยุทธ์อยากเอาใครเข้าคุก ก็ต้องเป็นไปตามนั้น คำสั่ง พล.อ.ประยุทธ์กลายเป็นกฎหมายไปแล้วหรือ จะปล่อยให้เป็นแบบนี้หรือ การที่ พล.อ.ประยุทธ์ระบุว่าถูกแบล็กลิสต์ห้ามเดินทางไปต่างประเทศ ',\n",
              "  'แสดงว่าเขาไม่ให้การยอมรับ แต่ยังไม่รู้ตัว ',\n",
              "  'เป็นเรื่องน่าอับอายที่ผู้นำของเราไปต่างประเทศไปเจรจาไม่ได้ ',\n",
              "  'ที่ทำเนียบรัฐบาล พล.อ.ประยุทธ์ จันทร์โอชา นายกฯ แถลงภายหลังประชุม ครม. ถึงภาพข่าวว่านายวุฒิพงศ์ กชธรรมคุณ หรือโกตี๋ ผู้ต้องหาตามประมวลกฎหมายอาญามาตรา 112 เสียชีวิตในสาธารณรัฐประชาธิปไตยประชาชนลาว ',\n",
              "  '(สปป.ลาว) ว่า ได้เห็นภาพแล้ว แต่ยังไม่มีใครรายงานเข้ามา ',\n",
              "  'ไม่ทราบว่าเป็นภาพถ่ายจากที่ใด และการประชุม ',\n",
              "  'คสช.วันนี้ ',\n",
              "  'มีการรายงานสถานการณ์ทางการเมืองเน้นที่การประเมินสถานการณ์ด้านความมั่นคง ทั้งการเตรียมความพร้อมในงานพระราชพิธีถวายพระเพลิงพระบรมศพรัชกาลที่ 9 ต้องรักษาสถานการณ์และเสถียรภาพรัฐบาลให้ได้ ให้ทุกคนปฏิบัติตามกฎหมาย ',\n",
              "  'ขอฝากเตือนทุกกลุ่มทุกพวกด้วยอย่าทำผิดกฎหมาย พล.อ.ประวิตร วงษ์สุวรรณ รองนายกรัฐมนตรีและ รมว.กลาโหม กล่าวถึงมาตรการเพิ่มเติมในการ รับมือมวลชนที่จะเดินทางมาให้กำลังใจ ',\n",
              "  'น.ส.ยิ่งลักษณ์ ชินวัตร อดีตนายกรัฐมนตรี ในวันที่ 25 ส.ค. เพื่อฟังคำตัดสินคดีรับจำนำข้าว ',\n",
              "  'หลังจากมีการตรวจสอบเรื่องรถตู้ที่ขนคนมา ว่าไม่มีมาตรการอื่นเพิ่มเติม ',\n",
              "  'บอกไปแล้วว่า ไม่ต้องมา จะมาทำไม คงไม่ต้องประชุมประเมินสถานการณ์อะไร ',\n",
              "  'ส่วนที่ ผบ.ทบ.บอกว่าจะมีการประชุมเพื่อประเมินสถานการณ์นั้น ผบ.ทบ.เขาประชุม ตนไม่ได้ประชุมกับเขา ',\n",
              "  'ส่วนข่าวการเสียชีวิตของนายวุฒิพงศ์ กชธรรมคุณ หรือโกตี๋ ที่มีภาพว่าพบศพแล้วนั้น ',\n",
              "  'ยังไม่ทราบ ',\n",
              "  'ยังไม่ได้ประสานไปยัง สปป.ลาว ',\n",
              "  'ศพที่เห็นเป็นศพใครก็ไม่รู้ ',\n",
              "  'และเราไม่รู้ว่าจะตามยังไง ',\n",
              "  'นายวุฒิพงศ์อยู่ที่นั่นจริงหรือไม่ หรือไปเสียชีวิตที่นั่นหรือไม่ ',\n",
              "  'ก็ไม่รู้ แต่เรายังตามตัวอยู่ ก็ยังไม่พบ ',\n",
              "  'เท่าที่เจ้าหน้าที่ประสานกับทางการลาว ก็ไม่รายงานอะไรเข้ามา ',\n",
              "  'เขาบอกว่าไม่รู้เรื่องเช่นกัน ที่กองบัญชาการกองทัพบก (บก.ทบ.) พล.อ.เฉลิมชัย ',\n",
              "  'สิทธิสาท ผบ.ทบ. ในฐานะเลขาธิการ คสช. กล่าวถึงการประชุม คสช. ว่า นายกฯยังไม่ได้กำชับอะไรเป็นพิเศษ อยู่ระหว่างประเมินสถานการณ์ที่จะมีมวลชนเดินทางมาให้กำลังใจ ',\n",
              "  'น.ส.ยิ่งลักษณ์ ชินวัตร อดีตนายกฯ ',\n",
              "  'ช่วงสัปดาห์หน้าจะเชิญหน่วยงานที่ดูแลด้านความปลอดภัยเข้าประชุม ',\n",
              "  'เพื่อกำหนดแนวทาง ',\n",
              "  'คิดว่าจะมอบหมายให้เจ้าหน้าที่ตำรวจดูแลเป็นหลัก ',\n",
              "  'เหมือนทุกครั้งที่ผ่านมา ',\n",
              "  'มองว่าไม่น่าห่วงใยอะไรมากนัก ',\n",
              "  'และเจ้าหน้าที่มีการตรวจสอบการเช่าเหมารถตู้มาให้กำลังใจอยู่ ',\n",
              "  'สิ่งใดที่เป็นเรื่องผิดกฎหมายต้องตรวจสอบ และติดตามเพื่อดำเนินการตามกฎหมาย บอกแล้วถ้ามาโดยมีเจตนาบริสุทธิ์ใจเพื่อให้กำลังใจ ก็ไม่มีปัญหา ',\n",
              "  'แต่ถ้ามีกระบวนการยุยงปลุกปั่นเป็นเรื่องที่ทำไม่ได้ ',\n",
              "  'และไม่สมควร ',\n",
              "  'หน่วยงานด้านการข่าวทำงานอยู่ตลอดเวลาเพื่อประเมินสถานการณ์ แต่คิดว่าไม่มีอะไรมาก ',\n",
              "  'หากคนมามากแล้วเรียบร้อย ',\n",
              "  'ดีกว่าคนมาน้อยแต่วุ่นวาย ',\n",
              "  'เมื่อถามถึงกรณีมีภาพปรากฏทางโซเชียลมีเดีย ',\n",
              "  'มีชายสวมเสื้อสีแดงเสียชีวิตที่ สปป.ลาว ',\n",
              "  'คาดว่าเป็นนายวุฒิพงศ์ กชธรรมคุณ หรือโกตี๋ พล.อ.เฉลิมชัยตอบว่า ยังไม่เห็นภาพจึงไม่กล้าวิจารณ์ว่าใช่หรือไม่ใช่ ',\n",
              "  'อีกทั้งเหตุไม่ได้เกิดขึ้นในประเทศไทย ',\n",
              "  'จึงเป็นเรื่องที่ยากที่จะยืนยัน ',\n",
              "  'อย่างไรก็ตามภาพเหล่านี้สามารถตัดต่อ ตกแต่งและดึงมาจากที่ไหนก็ได้ ',\n",
              "  'ไม่อยากให้เป็นประเด็น ',\n",
              "  'เพราะไม่ทราบจริงๆ ',\n",
              "  'ส่วนทางผู้ช่วยทูตทหารประจำประเทศลาวได้ติดตามงานข่าวอยู่ ',\n",
              "  'เพียงแต่ยังไม่มีข้อมูลเพิ่มเติม ได้รับทราบตามข้อมูลข่าวเท่านั้น แต่เชื่อว่าไม่มีผลอะไร พล.อ.ทวีป ',\n",
              "  'เนตรนิยม เลขาธิการสภาความมั่นคงแห่งชาติ (สมช.) ว่า ยังไม่มีการยืนยันเรื่องของนายโกตี๋ ',\n",
              "  'ตราบใดที่ไม่มีอะไรยืนยันมาเรายังต้องสืบหาต่อไป ',\n",
              "  'ภาพบางภาพที่มาที่ไปอาจมีการตกแต่ง หรือทำอะไรขึ้นมาก็ได้ ',\n",
              "  'ต้องระวังอย่าเพิ่งเชื่อในสิ่งที่เห็น ต้องพิสูจน์ให้ได้ ',\n",
              "  'เมื่อถามว่าสมมติฐานเรื่องความขัดแย้งในกลุ่มเสื้อแดงกันเองยังใช้ได้หรือไม่ ',\n",
              "  'พล.อ.ทวีปตอบว่า ในกลุ่มคนเสื้อแดงกันเองยังมีอุดมการณ์ไม่เหมือนกัน ',\n",
              "  'บางคนก็รุนแรง แต่บางคนก็บอกว่าไม่ควรทำอะไรรุนแรงขนาดนั้น ',\n",
              "  'ที่ศาลอาญา พล.ต.จำลอง ศรีเมือง อดีตแกนนำพันธมิตรประชาชนเพื่อประชาธิปไตย (พธม.)\\xa0กล่าวถึงกรณีกลุ่มพันธมิตรฯ ยื่นเรื่องให้คณะกรรมการป้องกันและปราบปรามการทุจริตแห่งชาติ (ป.ป.ช.) ยื่นอุทธรณ์ในคดีการสลายชุมนุมเมื่อปี 2551 ว่า ผลจะออกมาประการใดแล้วแต่ศาล ',\n",
              "  'เมื่อถามถึงกรณีแนวร่วมประชาธิปไตยต่อต้านเผด็จการแห่งชาติ (นปช.) เรียกร้องให้ ',\n",
              "  'ป.ป.ช.สั่งฟ้องคดีสลายการชุมนุมของ นปช.ด้วย พล.ต.จำลองตอบว่า ใครจะทำอะไรก็ทำ ',\n",
              "  'ยืนยันพร้อมรับฟังและปฏิบัติตามคำพิพากษาทุกประการ ',\n",
              "  'ไม่ว่าจะออกมาหนักหรือเบา ',\n",
              "  'หากเราเคารพกฎหมายบ้านเมือง ทุกอย่างก็จะดำเนินไปได้ด้วยดี ',\n",
              "  'นายมีชัย ฤชุพันธุ์ ',\n",
              "  'ประธาน กรธ. กล่าวว่า ต้องดูว่าถ้า ป.ป.ช.ไม่ยื่นอุทธรณ์โดยไม่สุจริต ',\n",
              "  'ประชาชนสามารถใช้สิทธิตามรัฐธรรมนูญ ',\n",
              "  'ด้วยการเข้าชื่อส่งไปยังประธานรัฐสภา เพื่อเสนอเรื่องไปยังประธานศาลฎีกาให้ตั้งคณะผู้ไต่สวนอิสระได้ แต่การร้องเรียนนั้นต้องมีหลักฐานที่ชัดเจน ',\n",
              "  'ไม่ได้เป็นการกล่าวหาลอยๆ ที่ทำเนียบรัฐบาล พ.อ.หญิงทักษดา สังขจันทร์ ผู้ช่วยโฆษกประจำสำนักนายกรัฐมนตรี แถลงว่า ที่ประชุม ครม.อนุมัติแต่งตั้งข้าราชการกระทรวงต่างๆ อาทิ นายเลิศวิโรจน์ โกวัฒนะ เป็นปลัดกระทรวงเกษตรและสหกรณ์ ',\n",
              "  'น.ส.บรรจงจิตต์ อังศุสิงห์ เป็นรองปลัดกระทรวงพาณิชย์ ',\n",
              "  'นางกุลณี อิศดิศัย เป็นอธิบดีกรมพัฒนาธุรกิจการค้า ',\n",
              "  'นายบุณยฤทธิ์ กัลยาณมิตร เป็นอธิบดีการค้าภายใน ',\n",
              "  'นางจันทิรา ',\n",
              "  'ยิมเรวัต วิวัฒน์รัตน์ เป็นอธิบดีกรมส่งเสริมการค้าระหว่างประเทศ ',\n",
              "  'นายสุทธิพงษ์ จุลเจริญ เป็นอธิบดีกรมส่งเสริมการปกครองท้องถิ่น ',\n",
              "  'นายบุญธรรม เลิศสุขีเกษม เป็นรองปลัดกระทรวงฯ ',\n",
              "  'นายเกียรติศักดิ์ จันทรา เป็นผู้ตรวจราชการกระทรวงฯ ',\n",
              "  'นายสมชาย วิทย์ดำรง ผวจ.ฉะเชิงเทรา เป็น ผวจ.นครพนม\\xa0นายสุวิทย์ ',\n",
              "  'คำดี ',\n",
              "  'ผวจ.กาฬสินธุ์ เป็น ผวจ.ฉะเชิงเทรา พ.อ.อธิสิทธิ์ ไชยนุวัติ ผู้ช่วยโฆษกประจำสำนักนายกรัฐมนตรี แถลงว่า ที่ประชุมร่วม คสช. จะมีการออกคำสั่งหัวหน้า คสช. 3 ฉบับ คือ 1.เกี่ยวกับการให้อำนาจสถาบันอุดมศึกษา เพื่อ ให้อำนาจสถาบันอุดมศึกษาแต่งตั้งบุคคลที่อาจไม่ได้เป็นข้าราชการพลเรือนมาดำรงตำแหน่งอธิการบดี รองอธิการบดี ผู้ช่วยอธิการบดี คณบดี หรือหัวหน้าหน่วยงานต่างๆ 2.การเพิ่มประสิทธิภาพในการป้องกันและปราบปรามการฟอกเงิน เพื่อปรับปรุงแก้ไของค์ประกอบขอบเขตอำนาจหน้าที่ของ ปปง. และ 3.แนวคิดการรวมหน่วยงานบริหารจัดการน้ำของรัฐบาล ',\n",
              "  'เพื่อรวมหน่วยงานบริหารจัดการน้ำของภาครัฐทั้งหมดเข้าด้วยกัน ',\n",
              "  'และต้องการแก้ปัญหาน้ำอย่างยั่งยืน ',\n",
              "  'โดยจัดตั้งเป็นสำนักงานทรัพยากรน้ำแห่งชาติ ขึ้นตรงกับสำนักนายกรัฐมนตรี ภายใต้การบังคับบัญชาของนายกรัฐมนตรี ',\n",
              "  'ชี้แจงรายละเอียดสำหรับบุคลากรจากหน่วยงานที่เกี่ยวข้องที่ต้องมีการโยกย้ายมายังสำนักดังกล่าว ',\n",
              "  'โดยสำนักงานคณะกรรมการพัฒนาระบบราชการ (กพร.) และจะออกเป็นคำสั่ง ',\n",
              "  'คสช.ต่อไป ',\n",
              "  'ช่วงบ่ายวันเดียวกันที่ห้องสีงาช้าง ตึกไทยคู่ฟ้า ทำเนียบรัฐบาล นายเร็กซ์ เวย์น ทิลเลอร์สัน รมว.ต่างประเทศสหรัฐอเมริกา เข้าเยี่ยมคารวะ พล.อ.ประยุทธ์ จันทร์โอชา นายกฯและหัวหน้า คสช. ',\n",
              "  'ต่อมา พล.ท.วีรชน สุคนธปฏิภาค รองโฆษกประจำสำนักนายกรัฐมนตรี กล่าวว่า นายเร็กซ์ เวย์น ทิลเลอร์สัน ได้ร่วมลงนามในสมุดแสดงความอาลัยต่อการสวรรคตของพระบาทสมเด็จพระปรมินทรมหาภูมิพลอดุลยเดช ',\n",
              "  'บรมนาถบพิตร สะท้อนถึงความผูกพันและความสัมพันธ์ที่แน่นแฟ้น ซึ่งนายกฯย้ำว่าไทยให้ความสำคัญและเห็นสหรัฐฯมีบทบาทมากในประชาคมโลก ทั้งในเรื่องความมั่นคง การค้ามนุษย์ ก่อการร้าย อาชญากรรมข้ามชาติ ',\n",
              "  'นอกจากนี้ ทั้ง 2 ฝ่าย เห็นพ้องความร่วมมือด้านเศรษฐกิจ และความสัมพันธ์ระหว่างประชาชน พล.อ.ประยุทธ์กล่าวถึงความคืบหน้าการเดินทางเยือนสหรัฐอเมริกาอย่างเป็นทางการตามคำเชิญของนายโดนัลด์ ทรัมป์ ประธานาธิบดีสหรัฐอเมริกา ว่า เบื้องต้นตนจะเดินทางไปเยือนสหรัฐฯในเดือน ',\n",
              "  'ต.ค.นี้ ทางนายโดนัลด์ ทรัมป์ ไม่ได้ตั้งเงื่อนไขอะไร ',\n",
              "  'เราแสดงชัดเจนไปแล้วว่าปฏิบัติตามมติพันธะกรณีต่างๆของสหประชาชาติ ',\n",
              "  'ส่วนกรณีที่ตนพูดว่ามีบางประเทศไม่เชิญไปเยือนนั้น มี 2 อย่าง ',\n",
              "  'ถ้าเป็นเรื่องการประชุมเวทีนานาชาติตนเดินทางไปหมด แต่การเยือนอย่างเป็นทางการไปไม่ได้ ',\n",
              "  'เพราะเป็นผู้นำรัฐบาลแบบนี้ ',\n",
              "  'คนละประเด็นกัน ',\n",
              "  'ไม่ใช่ว่าเขารังเกียจอะไร แต่กฎหมายเขาเป็นอย่างนั้น ',\n",
              "  'วันข้างหน้าที่ทุกอย่างจะกลับมาเป็นปกติ'],\n",
              " ['กีเก ซานเชซ ฟลอเรส\\xa0 กุนซือเลือดกระทิงของทีมวัตฟอร์ด\\xa0 ',\n",
              "  'เมินประเด็นจุดโทษปัญหาในเกมพรีเมียร์ลีก อังกฤษ นัดที่แตนอาละวาดเปิดบ้านพ่าย คริสตัล พาเลซ 0-1ชี้ทีมของเขาเล่นไม่ดีพอเอง ',\n",
              "  'สำนักข่าวต่างประเทศรายงานวันที่ 27 ก.ย. ว่า กีเก ซานเชซ ฟลอเรส\\xa0 ผู้จัดการทีมชาวสเปน ของ แตนอาละวาด วัตฟอร์ด\\xa0 ยอมรับทีมของเขาเล่นได้ไม่ดีพอเอง ',\n",
              "  'ในเกมพรีเมียร์ลีก อังกฤษ นัดเปิดบ้านพ่าย อินทรีผงาด คริสตัล พาเลซ 0-1 เมื่อคืนวันอาทิตย์ที่ผ่านมา ',\n",
              "  'เกมนี้จุดเปลี่ยนมาอยู่ที่การได้จุดโทษในช่วงครึ่งหลังของ คริสตัล พาเลซ ซึ่งไม่ค่อยชัดเจนเท่าไหร่ว่า อัลลัน นียอม นั้นไปทำฟาล์วใส่ วิลฟรีด ซาฮา ในเขตโทษหรือไม่ แต่ผู้ตัดสินก็ชี้เป็นจุดโทษ ',\n",
              "  'ซึ่ง โยอัน ',\n",
              "  'กาบาย สังหารไม่พลาด และเป็นประตูชัยช่วยให้ คริสตัล พาเลซ เอาชนะ วัตฟอร์ด ไป 1-0 และเป็นการพ่ายแพ้ในบ้านนัดแรกของวัตฟอร์ดในฤดูกาลนี้อีกด้วย ',\n",
              "  'ฟลอเรส กล่าวว่า มันเป็นเรื่องยากในการหยุดเกมรุกของคริสตัล พาเลซ ซึ่งมันอึดอัดจริงๆสำหรับเรา ',\n",
              "  'เราเล่นกันได้ไม่ดีนักในตอนที่ได้ครองบอล ',\n",
              "  'เราต้องเล่นทางริมเส้นให้มากกว่านี้ ',\n",
              "  'เราไม่สามารถหยุดเกมสวนกลับของพวกเขาได้ ',\n",
              "  'และแนวรับของเราก็ยืนไม่เป็นระเบียบสักเท่าไหร่ในช่วงครึ่งแรก ',\n",
              "  'ส่วนเรื่องจุดโทษการตัดสินใจขั้นสุดท้ายมันอยู่ที่ผู้ตัดสิน ',\n",
              "  'ซึ่งมันเป็นการตัดสินใจที่สำคัญ ',\n",
              "  'ผมเองก็ไม่รู้ว่าเขาตัดสินถูกหรือเปล่า ',\n",
              "  'บางทีมันอาจเป็นจุดที่ตัดสินเกมนี้เลย ',\n",
              "  'แต่เราไม่ได้แพ้เกมนี้เพราะจุดโทษ ',\n",
              "  'เราแพ้ในวันนี้เพราะเราเล่นไม่ดีและคริสตัล พาเลซ เล่นดีกว่าเรา ',\n",
              "  'เราไม่ได้มีฟอร์มการเล่นที่ดีในเกมนี้เลย'],\n",
              " ['ตาย30-เจ็บ400 เส้นทางตัดขาด เข้าช่วยลำบาก ',\n",
              "  'เนปาลระทึก หลังเกิดพายุฝนฟ้าคะนองถล่มทางใต้ สร้างความเสียหายหลายหมู่บ้าน ',\n",
              "  'เบื้องต้นพบผู้เสียชีวิตแล้ว 30 ศพ บาดเจ็บ 400 ราย ระบบสาธารณูปโภคพังพินาศ ทางการเร่งระดมเจ้าหน้าที่ตำรวจ ',\n",
              "  'ทหารและหน่วยกู้ภัยเข้าช่วยเหลือเป็นการด่วน แต่บางจุดยังเข้าถึงยาก ',\n",
              "  'เหตุเส้นทางคมนาคมถูกตัดขาด ',\n",
              "  'เจอทั้งเสาไฟ ต้นไม้ล้มพาดขวาง สำนักข่าวต่างประเทศรายงานเหตุภัยพิบัติจากธรรมชาติที่เกิดขึ้นในประเทศเนปาลสร้างความสูญเสียทั้งชีวิตและทรัพย์สิน ว่า เมื่อคืนอาทิตย์ที่ 31 มี.ค.ตามเวลาท้องถิ่น เกิดพายุฝนฟ้าคะนองพัดถล่มในหลายหมู่บ้าน ',\n",
              "  'ซึ่งส่วนใหญ่เป็นพื้นที่ทางการเกษตร ที่เมืองบาราและเมืองปารสา ',\n",
              "  'ซึ่งห่างจากกรุงกาฐมาณฑุ ',\n",
              "  'เมืองหลวงของเนปาล ไปทางใต้ราว 120 กม. และต่อมาเมื่อวันที่ 1 เม.ย. โฆษกประจำกองทัพเนปาล เปิดเผยกับสำนักข่าวเอเอ็นไอของอินเดีย ถึงความเสียหายที่เกิดจากเหตุพายุพัดถล่ม ว่า พบผู้เสียชีวิต 30 ศพ ส่วนใหญ่อยู่ในพื้นที่ทางตอนใต้ ',\n",
              "  'และมีได้รับบาดเจ็บประมาณ 400 ราย ',\n",
              "  'ทั้งนี้ ทางการจัดเฮลิคอปเตอร์ MI 17 จำนวน 2 ลำเตรียมพร้อมรอปฏิบัติการ ',\n",
              "  'ส่วนเครื่องบินสกายทรัก ก็เตรียมพร้อมอยู่ที่เมืองสิมารา รวมถึงมีการส่งทหารกว่า 100 นาย ลงพื้นที่ปฏิบัติการช่วยเหลือและบรรเทาทุกข์ผู้ประสบภัยแล้ว ',\n",
              "  'อย่างไรก็ดี คาดว่ายอดผู้เสียชีวิตอาจเพิ่มขึ้นอีก ',\n",
              "  'โดยเฉพาะที่เมืองบาราเนื่องจากได้รับความเสียหายจากพายุที่พัดถล่มอย่างรุนแรง ',\n",
              "  'ส่งผลให้ระบบสาธารณูปโภคพังพินาศ ทั้งถนน เสาไฟฟ้า และเสาส่งสัญญาณโทรศัพท์ในหลายพื้นที่หักโค่นเสียหายอย่างหนัก ',\n",
              "  'ขณะที่เจ้าหน้าที่พยายามใช้รถยนต์และรถตู้ ลำเลียงผู้บาดเจ็บไปส่งโรงพยาบาลอย่างโกลาหล ',\n",
              "  'ด้านนายกรัฐมนตรี คัดกา ปราสาด ชาร์ม โอลี แห่งเนปาล ',\n",
              "  'ทวีตข้อความผ่านสื่อโซเชียล แสดงความเสียใจต่อผู้ประสบภัยพิบัติจากพายุถล่ม ซึ่งมีผู้เสียชีวิตและบาดเจ็บจำนวนมาก ',\n",
              "  'บ้านเรือนพังเสียหาย ',\n",
              "  'ต้นไม้หักโค่น และเสาไฟฟ้าล้มระเนระนาด พร้อมกันนี้ กองกำลังรักษาความมั่นคงแห่งชาติก็เตรียมพร้อมตลอดเวลาที่จะเข้าไปให้การช่วยเหลือผู้ประสบภัย รวมถึงเฮลิคอปเตอร์กู้ภัยที่ต้องรอสภาพอากาศดีขึ้นกว่านี้ ',\n",
              "  'จึงจะสามารถเข้าไปช่วยนำผู้บาดเจ็บตามหมู่บ้านต่างๆ ไปส่งยังศูนย์อนามัยหรือตามโรงพยาบาลใกล้เคียง ขณะเดียวกัน นายราเชจ พูเดล เจ้าหน้าที่ระดับสูงของรัฐ เปิดเผยว่า ทั้งตำรวจทหารและเจ้าหน้าที่กู้ภัยกระจายกำลังไปรอบพื้นที่ เพื่อพยายามเข้าไปให้ถึงหมู่บ้านที่ได้รับความเสียหายแล้ว แต่ยอมรับสถานการณ์ขณะนี้เป็นไปด้วยความยากลำบากและมีอุปสรรค เพราะเหตุเกิดในช่วงกลางคืน ทางเข้าหมู่บ้านก็ถูกตัดขาด ',\n",
              "  'เพราะมีต้นไม้และเสาไฟฟ้าหักล้มกีดขวางเส้นทาง ',\n",
              "  'สื่อท้องถิ่นรายงานเพิ่มเติมเกี่ยวกับเหตุพายุถล่มครั้งนี้ว่า ผู้เสียชีวิตและผู้ได้รับบาดเจ็บ ',\n",
              "  'ซึ่งส่วนใหญ่ เป็นเกษตรกรชาวนา ถูกสิ่งของที่ปลิวว่อนไปกับกระแสลมพัดแรง ซึ่งมีทั้งต้นไม้ เสาไฟฟ้า แผ่นสังกะสีหลังคาบ้าน รวมถึงกระท่อมล้มทับใส่ ',\n",
              "  'อีกทั้งยังมีรถถูกลมแรงพัดจนพลิกคว่ำ ',\n",
              "  'และมีผู้โดยสารบนรถเมล์เสียชีวิตจากรถพลัดตกจากทางหลวง ',\n",
              "  'ทั้งนี้ เหตุพายุฝนฟ้าถล่มจนสร้างความเสียหายและสูญเสียจำนวนมากในช่วงฤดูนี้ ถือเป็นปรากฏการณ์ที่ไม่ค่อยเกิดขึ้นในเนปาล เพราะปกติพายุจะเข้าเนปาลช่วงฤดูใบไม้ผลิระหว่างเดือน เม.ย.-พ.ค.']]"
            ]
          },
          "metadata": {
            "tags": []
          },
          "execution_count": 11
        }
      ]
    },
    {
      "cell_type": "code",
      "metadata": {
        "id": "SJSwfD9Q8SQa"
      },
      "source": [
        "def gold_summary(df, num_train, num_val, num_test):\n",
        "  return df.iloc[num_train+num_val:num_train+num_val+num_test,:]['summary'].tolist()"
      ],
      "execution_count": 12,
      "outputs": []
    },
    {
      "cell_type": "code",
      "metadata": {
        "id": "Vyyl1TmA7kjH",
        "colab": {
          "base_uri": "https://localhost:8080/"
        },
        "outputId": "3e626c7a-c2df-4b96-c5fe-c8f6c5b931bf"
      },
      "source": [
        "gold_summaries = gold_summary(df, 358868, 11000, 11000)\n",
        "gold_summaries_sentence_segmented = segment_sent(gold_summaries)"
      ],
      "execution_count": 13,
      "outputs": [
        {
          "output_type": "stream",
          "text": [
            "100%|██████████| 11000/11000 [00:26<00:00, 419.75it/s]\n"
          ],
          "name": "stderr"
        }
      ]
    },
    {
      "cell_type": "markdown",
      "metadata": {
        "id": "5toJU7WMgtAh"
      },
      "source": [
        "## Metrics"
      ]
    },
    {
      "cell_type": "code",
      "metadata": {
        "id": "cVliso0GSgv7"
      },
      "source": [
        "def evaluate_rouge(cands, refs, tokenizer):\n",
        "  cands_tokenized = tokenize_with_space(cands, tokenizer)\n",
        "  refs_tokenized = tokenize_with_space(refs, tokenizer)\n",
        "  r1, r2, rl = cal_rouge_score(refs_tokenized, cands_tokenized)\n",
        "  # BERTScore = cal_batch_bert_score(cands, refs)\n",
        "  return r1, r2, rl\n",
        "\n",
        "def tokenize_with_space(texts, tokenizer):\n",
        "  output = []\n",
        "  encoded_texts = tokenizer(texts, max_length=416, truncation=True)\n",
        "  for text in encoded_texts['input_ids']:\n",
        "    tokenized_text = \" \".join(tokenizer.convert_ids_to_tokens(text, skip_special_tokens=True))\n",
        "    if(len(tokenized_text)==0):\n",
        "      output.append(\"\")\n",
        "      continue\n",
        "    if(tokenized_text[0]==\"▁\"): \n",
        "      tokenized_text = tokenized_text[1:]\n",
        "    output.append(tokenized_text.strip())\n",
        "  return output"
      ],
      "execution_count": 14,
      "outputs": []
    },
    {
      "cell_type": "code",
      "metadata": {
        "id": "dFNLfGgjSkVH",
        "colab": {
          "base_uri": "https://localhost:8080/"
        },
        "outputId": "4f7a9f4c-96bb-433b-f84b-6f9a146ab046"
      },
      "source": [
        "!pip install rouge"
      ],
      "execution_count": 15,
      "outputs": [
        {
          "output_type": "stream",
          "text": [
            "Collecting rouge\n",
            "  Downloading https://files.pythonhosted.org/packages/43/cc/e18e33be20971ff73a056ebdb023476b5a545e744e3fc22acd8c758f1e0d/rouge-1.0.0-py3-none-any.whl\n",
            "Requirement already satisfied: six in /usr/local/lib/python3.7/dist-packages (from rouge) (1.15.0)\n",
            "Installing collected packages: rouge\n",
            "Successfully installed rouge-1.0.0\n"
          ],
          "name": "stdout"
        }
      ]
    },
    {
      "cell_type": "code",
      "metadata": {
        "id": "dzZWoGr5SogY"
      },
      "source": [
        "from rouge import Rouge \n",
        "rouge = Rouge()\n",
        "def cal_rouge_score(hyps, refs, get_average_f1=True):\n",
        "  '''\n",
        "  argument: cands, refs [list of string], get_average_f1=True\n",
        "  return dict of r1, r2, rl score\n",
        "  if get_average_f1 == True return mean of rouge-1, rouge-2, rouge-L\n",
        "  '''\n",
        "  r1 = dict(); r1['precision'] = []; r1['recall'] = []; r1['f1'] = []\n",
        "  r2 = dict(); r2['precision'] = []; r2['recall'] = []; r2['f1'] = []\n",
        "  rl = dict(); rl['precision'] = []; rl['recall'] = []; rl['f1'] = []\n",
        "  for hyp, ref in zip(hyps, refs):\n",
        "    score = {}\n",
        "    if(len(hyp)==0 or len(ref)==0):\n",
        "      score = {\n",
        "          'rouge-1': {\n",
        "              'p': 0,\n",
        "              'r': 0,\n",
        "              'f': 0\n",
        "          },\n",
        "          'rouge-2': {\n",
        "              'p': 0,\n",
        "              'r': 0,\n",
        "              'f': 0\n",
        "          },\n",
        "          'rouge-l': {\n",
        "              'p': 0,\n",
        "              'r': 0,\n",
        "              'f': 0\n",
        "          }\n",
        "      }\n",
        "    else: score = rouge.get_scores(hyp, ref)[0]\n",
        "    r1['precision'].append(score['rouge-1']['p'])\n",
        "    r1['recall'].append(score['rouge-1']['r'])\n",
        "    r1['f1'].append(score['rouge-1']['f'])\n",
        "    \n",
        "    r2['precision'].append(score['rouge-2']['f'])\n",
        "    r2['recall'].append(score['rouge-2']['f'])\n",
        "    r2['f1'].append(score['rouge-2']['f'])\n",
        "\n",
        "    rl['precision'].append(score['rouge-l']['f'])\n",
        "    rl['recall'].append(score['rouge-l']['f'])\n",
        "    rl['f1'].append(score['rouge-l']['f'])\n",
        "  # score = rouge.get_scores(cands, refs, avg=True)\n",
        "  # r1['precision_average'] = score['rouge-1']['p']\n",
        "  # r1['recall_average'] = score['rouge-1']['r']\n",
        "  # r1['f1_average'] = score['rouge-1']['f']\n",
        "  \n",
        "  # r2['precision_average'] = score['rouge-2']['f']\n",
        "  # r2['recall_average'] = score['rouge-2']['f']\n",
        "  # r2['f1_average'] = score['rouge-2']['f']\n",
        "\n",
        "  # rl['precision_average'] = score['rouge-l']['f']\n",
        "  # rl['recall_average'] = score['rouge-l']['f']\n",
        "  # rl['f1_average'] = score['rouge-l']['f']\n",
        "  if(get_average_f1==True): return sum(r1['f1'])/len(r1['f1']), sum(r2['f1'])/len(r2['f1']), sum(rl['f1'])/len(rl['f1'])\n",
        "  else: return r1, r2, rl"
      ],
      "execution_count": 16,
      "outputs": []
    },
    {
      "cell_type": "code",
      "metadata": {
        "id": "zffiWT65SnPB",
        "colab": {
          "base_uri": "https://localhost:8080/"
        },
        "outputId": "3d6c9f0f-747b-4e40-c87d-99c47640d1ef"
      },
      "source": [
        "cands = ['test test test test test test bad']\n",
        "refs = ['test test']\n",
        "\n",
        "r1, r2, rl = cal_rouge_score(cands, refs)\n",
        "print(r1)\n",
        "print(r2)\n",
        "print(rl)"
      ],
      "execution_count": 17,
      "outputs": [
        {
          "output_type": "stream",
          "text": [
            "0.4444444409876544\n",
            "0.2857142832653061\n",
            "0.6666666622222223\n"
          ],
          "name": "stdout"
        }
      ]
    },
    {
      "cell_type": "code",
      "metadata": {
        "id": "WJ5Qh9DEXooM",
        "colab": {
          "base_uri": "https://localhost:8080/"
        },
        "outputId": "92af121d-569b-4986-c674-f27df7e97e45"
      },
      "source": [
        "!pip install bert_score==0.3.7\n",
        "from bert_score import score\n",
        "import numpy as np"
      ],
      "execution_count": 18,
      "outputs": [
        {
          "output_type": "stream",
          "text": [
            "Collecting bert_score==0.3.7\n",
            "\u001b[?25l  Downloading https://files.pythonhosted.org/packages/a1/f9/7bd03a70ccb4e3f6a334f5f5dc8871d76de10144d277d23f730b08cf2aaf/bert_score-0.3.7-py3-none-any.whl (53kB)\n",
            "\r\u001b[K     |██████▏                         | 10kB 20.9MB/s eta 0:00:01\r\u001b[K     |████████████▎                   | 20kB 26.3MB/s eta 0:00:01\r\u001b[K     |██████████████████▌             | 30kB 23.0MB/s eta 0:00:01\r\u001b[K     |████████████████████████▋       | 40kB 25.4MB/s eta 0:00:01\r\u001b[K     |██████████████████████████████▉ | 51kB 24.5MB/s eta 0:00:01\r\u001b[K     |████████████████████████████████| 61kB 6.6MB/s \n",
            "\u001b[?25hRequirement already satisfied: tqdm>=4.31.1 in /usr/local/lib/python3.7/dist-packages (from bert_score==0.3.7) (4.41.1)\n",
            "Requirement already satisfied: requests in /usr/local/lib/python3.7/dist-packages (from bert_score==0.3.7) (2.23.0)\n",
            "Requirement already satisfied: transformers>=3.0.0 in /usr/local/lib/python3.7/dist-packages (from bert_score==0.3.7) (4.4.0)\n",
            "Requirement already satisfied: torch>=1.0.0 in /usr/local/lib/python3.7/dist-packages (from bert_score==0.3.7) (1.8.1+cu101)\n",
            "Requirement already satisfied: numpy in /usr/local/lib/python3.7/dist-packages (from bert_score==0.3.7) (1.19.5)\n",
            "Requirement already satisfied: pandas>=1.0.1 in /usr/local/lib/python3.7/dist-packages (from bert_score==0.3.7) (1.1.5)\n",
            "Requirement already satisfied: matplotlib in /usr/local/lib/python3.7/dist-packages (from bert_score==0.3.7) (3.2.2)\n",
            "Requirement already satisfied: idna<3,>=2.5 in /usr/local/lib/python3.7/dist-packages (from requests->bert_score==0.3.7) (2.10)\n",
            "Requirement already satisfied: urllib3!=1.25.0,!=1.25.1,<1.26,>=1.21.1 in /usr/local/lib/python3.7/dist-packages (from requests->bert_score==0.3.7) (1.24.3)\n",
            "Requirement already satisfied: chardet<4,>=3.0.2 in /usr/local/lib/python3.7/dist-packages (from requests->bert_score==0.3.7) (3.0.4)\n",
            "Requirement already satisfied: certifi>=2017.4.17 in /usr/local/lib/python3.7/dist-packages (from requests->bert_score==0.3.7) (2020.12.5)\n",
            "Requirement already satisfied: importlib-metadata; python_version < \"3.8\" in /usr/local/lib/python3.7/dist-packages (from transformers>=3.0.0->bert_score==0.3.7) (4.0.1)\n",
            "Requirement already satisfied: sacremoses in /usr/local/lib/python3.7/dist-packages (from transformers>=3.0.0->bert_score==0.3.7) (0.0.45)\n",
            "Requirement already satisfied: regex!=2019.12.17 in /usr/local/lib/python3.7/dist-packages (from transformers>=3.0.0->bert_score==0.3.7) (2019.12.20)\n",
            "Requirement already satisfied: packaging in /usr/local/lib/python3.7/dist-packages (from transformers>=3.0.0->bert_score==0.3.7) (20.9)\n",
            "Requirement already satisfied: tokenizers<0.11,>=0.10.1 in /usr/local/lib/python3.7/dist-packages (from transformers>=3.0.0->bert_score==0.3.7) (0.10.2)\n",
            "Requirement already satisfied: filelock in /usr/local/lib/python3.7/dist-packages (from transformers>=3.0.0->bert_score==0.3.7) (3.0.12)\n",
            "Requirement already satisfied: typing-extensions in /usr/local/lib/python3.7/dist-packages (from torch>=1.0.0->bert_score==0.3.7) (3.7.4.3)\n",
            "Requirement already satisfied: python-dateutil>=2.7.3 in /usr/local/lib/python3.7/dist-packages (from pandas>=1.0.1->bert_score==0.3.7) (2.8.1)\n",
            "Requirement already satisfied: pytz>=2017.2 in /usr/local/lib/python3.7/dist-packages (from pandas>=1.0.1->bert_score==0.3.7) (2018.9)\n",
            "Requirement already satisfied: cycler>=0.10 in /usr/local/lib/python3.7/dist-packages (from matplotlib->bert_score==0.3.7) (0.10.0)\n",
            "Requirement already satisfied: kiwisolver>=1.0.1 in /usr/local/lib/python3.7/dist-packages (from matplotlib->bert_score==0.3.7) (1.3.1)\n",
            "Requirement already satisfied: pyparsing!=2.0.4,!=2.1.2,!=2.1.6,>=2.0.1 in /usr/local/lib/python3.7/dist-packages (from matplotlib->bert_score==0.3.7) (2.4.7)\n",
            "Requirement already satisfied: zipp>=0.5 in /usr/local/lib/python3.7/dist-packages (from importlib-metadata; python_version < \"3.8\"->transformers>=3.0.0->bert_score==0.3.7) (3.4.1)\n",
            "Requirement already satisfied: click in /usr/local/lib/python3.7/dist-packages (from sacremoses->transformers>=3.0.0->bert_score==0.3.7) (8.0.0)\n",
            "Requirement already satisfied: six in /usr/local/lib/python3.7/dist-packages (from sacremoses->transformers>=3.0.0->bert_score==0.3.7) (1.15.0)\n",
            "Requirement already satisfied: joblib in /usr/local/lib/python3.7/dist-packages (from sacremoses->transformers>=3.0.0->bert_score==0.3.7) (1.0.1)\n",
            "Installing collected packages: bert-score\n",
            "Successfully installed bert-score-0.3.7\n"
          ],
          "name": "stdout"
        }
      ]
    },
    {
      "cell_type": "code",
      "metadata": {
        "id": "jPEtzXcpSqV4"
      },
      "source": [
        "import gc\n",
        "\n",
        "def cal_bert_score(cands, refs, get_average_f1=True):\n",
        "  '''\n",
        "  arguments: cands, refs\n",
        "  return array of presicion, recall, f1, presicion_average, recall_average, f1_average\n",
        "  if get_average == True return mean of BERTScore\n",
        "  '''\n",
        "  p, r, f1 = score(cands, refs, lang=\"others\", verbose=False)\n",
        "  p = p.numpy()\n",
        "  r = r.numpy()\n",
        "  f1 = f1.numpy()\n",
        "  if(get_average_f1==True): return f1.mean()\n",
        "  else: return p, r, f1\n",
        "\n",
        "def cal_batch_bert_score(cands, refs, get_average_f1=True, batch_size=8):\n",
        "  f1_average = []\n",
        "  for i in tqdm(range(0,len(cands),batch_size)):\n",
        "    cand_batch = cands[i:i+batch_size]\n",
        "    ref_batch = refs[i:i+batch_size]\n",
        "    res = cal_bert_score(cand_batch, ref_batch)\n",
        "    f1_average.append(res)\n",
        "    gc.collect()\n",
        "  print(f1_average)\n",
        "  return sum(f1_average)/len(f1_average)"
      ],
      "execution_count": 19,
      "outputs": []
    },
    {
      "cell_type": "code",
      "metadata": {
        "id": "v8JJo8bZbFwM",
        "colab": {
          "base_uri": "https://localhost:8080/",
          "height": 303,
          "referenced_widgets": [
            "025c923d3d144915a523ff884ef918ab",
            "3b17bfc8ccd44c3694a4a6b64d26debc",
            "f0fad143ad7b475d8456eb7029ad5fb5",
            "8938fb8296464b1792401f9390dafdfb",
            "37badf8d93cc4c6bb787fc41db1a6d69",
            "4976e0f95dd24c728c1acdbc15cdac82",
            "9877863497be4f9da30b185bdc48f20c",
            "b15e70128d4b4f2a9460eae05ebc7175",
            "e321169e4984403a8cc9d6f1e93521ae",
            "53bd1d5f32724aa7965ed412efdd6eb8",
            "d9b7264307c24103b3ef690931bcf31d",
            "975e40ec95a54734add313358831ed95",
            "4dde6f5052c54d84853c3da30d5ef172",
            "6711de056df1421fa5daef0ded580567",
            "39aeb828a3144c39995aa8a893c1e298",
            "782f66cc3c0a4e40a4b26e5674400851",
            "92654703ba184198a4245a62052763c8",
            "1931184a2f6444e98843afc3e0dfe899",
            "de72952a6a134ea58e3dbbda5336e8bd",
            "6730de2c453e440e8d32cbe6b316c5e1",
            "2d6dc948f730442495443ac6ad729ef2",
            "2154e8dbacb047cd969612762ea0e045",
            "6afdd0d9c30047f881047755d0093098",
            "654b3e4bc48d404394035519528c0b58",
            "55b5a423fd394185904ef06092ff4d3b",
            "a20d2e459aad4f5eaff3a088f82ab2af",
            "c514d103e7b34e7887517a3e1fde4146",
            "23381b7eef474ed88ff586888f032eef",
            "5a276f65e0e94324a936c5bb87f02441",
            "83ce070d9e0f44549a5fe663bf726938",
            "4645bc32c0f54c27b9b33d0abc535917",
            "7d81648168f149e7be68bbf5e63d4bca",
            "fb6d54b1d70b45c2ae67378596bcc094",
            "70b2095549f243cd988d44e1c2e41144",
            "4f8239877270424aab0c693d8917f6db",
            "3690934f11724a7f8cdea9cf45c1822b",
            "9e368c03d4e742b3aa070eca92378820",
            "54df98b4cbd04327b0a4981610de268e",
            "2d6f45d764a542ac87fb3264e6d93fb8",
            "bf84c1c1e60c4a7da56825f8bbdfb2b4"
          ]
        },
        "outputId": "f3d1f8be-84a8-423a-c7e2-824178464a1a"
      },
      "source": [
        "%%time\n",
        "refs = ['เมื่อวันที่ 6 ม.ค.60 ที่ทำเนียบรัฐบาล นายวิษณุ เครืองาม รองนายกรัฐมนตรี กล่าวถึงกรณี ที่ นายสุรชัย เลี้ยงบุญเลิศชัย รองประธานสภานิติบัญญัติแห่งชาติ (สนช.) ออกมาระบุว่า การเลือกตั้งจะถูกเลื่อนออกไปถึงปี 2561 ว่า ขอให้ไปสอบถามกับ สนช. แต่เชื่อว่าคงไม่กล้าพูดอีก เพราะทำให้คนเข้าใจผิด ซึ่งที่ สนช.พูดเนื่องจากผูกกับกฎหมายของกรรมการร่างรัฐธรรมนูญ(กรธ.) ตนจึงไม่ขอวิพากษ์วิจารณ์ แต่รัฐบาลยืนยันว่ายังเดินตามโรดแม็ป ซึ่งโรดแม็ปมองได้สองแบบ คือ มีลำดับขั้นตอนและการกำหนดช่วงเวลา โดยเริ่มต้นจากการประกาศใช้รัฐธรรมนูญ แต่ขณะนี้รัฐธรรมนูญยังไม่ประกาศใช้ จึงยังเริ่มนับหนึ่งไม่ถูก จากนั้นเข้าสู่ขั้นตอนการร่างกฎหมายประกอบร่างรัฐธรรมนูญหรือกฎหมายลูก ภายใน 240 วัน ก่อนจะส่งกลับให้ สนช.พิจารณา ภายใน 2 เดือน\\xa0,นายวิษณุ กล่าวต่อว่า หากมีการแก้ไขก็จะมีการพิจารณาร่วมกับ กรธ.อีก 1 เดือน ก่อนนำขึ้นทูลเกล้าฯ ทรงลงพระปรมาภิไธย ภายใน 90 วัน และจะเข้าสู่การเลือกตั้งภายในระยะเวลา 5 เดือน ซึ่งทั้งหมดนี้คือโรดแม็ปที่ยังเป็นแบบเดิมอยู่ ส่วนเดิมที่กำหนดวันเลือกตั้งไว้ภายในปี 60 นั้น เพราะมาจากสมมติฐานของขั้นตอนเดิมทั้งหมด แต่เมื่อมีเหตุสวรรคตทุกอย่างจึงต้องเลื่อนออกไป ส่วนการพิจารณากฎหมายลูกทั้งหมด 4 ฉบับ ขณะนี้กรธ.พิจารณาแล้วเสร็จ 2 ฉบับ คือ พ.ร.ป.พรรคการเมือง และพ.ร.ป. คณะกรรมการการเลือกตั้ง แต่ พ.ร.ป.การเลือกตั้งควรจะพิจารณาได้เร็วกลับล่าช้า ดังนั้น กรธ.จะต้องออกชี้แจงถึงเหตุผลว่าทำไมพิจารณากฎหมายดังกล่าวล่าช้ากว่ากำหนด ส่งผลให้เกิดข้อสงสัยจนถึงทุกวันนี้ ส่วนกรณีที่ สนช. ระบุว่า มีกฎหมายเข้าสู่การพิจารณาของ สนช.เป็นจำนวนมาก ทำให้ส่งผลกระทบต่อโรดแม็ปนั้น รัฐบาลเคยบอกไว้แล้วว่าในช่วงนี้ของโรดแม็ปกฎหมายจะเยอะกว่าที่ผ่านมา ดังนั้น สนช.จะต้องบริหารจัดการกันเอง เพราะได้มีการเพิ่มสมาชิก สนช.ให้แล้ว.']\n",
        "cands = ['เมื่อวันที่ 6 ม.ค.60 ที่ทำเนียบรัฐบาล นายวิษณุ เครืองาม รองนายกรัฐมนตรี กล่าวถึงกรณี ที่ นายสุรชัย เลี้ยงบุญเลิศชัย รองประธานสภานิติบัญญัติแห่งชาติ (สนช.)']\n",
        "f1_average = cal_bert_score(cands, refs)"
      ],
      "execution_count": 20,
      "outputs": [
        {
          "output_type": "display_data",
          "data": {
            "application/vnd.jupyter.widget-view+json": {
              "model_id": "025c923d3d144915a523ff884ef918ab",
              "version_minor": 0,
              "version_major": 2
            },
            "text/plain": [
              "HBox(children=(FloatProgress(value=0.0, description='Downloading', max=625.0, style=ProgressStyle(description_…"
            ]
          },
          "metadata": {
            "tags": []
          }
        },
        {
          "output_type": "stream",
          "text": [
            "\n"
          ],
          "name": "stdout"
        },
        {
          "output_type": "display_data",
          "data": {
            "application/vnd.jupyter.widget-view+json": {
              "model_id": "e321169e4984403a8cc9d6f1e93521ae",
              "version_minor": 0,
              "version_major": 2
            },
            "text/plain": [
              "HBox(children=(FloatProgress(value=0.0, description='Downloading', max=995526.0, style=ProgressStyle(descripti…"
            ]
          },
          "metadata": {
            "tags": []
          }
        },
        {
          "output_type": "stream",
          "text": [
            "\n"
          ],
          "name": "stdout"
        },
        {
          "output_type": "display_data",
          "data": {
            "application/vnd.jupyter.widget-view+json": {
              "model_id": "92654703ba184198a4245a62052763c8",
              "version_minor": 0,
              "version_major": 2
            },
            "text/plain": [
              "HBox(children=(FloatProgress(value=0.0, description='Downloading', max=29.0, style=ProgressStyle(description_w…"
            ]
          },
          "metadata": {
            "tags": []
          }
        },
        {
          "output_type": "stream",
          "text": [
            "\n"
          ],
          "name": "stdout"
        },
        {
          "output_type": "display_data",
          "data": {
            "application/vnd.jupyter.widget-view+json": {
              "model_id": "55b5a423fd394185904ef06092ff4d3b",
              "version_minor": 0,
              "version_major": 2
            },
            "text/plain": [
              "HBox(children=(FloatProgress(value=0.0, description='Downloading', max=1961828.0, style=ProgressStyle(descript…"
            ]
          },
          "metadata": {
            "tags": []
          }
        },
        {
          "output_type": "stream",
          "text": [
            "\n"
          ],
          "name": "stdout"
        },
        {
          "output_type": "display_data",
          "data": {
            "application/vnd.jupyter.widget-view+json": {
              "model_id": "fb6d54b1d70b45c2ae67378596bcc094",
              "version_minor": 0,
              "version_major": 2
            },
            "text/plain": [
              "HBox(children=(FloatProgress(value=0.0, description='Downloading', max=714314041.0, style=ProgressStyle(descri…"
            ]
          },
          "metadata": {
            "tags": []
          }
        },
        {
          "output_type": "stream",
          "text": [
            "\n",
            "CPU times: user 18.4 s, sys: 4.82 s, total: 23.2 s\n",
            "Wall time: 31.4 s\n"
          ],
          "name": "stdout"
        }
      ]
    },
    {
      "cell_type": "markdown",
      "metadata": {
        "id": "xTv8C_Z7zuHv"
      },
      "source": [
        "## Oracle A"
      ]
    },
    {
      "cell_type": "code",
      "metadata": {
        "id": "bVgUHyvm0xIW"
      },
      "source": [
        "import collections as coll\n",
        "# stopwords = pkgutil.get_data(__package__, 'smart_common_words.txt')\n",
        "# stopwords = stopwords.decode('ascii').split('\\n')\n",
        "# stopwords = {key.strip(): 1 for key in stopwords}\n",
        "\n",
        "def _get_ngrams_count(n, text):\n",
        "    \"\"\"Calcualtes n-grams.\n",
        "    Args:\n",
        "      n: which n-grams to calculate\n",
        "      text: An array of tokens\n",
        "    Returns:\n",
        "      A set of n-grams\n",
        "    \"\"\"\n",
        "    ngram_dic = coll.defaultdict(int)\n",
        "    text_length = len(text)\n",
        "    max_index_ngram_start = text_length - n\n",
        "    for i in range(max_index_ngram_start + 1):\n",
        "        ngram_dic[tuple(text[i:i + n])] += 1\n",
        "    return ngram_dic\n",
        "\n",
        "def _get_ngrams(n, text):\n",
        "    \"\"\"Calcualtes n-grams.\n",
        "    Args:\n",
        "      n: which n-grams to calculate\n",
        "      text: An array of tokens\n",
        "    Returns:\n",
        "      A set of n-grams\n",
        "    \"\"\"\n",
        "    ngram_set = set()\n",
        "    text_length = len(text)\n",
        "    max_index_ngram_start = text_length - n\n",
        "    for i in range(max_index_ngram_start + 1):\n",
        "        ngram_set.add(tuple(text[i:i + n]))\n",
        "    return ngram_set\n",
        "\n",
        "def _get_word_ngrams_list(n, text):\n",
        "    \"\"\"Calcualtes n-grams.\n",
        "    Args:\n",
        "      n: which n-grams to calculate\n",
        "      text: An array of tokens\n",
        "    Returns:\n",
        "      A set of n-grams\n",
        "    \"\"\"\n",
        "    text = sum(text, [])\n",
        "    ngram_set = []\n",
        "    text_length = len(text)\n",
        "    max_index_ngram_start = text_length - n\n",
        "    for i in range(max_index_ngram_start + 1):\n",
        "        ngram_set.append(tuple(text[i:i + n]))\n",
        "    return ngram_set\n",
        "\n",
        "def _get_word_ngrams(n, sentences, do_count=False):\n",
        "    \"\"\"Calculates word n-grams for multiple sentences.\n",
        "    \"\"\"\n",
        "    assert len(sentences) > 0\n",
        "    assert n > 0\n",
        "\n",
        "    # words = _split_into_words(sentences)\n",
        "\n",
        "    words = sum(sentences, [])\n",
        "    # words = [w for w in words if w not in stopwords]\n",
        "    if do_count:\n",
        "        return _get_ngrams_count(n, words)\n",
        "    return _get_ngrams(n, words)\n",
        "  \n",
        "def cal_rouge(evaluated_ngrams, reference_ngrams):\n",
        "    reference_count = len(reference_ngrams)\n",
        "    evaluated_count = len(evaluated_ngrams)\n",
        "\n",
        "    overlapping_ngrams = evaluated_ngrams.intersection(reference_ngrams)\n",
        "    overlapping_count = len(overlapping_ngrams)\n",
        "\n",
        "    if evaluated_count == 0:\n",
        "        precision = 0.0\n",
        "    else:\n",
        "        precision = overlapping_count / evaluated_count\n",
        "\n",
        "    if reference_count == 0:\n",
        "        recall = 0.0\n",
        "    else:\n",
        "        recall = overlapping_count / reference_count\n",
        "\n",
        "    f1_score = 2.0 * ((precision * recall) / (precision + recall + 1e-8))\n",
        "    return {\"f\": f1_score, \"p\": precision, \"r\": recall}\n",
        "\n",
        "def greedy_selection(doc_sent_list, abstract_sent_list, summary_size):\n",
        "  max_rouge = 0.0\n",
        "  abstract = sum(abstract_sent_list, [])\n",
        "  abstract = ' '.join(abstract).split()\n",
        "  sents = [' '.join(s).split() for s in doc_sent_list]\n",
        "  evaluated_1grams = [_get_word_ngrams(1, [sent]) for sent in sents]\n",
        "  reference_1grams = _get_word_ngrams(1, [abstract])\n",
        "  evaluated_2grams = [_get_word_ngrams(2, [sent]) for sent in sents]\n",
        "  reference_2grams = _get_word_ngrams(2, [abstract])\n",
        "\n",
        "  selected = []\n",
        "  for s in range(summary_size):\n",
        "      cur_max_rouge = max_rouge\n",
        "      cur_id = -1\n",
        "      for i in range(len(sents)):\n",
        "          if (i in selected):\n",
        "              continue\n",
        "          c = selected + [i]\n",
        "          candidates_1 = [evaluated_1grams[idx] for idx in c]\n",
        "          candidates_1 = set.union(*map(set, candidates_1))\n",
        "          candidates_2 = [evaluated_2grams[idx] for idx in c]\n",
        "          candidates_2 = set.union(*map(set, candidates_2))\n",
        "          rouge_1 = cal_rouge(candidates_1, reference_1grams)['f']\n",
        "          rouge_2 = cal_rouge(candidates_2, reference_2grams)['f']\n",
        "          rouge_score = rouge_1 + rouge_2\n",
        "          if rouge_score > cur_max_rouge:\n",
        "              cur_max_rouge = rouge_score\n",
        "              cur_id = i\n",
        "      if (cur_id == -1):\n",
        "          return selected\n",
        "      selected.append(cur_id)\n",
        "      max_rouge = cur_max_rouge\n",
        "\n",
        "  return sorted(selected)"
      ],
      "execution_count": 21,
      "outputs": []
    },
    {
      "cell_type": "code",
      "metadata": {
        "id": "i3IkCsZ60x-X"
      },
      "source": [
        "def oracle_a(paragraph_raw, gold_summaries):\n",
        "  ret = []\n",
        "  sent_selected = []\n",
        "  for docs, abs in tqdm(zip(paragraph_raw, gold_summaries)):\n",
        "    t_docs = [[x] for x in docs]\n",
        "    t_abs = [[x] for x in abs]\n",
        "    selected = greedy_selection(t_docs, t_abs, 4)\n",
        "    new_docs = []\n",
        "    sent_selected.append(selected)\n",
        "    for idx in selected:\n",
        "      new_docs.append(docs[idx])\n",
        "    ret.append(\"\".join(new_docs))\n",
        "  return ret, sent_selected"
      ],
      "execution_count": 22,
      "outputs": []
    },
    {
      "cell_type": "code",
      "metadata": {
        "id": "aBdCbObYkyLo",
        "colab": {
          "base_uri": "https://localhost:8080/"
        },
        "outputId": "48a17c13-47a1-49cf-98d8-a1414230a4cb"
      },
      "source": [
        "data_segmented_sentence[0]"
      ],
      "execution_count": 23,
      "outputs": [
        {
          "output_type": "execute_result",
          "data": {
            "text/plain": [
              "['พอไม่ได้ดังใจก็ร่างใหม่ ',\n",
              " 'แสลงชื่อสมชัยเดินหนี มีชัย ไม่ยี่หระเสียงค้านชงสูตรพิสดารเลือกตั้ง ส.ส. ประกาศ ',\n",
              " 'ผลช้าไปชั่วโมงสองชั่วโมงไม่เห็นเป็นไร แสลงหูชื่อ สมชัย ชิ่งหนีดื้อๆ พรเพชร ให้นายกฯ ตัดสินใจปลดล็อกพรรคการเมือง 34 สนช.ยื่นตีความต่อวาระให้ผู้ตรวจฯ ส่อขัด รธน. พท.ดาหน้าฉะ ซือแป๋ ใครแน่ดูถูกประชาชน ',\n",
              " 'สมคิด ซัดพูดย้อนแย้งไหลไปไหลมา ลั่น ไม่เคยกลัวในสนามเลือกตั้ง สมชัย กระแทกซ้ำเปิดช่องโกงสนั่นกันทั้งประเทศ ทนายปู มึนรถตู้รับจ้างถูกเล่นงาน ภูมิธรรม ดับกระแส พท.วางตัวผู้นำ ยันพรรคเหนียวแน่นไม่มีปีนเกลียว วิม ',\n",
              " 'แจงไม่ได้ล็อกเป้าแค่คน ชินวัตร บิ๊กตู่ รอรายงาน โกตี๋ ตายที่ลาว บิ๊กป้อม โบ้ยศพใครไม่รู้ ',\n",
              " 'ผบ.ทบ.ชี้ภาพตกแต่งกันได้ ',\n",
              " 'ครม.ตั้ง ',\n",
              " 'เลิศวิโรจน์ ขึ้นปลัดเกษตรฯ สุทธิพงษ์ ',\n",
              " 'อ.ส่งเสริมปกครองท้องถิ่น ประยุทธ์ รับ รมว.ต่างประเทศสหรัฐฯเยือนไทย ',\n",
              " 'ปัดไม่ได้โดนรังเกียจจากนานาชาติ ดอน ยังมั่นใจไปเยือนในปีนี้ ',\n",
              " 'แม้เสียงคัดค้านจากฝ่ายการเมืองต่อรูปแบบการเลือกตั้ง ส.ส. ',\n",
              " 'สูตรพิสดารของกรรมการร่างรัฐธรรมนูญ (กรธ.) ยังคงดังกระหึ่ม แต่นายมีชัย ฤชุพันธุ์ ',\n",
              " 'ประธาน กรธ. ',\n",
              " 'ยังคงยืนยันเดินหน้าต่อไป ',\n",
              " 'แม้การเลือกตั้งตามรูปแบบใหม่จะทำให้การประกาศผลล่าช้าไปบ้างก็ไม่เห็นเป็นอะไร ',\n",
              " 'เมื่อเวลา 13.45 น.วันที่ 8 ส.ค.ที่รัฐสภา ',\n",
              " 'นายมีชัย ฤชุพันธุ์ ประธานกรรมการร่างรัฐธรรมนูญ (กรธ.) กล่าวถึงกรณีนายอภิสิทธิ์ เวชชาชีวะ หัวหน้าพรรคประชาธิปัตย์ เสนอให้ใช้ชื่อหรือโลโก้พรรค โดยไม่ต้องมีเบอร์ในบัตรลงคะแนนว่า ถ้ามีที่ว่างสามารถใส่ได้ทั้งเบอร์ ชื่อ และโลโก้พรรค ',\n",
              " 'หากให้มีแต่ชื่อต้องนึกถึงคนไกลๆที่อ่านหนังสือไม่ออกด้วย แนวทาง กรธ.ทำให้การซื้อเสียงยากขึ้นอีกหน่อย แต่ไม่ได้บอกว่ามันจะหมดไป ',\n",
              " 'ไปตรวจสอบการเลือกตั้งของไทยทั้ง 27 ครั้งใช้มาแล้วทุกระบบ ',\n",
              " 'สงสัยนางสดศรี สัตยธรรม อดีตกรรมการการเลือกตั้ง (กกต.) คงเพิ่งเกิดจึงไม่รู้การกำหนดให้มีหมายเลขแตกต่างกันไป ',\n",
              " 'จะไม่มีปัญหาต่อการนับคะแนน ',\n",
              " 'เวลานับคะแนนก็เอามารวมกัน ',\n",
              " 'ใส่เข้าระบบคอมพิวเตอร์ประมวลผลออกมาให้เห็น เริ่มนับที่หน่วยเลือกตั้งแล้วนำมารวมที่เขตเลือกตั้ง และส่งมายังส่วนกลางอีกครั้ง ',\n",
              " 'ถ้าการประกาศผลต้องล่าช้าไปสักชั่วโมงสองชั่วโมง ',\n",
              " 'ไม่เห็นจะเป็นอะไร ',\n",
              " 'ผู้สื่อข่าวรายงานว่า ระหว่างการสัมภาษณ์ ',\n",
              " 'เมื่อผู้สื่อข่าวถามถึงความเห็นของนายสมชัย ศรีสุทธิยากร กกต. เกี่ยวกับปัญหาการนับคะแนนจากการแยกเบอร์ผู้สมัคร ส.ส.รายเขต ',\n",
              " 'นายมีชัยปฏิเสธที่จะตอบคำถามพร้อมเดินออกจากวงสัมภาษณ์ทันที ',\n",
              " 'ที่รัฐสภา ',\n",
              " 'นายพรเพชร วิชิตชลชัย ประธานสภานิติบัญญัติแห่งชาติ (สนช.) กล่าวว่า ได้ส่งร่าง พ.ร.บ.ประกอบรัฐธรรมนูญว่าด้วยพรรคการเมือง ให้ พล.อ.ประยุทธ์ จันทร์โอชา นายกรัฐมนตรีและหัวหน้า คสช.แล้ว เมื่อวันที่ 7 ส.ค. ส่วน คสช.จะยกเลิกคำสั่ง คสช. เกี่ยวกับการห้ามพรรคการเมืองดำเนินกิจกรรมทางการเมืองหรือไม่ ',\n",
              " 'เป็นเรื่องที่ คสช.จะพิจารณา ว่าคำสั่งดังกล่าวเป็นอุปสรรคต่อการที่พรรคการเมืองต้องดำเนินการตามกฎหมายพรรคการเมืองใหม่หรือไม่ ',\n",
              " 'เพราะคำสั่งเหล่านั้นยังคงอยู่ไม่ได้ยกเลิก ',\n",
              " 'แม้กฎหมายใหม่จะมีผลบังคับใช้ก็ตาม ',\n",
              " 'หากพรรคการเมืองเห็นว่าเป็นปัญหา ควรสะท้อนความเห็นไปยัง คสช.โดยตรง ',\n",
              " 'เพราะคำสั่งที่ออกมาต้องการให้สถานการณ์บ้านเมืองราบรื่น ',\n",
              " 'ดังนั้น คสช.ต้องพิจารณาว่าถึงเวลาที่จะยกเลิกหรือยัง ',\n",
              " 'ส่วนกรณีที่ กรธ.จะบัญญัติรูปแบบการเลือกตั้งใหม่ จากพรรคเดียวเบอร์เดียวมาเป็นการจับสลากในแต่ละพื้นที่ ไว้ในร่าง ',\n",
              " 'พ.ร.บ.ประกอบรัฐธรรมนูญว่าด้วยการเลือกตั้ง ',\n",
              " 'ส.ส.นั้น ',\n",
              " 'ยังเป็นเพียงความเห็นเบื้องต้น ',\n",
              " 'กรธ.คงฟังความเห็นรอบด้านว่า พรรคการเมืองและประชาชนจะว่าอย่างไร ',\n",
              " 'กรธ.มีสิทธิทบทวน ',\n",
              " 'เพราะยังไม่ได้เขียนกฎหมาย ',\n",
              " 'ส่วนที่มีเสียงท้วงติงเพราะเปลี่ยนแปลงไปจากที่เคยปฏิบัติ ',\n",
              " 'ในส่วนของ สนช.จะรอดูว่ามีการรับฟังความเห็นประชาชนตามรัฐธรรมนูญมาตรา 77 วรรค 2 หรือไม่ ',\n",
              " 'ยังไม่ขอวิจารณ์ นพ.เจตน์ ศิรธรานนท์ สมาชิก สนช.กล่าวว่า ตนพร้อมเพื่อน สนช.รวม 34 คน ได้เข้าชื่อยื่นหนังสือต่อประธาน สนช. ',\n",
              " 'ให้ยื่นศาลรัฐธรรมนูญตามรัฐธรรมนูญมาตรา 148 ขอให้วินิจฉัยว่าร่าง พ.ร.บ.ประกอบรัฐธรรมนูญว่าด้วยผู้ตรวจการแผ่นดิน ขัดต่อรัฐธรรมนูญหรือไม่ ',\n",
              " 'เนื่องจากมาตรา 56 บทเฉพาะกาล ที่ประชุม สนช.ได้แก้ไขในวาระ 2 และ 3 ให้ประธานและผู้ตรวจการแผ่นดินที่ดำรงตำแหน่งก่อนวันที่ พ.ร.บ.ฉบับนี้ใช้บังคับ อยู่จนครบวาระตาม พ.ร.บ.เดิม ',\n",
              " 'เราเห็นว่าตามรัฐธรรมนูญ ในบทเฉพาะกาลมาตรา 273 ให้การดำรงตำแหน่งต่อไปเป็นไปตามร่าง พ.ร.บ.ประกอบรัฐธรรมนูญดังกล่าวนั้น ไม่น่าจะหมายถึงอยู่จนครบวาระตาม พ.ร.บ.ผู้ตรวจการแผ่นดินฯ รวมทั้งไม่ได้ยกเว้นคุณสมบัติและลักษณะต้องห้ามไว้ ',\n",
              " 'จึงคิดว่าอาจขัดหรือแย้งรัฐธรรมนูญหรือไม่ ',\n",
              " 'ขณะที่นายชวลิต วิชยสุทธิ์ อดีตรองเลขาธิการพรรคเพื่อไทย ',\n",
              " 'กล่าวถึงกรณีนายมีชัย ฤชุพันธุ์ ',\n",
              " 'ประธาน กรธ. เตือนนักการเมืองอย่าดูถูกประชาชนกับระบบเลือกตั้งใหม่ ว่า ถามว่าใครกันแน่ดูถูกประชาชน ',\n",
              " 'ขอสรุปภาพรวมดังนี้ ',\n",
              " '1.ใครออกแบบระบบเลือกตั้งแบบจัดสรรปันส่วนผสม ที่มีเพียงประเทศไทยประเทศเดียวในโลกที่ใช้ เพราะหวังให้การเมืองอ่อนแอ ',\n",
              " 'ไม่มีเสถียรภาพ ',\n",
              " 'ไม่ฟังเสียงประชาชน ตั้งใจเปิดโอกาสให้คนนอกมาเป็นนายกรัฐมนตรี 2.ใครออกแบบให้ ส.ว.มาจากการสรรหาทั้งหมด สรรหาโดยใคร ',\n",
              " 'โดยพวกท่านใช่หรือไม่ ',\n",
              " 'ท่านก็เป็นหนึ่งใน คสช. ที่สำคัญ ',\n",
              " 'ส.ว.มีหน้าที่เลือกนายกฯ ด้วยระบบที่ไม่ปกตินี้จะพาประเทศชาติและประชาชนลงเหว ภายใต้ระบอบประชาธิปไตยจอมปลอม ',\n",
              " 'ไม่ว่าใครจะให้ความเห็นอย่างไรก็ไม่ฟังเหตุผล ',\n",
              " 'ไม่คิดถึงความเดือดร้อนประชาชน ',\n",
              " 'หวังเพียงอำนาจส่วนตนและพวกพ้องเท่านั้น ',\n",
              " 'ถ้าให้ความสำคัญกับประชาชน ',\n",
              " 'ทำไมออกแบบกติกาบ้านเมืองโดยละทิ้งประชาชน ',\n",
              " 'หากจะมีเสียงวิจารณ์ว่าทำงานรับใช้อำนาจนิยม เท่ากับละทิ้งดูถูกประชาชนหรือไม่ ',\n",
              " 'นายสมคิด เชื้อคง อดีต ส.ส.อุบลราชธานี พรรคเพื่อไทย กล่าวว่า การที่ กรธ.จะบัญญัติระบบเลือกตั้ง ',\n",
              " 'ส.ส.ใหม่ ให้จับสลากเบอร์ในแต่ละเขตนั้น ถือว่าขัดแย้งกับคำพูดที่ว่าอยากทำให้พรรคการเมืองเข้มแข็ง เป็นคำพูดที่ย้อนแย้งในตัวเอง สะท้อนให้เห็นว่ากฎหมายลูกแต่ละฉบับมีหลักการที่ไหลไปไหลมา แล้วแต่ความต้องการของผู้มีอำนาจหรือไม่ ',\n",
              " 'เมื่อก่อนมีวาทกรรมพรรคเทพพรรคมาร ',\n",
              " 'วันนี้มีคนดีคนไม่ดี ',\n",
              " 'ฝ่ายการเมืองถูกยัดเยียดความไม่ดี แต่อีกฝ่ายที่จะแต่งตั้ง 250 คน ',\n",
              " 'มีกฎหมายกำหนดกฎเกณฑ์ไม่ให้อยู่ในคอกเหมือนนักการเมือง ยกเว้นสารพัดกฎเกณฑ์ ',\n",
              " 'แม้แต่การเป็นข้าราชการประจำก็ยกเว้นให้ ปากก็อ้างสารพัดว่าเพื่อชาติบ้านเมือง หรือมองคนกลุ่มอื่นไม่รักชาติบ้านเมืองเหมือนพวกท่าน กี่ครั้งกี่กติกาที่พวกท่านออกมา ',\n",
              " 'ถ้าไม่ได้ดังใจกลุ่มพวกท่านก็จะออกกติกาใหม่เรื่อยไป ',\n",
              " 'อ้างว่าของเดิมมันแย่ ',\n",
              " 'มันซื้อเสียงได้ ',\n",
              " 'เขตเดียว เบอร์เดียวก็ทำมาแล้ว ',\n",
              " 'เขตใหญ่เรียงเบอร์ก็ทำมาแล้ว ',\n",
              " 'นี่จะให้ทำไพรมารีโหวต จะมากำหนดเบอร์แต่ละเขตอีก ',\n",
              " 'ไหนว่าไม่ให้ยึดติดตัวบุคคล ไหนอยากให้พรรคการเมืองเข้มแข็ง เอาเลยตามสบาย ',\n",
              " 'พวกผมไม่กลัวพวกคุณในสนามการเลือกตั้ง ',\n",
              " 'นายสมคิดกล่าว ',\n",
              " 'ผู้สื่อข่าวรายงานจากพรรคประชาธิปัตย์ว่า นายอภิสิทธิ์ เวชชาชีวะ หัวหน้าพรรคประชาธิปัตย์ และอดีตนายกรัฐมนตรี ได้เปิดกิจกรรมสอบถามความเห็นประชาชนผ่านระบบไลน์ ประเด็น โหวตบัตรเลือกตั้ง ',\n",
              " 'ผู้สมัครจากพรรคเดียวกันในแต่ละเขตเลือกตั้งทั้งประเทศควรจะ? ',\n",
              " 'หลังจากที่ กรธ.กำหนดเนื้อหาในร่าง ',\n",
              " 'พ.ร.บ.ประกอบรัฐธรรมนูญว่าด้วยการเลือกตั้ง ส.ส. แบบแยกเบอร์ แทนที่จะเป็นเบอร์เดียวกันทั่วประเทศเหมือนอดีต ',\n",
              " 'โดยนายอภิสิทธิ์เปิดให้ประชาชนเข้าไปลงคะแนนเลือกใน 3 คำตอบ คือ 1.ใช้หมายเลขเดียวกัน ',\n",
              " '2.ไม่จำเป็นต้องเป็นหมายเลขเดียวกัน ',\n",
              " 'และ 3.บัตรเลือกตั้งใส่เฉพาะชื่อผู้สมัครและโลโก้พรรค ',\n",
              " 'ไม่มีหมายเลข ',\n",
              " 'โดยจะเปิดให้โหวตถึงวันที่ 8 ส.ค. ก่อนหน้านี้ ',\n",
              " 'นายอภิสิทธิ์เสนอความเห็นว่า หาก กรธ.ต้องการแก้ปัญหาซื้อสิทธิขายเสียง ',\n",
              " 'ควรยกเลิกเบอร์ไปเลย ให้ใส่เฉพาะชื่อผู้สมัคร นามสกุล และโลโก้พรรค ที่สำนักงาน กกต. นายสมชัย ศรีสุทธิยากร กกต. กล่าวว่า รูปแบบการเลือกตั้ง ',\n",
              " 'ส.ส.ที่ กรธ.คิดขึ้น ',\n",
              " 'การเปลี่ยนแปลงครั้งนี้จะทำให้ประชาชนเกิดความสับสน ',\n",
              " 'แม้หลักการไม่ขัดต่อเจตนารมณ์รัฐธรรมนูญ ',\n",
              " 'ถ้าใช้บังคับ กกต.ก็สามารถปฏิบัติได้ แต่จะปฏิบัติได้ยาก แต่อาจมีปัญหาใน 3 ส่วน คือ 1.การจับสลากเพียงแค่จุดเดียว ',\n",
              " 'กกต.ต้องจัดชุดแยกดำเนินการใน 350 เขต หากเกิดกรณีปิดล้อมจับสลากไม่ได้จะเกิดปัญหา 2.การจัดพิมพ์บัตรเลือกตั้ง ',\n",
              " 'ยากควบคุมเรื่องคุณภาพ ',\n",
              " 'ต้องแยกพิมพ์แต่ละจังหวัดในโรงพิมพ์ท้องถิ่นเพื่อให้ทัน ',\n",
              " 'ผลคือจะมีบัตรปลอม ',\n",
              " 'นี่คือสิ่งที่ กกต.เป็นห่วงกลัวว่าจะเกิดการรั่วไหล เกิดการโกงกันทั้งประเทศ ยกเว้นว่าอยากทำให้โกงกันทั้งบ้านทั้งเมือง ก็ทำกระบวนการนี้ 3.การรวมคะแนน ',\n",
              " 'ปัญหาคือตรวจสอบของภาคประชาชน หรือองค์กรที่ร่วมตรวจสอบการเลือกตั้งจะทำได้ยาก ',\n",
              " 'คนที่บอกว่าทำแบบนี้แล้วการซื้อเสียงจะหมดไป ',\n",
              " 'ถ้าเกิดการซื้อเสียงมากกว่าเดิมกล้าพูดไหมว่าจะรับผิดชอบอย่างไร ',\n",
              " 'บ้านเมืองไม่ใช่ของเล่น ',\n",
              " 'ไม่ใช่อยากคิดอะไรเขียนอะไรใหม่ก็เอามาลองไปเรื่อย ',\n",
              " 'นายสมชัยกล่าวอีกว่า ที่ประชุม กกต.มีมติเห็นชอบขยายเวลาให้คณะอนุกรรมการสอบสวนข้อ ',\n",
              " 'เท็จจริงกรณี 9 รัฐมนตรี ที่ถูกร้องเรียนขาดคุณสมบัติในการดำรงตำแหน่งออกไปอีก 30 วัน ',\n",
              " 'นับแต่วันที่ 12 ส.ค.นี้ เพราะต้องรอข้อมูลให้ครบถ้วน และให้โอกาสรัฐมนตรีผู้ถูกกล่าวหาได้เข้าชี้แจง แต่คิดว่ากรอบเวลา 30 วันที่อนุกรรมการขอขยายมานี้จะไม่เพียงพอแต่ตามระเบียบแล้วจะขอขยายเวลาได้ครั้งละ 30 วันเท่านั้น ',\n",
              " 'วันเดียวกัน เวลา 09.00 น. ที่ทำเนียบรัฐบาล ก่อนการประชุมคณะรักษาความสงบแห่งชาติ (คสช.) และคณะรัฐมนตรี (ครม.) ',\n",
              " 'นางเพ็ญพักตร์ ศรีทอง เลขาธิการสภาสังคมสงเคราะห์แห่งประเทศไทย ',\n",
              " 'ในพระบรมราชูปถัมภ์ นำศิลปินดารา อาทิ นายพีรพัฒน์ สวัสดิ์มูล (พี สะเดิด) ',\n",
              " 'น.ส.สุรัตน์ติกานต์ พรรคเจริญ (เอิร์น เดอะสตาร์) และนายภูศิลป์ วารินรักษ์ (เต๋า) ร่วมรณรงค์ ',\n",
              " 'ประชาสัมพันธ์การจำหน่ายดอกมะลิงานวันแม่แห่งชาติประจำปี 2560 พร้อมกับติดเข็มกลัดดอกมะลิให้ พล.อ.ประยุทธ์ จันทร์โอชา นายกรัฐมนตรีและหัวหน้า คสช. และ ครม. พร้อมเชิญชวนคนไทยร่วมอุดหนุนผลิตภัณฑ์ดอกมะลิ โดยนายกฯกล่าวว่า วันแม่ ',\n",
              " 'รักแม่ให้มากๆ ',\n",
              " 'ขอบคุณที่ให้กำลังใจ เด็กๆถือเป็นผู้บริสุทธิ์ ทำอะไรให้คิดไปข้างหน้า ',\n",
              " 'ขอฝากภารกิจประเทศชาติกับทุกคน ',\n",
              " 'และให้กำลังใจซึ่งกันและกัน ',\n",
              " 'ต่อมา นพ.ธีระเกียรติ เจริญเศรษฐศิลป์ รมว.ศึกษาธิการ นำคณะเข้าพบนายกฯ เพื่อประชาสัมพันธ์โครงการผลิตสื่อการเรียนรู้และฝึกทักษะภาษาอังกฤษการสื่อสารเพื่อก้าวสู่อาชีพ (Echo VE) โดยสำนักงานคณะกรรมการการอาชีวศึกษาจัดทำแอพพลิเคชั่น EchoVE ใช้ได้กับโทรศัพท์ทั้งระบบแอนดรอยด์ และไอโอเอส เพื่อพัฒนาทักษะการฟัง พูด อ่าน เขียน ให้ผู้เรียนสายอาชีพมีทักษะภาษาอังกฤษเป็นที่ยอมรับในตลาดงาน ',\n",
              " 'จากนั้น พล.อ.ประยุทธ์ จันทร์โอชา นายกฯ แถลงภายหลังการประชุม ครม. ถึงข้อเสนอ กรธ.เตรียมบัญญัติให้ผู้สมัคร ส.ส.แบบเขตและแบบบัญชีรายชื่อ ',\n",
              " 'ไม่ใช้เบอร์เดียวกันเพื่อป้องกันการทุจริตซื้อเสียงว่า ยังอยู่ในขั้นตอนที่ กรธ.เสนอ ',\n",
              " 'ยังไม่มีความเห็นต้องรอฟังเมื่อเข้าสู่ขั้นตอนการพิจารณาของ สนช.ด้วย ตนให้สิทธิแก่แม่น้ำแต่ละสายทำงาน ',\n",
              " 'เป็นเรื่องที่จะทำงานร่วมกัน ',\n",
              " 'ต้องสร้างการรับรู้แก่ประชาชนตามรัฐธรรมนูญ ',\n",
              " 'เมื่อถามว่า แนวทางนี้จะลดการซื้อสิทธิ์ขายเสียงได้หรือไม่ ',\n",
              " 'พล.อ.ประยุทธ์ตอบว่า ไม่ได้อยู่ที่กฎหมายอย่างเดียว ',\n",
              " 'อยู่ที่ตัวคนด้วย ทั้งนักการเมือง พรรคการเมือง ประชาชนต้องไม่รับเงิน ',\n",
              " 'ปัญหาที่ผ่านมาทุกคนทราบดีอยู่แล้ว ',\n",
              " 'รับเงินแล้วประเทศได้อะไรนอกจากได้เงินมาเพียงเล็กน้อย ',\n",
              " 'ดังนั้นใครที่ให้เงินแสดงว่ามีเจตนาไม่บริสุทธิ์ เป็นพรรคการเมืองที่ไม่บริสุทธิ์ใจ ',\n",
              " 'อีกเรื่อง ',\n",
              " 'นายนรวิทย์ หล้าแหล่ง ทนายความ น.ส.ยิ่งลักษณ์ ชินวัตร อดีตนายกรัฐมนตรี ',\n",
              " 'คดีรับจำนำข้าว ',\n",
              " 'กล่าวถึงกรณีเจ้าหน้าที่ตำรวจดำเนินคดีกับผู้ประกอบการรถตู้สาธารณะที่รับจ้างประชาชนเดินทางมาให้กำลังใจ ',\n",
              " 'น.ส.ยิ่งลักษณ์ ในวันแถลงปิดคดีด้วยวาจาเมื่อวันที่ 1 ส.ค. ว่า ไม่รู้จักกับผู้ประกอบ ',\n",
              " 'การรถตู้ดังกล่าว ',\n",
              " 'ไม่รู้รายละเอียดข้อกล่าวหา ',\n",
              " 'ทราบแต่เพียงที่เป็นข่าว แต่มองว่ารถตู้รับจ้างที่ไม่ใช่รถประจำทาง สามารถวิ่งรับจ้างได้ทั่วไป ',\n",
              " 'เขาคงมีทนายความชี้แจงข้อเท็จจริง แต่ประเด็นสำคัญอยากให้ดูที่เจตนา ',\n",
              " 'ประชาชนที่มาให้กำลังใจ ',\n",
              " 'น.ส.ยิ่งลักษณ์ ',\n",
              " 'ไม่ได้มาชุมนุมสร้างความวุ่นวาย จึงไม่ทราบที่มาของการแจ้งข้อกล่าวหา ',\n",
              " 'เรื่องนี้เจ้าหน้าที่ปฏิบัติต้องระมัดระวังด้วย ',\n",
              " 'ส่วนการเตรียมพร้อมส่งคำแถลงปิดคดีด้วยลายลักษณ์อักษรคดีจำนำข้าวนั้น ทีมทนายความเตรียมการกันอยู่ ',\n",
              " 'โดยเตรียมข้อโต้แย้งพยานหลักฐานของโจทก์ทุกประเด็น ',\n",
              " 'ยืนยันจะส่งให้ศาลได้ภายในวันที่ 15 ส.ค. นายภูมิธรรม เวชยชัย เลขาธิการพรรคเพื่อไทย กล่าวว่า อ่านข่าวที่ระบุว่าพรรคเพื่อไทยเตรียมวางตัวหัวหน้าพรรคคนใหม่แล้ว ',\n",
              " 'ประหลาดใจว่าข่าวมาได้อย่างไร ',\n",
              " 'ยืนยันว่าไม่เป็นความจริง ',\n",
              " 'วันนี้พรรคเพื่อไทยยังอยู่ภายใต้การควบคุมของคำสั่ง คสช. ตั้งแต่มีการรัฐประหารพรรคต้องเผชิญกับภาวะถูกกระทำ มีข้อจำกัดต้องรับภาระจากคดีความต่างๆที่ฝ่ายผู้มีอำนาจมอบให้ ',\n",
              " 'เวลาส่วนใหญ่จึงอยู่ในสภาพต่อสู้กับคดี ',\n",
              " 'โดยเฉพาะ น.ส.ยิ่งลักษณ์ ชินวัตร แทบไม่มีเวลาสนใจกับเรื่องอื่น ',\n",
              " 'ยืนยันว่าไม่ได้เข้ามายุ่งเกี่ยวกับการบริหารจัดการภายในพรรคเลย ',\n",
              " 'ข้อมูลที่ระบุจะผลักดันนางมณฑาทิพย์ โกวิทเจริญกุล พี่สาวขึ้นมาเป็นหัวหน้าพรรคนั้นไม่เป็นความจริง ',\n",
              " 'จากที่รู้จักและมีโอกาสได้คุย ',\n",
              " 'นางมณฑาทิพย์ยืนยันว่าไม่ประสงค์และไม่เคยสนใจเข้ามาเกี่ยวข้องกับเรื่องการเมืองเลย ',\n",
              " 'นายภูมิธรรมกล่าวต่อว่า ',\n",
              " 'ส่วนกระแสข่าวว่านายสมชาย วงศ์สวัสดิ์ อดีตนายกฯ และคุณหญิงสุดารัตน์ เกยุราพันธุ์ แกนนำพรรคเพื่อไทย จะเข้ามาเป็นหัวหน้าพรรค จนเกิดกระแสข่าวความขัดแย้งในพรรคนั้น ยืนยันพรรคเพื่อไทยยังมีความสามัคคีภายในแนบแน่น ',\n",
              " 'ยังเร็วเกินไปที่จะพูดเรื่องนี้ ',\n",
              " 'ยืนยันว่าพรรคเพื่อไทยมีบุคลากรคุณภาพจำนวนมาก พร้อมรับภาระหน้าที่นำพาพรรครับใช้ประชาชน และขึ้นอยู่กับสถานการณ์ขณะนั้นว่าต้องการคุณสมบัติผู้นำเช่นไร ',\n",
              " 'เราพร้อมสนับสนุนคนที่มีคุณสมบัติเหมาะกับสถานการณ์ ',\n",
              " 'นายวิม รุ่งวัฒนจินดา ',\n",
              " 'หนึ่งในทีมงานของ น.ส.ยิ่งลักษณ์กล่าวว่า ยืนยันว่ากระแสข่าวที่เกิดขึ้นไม่เป็นความจริง ',\n",
              " 'ตั้งแต่ถูกรัฐประหารมา ',\n",
              " 'น.ส.ยิ่งลักษณ์มุ่งแต่เรื่องต่อสู้คดีรับจำนำข้าว ',\n",
              " 'ไม่ได้เข้าไปมีส่วนในกิจกรรมทางการเมืองของพรรค ',\n",
              " 'นอกจากนี้ นางมณฑาทิพย์ไม่สนใจการเมือง ',\n",
              " 'ใช้ชีวิตแบบเรียบง่ายเป็นแม่บ้าน ',\n",
              " 'ไม่เอาตัวเองมายุ่งเกี่ยวการเมืองที่วุ่นวายแน่ ',\n",
              " 'ทั้งนี้ ผู้นำพรรคต้องเป็นที่ยอมรับของพี่น้องประชาชน ',\n",
              " 'ไม่ใช่ตระกูลชินวัตรจะเป็นผู้กำหนด ที่พรรคเพื่อไทย ',\n",
              " 'นายวัฒนา เมืองสุข อดีต รมว.พาณิชย์ และแกนนำพรรคเพื่อไทย แถลงว่า หลังเข้าพบพนักงานสอบสวน บก.ปอท. พร้อมทนายความ มาทราบภายหลังว่า คสช.ต้องการให้พนักงานสอบสวนนำตนไปขออำนาจศาลฝากขัง ',\n",
              " 'และจะคัดค้านการประกันตัว ',\n",
              " 'เรื่องนี้ถือเป็นการสร้างมาตรฐานใหม่ ',\n",
              " 'เมื่อแสดงความเห็นไม่ถูกใจผู้มีอำนาจจะกลายเป็นความผิด ',\n",
              " 'โดยใช้คำว่าความมั่นคงเป็นข้ออ้าง โดยเฉพาะผู้ที่ได้รับมอบอำนาจจาก คสช.ให้มาร้องทุกข์กล่าวโทษตน ',\n",
              " 'กลับมีพฤติกรรมแทรกแซงการทำงานพนักงานสอบสวน ',\n",
              " 'มีการดำเนินการที่ผิดไปจากกฎหมายและแนวทางปฏิบัติ ',\n",
              " 'มีเจตนาจะเอาตัวตนไปศาลให้ได้ ',\n",
              " 'พฤติการณ์ที่เห็นถ้า พล.อ.ประยุทธ์อยากเอาใครเข้าคุก ก็ต้องเป็นไปตามนั้น คำสั่ง พล.อ.ประยุทธ์กลายเป็นกฎหมายไปแล้วหรือ จะปล่อยให้เป็นแบบนี้หรือ การที่ พล.อ.ประยุทธ์ระบุว่าถูกแบล็กลิสต์ห้ามเดินทางไปต่างประเทศ ',\n",
              " 'แสดงว่าเขาไม่ให้การยอมรับ แต่ยังไม่รู้ตัว ',\n",
              " 'เป็นเรื่องน่าอับอายที่ผู้นำของเราไปต่างประเทศไปเจรจาไม่ได้ ',\n",
              " 'ที่ทำเนียบรัฐบาล พล.อ.ประยุทธ์ จันทร์โอชา นายกฯ แถลงภายหลังประชุม ครม. ถึงภาพข่าวว่านายวุฒิพงศ์ กชธรรมคุณ หรือโกตี๋ ผู้ต้องหาตามประมวลกฎหมายอาญามาตรา 112 เสียชีวิตในสาธารณรัฐประชาธิปไตยประชาชนลาว ',\n",
              " '(สปป.ลาว) ว่า ได้เห็นภาพแล้ว แต่ยังไม่มีใครรายงานเข้ามา ',\n",
              " 'ไม่ทราบว่าเป็นภาพถ่ายจากที่ใด และการประชุม ',\n",
              " 'คสช.วันนี้ ',\n",
              " 'มีการรายงานสถานการณ์ทางการเมืองเน้นที่การประเมินสถานการณ์ด้านความมั่นคง ทั้งการเตรียมความพร้อมในงานพระราชพิธีถวายพระเพลิงพระบรมศพรัชกาลที่ 9 ต้องรักษาสถานการณ์และเสถียรภาพรัฐบาลให้ได้ ให้ทุกคนปฏิบัติตามกฎหมาย ',\n",
              " 'ขอฝากเตือนทุกกลุ่มทุกพวกด้วยอย่าทำผิดกฎหมาย พล.อ.ประวิตร วงษ์สุวรรณ รองนายกรัฐมนตรีและ รมว.กลาโหม กล่าวถึงมาตรการเพิ่มเติมในการ รับมือมวลชนที่จะเดินทางมาให้กำลังใจ ',\n",
              " 'น.ส.ยิ่งลักษณ์ ชินวัตร อดีตนายกรัฐมนตรี ในวันที่ 25 ส.ค. เพื่อฟังคำตัดสินคดีรับจำนำข้าว ',\n",
              " 'หลังจากมีการตรวจสอบเรื่องรถตู้ที่ขนคนมา ว่าไม่มีมาตรการอื่นเพิ่มเติม ',\n",
              " 'บอกไปแล้วว่า ไม่ต้องมา จะมาทำไม คงไม่ต้องประชุมประเมินสถานการณ์อะไร ',\n",
              " 'ส่วนที่ ผบ.ทบ.บอกว่าจะมีการประชุมเพื่อประเมินสถานการณ์นั้น ผบ.ทบ.เขาประชุม ตนไม่ได้ประชุมกับเขา ',\n",
              " 'ส่วนข่าวการเสียชีวิตของนายวุฒิพงศ์ กชธรรมคุณ หรือโกตี๋ ที่มีภาพว่าพบศพแล้วนั้น ',\n",
              " 'ยังไม่ทราบ ',\n",
              " 'ยังไม่ได้ประสานไปยัง สปป.ลาว ',\n",
              " 'ศพที่เห็นเป็นศพใครก็ไม่รู้ ',\n",
              " 'และเราไม่รู้ว่าจะตามยังไง ',\n",
              " 'นายวุฒิพงศ์อยู่ที่นั่นจริงหรือไม่ หรือไปเสียชีวิตที่นั่นหรือไม่ ',\n",
              " 'ก็ไม่รู้ แต่เรายังตามตัวอยู่ ก็ยังไม่พบ ',\n",
              " 'เท่าที่เจ้าหน้าที่ประสานกับทางการลาว ก็ไม่รายงานอะไรเข้ามา ',\n",
              " 'เขาบอกว่าไม่รู้เรื่องเช่นกัน ที่กองบัญชาการกองทัพบก (บก.ทบ.) พล.อ.เฉลิมชัย ',\n",
              " 'สิทธิสาท ผบ.ทบ. ในฐานะเลขาธิการ คสช. กล่าวถึงการประชุม คสช. ว่า นายกฯยังไม่ได้กำชับอะไรเป็นพิเศษ อยู่ระหว่างประเมินสถานการณ์ที่จะมีมวลชนเดินทางมาให้กำลังใจ ',\n",
              " 'น.ส.ยิ่งลักษณ์ ชินวัตร อดีตนายกฯ ',\n",
              " 'ช่วงสัปดาห์หน้าจะเชิญหน่วยงานที่ดูแลด้านความปลอดภัยเข้าประชุม ',\n",
              " 'เพื่อกำหนดแนวทาง ',\n",
              " 'คิดว่าจะมอบหมายให้เจ้าหน้าที่ตำรวจดูแลเป็นหลัก ',\n",
              " 'เหมือนทุกครั้งที่ผ่านมา ',\n",
              " 'มองว่าไม่น่าห่วงใยอะไรมากนัก ',\n",
              " 'และเจ้าหน้าที่มีการตรวจสอบการเช่าเหมารถตู้มาให้กำลังใจอยู่ ',\n",
              " 'สิ่งใดที่เป็นเรื่องผิดกฎหมายต้องตรวจสอบ และติดตามเพื่อดำเนินการตามกฎหมาย บอกแล้วถ้ามาโดยมีเจตนาบริสุทธิ์ใจเพื่อให้กำลังใจ ก็ไม่มีปัญหา ',\n",
              " 'แต่ถ้ามีกระบวนการยุยงปลุกปั่นเป็นเรื่องที่ทำไม่ได้ ',\n",
              " 'และไม่สมควร ',\n",
              " 'หน่วยงานด้านการข่าวทำงานอยู่ตลอดเวลาเพื่อประเมินสถานการณ์ แต่คิดว่าไม่มีอะไรมาก ',\n",
              " 'หากคนมามากแล้วเรียบร้อย ',\n",
              " 'ดีกว่าคนมาน้อยแต่วุ่นวาย ',\n",
              " 'เมื่อถามถึงกรณีมีภาพปรากฏทางโซเชียลมีเดีย ',\n",
              " 'มีชายสวมเสื้อสีแดงเสียชีวิตที่ สปป.ลาว ',\n",
              " 'คาดว่าเป็นนายวุฒิพงศ์ กชธรรมคุณ หรือโกตี๋ พล.อ.เฉลิมชัยตอบว่า ยังไม่เห็นภาพจึงไม่กล้าวิจารณ์ว่าใช่หรือไม่ใช่ ',\n",
              " 'อีกทั้งเหตุไม่ได้เกิดขึ้นในประเทศไทย ',\n",
              " 'จึงเป็นเรื่องที่ยากที่จะยืนยัน ',\n",
              " 'อย่างไรก็ตามภาพเหล่านี้สามารถตัดต่อ ตกแต่งและดึงมาจากที่ไหนก็ได้ ',\n",
              " 'ไม่อยากให้เป็นประเด็น ',\n",
              " 'เพราะไม่ทราบจริงๆ ',\n",
              " 'ส่วนทางผู้ช่วยทูตทหารประจำประเทศลาวได้ติดตามงานข่าวอยู่ ',\n",
              " 'เพียงแต่ยังไม่มีข้อมูลเพิ่มเติม ได้รับทราบตามข้อมูลข่าวเท่านั้น แต่เชื่อว่าไม่มีผลอะไร พล.อ.ทวีป ',\n",
              " 'เนตรนิยม เลขาธิการสภาความมั่นคงแห่งชาติ (สมช.) ว่า ยังไม่มีการยืนยันเรื่องของนายโกตี๋ ',\n",
              " 'ตราบใดที่ไม่มีอะไรยืนยันมาเรายังต้องสืบหาต่อไป ',\n",
              " 'ภาพบางภาพที่มาที่ไปอาจมีการตกแต่ง หรือทำอะไรขึ้นมาก็ได้ ',\n",
              " 'ต้องระวังอย่าเพิ่งเชื่อในสิ่งที่เห็น ต้องพิสูจน์ให้ได้ ',\n",
              " 'เมื่อถามว่าสมมติฐานเรื่องความขัดแย้งในกลุ่มเสื้อแดงกันเองยังใช้ได้หรือไม่ ',\n",
              " 'พล.อ.ทวีปตอบว่า ในกลุ่มคนเสื้อแดงกันเองยังมีอุดมการณ์ไม่เหมือนกัน ',\n",
              " 'บางคนก็รุนแรง แต่บางคนก็บอกว่าไม่ควรทำอะไรรุนแรงขนาดนั้น ',\n",
              " 'ที่ศาลอาญา พล.ต.จำลอง ศรีเมือง อดีตแกนนำพันธมิตรประชาชนเพื่อประชาธิปไตย (พธม.)\\xa0กล่าวถึงกรณีกลุ่มพันธมิตรฯ ยื่นเรื่องให้คณะกรรมการป้องกันและปราบปรามการทุจริตแห่งชาติ (ป.ป.ช.) ยื่นอุทธรณ์ในคดีการสลายชุมนุมเมื่อปี 2551 ว่า ผลจะออกมาประการใดแล้วแต่ศาล ',\n",
              " 'เมื่อถามถึงกรณีแนวร่วมประชาธิปไตยต่อต้านเผด็จการแห่งชาติ (นปช.) เรียกร้องให้ ',\n",
              " 'ป.ป.ช.สั่งฟ้องคดีสลายการชุมนุมของ นปช.ด้วย พล.ต.จำลองตอบว่า ใครจะทำอะไรก็ทำ ',\n",
              " 'ยืนยันพร้อมรับฟังและปฏิบัติตามคำพิพากษาทุกประการ ',\n",
              " 'ไม่ว่าจะออกมาหนักหรือเบา ',\n",
              " 'หากเราเคารพกฎหมายบ้านเมือง ทุกอย่างก็จะดำเนินไปได้ด้วยดี ',\n",
              " 'นายมีชัย ฤชุพันธุ์ ',\n",
              " 'ประธาน กรธ. กล่าวว่า ต้องดูว่าถ้า ป.ป.ช.ไม่ยื่นอุทธรณ์โดยไม่สุจริต ',\n",
              " 'ประชาชนสามารถใช้สิทธิตามรัฐธรรมนูญ ',\n",
              " 'ด้วยการเข้าชื่อส่งไปยังประธานรัฐสภา เพื่อเสนอเรื่องไปยังประธานศาลฎีกาให้ตั้งคณะผู้ไต่สวนอิสระได้ แต่การร้องเรียนนั้นต้องมีหลักฐานที่ชัดเจน ',\n",
              " 'ไม่ได้เป็นการกล่าวหาลอยๆ ที่ทำเนียบรัฐบาล พ.อ.หญิงทักษดา สังขจันทร์ ผู้ช่วยโฆษกประจำสำนักนายกรัฐมนตรี แถลงว่า ที่ประชุม ครม.อนุมัติแต่งตั้งข้าราชการกระทรวงต่างๆ อาทิ นายเลิศวิโรจน์ โกวัฒนะ เป็นปลัดกระทรวงเกษตรและสหกรณ์ ',\n",
              " 'น.ส.บรรจงจิตต์ อังศุสิงห์ เป็นรองปลัดกระทรวงพาณิชย์ ',\n",
              " 'นางกุลณี อิศดิศัย เป็นอธิบดีกรมพัฒนาธุรกิจการค้า ',\n",
              " 'นายบุณยฤทธิ์ กัลยาณมิตร เป็นอธิบดีการค้าภายใน ',\n",
              " 'นางจันทิรา ',\n",
              " 'ยิมเรวัต วิวัฒน์รัตน์ เป็นอธิบดีกรมส่งเสริมการค้าระหว่างประเทศ ',\n",
              " 'นายสุทธิพงษ์ จุลเจริญ เป็นอธิบดีกรมส่งเสริมการปกครองท้องถิ่น ',\n",
              " 'นายบุญธรรม เลิศสุขีเกษม เป็นรองปลัดกระทรวงฯ ',\n",
              " 'นายเกียรติศักดิ์ จันทรา เป็นผู้ตรวจราชการกระทรวงฯ ',\n",
              " 'นายสมชาย วิทย์ดำรง ผวจ.ฉะเชิงเทรา เป็น ผวจ.นครพนม\\xa0นายสุวิทย์ ',\n",
              " 'คำดี ',\n",
              " 'ผวจ.กาฬสินธุ์ เป็น ผวจ.ฉะเชิงเทรา พ.อ.อธิสิทธิ์ ไชยนุวัติ ผู้ช่วยโฆษกประจำสำนักนายกรัฐมนตรี แถลงว่า ที่ประชุมร่วม คสช. จะมีการออกคำสั่งหัวหน้า คสช. 3 ฉบับ คือ 1.เกี่ยวกับการให้อำนาจสถาบันอุดมศึกษา เพื่อ ให้อำนาจสถาบันอุดมศึกษาแต่งตั้งบุคคลที่อาจไม่ได้เป็นข้าราชการพลเรือนมาดำรงตำแหน่งอธิการบดี รองอธิการบดี ผู้ช่วยอธิการบดี คณบดี หรือหัวหน้าหน่วยงานต่างๆ 2.การเพิ่มประสิทธิภาพในการป้องกันและปราบปรามการฟอกเงิน เพื่อปรับปรุงแก้ไของค์ประกอบขอบเขตอำนาจหน้าที่ของ ปปง. และ 3.แนวคิดการรวมหน่วยงานบริหารจัดการน้ำของรัฐบาล ',\n",
              " 'เพื่อรวมหน่วยงานบริหารจัดการน้ำของภาครัฐทั้งหมดเข้าด้วยกัน ',\n",
              " 'และต้องการแก้ปัญหาน้ำอย่างยั่งยืน ',\n",
              " 'โดยจัดตั้งเป็นสำนักงานทรัพยากรน้ำแห่งชาติ ขึ้นตรงกับสำนักนายกรัฐมนตรี ภายใต้การบังคับบัญชาของนายกรัฐมนตรี ',\n",
              " 'ชี้แจงรายละเอียดสำหรับบุคลากรจากหน่วยงานที่เกี่ยวข้องที่ต้องมีการโยกย้ายมายังสำนักดังกล่าว ',\n",
              " 'โดยสำนักงานคณะกรรมการพัฒนาระบบราชการ (กพร.) และจะออกเป็นคำสั่ง ',\n",
              " 'คสช.ต่อไป ',\n",
              " 'ช่วงบ่ายวันเดียวกันที่ห้องสีงาช้าง ตึกไทยคู่ฟ้า ทำเนียบรัฐบาล นายเร็กซ์ เวย์น ทิลเลอร์สัน รมว.ต่างประเทศสหรัฐอเมริกา เข้าเยี่ยมคารวะ พล.อ.ประยุทธ์ จันทร์โอชา นายกฯและหัวหน้า คสช. ',\n",
              " 'ต่อมา พล.ท.วีรชน สุคนธปฏิภาค รองโฆษกประจำสำนักนายกรัฐมนตรี กล่าวว่า นายเร็กซ์ เวย์น ทิลเลอร์สัน ได้ร่วมลงนามในสมุดแสดงความอาลัยต่อการสวรรคตของพระบาทสมเด็จพระปรมินทรมหาภูมิพลอดุลยเดช ',\n",
              " 'บรมนาถบพิตร สะท้อนถึงความผูกพันและความสัมพันธ์ที่แน่นแฟ้น ซึ่งนายกฯย้ำว่าไทยให้ความสำคัญและเห็นสหรัฐฯมีบทบาทมากในประชาคมโลก ทั้งในเรื่องความมั่นคง การค้ามนุษย์ ก่อการร้าย อาชญากรรมข้ามชาติ ',\n",
              " 'นอกจากนี้ ทั้ง 2 ฝ่าย เห็นพ้องความร่วมมือด้านเศรษฐกิจ และความสัมพันธ์ระหว่างประชาชน พล.อ.ประยุทธ์กล่าวถึงความคืบหน้าการเดินทางเยือนสหรัฐอเมริกาอย่างเป็นทางการตามคำเชิญของนายโดนัลด์ ทรัมป์ ประธานาธิบดีสหรัฐอเมริกา ว่า เบื้องต้นตนจะเดินทางไปเยือนสหรัฐฯในเดือน ',\n",
              " 'ต.ค.นี้ ทางนายโดนัลด์ ทรัมป์ ไม่ได้ตั้งเงื่อนไขอะไร ',\n",
              " 'เราแสดงชัดเจนไปแล้วว่าปฏิบัติตามมติพันธะกรณีต่างๆของสหประชาชาติ ',\n",
              " 'ส่วนกรณีที่ตนพูดว่ามีบางประเทศไม่เชิญไปเยือนนั้น มี 2 อย่าง ',\n",
              " 'ถ้าเป็นเรื่องการประชุมเวทีนานาชาติตนเดินทางไปหมด แต่การเยือนอย่างเป็นทางการไปไม่ได้ ',\n",
              " 'เพราะเป็นผู้นำรัฐบาลแบบนี้ ',\n",
              " 'คนละประเด็นกัน ',\n",
              " 'ไม่ใช่ว่าเขารังเกียจอะไร แต่กฎหมายเขาเป็นอย่างนั้น ',\n",
              " 'วันข้างหน้าที่ทุกอย่างจะกลับมาเป็นปกติ']"
            ]
          },
          "metadata": {
            "tags": []
          },
          "execution_count": 23
        }
      ]
    },
    {
      "cell_type": "code",
      "metadata": {
        "id": "1lUFfOP10zM3",
        "colab": {
          "base_uri": "https://localhost:8080/"
        },
        "outputId": "0468f1c8-ddb7-436d-b06a-2a0cc63c05ea"
      },
      "source": [
        "summaries_oracle_a = oracle_a(data_segmented_sentence, gold_summaries_sentence_segmented)"
      ],
      "execution_count": 24,
      "outputs": [
        {
          "output_type": "stream",
          "text": [
            "11000it [00:13, 807.48it/s]\n"
          ],
          "name": "stderr"
        }
      ]
    },
    {
      "cell_type": "code",
      "metadata": {
        "id": "upLPhQLT23yI",
        "colab": {
          "base_uri": "https://localhost:8080/"
        },
        "outputId": "4e179d43-d9e6-4347-d36c-d7990bedd15d"
      },
      "source": [
        "# summaries_oracle_a[0][:10]\n",
        "text_summaries_oracle_a = summaries_oracle_a[0]\n",
        "text_summaries_oracle_a[:5]"
      ],
      "execution_count": 25,
      "outputs": [
        {
          "output_type": "execute_result",
          "data": {
            "text/plain": [
              "['ผลช้าไปชั่วโมงสองชั่วโมงไม่เห็นเป็นไร แสลงหูชื่อ สมชัย ชิ่งหนีดื้อๆ พรเพชร ให้นายกฯ ตัดสินใจปลดล็อกพรรคการเมือง 34 สนช.ยื่นตีความต่อวาระให้ผู้ตรวจฯ ส่อขัด รธน. พท.ดาหน้าฉะ ซือแป๋ ใครแน่ดูถูกประชาชน แสลงชื่อสมชัยเดินหนี มีชัย ไม่ยี่หระเสียงค้านชงสูตรพิสดารเลือกตั้ง ส.ส. ประกาศ ',\n",
              " 'เมินประเด็นจุดโทษปัญหาในเกมพรีเมียร์ลีก อังกฤษ นัดที่แตนอาละวาดเปิดบ้านพ่าย คริสตัล พาเลซ 0-1ชี้ทีมของเขาเล่นไม่ดีพอเอง กีเก ซานเชซ ฟลอเรส\\xa0 กุนซือเลือดกระทิงของทีมวัตฟอร์ด\\xa0 ',\n",
              " 'เบื้องต้นพบผู้เสียชีวิตแล้ว 30 ศพ บาดเจ็บ 400 ราย ระบบสาธารณูปโภคพังพินาศ ทางการเร่งระดมเจ้าหน้าที่ตำรวจ เนปาลระทึก หลังเกิดพายุฝนฟ้าคะนองถล่มทางใต้ สร้างความเสียหายหลายหมู่บ้าน ',\n",
              " 'ระหว่าง 17-18 พ.ค. ที่ห้องอาซัวร์ เรเนซองส์ เป็นศูนย์รวมของความคิดสร้างสรรค์และคอมมูนิตี้คนรุ่นใหม่ ล่าสุด อุสรา ยงปิยะกุล คว้าศิลปินไทยรุ่นใหม่จากนิวยอร์ก กันตภณ เมธีกุล มาร่วมคอลลาโบเรชั่น สินค้าลิมิเต็ด อิดิชั่น ODS X GONGKAN ให้คนรักงานศิลป์คนไทย ริเริ่มจัดบุฟเฟต์ทุเรียนจนเป็นเทรนด์นิยม ปีนี้ ',\n",
              " 'บ้านตะวันลับ Twilight Villa ถูกจัดตั้งขึ้นในปี 2010 เพื่อแก้ไขปัญหาผู้สูงอายุที่ถูกทอดทิ้งเพิ่มมากขึ้นในสังคมเมียนมา ปัจจุบันมีผู้พักอาศัยอยู่ในบ้านหลังนี้ราว 120 คน ส่วนใหญ่มีอายุ 70 ปีขึ้นไป แต่เนื่องจากพื้นที่ของบ้านมีขนาดไม่ใหญ่มาก สังคมเมียนมากำลังก้าวเข้าสู่สังคมผู้สูงอายุ ']"
            ]
          },
          "metadata": {
            "tags": []
          },
          "execution_count": 25
        }
      ]
    },
    {
      "cell_type": "code",
      "metadata": {
        "id": "eHrUDkeclGEx",
        "colab": {
          "base_uri": "https://localhost:8080/",
          "height": 53
        },
        "outputId": "da0d57d8-a318-48bb-cf95-3379012c68d1"
      },
      "source": [
        "gold_summaries[0]"
      ],
      "execution_count": 26,
      "outputs": [
        {
          "output_type": "execute_result",
          "data": {
            "application/vnd.google.colaboratory.intrinsic+json": {
              "type": "string"
            },
            "text/plain": [
              "'มีชัย ไม่ยี่หระเสียงค้านชงสูตรพิสดารเลือกตั้ง ส.ส. ประกาศ ผลช้าไปชั่วโมงสองชั่วโมงไม่เห็นเป็นไร แสลงหูชื่อ สมชัย ชิ่งหนีดื้อๆ พรเพชร ให้นายกฯ ตัดสินใจปลดล็อกพรรคการเมือง'"
            ]
          },
          "metadata": {
            "tags": []
          },
          "execution_count": 26
        }
      ]
    },
    {
      "cell_type": "code",
      "metadata": {
        "id": "UYuBgmgRSwfa",
        "colab": {
          "base_uri": "https://localhost:8080/"
        },
        "outputId": "6a33efaa-7333-4974-83c8-c6e344e2511d"
      },
      "source": [
        "r1, r2, rl = evaluate_rouge(text_summaries_oracle_a, gold_summaries, tokenizer)\n",
        "print(r1, r2, rl)"
      ],
      "execution_count": 27,
      "outputs": [
        {
          "output_type": "stream",
          "text": [
            "0.7808340934426083 0.7448053091355908 0.76082355242242\n"
          ],
          "name": "stdout"
        }
      ]
    },
    {
      "cell_type": "code",
      "metadata": {
        "id": "dk60_c-bf3g1",
        "colab": {
          "base_uri": "https://localhost:8080/"
        },
        "outputId": "61622476-a70c-4532-c01c-1ed7c054649d"
      },
      "source": [
        "BERTScore = cal_batch_bert_score(text_summaries_oracle_a, gold_summaries, batch_size=128)"
      ],
      "execution_count": 28,
      "outputs": [
        {
          "output_type": "stream",
          "text": [
            "  1%|          | 1/86 [00:18<25:48, 18.22s/it]Warning: Empty candidate sentence detected; setting precision to be 0.\n",
            "  2%|▏         | 2/86 [00:35<25:09, 17.97s/it]Warning: Empty candidate sentence detected; setting precision to be 0.\n",
            "  3%|▎         | 3/86 [00:53<24:43, 17.87s/it]Warning: Empty candidate sentence detected; setting precision to be 0.\n",
            "Warning: Empty candidate sentence detected; setting precision to be 0.\n",
            "  5%|▍         | 4/86 [01:11<24:29, 17.92s/it]Warning: Empty candidate sentence detected; setting precision to be 0.\n",
            "  6%|▌         | 5/86 [01:28<24:01, 17.80s/it]Warning: Empty candidate sentence detected; setting precision to be 0.\n",
            "Warning: Empty candidate sentence detected; setting precision to be 0.\n",
            "  8%|▊         | 7/86 [02:06<24:10, 18.36s/it]Warning: Empty candidate sentence detected; setting precision to be 0.\n",
            "Warning: Empty candidate sentence detected; setting precision to be 0.\n",
            " 10%|█         | 9/86 [02:42<23:14, 18.11s/it]Warning: Empty candidate sentence detected; setting precision to be 0.\n",
            " 12%|█▏        | 10/86 [02:58<22:18, 17.61s/it]Warning: Empty candidate sentence detected; setting precision to be 0.\n",
            "Warning: Empty candidate sentence detected; setting precision to be 0.\n",
            " 16%|█▋        | 14/86 [04:09<21:23, 17.82s/it]Warning: Empty candidate sentence detected; setting precision to be 0.\n",
            " 17%|█▋        | 15/86 [04:25<20:28, 17.30s/it]Warning: Empty candidate sentence detected; setting precision to be 0.\n",
            " 19%|█▊        | 16/86 [04:42<20:04, 17.20s/it]Warning: Empty candidate sentence detected; setting precision to be 0.\n",
            " 20%|█▉        | 17/86 [05:00<20:06, 17.48s/it]Warning: Empty candidate sentence detected; setting precision to be 0.\n",
            "Warning: Empty candidate sentence detected; setting precision to be 0.\n",
            " 21%|██        | 18/86 [05:18<19:54, 17.56s/it]Warning: Empty candidate sentence detected; setting precision to be 0.\n",
            " 22%|██▏       | 19/86 [05:35<19:35, 17.55s/it]Warning: Empty candidate sentence detected; setting precision to be 0.\n",
            " 23%|██▎       | 20/86 [05:53<19:27, 17.69s/it]Warning: Empty candidate sentence detected; setting precision to be 0.\n",
            " 26%|██▌       | 22/86 [06:28<18:42, 17.53s/it]Warning: Empty candidate sentence detected; setting precision to be 0.\n",
            " 27%|██▋       | 23/86 [06:47<18:38, 17.76s/it]Warning: Empty candidate sentence detected; setting precision to be 0.\n",
            "Warning: Empty candidate sentence detected; setting precision to be 0.\n",
            " 28%|██▊       | 24/86 [07:05<18:32, 17.94s/it]Warning: Empty candidate sentence detected; setting precision to be 0.\n",
            "Warning: Empty candidate sentence detected; setting precision to be 0.\n",
            " 29%|██▉       | 25/86 [07:23<18:10, 17.87s/it]Warning: Empty candidate sentence detected; setting precision to be 0.\n",
            "Warning: Empty candidate sentence detected; setting precision to be 0.\n",
            " 30%|███       | 26/86 [07:41<18:06, 18.11s/it]Warning: Empty candidate sentence detected; setting precision to be 0.\n",
            " 31%|███▏      | 27/86 [07:59<17:45, 18.06s/it]Warning: Empty candidate sentence detected; setting precision to be 0.\n",
            " 33%|███▎      | 28/86 [08:16<17:10, 17.77s/it]Warning: Empty candidate sentence detected; setting precision to be 0.\n",
            "Warning: Empty candidate sentence detected; setting precision to be 0.\n",
            " 34%|███▎      | 29/86 [08:33<16:38, 17.52s/it]Warning: Empty candidate sentence detected; setting precision to be 0.\n",
            "Warning: Empty candidate sentence detected; setting precision to be 0.\n",
            " 35%|███▍      | 30/86 [08:51<16:24, 17.57s/it]Warning: Empty candidate sentence detected; setting precision to be 0.\n",
            " 36%|███▌      | 31/86 [09:09<16:05, 17.55s/it]Warning: Empty candidate sentence detected; setting precision to be 0.\n",
            " 38%|███▊      | 33/86 [09:43<15:28, 17.52s/it]Warning: Empty candidate sentence detected; setting precision to be 0.\n",
            "Warning: Empty candidate sentence detected; setting precision to be 0.\n",
            " 40%|███▉      | 34/86 [10:01<15:12, 17.54s/it]Warning: Empty candidate sentence detected; setting precision to be 0.\n",
            " 42%|████▏     | 36/86 [10:37<14:42, 17.66s/it]Warning: Empty candidate sentence detected; setting precision to be 0.\n",
            " 44%|████▍     | 38/86 [11:13<14:23, 18.00s/it]Warning: Empty candidate sentence detected; setting precision to be 0.\n",
            " 47%|████▋     | 40/86 [11:51<14:00, 18.28s/it]Warning: Empty candidate sentence detected; setting precision to be 0.\n",
            " 48%|████▊     | 41/86 [12:08<13:34, 18.11s/it]Warning: Empty candidate sentence detected; setting precision to be 0.\n",
            " 50%|█████     | 43/86 [12:45<13:10, 18.38s/it]Warning: Empty candidate sentence detected; setting precision to be 0.\n",
            " 51%|█████     | 44/86 [13:03<12:49, 18.33s/it]Warning: Empty candidate sentence detected; setting precision to be 0.\n",
            " 55%|█████▍    | 47/86 [13:59<12:03, 18.56s/it]Warning: Empty candidate sentence detected; setting precision to be 0.\n",
            " 56%|█████▌    | 48/86 [14:17<11:39, 18.39s/it]Warning: Empty candidate sentence detected; setting precision to be 0.\n",
            " 58%|█████▊    | 50/86 [14:53<10:54, 18.18s/it]Warning: Empty candidate sentence detected; setting precision to be 0.\n",
            " 59%|█████▉    | 51/86 [15:11<10:35, 18.16s/it]Warning: Empty candidate sentence detected; setting precision to be 0.\n",
            " 60%|██████    | 52/86 [15:29<10:11, 17.99s/it]Warning: Empty candidate sentence detected; setting precision to be 0.\n",
            " 62%|██████▏   | 53/86 [15:47<09:51, 17.93s/it]Warning: Empty candidate sentence detected; setting precision to be 0.\n",
            " 63%|██████▎   | 54/86 [16:05<09:35, 17.99s/it]Warning: Empty candidate sentence detected; setting precision to be 0.\n",
            " 64%|██████▍   | 55/86 [16:23<09:20, 18.08s/it]Warning: Empty candidate sentence detected; setting precision to be 0.\n",
            "Warning: Empty candidate sentence detected; setting precision to be 0.\n",
            " 65%|██████▌   | 56/86 [16:40<08:51, 17.71s/it]Warning: Empty candidate sentence detected; setting precision to be 0.\n",
            " 66%|██████▋   | 57/86 [16:59<08:43, 18.06s/it]Warning: Empty candidate sentence detected; setting precision to be 0.\n",
            " 69%|██████▊   | 59/86 [17:35<08:07, 18.06s/it]Warning: Empty candidate sentence detected; setting precision to be 0.\n",
            " 70%|██████▉   | 60/86 [17:52<07:46, 17.93s/it]Warning: Empty candidate sentence detected; setting precision to be 0.\n",
            " 71%|███████   | 61/86 [18:10<07:27, 17.91s/it]Warning: Empty candidate sentence detected; setting precision to be 0.\n",
            "Warning: Empty candidate sentence detected; setting precision to be 0.\n",
            " 72%|███████▏  | 62/86 [18:29<07:14, 18.12s/it]Warning: Empty candidate sentence detected; setting precision to be 0.\n",
            "Warning: Empty candidate sentence detected; setting precision to be 0.\n",
            " 76%|███████▌  | 65/86 [19:24<06:24, 18.31s/it]Warning: Empty candidate sentence detected; setting precision to be 0.\n",
            "Warning: Empty candidate sentence detected; setting precision to be 0.\n",
            " 77%|███████▋  | 66/86 [19:41<06:01, 18.06s/it]Warning: Empty candidate sentence detected; setting precision to be 0.\n",
            " 78%|███████▊  | 67/86 [20:00<05:44, 18.14s/it]Warning: Empty candidate sentence detected; setting precision to be 0.\n",
            " 80%|████████  | 69/86 [20:35<05:04, 17.90s/it]Warning: Empty candidate sentence detected; setting precision to be 0.\n",
            "Warning: Empty candidate sentence detected; setting precision to be 0.\n",
            " 81%|████████▏ | 70/86 [20:52<04:44, 17.77s/it]Warning: Empty candidate sentence detected; setting precision to be 0.\n",
            " 83%|████████▎ | 71/86 [21:10<04:26, 17.75s/it]Warning: Empty candidate sentence detected; setting precision to be 0.\n",
            " 84%|████████▎ | 72/86 [21:28<04:07, 17.69s/it]Warning: Empty candidate sentence detected; setting precision to be 0.\n",
            " 85%|████████▍ | 73/86 [21:46<03:52, 17.85s/it]Warning: Empty candidate sentence detected; setting precision to be 0.\n",
            "Warning: Empty candidate sentence detected; setting precision to be 0.\n",
            " 86%|████████▌ | 74/86 [22:05<03:38, 18.21s/it]Warning: Empty candidate sentence detected; setting precision to be 0.\n",
            " 87%|████████▋ | 75/86 [22:23<03:18, 18.05s/it]Warning: Empty candidate sentence detected; setting precision to be 0.\n",
            "Warning: Empty candidate sentence detected; setting precision to be 0.\n",
            " 88%|████████▊ | 76/86 [22:40<02:59, 17.95s/it]Warning: Empty candidate sentence detected; setting precision to be 0.\n",
            " 90%|████████▉ | 77/86 [22:58<02:42, 18.00s/it]Warning: Empty candidate sentence detected; setting precision to be 0.\n",
            " 94%|█████████▍| 81/86 [24:11<01:30, 18.07s/it]Warning: Empty candidate sentence detected; setting precision to be 0.\n",
            " 95%|█████████▌| 82/86 [24:31<01:14, 18.53s/it]Warning: Empty candidate sentence detected; setting precision to be 0.\n",
            " 97%|█████████▋| 83/86 [24:48<00:54, 18.19s/it]Warning: Empty candidate sentence detected; setting precision to be 0.\n",
            " 98%|█████████▊| 84/86 [25:06<00:36, 18.05s/it]Warning: Empty candidate sentence detected; setting precision to be 0.\n",
            " 99%|█████████▉| 85/86 [25:24<00:18, 18.05s/it]Warning: Empty candidate sentence detected; setting precision to be 0.\n",
            "100%|██████████| 86/86 [25:43<00:00, 17.94s/it]"
          ],
          "name": "stderr"
        },
        {
          "output_type": "stream",
          "text": [
            "[0.89319736, 0.8836837, 0.88032484, 0.8779398, 0.8858798, 0.8809267, 0.88100886, 0.87674797, 0.89173806, 0.87507653, 0.8732444, 0.88800573, 0.8811226, 0.8898343, 0.8793214, 0.8658464, 0.87618726, 0.8603794, 0.88456786, 0.8859944, 0.87576336, 0.8901665, 0.89399076, 0.87415874, 0.87273276, 0.880453, 0.8796413, 0.8908386, 0.8764343, 0.87796783, 0.88312936, 0.8836874, 0.8804668, 0.8573898, 0.87110853, 0.879704, 0.86816835, 0.890043, 0.8747535, 0.890775, 0.88171005, 0.87800777, 0.89452434, 0.8808714, 0.88298535, 0.8807734, 0.88243896, 0.8797245, 0.88437307, 0.88141817, 0.8905537, 0.88761854, 0.8906372, 0.88758254, 0.87844, 0.87384605, 0.8899583, 0.8804733, 0.8992124, 0.8841306, 0.890375, 0.87512314, 0.87130505, 0.88755757, 0.8972032, 0.8746815, 0.8713199, 0.8795327, 0.8980079, 0.8765938, 0.8822874, 0.8898929, 0.89170563, 0.8693235, 0.8815782, 0.8730935, 0.8821719, 0.8828261, 0.8888686, 0.8984972, 0.89771914, 0.89279693, 0.8796184, 0.87243587, 0.8880561, 0.8856912]\n"
          ],
          "name": "stdout"
        },
        {
          "output_type": "stream",
          "text": [
            "\n"
          ],
          "name": "stderr"
        }
      ]
    },
    {
      "cell_type": "code",
      "metadata": {
        "id": "imVnGCq9q42T",
        "colab": {
          "base_uri": "https://localhost:8080/"
        },
        "outputId": "91d537f4-5b9b-4cf8-f1b3-24af29f62af0"
      },
      "source": [
        "print(BERTScore)"
      ],
      "execution_count": 29,
      "outputs": [
        {
          "output_type": "stream",
          "text": [
            "0.8822086335614671\n"
          ],
          "name": "stdout"
        }
      ]
    },
    {
      "cell_type": "code",
      "metadata": {
        "id": "FAjPzlWrgyJG"
      },
      "source": [
        "np.save('text_summaries_oracle_a', np.array(text_summaries_oracle_a))"
      ],
      "execution_count": 30,
      "outputs": []
    },
    {
      "cell_type": "markdown",
      "metadata": {
        "id": "GxQPWrtnYPXE"
      },
      "source": [
        "## Oracle-b"
      ]
    },
    {
      "cell_type": "code",
      "metadata": {
        "colab": {
          "base_uri": "https://localhost:8080/",
          "height": 91,
          "referenced_widgets": [
            "723117950bfc405ca540dd7f2f160660",
            "3b84fa6197474c6fab56d396a39cc3bd",
            "6cd8e97177c748aebefb9db56d99b04b",
            "01e9ee27d68c44f59a47ea743e1393d2",
            "f9039e1932ed4fb785c10a69861ac3db",
            "3f0c7f46c62440dcafa2999c3cf36694",
            "b29c485a8cd3463e9d49af914b27a805",
            "8602108497274a3aa8b3e1068cf921ba",
            "0b1c0cc8d8e9405baa80d6f46e76b98c",
            "2142e9e737cb4032b9098a48b87dd8eb",
            "0537e8bd16fe4c13836099695e8500a7",
            "bc244e255fd74728a47f71a30c693ad4",
            "c77d84302d66433db1ce387b34c69e5f",
            "ca388b8d5f524a8f8d73fee9ba7f50c7",
            "9ee9e3a2a41d48e1b0fb372975c580d4",
            "89d5fe66d000489a8088bbe26ba357ea",
            "b5db2974fdec4f95bb00e7d029f4fc85",
            "5cd171abd1b6402a96c29a65b12decb2",
            "a53d962401f8493cb9ea6c857289cae5",
            "115f437ef9b84bffaa6dde0d41a90206",
            "b21a90ece77f46f49ca600ae5d717d1a",
            "ee555dd1244f4bc9a697fc944f76ec70",
            "2067e106c4ed48509d2e00a6bf70ab2b",
            "55ce4d6dfed84363b8bd90db0e324d3b"
          ]
        },
        "id": "_6Z-wp_MsXZV",
        "outputId": "2eaa0f50-80d8-4e87-a21b-7963b71764ef"
      },
      "source": [
        "tokenized_datasets = load_dataset('json', data_files={'train': '/content/drive/MyDrive/train.json', 'validation': '/content/drive/MyDrive/validation_true.json', 'test': '/content/drive/MyDrive/test_true.json'})"
      ],
      "execution_count": 23,
      "outputs": [
        {
          "output_type": "stream",
          "text": [
            "Using custom data configuration default-757701d6e8dd32b8\n"
          ],
          "name": "stderr"
        },
        {
          "output_type": "stream",
          "text": [
            "Downloading and preparing dataset json/default (download: Unknown size, generated: Unknown size, post-processed: Unknown size, total: Unknown size) to /root/.cache/huggingface/datasets/json/default-757701d6e8dd32b8/0.0.0/83d5b3a2f62630efc6b5315f00f20209b4ad91a00ac586597caee3a4da0bef02...\n"
          ],
          "name": "stdout"
        },
        {
          "output_type": "display_data",
          "data": {
            "application/vnd.jupyter.widget-view+json": {
              "model_id": "723117950bfc405ca540dd7f2f160660",
              "version_minor": 0,
              "version_major": 2
            },
            "text/plain": [
              "HBox(children=(FloatProgress(value=1.0, bar_style='info', max=1.0), HTML(value='')))"
            ]
          },
          "metadata": {
            "tags": []
          }
        },
        {
          "output_type": "stream",
          "text": [
            "\r"
          ],
          "name": "stdout"
        },
        {
          "output_type": "display_data",
          "data": {
            "application/vnd.jupyter.widget-view+json": {
              "model_id": "0b1c0cc8d8e9405baa80d6f46e76b98c",
              "version_minor": 0,
              "version_major": 2
            },
            "text/plain": [
              "HBox(children=(FloatProgress(value=1.0, bar_style='info', max=1.0), HTML(value='')))"
            ]
          },
          "metadata": {
            "tags": []
          }
        },
        {
          "output_type": "stream",
          "text": [
            "\r"
          ],
          "name": "stdout"
        },
        {
          "output_type": "display_data",
          "data": {
            "application/vnd.jupyter.widget-view+json": {
              "model_id": "b5db2974fdec4f95bb00e7d029f4fc85",
              "version_minor": 0,
              "version_major": 2
            },
            "text/plain": [
              "HBox(children=(FloatProgress(value=1.0, bar_style='info', max=1.0), HTML(value='')))"
            ]
          },
          "metadata": {
            "tags": []
          }
        },
        {
          "output_type": "stream",
          "text": [
            "\rDataset json downloaded and prepared to /root/.cache/huggingface/datasets/json/default-757701d6e8dd32b8/0.0.0/83d5b3a2f62630efc6b5315f00f20209b4ad91a00ac586597caee3a4da0bef02. Subsequent calls will reuse this data.\n"
          ],
          "name": "stdout"
        }
      ]
    },
    {
      "cell_type": "code",
      "metadata": {
        "id": "zYREyrTzYRsJ"
      },
      "source": [
        "def get_text_from_position(dataset, tokenizer):\n",
        "  start_positions = dataset['start_positions']\n",
        "  end_positions = dataset['end_positions']\n",
        "  texts = dataset['input_ids']\n",
        "  summaries = []\n",
        "  for text, i, j in zip(texts, start_positions, end_positions):\n",
        "    # print(i, j)\n",
        "    cut_text = text[i:j]\n",
        "    decoded_text = tokenizer.decode(cut_text, skip_special_tokens=True)\n",
        "    summaries.append(decoded_text)\n",
        "  return summaries"
      ],
      "execution_count": 21,
      "outputs": []
    },
    {
      "cell_type": "code",
      "metadata": {
        "colab": {
          "base_uri": "https://localhost:8080/"
        },
        "id": "B8qU1SmepUsT",
        "outputId": "1bbe9d01-96ac-4874-9f71-e840582caea7"
      },
      "source": [
        "summary_from_oracle_b = get_text_from_position(tokenized_datasets['test'], tokenizer)\n",
        "summary_from_oracle_b[:3]"
      ],
      "execution_count": 24,
      "outputs": [
        {
          "output_type": "execute_result",
          "data": {
            "text/plain": [
              "[',มีชัย ไม่ยี่หระเสียงค้านชงสูตรพิสดารเลือกตั้ง ส.ส. ประกาศ ผลช้าไปชั่วโมงสองชั่วโมงไม่เห็นเป็นไร แสลงหูชื่อ สมชัย ชิ่งหนีดื้อๆ พรเพชร ให้นายกฯ ตัดสินใจปลดล็อกพรรค',\n",
              " 'กีเก ซานเชซ ฟลอเรส กุนซือเลือดกระทิงของทีมวัตฟอร์ด เมินประเด็นจุดโทษปัญหาในเกมพรีเมียร์ลีก อังกฤษ นัดที่แตนอาละวาดเปิดบ้านพ่าย คริสตัล พาเลซ 0-1ชี้ทีมของเขาเล่น',\n",
              " 'ลําบาก,เนปาลระทึก หลังเกิดพายุฝนฟ้าคะนองถล่มทางใต้ สร้างความเสียหายหลายหมู่บ้าน เบื้องต้นพบผู้เสียชีวิตแล้ว 30 ศพ บาดเจ็บ 400 ราย ระบบสาธารณูปโภค']"
            ]
          },
          "metadata": {
            "tags": []
          },
          "execution_count": 24
        }
      ]
    },
    {
      "cell_type": "code",
      "metadata": {
        "colab": {
          "base_uri": "https://localhost:8080/"
        },
        "id": "nBFBKjvJpVyL",
        "outputId": "d1bcb1c7-b58a-4864-fd7c-a023e73bae08"
      },
      "source": [
        "r1, r2, rl = evaluate_rouge(summary_from_oracle_b, gold_summaries, tokenizer)\n",
        "print(r1, r2, rl)"
      ],
      "execution_count": 25,
      "outputs": [
        {
          "output_type": "stream",
          "text": [
            "0.8761107442453164 0.8461872369277695 0.8809886286771023\n"
          ],
          "name": "stdout"
        }
      ]
    },
    {
      "cell_type": "code",
      "metadata": {
        "colab": {
          "base_uri": "https://localhost:8080/"
        },
        "id": "b-HsTLlBpW4O",
        "outputId": "9fed9331-3918-4d11-b7af-e8b547195620"
      },
      "source": [
        "BERTScore = cal_batch_bert_score(summary_from_oracle_b, gold_summaries, tokenizer, batch_size=128)"
      ],
      "execution_count": 26,
      "outputs": [
        {
          "output_type": "stream",
          "text": [
            "100%|██████████| 86/86 [12:29<00:00,  8.71s/it]"
          ],
          "name": "stderr"
        },
        {
          "output_type": "stream",
          "text": [
            "[0.89409065, 0.8843618, 0.8899675, 0.8899961, 0.88627505, 0.89252067, 0.8815578, 0.8746747, 0.8936076, 0.8783157, 0.8806659, 0.8919265, 0.8821515, 0.8753854, 0.8856243, 0.88001186, 0.87944686, 0.89217114, 0.8903718, 0.87828004, 0.8864628, 0.88284016, 0.88387394, 0.8869653, 0.8861683, 0.8907838, 0.8867718, 0.89030886, 0.88451195, 0.8910098, 0.88960123, 0.88211375, 0.8831756, 0.8908317, 0.8877275, 0.884252, 0.88376534, 0.89573044, 0.8889476, 0.8929671, 0.8906442, 0.87785727, 0.88514423, 0.89004815, 0.8832965, 0.87747204, 0.8811549, 0.8804305, 0.8807837, 0.8852822, 0.8838256, 0.88907903, 0.8782022, 0.8890723, 0.8654926, 0.890154, 0.87815505, 0.87994677, 0.8997867, 0.8798516, 0.8912456, 0.8926846, 0.8893193, 0.8888842, 0.8862995, 0.8764006, 0.8811882, 0.8805961, 0.88683134, 0.87431276, 0.8917701, 0.8738668, 0.8968054, 0.8736851, 0.87292314, 0.8907656, 0.88553965, 0.88341355, 0.87125504, 0.89344215, 0.8814632, 0.8964179, 0.8762845, 0.8968688, 0.8857978, 0.8762522]\n"
          ],
          "name": "stdout"
        },
        {
          "output_type": "stream",
          "text": [
            "\n"
          ],
          "name": "stderr"
        }
      ]
    },
    {
      "cell_type": "code",
      "metadata": {
        "colab": {
          "base_uri": "https://localhost:8080/"
        },
        "id": "uMh5mcUKpX_7",
        "outputId": "bc536f0d-1253-4c29-c227-765068b7a8a7"
      },
      "source": [
        "print(BERTScore)"
      ],
      "execution_count": 27,
      "outputs": [
        {
          "output_type": "stream",
          "text": [
            "0.8850023788075114\n"
          ],
          "name": "stdout"
        }
      ]
    },
    {
      "cell_type": "code",
      "metadata": {
        "id": "RXp9Clb3paX4"
      },
      "source": [
        "np.save('summary_from_oracle_b', np.array(summary_from_oracle_b))"
      ],
      "execution_count": null,
      "outputs": []
    },
    {
      "cell_type": "markdown",
      "metadata": {
        "id": "0V7JlSwc8BtF"
      },
      "source": [
        "## Lead-3"
      ]
    },
    {
      "cell_type": "code",
      "metadata": {
        "id": "29u0T_mj9qSI"
      },
      "source": [
        "def lead_3(data):\n",
        "  ret = []\n",
        "  for text in tqdm(data):\n",
        "    ret.append(\"\".join(text[:3]))\n",
        "  return ret"
      ],
      "execution_count": 31,
      "outputs": []
    },
    {
      "cell_type": "code",
      "metadata": {
        "id": "mUlWABeV8EGa",
        "colab": {
          "base_uri": "https://localhost:8080/"
        },
        "outputId": "162d3664-1239-4dfb-99bf-714ba9884905"
      },
      "source": [
        "summaries_lead_3 = lead_3(data_segmented_sentence)"
      ],
      "execution_count": 32,
      "outputs": [
        {
          "output_type": "stream",
          "text": [
            "100%|██████████| 11000/11000 [00:00<00:00, 427090.86it/s]\n"
          ],
          "name": "stderr"
        }
      ]
    },
    {
      "cell_type": "code",
      "metadata": {
        "id": "xFab6WTYEpDy",
        "colab": {
          "base_uri": "https://localhost:8080/"
        },
        "outputId": "4e627944-d3b8-4e83-fdc1-4cdda755a62b"
      },
      "source": [
        "summaries_lead_3[:3]"
      ],
      "execution_count": 33,
      "outputs": [
        {
          "output_type": "execute_result",
          "data": {
            "text/plain": [
              "['พอไม่ได้ดังใจก็ร่างใหม่ แสลงชื่อสมชัยเดินหนี มีชัย ไม่ยี่หระเสียงค้านชงสูตรพิสดารเลือกตั้ง ส.ส. ประกาศ ผลช้าไปชั่วโมงสองชั่วโมงไม่เห็นเป็นไร แสลงหูชื่อ สมชัย ชิ่งหนีดื้อๆ พรเพชร ให้นายกฯ ตัดสินใจปลดล็อกพรรคการเมือง 34 สนช.ยื่นตีความต่อวาระให้ผู้ตรวจฯ ส่อขัด รธน. พท.ดาหน้าฉะ ซือแป๋ ใครแน่ดูถูกประชาชน ',\n",
              " 'กีเก ซานเชซ ฟลอเรส\\xa0 กุนซือเลือดกระทิงของทีมวัตฟอร์ด\\xa0 เมินประเด็นจุดโทษปัญหาในเกมพรีเมียร์ลีก อังกฤษ นัดที่แตนอาละวาดเปิดบ้านพ่าย คริสตัล พาเลซ 0-1ชี้ทีมของเขาเล่นไม่ดีพอเอง สำนักข่าวต่างประเทศรายงานวันที่ 27 ก.ย. ว่า กีเก ซานเชซ ฟลอเรส\\xa0 ผู้จัดการทีมชาวสเปน ของ แตนอาละวาด วัตฟอร์ด\\xa0 ยอมรับทีมของเขาเล่นได้ไม่ดีพอเอง ',\n",
              " 'ตาย30-เจ็บ400 เส้นทางตัดขาด เข้าช่วยลำบาก เนปาลระทึก หลังเกิดพายุฝนฟ้าคะนองถล่มทางใต้ สร้างความเสียหายหลายหมู่บ้าน เบื้องต้นพบผู้เสียชีวิตแล้ว 30 ศพ บาดเจ็บ 400 ราย ระบบสาธารณูปโภคพังพินาศ ทางการเร่งระดมเจ้าหน้าที่ตำรวจ ']"
            ]
          },
          "metadata": {
            "tags": []
          },
          "execution_count": 33
        }
      ]
    },
    {
      "cell_type": "code",
      "metadata": {
        "id": "rpTofOHCVc5s",
        "colab": {
          "base_uri": "https://localhost:8080/"
        },
        "outputId": "e0c4cdf1-e085-4c5f-a141-4af8a08bf32b"
      },
      "source": [
        "gold_summaries[:3]"
      ],
      "execution_count": 34,
      "outputs": [
        {
          "output_type": "execute_result",
          "data": {
            "text/plain": [
              "['มีชัย ไม่ยี่หระเสียงค้านชงสูตรพิสดารเลือกตั้ง ส.ส. ประกาศ ผลช้าไปชั่วโมงสองชั่วโมงไม่เห็นเป็นไร แสลงหูชื่อ สมชัย ชิ่งหนีดื้อๆ พรเพชร ให้นายกฯ ตัดสินใจปลดล็อกพรรคการเมือง',\n",
              " 'กีเก ซานเชซ ฟลอเรส  กุนซือเลือดกระทิงของทีมวัตฟอร์ด  เมินประเด็นจุดโทษปัญหาในเกมพรีเมียร์ลีก อังกฤษ นัดที่แตนอาละวาดเปิดบ้านพ่าย คริสตัล พาเลซ 0-1ชี้ทีมของเขาเล่นไม่ดีพอเอง',\n",
              " 'เนปาลระทึก หลังเกิดพายุฝนฟ้าคะนองถล่มทางใต้ สร้างความเสียหายหลายหมู่บ้าน เบื้องต้นพบผู้เสียชีวิตแล้ว 30 ศพ บาดเจ็บ 400 ราย ระบบสาธารณูปโภคพังพินาศ']"
            ]
          },
          "metadata": {
            "tags": []
          },
          "execution_count": 34
        }
      ]
    },
    {
      "cell_type": "code",
      "metadata": {
        "id": "_QqpZsGJEwvD",
        "colab": {
          "base_uri": "https://localhost:8080/"
        },
        "outputId": "386fcc94-5db9-4b72-fe59-4fa93336f467"
      },
      "source": [
        "r1, r2, rl = evaluate_rouge(summaries_lead_3, gold_summaries, tokenizer)\n",
        "print(r1, r2, rl)"
      ],
      "execution_count": 35,
      "outputs": [
        {
          "output_type": "stream",
          "text": [
            "0.604528036727442 0.5596666594573724 0.6195494182077482\n"
          ],
          "name": "stdout"
        }
      ]
    },
    {
      "cell_type": "code",
      "metadata": {
        "id": "l5HmT2Verbvp",
        "colab": {
          "base_uri": "https://localhost:8080/"
        },
        "outputId": "24d70154-f597-4706-a7e3-84df50042b24"
      },
      "source": [
        "BERTScore = cal_batch_bert_score(summaries_lead_3, gold_summaries, batch_size=128)"
      ],
      "execution_count": 36,
      "outputs": [
        {
          "output_type": "stream",
          "text": [
            "100%|██████████| 86/86 [27:54<00:00, 19.48s/it]"
          ],
          "name": "stderr"
        },
        {
          "output_type": "stream",
          "text": [
            "[0.8345444, 0.8464756, 0.84273994, 0.8378253, 0.8387501, 0.8473702, 0.83208346, 0.8372569, 0.8413744, 0.83214194, 0.8419398, 0.84918404, 0.83472425, 0.8334775, 0.8336364, 0.832308, 0.8470652, 0.83865845, 0.8404116, 0.84029114, 0.8413036, 0.85099775, 0.8443486, 0.8459867, 0.8289015, 0.8424605, 0.83457977, 0.8530023, 0.8438095, 0.8451314, 0.83553374, 0.8405249, 0.8300036, 0.827894, 0.8329407, 0.8314443, 0.83256584, 0.83957916, 0.84691614, 0.8428999, 0.83579373, 0.8395871, 0.84907603, 0.8470104, 0.8377347, 0.8397471, 0.8291555, 0.83986306, 0.83490634, 0.8408505, 0.8430065, 0.83317757, 0.84134436, 0.83819497, 0.83277583, 0.8472707, 0.8360435, 0.83738154, 0.854439, 0.83460546, 0.8452349, 0.8466543, 0.83415437, 0.8331202, 0.8566128, 0.83887786, 0.83837813, 0.8298112, 0.84650666, 0.83458006, 0.8427532, 0.83417904, 0.8561456, 0.8271071, 0.84181404, 0.8374929, 0.8336502, 0.8468715, 0.849596, 0.8510137, 0.84463793, 0.84719455, 0.8470298, 0.83733153, 0.8330279, 0.8290791]\n"
          ],
          "name": "stdout"
        },
        {
          "output_type": "stream",
          "text": [
            "\n"
          ],
          "name": "stderr"
        }
      ]
    },
    {
      "cell_type": "code",
      "metadata": {
        "id": "SD7kje2yrhqs",
        "colab": {
          "base_uri": "https://localhost:8080/"
        },
        "outputId": "5b722038-d83b-47ea-a384-dc356e5b5e26"
      },
      "source": [
        "BERTScore"
      ],
      "execution_count": 37,
      "outputs": [
        {
          "output_type": "execute_result",
          "data": {
            "text/plain": [
              "0.8398593144361363"
            ]
          },
          "metadata": {
            "tags": []
          },
          "execution_count": 37
        }
      ]
    },
    {
      "cell_type": "code",
      "metadata": {
        "id": "TecOIS5Ugvn-"
      },
      "source": [
        "np.save('summaries_lead_3', np.array(summaries_lead_3))"
      ],
      "execution_count": 38,
      "outputs": []
    },
    {
      "cell_type": "code",
      "metadata": {
        "id": "iSAKQ-ynrbEB"
      },
      "source": [
        ""
      ],
      "execution_count": null,
      "outputs": []
    }
  ]
}